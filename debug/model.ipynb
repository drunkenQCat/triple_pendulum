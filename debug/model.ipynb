{
 "cells": [
  {
   "cell_type": "code",
   "execution_count": 60,
   "metadata": {},
   "outputs": [],
   "source": [
    "\n",
    "from __future__ import division, print_function\n",
    "import sympy as sm\n",
    "from sympy import trigsimp\n",
    "from sympy import latex\n",
    "\n",
    "import matplotlib.pyplot as plt\n",
    "import sympy.physics.mechanics as me\n",
    "import mpmath as mp\n",
    "import symbtools as st\n",
    "import numpy as np\n",
    "import symbtools.modeltools as mt\n",
    "import symbtools.noncommutativetools as nct\n",
    "from scipy.integrate import odeint\n",
    "#import pytrajectory as pytr\n",
    "#import pycartan as pc\n",
    "from sympy.solvers import solve\n",
    "\n",
    "#from pytrajectory import log\n",
    "#log.console_handler.setLevel(10)\n",
    "\n",
    "from sympy.physics.vector import init_vprinting, vlatex\n",
    "init_vprinting(use_latex='mathjax', pretty_print=False)\n",
    "\n",
    "import dill\n",
    "#import ipydex\n",
    "\n",
    "#definingymbolic variables\n",
    "#q = st.symb_vector('q:2')\n",
    "#qdot = st.time_deriv(q, q)\n",
    "#qdd = st.time_deriv(qdot, qdot)\n",
    "q0,q1=me.dynamicsymbols('q0 q1')\n",
    "qdot0, qdot1=me.dynamicsymbols('q0 q1',1)\n",
    "q=[q0, q1]\n",
    "qdot=[qdot0, qdot1]\n",
    "#st.make_global(q0, qdot0)\n",
    "\n",
    "f = sm.symbols('f')\n",
    "m = sm.symbols('m:2')\n",
    "J = sm.symbols('J:2')\n",
    "l = sm.symbols('l')\n",
    "a = sm.symbols('a')\n",
    "d = sm.symbols('d')\n",
    "g, t = sm.symbols('g t')\n",
    "\n",
    "# defining reference frames and points\n",
    "In_frame = me.ReferenceFrame('In_frame')  #reference frame with velocity 0\n",
    "O = me.Point('O')\n",
    "O.set_vel(In_frame, 0)\n",
    "\n",
    "# Mass center of the cart\n",
    "C0 = me.Point('C0')\n",
    "C0.set_pos(O, q[0] * In_frame.x)\n",
    "C0.set_vel(In_frame, qdot[0] * In_frame.x)\n",
    "\n",
    "#cart frame\n",
    "cart_frame = In_frame.orientnew('L0', 'Axis', [q[0], In_frame.x])\n",
    "cart_frame.set_ang_vel(In_frame, 0)\n",
    "\n",
    "#endulum frame\n",
    "pen_frame = In_frame.orientnew('L1', 'Axis', [ sm.pi/2-q[1], In_frame.z])\n",
    "pen_frame.set_ang_vel(In_frame, -qdot[1] * In_frame.z)\n",
    "#mass center of pendulum\n",
    "s = C0.locatenew('a', a * pen_frame.x)\n",
    "s.v2pt_theory(C0, In_frame, pen_frame)\n",
    "\n",
    "# finding velocities in inertial reference frame --> use them to find kinetic energy\n",
    "v0 = C0.vel(In_frame)\n",
    "v1 = s.vel(In_frame)\n",
    "T = 1 / 2 * m[0] * v0.dot(v0) + 1 / 2 * m[1] * v1.dot(v1) + 1 / 2 * J[1] * qdot[1]**2\n",
    "\n",
    "#v00=qdot[0]\n",
    "#v11_sq=(qdot[0]+a*qdot[1]*sm.cos(q[1]))**2 + (a*qdot[1]*sm.sin(q[1]))**2\n",
    "\n",
    "T1=1/2 * m[0] * v00**2 +1/2 * m[1] * v11_sq +1/2 *J[1]*qdot[1]**2\n",
    "# potential energy\n",
    "h = s.pos_from(O).dot(In_frame.y)\n",
    "#V = m[0] * g * h - 1/2 * d * qdot[1]**2\n",
    "#V = m[0] * g * h\n",
    "V=sm.S(0)\n",
    "tau = d * qdot[1] + m[0]*a*g*sm.sin(q1)\n",
    "\n",
    "params = [m[0], m[1], J[0], J[1], a, d, g]\n",
    "st.make_global(params)\n"
   ]
  },
  {
   "cell_type": "code",
   "execution_count": 61,
   "metadata": {},
   "outputs": [
    {
     "data": {
      "text/latex": [
       "$$0.5 J_{1} \\dot{q}_{1}^{2} + 0.5 m_{0} \\dot{q}_{0}^{2} + 0.5 m_{1} \\left(a^{2} \\dot{q}_{1}^{2} + 2 a \\operatorname{cos}\\left(q_{1}\\right) \\dot{q}_{0} \\dot{q}_{1} + \\dot{q}_{0}^{2}\\right)$$"
      ],
      "text/plain": [
       "0.5*J1*q1'**2 + 0.5*m0*q0'**2 + 0.5*m1*(a**2*q1'**2 + 2*a*cos(q1)*q0'*q1' + q0'**2)"
      ]
     },
     "execution_count": 61,
     "metadata": {},
     "output_type": "execute_result"
    }
   ],
   "source": [
    "T"
   ]
  },
  {
   "cell_type": "code",
   "execution_count": 72,
   "metadata": {},
   "outputs": [
    {
     "data": {
      "text/latex": [
       "$$a g m_{0} \\operatorname{sin}\\left(q_{t1}\\right) + d q_{tdot1}$$"
      ],
      "text/plain": [
       "a*g*m0*sin(q_t1) + d*q_tdot1"
      ]
     },
     "execution_count": 72,
     "metadata": {},
     "output_type": "execute_result"
    }
   ],
   "source": [
    "tau"
   ]
  },
  {
   "cell_type": "code",
   "execution_count": 73,
   "metadata": {
    "collapsed": true
   },
   "outputs": [],
   "source": [
    "q_t = st.symb_vector('q_t:2')\n",
    "qdot_t = st.time_deriv(q_t, q_t)\n",
    "qdd_t = st.time_deriv(qdot_t, qdot_t)\n",
    "st.make_global(q_t, qdot_t)"
   ]
  },
  {
   "cell_type": "code",
   "execution_count": 74,
   "metadata": {},
   "outputs": [],
   "source": [
    "qlist=[(q0, q_t[0]), (q1, q_t[1]), (qdot0, qdot_t[0]),(qdot1, qdot_t[1])]\n",
    "qdict=dict(qlist)\n",
    "\n",
    "T=T.subs(qdict)\n",
    "#V=V.subs(qdict)\n",
    "tau=tau.subs(qdict)"
   ]
  },
  {
   "cell_type": "code",
   "execution_count": 65,
   "metadata": {
    "collapsed": true
   },
   "outputs": [],
   "source": [
    "\n",
    "mod = mt.generate_symbolic_model(T, V, q_t, [f, tau])\n",
    "mod.eqns.simplify()\n",
    "\n",
    "mod.calc_state_eq(simplify=True)\n",
    "xx = mod.xx\n",
    "fx = mod.f\n",
    "gx = mod.g\n",
    "\n",
    "\n",
    "qq=sm.Matrix([q_t, qdot_t])\n",
    "\n",
    "#fx_lin=fx.jacobian(qq)\n",
    "#gx_lin=G.jacobian(qq)\n",
    "\n",
    "equilib_point = sm.Matrix([1.0,sm.pi/6 , 1, 1])\n",
    "\n",
    "parameter_values = [(g, 9.81), (a, 0.2), (d, 0.0), (m[0], 3.34),\n",
    "                    (m[1], 0.8512), (J[0], 0), (J[1], 0.01980)]\n",
    "\n",
    "parameters = list(map(lambda a,b :(a,b),qq, equilib_point)) + parameter_values\n",
    "param_dict=dict(parameters)\n",
    "\n",
    "\n",
    "#fx_lin.subs(param_dict)\n",
    "#gx_lin.subs(param_dict)"
   ]
  },
  {
   "cell_type": "code",
   "execution_count": 71,
   "metadata": {},
   "outputs": [
    {
     "data": {
      "text/latex": [
       "$$\\left[\\begin{matrix}1.0\\\\1.0\\\\-2.34606686607372\\\\67.2713140077747\\end{matrix}\\right]$$"
      ],
      "text/plain": [
       "Matrix([\n",
       "[              1.0],\n",
       "[              1.0],\n",
       "[-2.34606686607372],\n",
       "[ 67.2713140077747]])"
      ]
     },
     "execution_count": 71,
     "metadata": {},
     "output_type": "execute_result"
    }
   ],
   "source": [
    "fx.subs(param_dict).evalf()"
   ]
  },
  {
   "cell_type": "code",
   "execution_count": 38,
   "metadata": {
    "collapsed": true
   },
   "outputs": [],
   "source": [
    "fx_00=fx[0].diff(q_t[0])\n",
    "fx_01=fx[0].diff(q_t[1])\n",
    "fx_02=fx[0].diff(qdot_t[0])\n",
    "fx_03=fx[0].diff(qdot_t[1])\n",
    "\n",
    "fx_10=fx[1].diff(q_t[0])\n",
    "fx_11=fx[1].diff(q_t[1])\n",
    "fx_12=fx[1].diff(qdot_t[0])\n",
    "fx_13=fx[1].diff(qdot_t[1])\n",
    "\n",
    "fx_20=fx[2].diff(q_t[0])\n",
    "fx_21=fx[2].diff(q_t[1])\n",
    "fx_22=fx[2].diff(qdot_t[0])\n",
    "fx_23=fx[2].diff(qdot_t[1])\n",
    "\n",
    "fx_30=fx[3].diff(q_t[0])\n",
    "fx_31=fx[3].diff(q_t[1])\n",
    "fx_32=fx[3].diff(qdot_t[0])\n",
    "fx_33=fx[3].diff(qdot_t[1])"
   ]
  },
  {
   "cell_type": "code",
   "execution_count": 39,
   "metadata": {
    "collapsed": true
   },
   "outputs": [],
   "source": [
    "fx_lin=sm.Matrix([[fx_00, fx_01, fx_02, fx_03], \n",
    "                 [fx_10, fx_11, fx_12, fx_13],\n",
    "                 [fx_20, fx_21, fx_22, fx_23],\n",
    "                 [fx_30, fx_31, fx_32, fx_33]])"
   ]
  },
  {
   "cell_type": "code",
   "execution_count": 40,
   "metadata": {},
   "outputs": [
    {
     "data": {
      "text/latex": [
       "$$\\left[\\begin{matrix}0 & 0 & 1 & 0\\\\0 & 0 & 0 & 1\\\\0 & 5.67138717420427 & 0 & 0\\\\0 & 139.625927658159 & 0 & 0\\end{matrix}\\right]$$"
      ],
      "text/plain": [
       "Matrix([\n",
       "[0,                0, 1, 0],\n",
       "[0,                0, 0, 1],\n",
       "[0, 5.67138717420427, 0, 0],\n",
       "[0, 139.625927658159, 0, 0]])"
      ]
     },
     "execution_count": 40,
     "metadata": {},
     "output_type": "execute_result"
    }
   ],
   "source": [
    "fx_lin.subs(param_dict)"
   ]
  },
  {
   "cell_type": "code",
   "execution_count": 41,
   "metadata": {},
   "outputs": [
    {
     "data": {
      "text/latex": [
       "$$\\left[\\begin{matrix}0\\\\0\\\\- \\frac{1.0 J_{1} + 1.0 a^{2} m_{1}}{a^{2} m_{1}^{2} \\operatorname{cos}^{2}\\left(q_{t1}\\right) - \\left(J_{1} + a^{2} m_{1}\\right) \\left(1.0 m_{0} + m_{1}\\right)}\\\\- \\frac{1.0 a m_{1} \\operatorname{cos}\\left(q_{t1}\\right)}{a^{2} m_{1}^{2} \\operatorname{cos}^{2}\\left(q_{t1}\\right) - \\left(J_{1} + a^{2} m_{1}\\right) \\left(1.0 m_{0} + m_{1}\\right)}\\end{matrix}\\right]$$"
      ],
      "text/plain": [
       "Matrix([\n",
       "[                                                                               0],\n",
       "[                                                                               0],\n",
       "[-(1.0*J1 + 1.0*a**2*m1)/(a**2*m1**2*cos(q_t1)**2 - (J1 + a**2*m1)*(1.0*m0 + m1))],\n",
       "[    -1.0*a*m1*cos(q_t1)/(a**2*m1**2*cos(q_t1)**2 - (J1 + a**2*m1)*(1.0*m0 + m1))]])"
      ]
     },
     "execution_count": 41,
     "metadata": {},
     "output_type": "execute_result"
    }
   ],
   "source": [
    "gx"
   ]
  },
  {
   "cell_type": "code",
   "execution_count": 42,
   "metadata": {
    "collapsed": true
   },
   "outputs": [],
   "source": [
    "gx_20=gx[2].diff(q_t[0])\n",
    "gx_21=gx[2].diff(q_t[1])\n",
    "gx_22=gx[2].diff(qdot_t[0])\n",
    "gx_23=gx[2].diff(qdot_t[1])\n",
    "\n",
    "gx_30=gx[3].diff(q_t[0])\n",
    "gx_31=gx[3].diff(q_t[1])\n",
    "gx_32=gx[3].diff(qdot_t[0])\n",
    "gx_33=gx[3].diff(qdot_t[1])\n",
    "\n",
    "gx_lin=sm.Matrix([[0., 0., 0., 0.], \n",
    "                 [0., 0., 0., 0.],\n",
    "                 [gx_20, gx_21, gx_22, gx_23],\n",
    "                 [gx_30, gx_31, gx_32, gx_33]])"
   ]
  },
  {
   "cell_type": "code",
   "execution_count": 23,
   "metadata": {},
   "outputs": [
    {
     "data": {
      "text/latex": [
       "$$\\left[\\begin{matrix}0.0 & 0.0 & 0.0 & 0.0\\\\0.0 & 0.0 & 0.0 & 0.0\\\\0 & - \\frac{4.0 a^{2} m_{1}^{2} \\left(J_{1} + a^{2} m_{1}\\right) \\operatorname{sin}\\left(2 q_{t1}\\right)}{\\left(2 J_{1} m_{0} + 2 J_{1} m_{1} + 2 a^{2} m_{0} m_{1} - a^{2} m_{1}^{2} \\operatorname{cos}\\left(2 q_{t1}\\right) + a^{2} m_{1}^{2}\\right)^{2}} & 0 & 0\\\\0 & - \\frac{1.0 a m_{1} \\left(a^{2} m_{1}^{2} \\operatorname{cos}^{2}\\left(q_{t1}\\right) + \\left(J_{1} + a^{2} m_{1}\\right) \\left(1.0 m_{0} + m_{1}\\right)\\right) \\operatorname{sin}\\left(q_{t1}\\right)}{\\left(a^{2} m_{1}^{2} \\operatorname{cos}^{2}\\left(q_{t1}\\right) - \\left(J_{1} + a^{2} m_{1}\\right) \\left(1.0 m_{0} + m_{1}\\right)\\right)^{2}} & 0 & 0\\end{matrix}\\right]$$"
      ],
      "text/plain": [
       "Matrix([\n",
       "[0.0,                                                                                                                                      0.0, 0.0, 0.0],\n",
       "[0.0,                                                                                                                                      0.0, 0.0, 0.0],\n",
       "[  0,                   -4.0*a**2*m1**2*(J1 + a**2*m1)*sin(2*q_t1)/(2*J1*m0 + 2*J1*m1 + 2*a**2*m0*m1 - a**2*m1**2*cos(2*q_t1) + a**2*m1**2)**2,   0,   0],\n",
       "[  0, -1.0*a*m1*(a**2*m1**2*cos(q_t1)**2 + (J1 + a**2*m1)*(1.0*m0 + m1))*sin(q_t1)/(a**2*m1**2*cos(q_t1)**2 - (J1 + a**2*m1)*(1.0*m0 + m1))**2,   0,   0]])"
      ]
     },
     "execution_count": 23,
     "metadata": {},
     "output_type": "execute_result"
    }
   ],
   "source": [
    "gx_lin.simplify()\n",
    "gx_lin"
   ]
  },
  {
   "cell_type": "code",
   "execution_count": null,
   "metadata": {
    "collapsed": true
   },
   "outputs": [],
   "source": [
    "gx_lin.simplify()\n",
    "gx_lin"
   ]
  },
  {
   "cell_type": "code",
   "execution_count": 24,
   "metadata": {},
   "outputs": [
    {
     "data": {
      "text/latex": [
       "$$\\left[\\begin{matrix}0.0 & 0.0 & 0.0 & 0.0\\\\0.0 & 0.0 & 0.0 & 0.0\\\\0 & 0 & 0 & 0\\\\0 & 0 & 0 & 0\\end{matrix}\\right]$$"
      ],
      "text/plain": [
       "Matrix([\n",
       "[0.0, 0.0, 0.0, 0.0],\n",
       "[0.0, 0.0, 0.0, 0.0],\n",
       "[  0,   0,   0,   0],\n",
       "[  0,   0,   0,   0]])"
      ]
     },
     "execution_count": 24,
     "metadata": {},
     "output_type": "execute_result"
    }
   ],
   "source": [
    "gx_lin.subs(param_dict)"
   ]
  },
  {
   "cell_type": "code",
   "execution_count": 27,
   "metadata": {
    "collapsed": true
   },
   "outputs": [],
   "source": [
    "\n",
    "'''\n",
    "q[0] = sm.Function('q[0]')\n",
    "q[1] = sm.Function('q[1]')\n",
    "'''\n",
    "L=T-V\n",
    "dL_dqdot0=sm.diff(L, qdot[0])\n",
    "dL_dqdot1=sm.diff(L, qdot[1])\n",
    "dL_dq0=sm.diff(L, q[0])\n",
    "dL_dq1=sm.diff(L, q[1])\n",
    "\n",
    "dt_dL_dqdot0=st.time_deriv(dL_dqdot0, [q[1]]).simplify()\n",
    "dt_dL_dqdot1=sm.diff(dL_dqdot1, t).simplify()\n",
    "\n",
    "exp1=dt_dL_dqdot0-dL_dq0-f\n",
    "exp2=dt_dL_dqdot1-dL_dq1\n"
   ]
  },
  {
   "cell_type": "code",
   "execution_count": 28,
   "metadata": {},
   "outputs": [
    {
     "data": {
      "text/latex": [
       "$$\\left[\\begin{matrix}q_{t0}\\\\q_{t1}\\\\q_{tdot0}\\\\q_{tdot1}\\end{matrix}\\right]$$"
      ],
      "text/plain": [
       "Matrix([\n",
       "[   q_t0],\n",
       "[   q_t1],\n",
       "[q_tdot0],\n",
       "[q_tdot1]])"
      ]
     },
     "execution_count": 28,
     "metadata": {},
     "output_type": "execute_result"
    }
   ],
   "source": [
    "xx"
   ]
  },
  {
   "cell_type": "code",
   "execution_count": null,
   "metadata": {
    "collapsed": true
   },
   "outputs": [],
   "source": []
  }
 ],
 "metadata": {
  "kernelspec": {
   "display_name": "Python [conda env:Anaconda3]",
   "language": "python",
   "name": "conda-env-Anaconda3-py"
  },
  "language_info": {
   "codemirror_mode": {
    "name": "ipython",
    "version": 3
   },
   "file_extension": ".py",
   "mimetype": "text/x-python",
   "name": "python",
   "nbconvert_exporter": "python",
   "pygments_lexer": "ipython3",
   "version": "3.6.3"
  }
 },
 "nbformat": 4,
 "nbformat_minor": 2
}
