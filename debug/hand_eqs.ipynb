{
 "cells": [
  {
   "cell_type": "code",
   "execution_count": 62,
   "metadata": {
    "collapsed": true
   },
   "outputs": [],
   "source": [
    "\n",
    "from __future__ import division, print_function\n",
    "import sympy as sm\n",
    "from sympy import trigsimp\n",
    "from sympy import latex\n",
    "\n",
    "import matplotlib.pyplot as plt\n",
    "import sympy.physics.mechanics as me\n",
    "import mpmath as mp\n",
    "import symbtools as st\n",
    "import numpy as np\n",
    "import symbtools.modeltools as mt\n",
    "import symbtools.noncommutativetools as nct\n",
    "from scipy.integrate import odeint\n",
    "#import pytrajectory as pytr\n",
    "#import pycartan as pc\n",
    "from sympy.solvers import solve\n",
    "from sympy import sin , cos\n",
    "#from pytrajectory import log\n",
    "#log.console_handler.setLevel(10)\n",
    "\n",
    "from sympy.physics.vector import init_vprinting, vlatex\n",
    "init_vprinting(use_latex='mathjax', pretty_print=False)\n",
    "\n",
    "\n",
    "q0,q1=me.dynamicsymbols('q0 q1')\n",
    "qdot0, qdot1=me.dynamicsymbols('q0 q1',1)\n",
    "qdd0, qdd1=me.dynamicsymbols('q0 q1',2)\n",
    "q=[q0, q1]\n",
    "qdot=[qdot0, qdot1]\n",
    "qdd=[qdd0, qdd1]\n",
    "#st.make_global(q0, qdot0)\n",
    "\n",
    "f = sm.symbols('f')\n",
    "m = sm.symbols('m:2')\n",
    "J = sm.symbols('J:2')\n",
    "l = sm.symbols('l')\n",
    "a = sm.symbols('a')\n",
    "d = sm.symbols('d')\n",
    "g, t = sm.symbols('g t')\n",
    "\n",
    "\n",
    "params = [m[0], m[1], J[0], J[1], a, d, g]\n",
    "st.make_global(params)\n",
    "\n",
    "qq=sm.Matrix([q, qdot])\n",
    "equilib_point = sm.Matrix([1.0,sm.pi/6 , 1, 1])\n",
    "\n",
    "parameter_values = [(g, 9.81), (a, 0.2), (d, 10.0), (m[0], 3.34),\n",
    "                    (m[1], 0.8512), (J[0], 0), (J[1], 0.01980)]\n",
    "\n",
    "parameters = list(map(lambda a,b :(a,b),qq, equilib_point)) + parameter_values\n",
    "param_dict=dict(parameters)\n"
   ]
  },
  {
   "cell_type": "code",
   "execution_count": 63,
   "metadata": {
    "collapsed": true
   },
   "outputs": [],
   "source": [
    "expr1=(m[0]+m[1])*qdd0 + m[1]*a*cos(q1)*qdd1 -m[1]*a*sin(q1)*qdot1**2-f\n",
    "expr2= (m[1]*a**2+J[1])*qdd1 + m[1]*a*cos(q1)*qdd0 - m[1]*a*sin(q1)*qdot0*qdot1 + m[1]*a*qdot0*qdot1*sin(q1) - m[1]*a*g*sin(q1)- d*qdot1"
   ]
  },
  {
   "cell_type": "code",
   "execution_count": 64,
   "metadata": {},
   "outputs": [
    {
     "data": {
      "text/latex": [
       "$$- a m_{1} \\operatorname{sin}\\left(q_{1}\\right) \\dot{q}_{1}^{2} + a m_{1} \\operatorname{cos}\\left(q_{1}\\right) \\ddot{q}_{1} - f + \\left(m_{0} + m_{1}\\right) \\ddot{q}_{0}$$"
      ],
      "text/plain": [
       "-a*m1*sin(q1)*q1'**2 + a*m1*cos(q1)*q1'' - f + (m0 + m1)*q0''"
      ]
     },
     "execution_count": 64,
     "metadata": {},
     "output_type": "execute_result"
    }
   ],
   "source": [
    "expr1"
   ]
  },
  {
   "cell_type": "code",
   "execution_count": 65,
   "metadata": {},
   "outputs": [
    {
     "data": {
      "text/latex": [
       "$$- a g m_{1} \\operatorname{sin}\\left(q_{1}\\right) + a m_{1} \\operatorname{cos}\\left(q_{1}\\right) \\ddot{q}_{0} - d \\dot{q}_{1} + \\left(J_{1} + a^{2} m_{1}\\right) \\ddot{q}_{1}$$"
      ],
      "text/plain": [
       "-a*g*m1*sin(q1) + a*m1*cos(q1)*q0'' - d*q1' + (J1 + a**2*m1)*q1''"
      ]
     },
     "execution_count": 65,
     "metadata": {},
     "output_type": "execute_result"
    }
   ],
   "source": [
    "expr2"
   ]
  },
  {
   "cell_type": "code",
   "execution_count": 66,
   "metadata": {
    "collapsed": true
   },
   "outputs": [],
   "source": [
    "sol=solve([expr1, expr2], [qdd0, qdd1])\n",
    "\n",
    "q0dd_exp=sol[qdd0].expand()\n",
    "q1dd_exp=sol[qdd1].expand()\n",
    "\n",
    "collected_q0dd=sm.collect(q0dd_exp, f,evaluate=False )\n",
    "collected_q1dd=sm.collect(q1dd_exp, f, evaluate=False)"
   ]
  },
  {
   "cell_type": "code",
   "execution_count": 67,
   "metadata": {
    "collapsed": true
   },
   "outputs": [],
   "source": [
    "gx=sm.Matrix([[0.0],\n",
    "              [0.0],\n",
    "              [collected_q0dd[f]],\n",
    "              [collected_q1dd[f]]])\n",
    "\n",
    "fx=sm.Matrix([[qdot0],\n",
    "              [qdot1],\n",
    "              [collected_q0dd[1]],\n",
    "              [collected_q1dd[1]]])\n",
    "\n",
    "xx=sm.Matrix([q0, q1, qdot0, qdot1])"
   ]
  },
  {
   "cell_type": "code",
   "execution_count": 69,
   "metadata": {},
   "outputs": [
    {
     "data": {
      "text/latex": [
       "$$\\left[\\begin{matrix}0\\\\0\\\\0.264023561869032\\\\-0.722878570583608\\end{matrix}\\right]$$"
      ],
      "text/plain": [
       "Matrix([\n",
       "[                 0],\n",
       "[                 0],\n",
       "[ 0.264023561869032],\n",
       "[-0.722878570583608]])"
      ]
     },
     "execution_count": 69,
     "metadata": {},
     "output_type": "execute_result"
    }
   ],
   "source": [
    "gx.subs(param_dict).evalf()"
   ]
  },
  {
   "cell_type": "code",
   "execution_count": 70,
   "metadata": {},
   "outputs": [
    {
     "data": {
      "text/latex": [
       "$$\\left[\\begin{matrix}1.0\\\\1.0\\\\-7.80993528898422\\\\222.598107007434\\end{matrix}\\right]$$"
      ],
      "text/plain": [
       "Matrix([\n",
       "[              1.0],\n",
       "[              1.0],\n",
       "[-7.80993528898422],\n",
       "[ 222.598107007434]])"
      ]
     },
     "execution_count": 70,
     "metadata": {},
     "output_type": "execute_result"
    }
   ],
   "source": [
    "fx.subs(param_dict).evalf() # 0.62609"
   ]
  },
  {
   "cell_type": "code",
   "execution_count": 59,
   "metadata": {
    "collapsed": true
   },
   "outputs": [],
   "source": [
    "fx.simplify()"
   ]
  },
  {
   "cell_type": "code",
   "execution_count": 61,
   "metadata": {},
   "outputs": [
    {
     "data": {
      "text/latex": [
       "$$\\left[\\begin{matrix}\\dot{q}_{0}\\\\\\dot{q}_{1}\\\\\\frac{a m_{1} \\left(2 J_{1} \\operatorname{sin}\\left(q_{1}\\right) \\dot{q}_{1}^{2} + 2 a^{2} m_{1} \\operatorname{sin}\\left(q_{1}\\right) \\dot{q}_{1}^{2} - a g m_{1} \\operatorname{sin}\\left(2 q_{1}\\right) - 2 d \\operatorname{cos}\\left(q_{1}\\right) \\dot{q}_{1}\\right)}{2 \\left(J_{1} m_{0} + J_{1} m_{1} + a^{2} m_{0} m_{1} + a^{2} m_{1}^{2} \\operatorname{sin}^{2}\\left(q_{1}\\right)\\right)}\\\\\\frac{- \\frac{a^{2} m_{1}^{2}}{2} \\operatorname{sin}\\left(2 q_{1}\\right) \\dot{q}_{1}^{2} + a g m_{0} m_{1} \\operatorname{sin}\\left(q_{1}\\right) + a g m_{1}^{2} \\operatorname{sin}\\left(q_{1}\\right) + d m_{0} \\dot{q}_{1} + d m_{1} \\dot{q}_{1}}{J_{1} m_{0} + J_{1} m_{1} + a^{2} m_{0} m_{1} + a^{2} m_{1}^{2} \\operatorname{sin}^{2}\\left(q_{1}\\right)}\\end{matrix}\\right]$$"
      ],
      "text/plain": [
       "Matrix([\n",
       "[                                                                                                                                                q0'],\n",
       "[                                                                                                                                                q1'],\n",
       "[a*m1*(2*J1*sin(q1)*q1'**2 + 2*a**2*m1*sin(q1)*q1'**2 - a*g*m1*sin(2*q1) - 2*d*cos(q1)*q1')/(2*(J1*m0 + J1*m1 + a**2*m0*m1 + a**2*m1**2*sin(q1)**2))],\n",
       "[(-a**2*m1**2*sin(2*q1)*q1'**2/2 + a*g*m0*m1*sin(q1) + a*g*m1**2*sin(q1) + d*m0*q1' + d*m1*q1')/(J1*m0 + J1*m1 + a**2*m0*m1 + a**2*m1**2*sin(q1)**2)]])"
      ]
     },
     "execution_count": 61,
     "metadata": {},
     "output_type": "execute_result"
    }
   ],
   "source": [
    "fx"
   ]
  },
  {
   "cell_type": "code",
   "execution_count": null,
   "metadata": {
    "collapsed": true
   },
   "outputs": [],
   "source": []
  }
 ],
 "metadata": {
  "kernelspec": {
   "display_name": "Python [conda env:Anaconda3]",
   "language": "python",
   "name": "conda-env-Anaconda3-py"
  },
  "language_info": {
   "codemirror_mode": {
    "name": "ipython",
    "version": 3
   },
   "file_extension": ".py",
   "mimetype": "text/x-python",
   "name": "python",
   "nbconvert_exporter": "python",
   "pygments_lexer": "ipython3",
   "version": "3.6.3"
  }
 },
 "nbformat": 4,
 "nbformat_minor": 2
}
