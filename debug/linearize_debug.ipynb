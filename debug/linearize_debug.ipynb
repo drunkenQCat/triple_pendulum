{
 "cells": [
  {
   "cell_type": "code",
   "execution_count": 6,
   "metadata": {
    "collapsed": true
   },
   "outputs": [],
   "source": [
    "#imports\n",
    "from __future__ import division, print_function\n",
    "import sympy as sm\n",
    "from sympy import trigsimp\n",
    "import sympy.physics.mechanics as me\n",
    "import mpmath as mp\n",
    "import numpy as np\n",
    "\n",
    "from sympy.physics.vector import init_vprinting, vlatex\n",
    "init_vprinting(use_latex='mathjax', pretty_print=False)\n",
    "\n",
    "# Defining symbolic Variables\n",
    "\n",
    "n = 1\n",
    "q = me.dynamicsymbols('q:{}'.format(n + 1))  # generalized coordinates\n",
    "qdot = me.dynamicsymbols('qdot:{}'.format(n + 1))  #generalized speeds\n",
    "xx = q + qdot\n",
    "f = me.dynamicsymbols('f')\n",
    "m = sm.symbols('m:{}'.format(n + 1))\n",
    "J = sm.symbols('J:{}'.format(n + 1))\n",
    "l = sm.symbols('l:{}'.format(n))  # lenght of each pendlum\n",
    "a = sm.symbols('a:{}'.format(n))  #location of Mass-centers\n",
    "d = sm.symbols('d1:{}'.format(n + 1))  #viscous damping coef.\n",
    "g, t = sm.symbols('g t')\n",
    "\n",
    "# intertial reference frame\n",
    "In_frame = me.ReferenceFrame('In_frame')\n",
    "\n",
    "# Origninal Point O in Reference Frame :\n",
    "O = me.Point('O')\n",
    "O.set_vel(In_frame, 0)\n",
    "\n",
    "# The Center of Mass Point on cart :\n",
    "C0 = me.Point('C0')\n",
    "C0.set_pos(O, q[0] * In_frame.x)\n",
    "C0.set_vel(In_frame, qdot[0] * In_frame.x)\n",
    "\n",
    "cart_inertia_dyadic = me.inertia(In_frame, 0, 0, J[0])\n",
    "cart_central_intertia = (cart_inertia_dyadic, C0)\n",
    "\n",
    "cart = me.RigidBody('Cart', C0, In_frame, m[0], cart_central_intertia)\n",
    "\n",
    "kindiffs = [q[0].diff(t) - qdot[0]]  # entforcing qdot=Omega\n",
    "\n",
    "frames = [In_frame]\n",
    "mass_centers = [C0]\n",
    "joint_centers = [C0]\n",
    "central_intertias = [cart_central_intertia]\n",
    "\n",
    "forces = [(C0, f * In_frame.x - m[0] * g * In_frame.y)]\n",
    "\n",
    "torques=[]\n",
    "\n",
    "rigid_bodies = [cart]\n",
    "\n",
    "\n",
    "for i in range(n):\n",
    "    #Creating new reference frame\n",
    "    Li = In_frame.orientnew('L' + str(i), 'Axis', [q[i + 1], In_frame.z])\n",
    "    Li.set_ang_vel(In_frame, qdot[i + 1] * In_frame.z)\n",
    "    frames.append(Li)\n",
    "\n",
    "    # Creating new mass point centers\n",
    "    Pi = mass_centers[-1].locatenew('a' + str(i + 1), a[i] * Li.x)\n",
    "    Pi.v2pt_theory(joint_centers[-1], In_frame, Li)\n",
    "    mass_centers.append(Pi)\n",
    "\n",
    "    #Creating new joint Points\n",
    "    Jointi = joint_centers[-1].locatenew('jont' + str(i + 1), l[i] * Li.x)\n",
    "    Jointi.v2pt_theory(joint_centers[-1], In_frame, Li)\n",
    "    joint_centers.append(Jointi)\n",
    "\n",
    "    #adding forces\n",
    "    forces.append((Pi, -m[i + 1] * g * In_frame.y))\n",
    "    \n",
    "    #adding torqes\n",
    "    if i==0 :\n",
    "        torqueVectori= -d[0] * qdot[1] * In_frame.z\n",
    "        torques.append((Li, torqueVectori))\n",
    "    else:\n",
    "        torqueVectori = -d[i] * (qdot[i+1]-qdot[i])*In_frame.z\n",
    "        torques.append((Li, torqueVectori))\n",
    "    \n",
    "    \n",
    "    #adding cential inertias \n",
    "    IDi = me.inertia(frames[i + 1], 0, 0, J[i + 1])\n",
    "    ICi = (IDi, mass_centers[i + 1])\n",
    "    central_intertias.append(ICi)\n",
    "\n",
    "    LBodyi = me.RigidBody('L' + str(i + 1) + '_Body', mass_centers[i + 1],\n",
    "                          frames[i + 1], m[i + 1], central_intertias[i + 1])\n",
    "    rigid_bodies.append(LBodyi)\n",
    "\n",
    "    kindiffs.append(q[i + 1].diff(t) - qdot[i + 1])\n",
    "    \n",
    "\n",
    "#generalized force\n",
    "loads = torques + forces\n",
    "\n",
    "#Kane's Method --> Equation of motion\n",
    "Kane = me.KanesMethod(In_frame, q, qdot, kindiffs)\n",
    "fr, frstar = Kane.kanes_equations(rigid_bodies, loads)\n",
    "\n",
    "mass_matrix = trigsimp(Kane.mass_matrix_full)\n",
    "forcing_vector = trigsimp(Kane.forcing_full)\n",
    "\n",
    "    "
   ]
  },
  {
   "cell_type": "code",
   "execution_count": 7,
   "metadata": {},
   "outputs": [
    {
     "data": {
      "text/latex": [
       "$$\\left [ q_{0}, \\quad q_{1}, \\quad \\dot{q}_{0}, \\quad \\dot{q}_{1}\\right ]$$"
      ],
      "text/plain": [
       "[q0, q1, qdot0, qdot1]"
      ]
     },
     "execution_count": 7,
     "metadata": {},
     "output_type": "execute_result"
    }
   ],
   "source": [
    "xx"
   ]
  },
  {
   "cell_type": "code",
   "execution_count": 8,
   "metadata": {
    "collapsed": true
   },
   "outputs": [],
   "source": [
    "constants = [l, a[0], m[0], m[1], J[0], J[1], d[0], g]\n",
    "specified=[f]"
   ]
  },
  {
   "cell_type": "code",
   "execution_count": 9,
   "metadata": {
    "collapsed": true
   },
   "outputs": [],
   "source": [
    "numerical_constants = np.array([\n",
    "    0.32,  # l0\n",
    "    0.2,  #a0\n",
    "    3.34,  #m0\n",
    "    0.8512,  #m1\n",
    "    0,  #J0\n",
    "    0.01980,  #J1\n",
    "    0.00715,  #d\n",
    "    9.81  #g\n",
    "])\n",
    "\n",
    "#\n",
    "numerical_specified = np.array([0])"
   ]
  },
  {
   "cell_type": "code",
   "execution_count": 10,
   "metadata": {
    "collapsed": true
   },
   "outputs": [],
   "source": [
    "equilibrium_dict = {q[0]: 0, q[1]: np.pi / 2, qdot[0]:0, qdot[1]:0}\n",
    "parameter_dict = dict(zip(constants, numerical_constants))\n",
    "op_point=[equilibrium_dict, parameter_dict]"
   ]
  },
  {
   "cell_type": "code",
   "execution_count": 11,
   "metadata": {},
   "outputs": [
    {
     "data": {
      "text/latex": [
       "$$\\left[\\begin{matrix}1 & 0 & 0 & 0\\\\0 & 1 & 0 & 0\\\\0 & 0 & m_{0} + m_{1} & - a_{0} m_{1} \\operatorname{sin}\\left(q_{1}\\right)\\\\0 & 0 & - a_{0} m_{1} \\operatorname{sin}\\left(q_{1}\\right) & J_{1} + a_{0}^{2} m_{1}\\end{matrix}\\right]$$"
      ],
      "text/plain": [
       "Matrix([\n",
       "[1, 0,              0,              0],\n",
       "[0, 1,              0,              0],\n",
       "[0, 0,        m0 + m1, -a0*m1*sin(q1)],\n",
       "[0, 0, -a0*m1*sin(q1),  J1 + a0**2*m1]])"
      ]
     },
     "execution_count": 11,
     "metadata": {},
     "output_type": "execute_result"
    }
   ],
   "source": [
    "mass_matrix"
   ]
  },
  {
   "cell_type": "code",
   "execution_count": 12,
   "metadata": {},
   "outputs": [
    {
     "ename": "TypeError",
     "evalue": "self must be a row or a column matrix",
     "output_type": "error",
     "traceback": [
      "\u001b[1;31m---------------------------------------------------------------------------\u001b[0m",
      "\u001b[1;31mTypeError\u001b[0m                                 Traceback (most recent call last)",
      "\u001b[1;32m<ipython-input-12-51301b452bad>\u001b[0m in \u001b[0;36m<module>\u001b[1;34m()\u001b[0m\n\u001b[0;32m      1\u001b[0m \u001b[0mx2\u001b[0m\u001b[1;33m=\u001b[0m \u001b[0msm\u001b[0m\u001b[1;33m.\u001b[0m\u001b[0mMatrix\u001b[0m\u001b[1;33m(\u001b[0m\u001b[1;33m[\u001b[0m\u001b[0mq\u001b[0m\u001b[1;33m[\u001b[0m\u001b[1;36m0\u001b[0m\u001b[1;33m]\u001b[0m\u001b[1;33m,\u001b[0m \u001b[0mq\u001b[0m\u001b[1;33m[\u001b[0m\u001b[1;36m1\u001b[0m\u001b[1;33m]\u001b[0m\u001b[1;33m]\u001b[0m\u001b[1;33m)\u001b[0m\u001b[1;33m\u001b[0m\u001b[0m\n\u001b[1;32m----> 2\u001b[1;33m \u001b[0mmass_matrix\u001b[0m\u001b[1;33m.\u001b[0m\u001b[0mjacobian\u001b[0m\u001b[1;33m(\u001b[0m\u001b[0mx2\u001b[0m\u001b[1;33m)\u001b[0m\u001b[1;33m\u001b[0m\u001b[0m\n\u001b[0m",
      "\u001b[1;32m~\\Anaconda3\\lib\\site-packages\\sympy\\matrices\\matrices.py\u001b[0m in \u001b[0;36mjacobian\u001b[1;34m(self, X)\u001b[0m\n\u001b[0;32m   1626\u001b[0m             \u001b[0mm\u001b[0m \u001b[1;33m=\u001b[0m \u001b[0mself\u001b[0m\u001b[1;33m.\u001b[0m\u001b[0mshape\u001b[0m\u001b[1;33m[\u001b[0m\u001b[1;36m0\u001b[0m\u001b[1;33m]\u001b[0m\u001b[1;33m\u001b[0m\u001b[0m\n\u001b[0;32m   1627\u001b[0m         \u001b[1;32melse\u001b[0m\u001b[1;33m:\u001b[0m\u001b[1;33m\u001b[0m\u001b[0m\n\u001b[1;32m-> 1628\u001b[1;33m             \u001b[1;32mraise\u001b[0m \u001b[0mTypeError\u001b[0m\u001b[1;33m(\u001b[0m\u001b[1;34m\"self must be a row or a column matrix\"\u001b[0m\u001b[1;33m)\u001b[0m\u001b[1;33m\u001b[0m\u001b[0m\n\u001b[0m\u001b[0;32m   1629\u001b[0m         \u001b[1;32mif\u001b[0m \u001b[0mX\u001b[0m\u001b[1;33m.\u001b[0m\u001b[0mshape\u001b[0m\u001b[1;33m[\u001b[0m\u001b[1;36m0\u001b[0m\u001b[1;33m]\u001b[0m \u001b[1;33m==\u001b[0m \u001b[1;36m1\u001b[0m\u001b[1;33m:\u001b[0m\u001b[1;33m\u001b[0m\u001b[0m\n\u001b[0;32m   1630\u001b[0m             \u001b[0mn\u001b[0m \u001b[1;33m=\u001b[0m \u001b[0mX\u001b[0m\u001b[1;33m.\u001b[0m\u001b[0mshape\u001b[0m\u001b[1;33m[\u001b[0m\u001b[1;36m1\u001b[0m\u001b[1;33m]\u001b[0m\u001b[1;33m\u001b[0m\u001b[0m\n",
      "\u001b[1;31mTypeError\u001b[0m: self must be a row or a column matrix"
     ]
    }
   ],
   "source": [
    "x2= sm.Matrix([q[0], q[1]])\n",
    "mass_matrix.jacobian(x2)"
   ]
  },
  {
   "cell_type": "code",
   "execution_count": 13,
   "metadata": {},
   "outputs": [
    {
     "data": {
      "text/latex": [
       "$$\\left[\\begin{matrix}\\dot{q}_{0}\\\\\\dot{q}_{1}\\\\a_{0} m_{1} \\dot{q}^{2}_{1} \\operatorname{cos}\\left(q_{1}\\right) + f\\\\- (a_{0} g m_{1} \\operatorname{cos}\\left(q_{1}\\right) + d_{1} \\dot{q}_{1})\\end{matrix}\\right]$$"
      ],
      "text/plain": [
       "Matrix([\n",
       "[                        qdot0],\n",
       "[                        qdot1],\n",
       "[   a0*m1*qdot1**2*cos(q1) + f],\n",
       "[-(a0*g*m1*cos(q1) + d1*qdot1)]])"
      ]
     },
     "execution_count": 13,
     "metadata": {},
     "output_type": "execute_result"
    }
   ],
   "source": [
    "forcing_vector"
   ]
  },
  {
   "cell_type": "code",
   "execution_count": 14,
   "metadata": {},
   "outputs": [
    {
     "data": {
      "text/latex": [
       "$$\\left[\\begin{matrix}\\dot{q}_{0}\\\\\\dot{q}_{1}\\\\- \\frac{a_{0} m_{1} \\left(a_{0} g m_{1} \\operatorname{cos}\\left(q_{1}\\right) + d_{1} \\dot{q}_{1}\\right) \\operatorname{sin}\\left(q_{1}\\right)}{- a_{0}^{2} m_{1}^{2} \\operatorname{sin}^{2}\\left(q_{1}\\right) + \\left(J_{1} + a_{0}^{2} m_{1}\\right) \\left(m_{0} + m_{1}\\right)} + \\frac{\\left(J_{1} + a_{0}^{2} m_{1}\\right) \\left(a_{0} m_{1} \\dot{q}^{2}_{1} \\operatorname{cos}\\left(q_{1}\\right) + f\\right)}{- a_{0}^{2} m_{1}^{2} \\operatorname{sin}^{2}\\left(q_{1}\\right) + \\left(J_{1} + a_{0}^{2} m_{1}\\right) \\left(m_{0} + m_{1}\\right)}\\\\\\frac{a_{0} m_{1} \\left(a_{0} m_{1} \\dot{q}^{2}_{1} \\operatorname{cos}\\left(q_{1}\\right) + f\\right) \\operatorname{sin}\\left(q_{1}\\right)}{- a_{0}^{2} m_{1}^{2} \\operatorname{sin}^{2}\\left(q_{1}\\right) + \\left(J_{1} + a_{0}^{2} m_{1}\\right) \\left(m_{0} + m_{1}\\right)} - \\frac{\\left(m_{0} + m_{1}\\right) \\left(a_{0} g m_{1} \\operatorname{cos}\\left(q_{1}\\right) + d_{1} \\dot{q}_{1}\\right)}{- a_{0}^{2} m_{1}^{2} \\operatorname{sin}^{2}\\left(q_{1}\\right) + \\left(J_{1} + a_{0}^{2} m_{1}\\right) \\left(m_{0} + m_{1}\\right)}\\end{matrix}\\right]$$"
      ],
      "text/plain": [
       "Matrix([\n",
       "[                                                                                                                                                                                                 qdot0],\n",
       "[                                                                                                                                                                                                 qdot1],\n",
       "[-a0*m1*(a0*g*m1*cos(q1) + d1*qdot1)*sin(q1)/(-a0**2*m1**2*sin(q1)**2 + (J1 + a0**2*m1)*(m0 + m1)) + (J1 + a0**2*m1)*(a0*m1*qdot1**2*cos(q1) + f)/(-a0**2*m1**2*sin(q1)**2 + (J1 + a0**2*m1)*(m0 + m1))],\n",
       "[       a0*m1*(a0*m1*qdot1**2*cos(q1) + f)*sin(q1)/(-a0**2*m1**2*sin(q1)**2 + (J1 + a0**2*m1)*(m0 + m1)) - (m0 + m1)*(a0*g*m1*cos(q1) + d1*qdot1)/(-a0**2*m1**2*sin(q1)**2 + (J1 + a0**2*m1)*(m0 + m1))]])"
      ]
     },
     "execution_count": 14,
     "metadata": {},
     "output_type": "execute_result"
    }
   ],
   "source": [
    "mass_matrix.inv()*forcing_vector"
   ]
  },
  {
   "cell_type": "code",
   "execution_count": 15,
   "metadata": {},
   "outputs": [],
   "source": [
    "\n",
    "\n",
    "import sympy as sp\n",
    "from sympy import sin, cos, pi\n",
    "from sympy.interactive import printing\n",
    "import pickle\n",
    "import numpy as np\n",
    "import scipy as sc\n",
    "import scipy.interpolate\n",
    "from scipy.integrate import odeint\n",
    "import matplotlib.pyplot as pl\n",
    "\n",
    "import symbtools as st\n",
    "import symbtools.modeltools as mt\n",
    "import symbtools.noncommutativetools as nct\n",
    "\n",
    "import pycartan as pc\n",
    "zip0 = st.zip0\n",
    "printing.init_printing(1)"
   ]
  },
  {
   "cell_type": "code",
   "execution_count": 19,
   "metadata": {},
   "outputs": [],
   "source": [
    "st.make_global(q, qdot,m)"
   ]
  },
  {
   "cell_type": "code",
   "execution_count": 30,
   "metadata": {},
   "outputs": [],
   "source": [
    "T=1/2*m[1]*mass_centers[1].vel(In_frame).dot(mass_centers[1].vel(In_frame))"
   ]
  },
  {
   "cell_type": "code",
   "execution_count": 29,
   "metadata": {},
   "outputs": [],
   "source": [
    "V=0"
   ]
  },
  {
   "cell_type": "code",
   "execution_count": 33,
   "metadata": {},
   "outputs": [
    {
     "ename": "AssertionError",
     "evalue": "",
     "output_type": "error",
     "traceback": [
      "\u001b[1;31m---------------------------------------------------------------------------\u001b[0m",
      "\u001b[1;31mAssertionError\u001b[0m                            Traceback (most recent call last)",
      "\u001b[1;32m<ipython-input-33-b8a777ce361e>\u001b[0m in \u001b[0;36m<module>\u001b[1;34m()\u001b[0m\n\u001b[1;32m----> 1\u001b[1;33m \u001b[0mmod\u001b[0m \u001b[1;33m=\u001b[0m \u001b[0mmt\u001b[0m\u001b[1;33m.\u001b[0m\u001b[0mgenerate_symbolic_model\u001b[0m\u001b[1;33m(\u001b[0m\u001b[0mT\u001b[0m\u001b[1;33m,\u001b[0m \u001b[0mV\u001b[0m\u001b[1;33m,\u001b[0m \u001b[0mxx\u001b[0m\u001b[1;33m,\u001b[0m \u001b[1;33m[\u001b[0m\u001b[1;36m0\u001b[0m\u001b[1;33m,\u001b[0m \u001b[1;36m0\u001b[0m\u001b[1;33m]\u001b[0m\u001b[1;33m)\u001b[0m\u001b[1;33m\u001b[0m\u001b[0m\n\u001b[0m",
      "\u001b[1;32m~\\Anaconda3\\lib\\site-packages\\symbtools\\modeltools.py\u001b[0m in \u001b[0;36mgenerate_symbolic_model\u001b[1;34m(T, U, tt, F, simplify, **kwargs)\u001b[0m\n\u001b[0;32m    434\u001b[0m \u001b[1;33m\u001b[0m\u001b[0m\n\u001b[0;32m    435\u001b[0m     \u001b[1;32mfor\u001b[0m \u001b[0mtheta_i\u001b[0m \u001b[1;32min\u001b[0m \u001b[0mtt\u001b[0m\u001b[1;33m:\u001b[0m\u001b[1;33m\u001b[0m\u001b[0m\n\u001b[1;32m--> 436\u001b[1;33m         \u001b[1;32massert\u001b[0m \u001b[0misinstance\u001b[0m\u001b[1;33m(\u001b[0m\u001b[0mtheta_i\u001b[0m\u001b[1;33m,\u001b[0m \u001b[0msp\u001b[0m\u001b[1;33m.\u001b[0m\u001b[0mSymbol\u001b[0m\u001b[1;33m)\u001b[0m\u001b[1;33m\u001b[0m\u001b[0m\n\u001b[0m\u001b[0;32m    437\u001b[0m \u001b[1;33m\u001b[0m\u001b[0m\n\u001b[0;32m    438\u001b[0m     \u001b[0mF\u001b[0m \u001b[1;33m=\u001b[0m \u001b[0msp\u001b[0m\u001b[1;33m.\u001b[0m\u001b[0mMatrix\u001b[0m\u001b[1;33m(\u001b[0m\u001b[0mF\u001b[0m\u001b[1;33m)\u001b[0m\u001b[1;33m\u001b[0m\u001b[0m\n",
      "\u001b[1;31mAssertionError\u001b[0m: "
     ]
    }
   ],
   "source": [
    "mod = mt.generate_symbolic_model(T, V, xx, [0, 0])"
   ]
  },
  {
   "cell_type": "code",
   "execution_count": null,
   "metadata": {
    "collapsed": true
   },
   "outputs": [],
   "source": []
  }
 ],
 "metadata": {
  "kernelspec": {
   "display_name": "Python 3",
   "language": "python",
   "name": "python3"
  },
  "language_info": {
   "codemirror_mode": {
    "name": "ipython",
    "version": 3
   },
   "file_extension": ".py",
   "mimetype": "text/x-python",
   "name": "python",
   "nbconvert_exporter": "python",
   "pygments_lexer": "ipython3",
   "version": "3.6.3"
  }
 },
 "nbformat": 4,
 "nbformat_minor": 2
}
