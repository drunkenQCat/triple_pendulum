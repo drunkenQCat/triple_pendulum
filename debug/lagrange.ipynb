{
 "cells": [
  {
   "cell_type": "code",
   "execution_count": 48,
   "metadata": {},
   "outputs": [],
   "source": [
    "\n",
    "from __future__ import division, print_function\n",
    "import sympy as sm\n",
    "from sympy import trigsimp\n",
    "from sympy import latex\n",
    "\n",
    "import matplotlib.pyplot as plt\n",
    "import sympy.physics.mechanics as me\n",
    "import mpmath as mp\n",
    "import symbtools as st\n",
    "import numpy as np\n",
    "import symbtools.modeltools as mt\n",
    "import symbtools.noncommutativetools as nct\n",
    "from scipy.integrate import odeint\n",
    "#import pytrajectory as pytr\n",
    "#import pycartan as pc\n",
    "from sympy.solvers import solve\n",
    "\n",
    "#from pytrajectory import log\n",
    "#log.console_handler.setLevel(10)\n",
    "\n",
    "from sympy.physics.vector import init_vprinting, vlatex\n",
    "init_vprinting(use_latex='mathjax', pretty_print=False)\n",
    "\n",
    "import dill\n",
    "#import ipydex\n",
    "\n",
    "#definingymbolic variables\n",
    "#q = st.symb_vector('q:2')\n",
    "#qdot = st.time_deriv(q, q)\n",
    "#qdd = st.time_deriv(qdot, qdot)\n",
    "q0,q1=me.dynamicsymbols('q0 q1')\n",
    "qdot0, qdot1=me.dynamicsymbols('q0 q1',1)\n",
    "qdd0, qdd1=me.dynamicsymbols('q0 q1',2)\n",
    "q=[q0, q1]\n",
    "qdot=[qdot0, qdot1]\n",
    "qdd=[qdd0, qdd1]\n",
    "#st.make_global(q0, qdot0)\n",
    "\n",
    "f = sm.symbols('f')\n",
    "m = sm.symbols('m:2')\n",
    "J = sm.symbols('J:2')\n",
    "l = sm.symbols('l')\n",
    "a = sm.symbols('a')\n",
    "d = sm.symbols('d')\n",
    "g, t = sm.symbols('g t')\n",
    "\n",
    "# defining reference frames and points\n",
    "In_frame = me.ReferenceFrame('In_frame')  #reference frame with velocity 0\n",
    "O = me.Point('O')\n",
    "O.set_vel(In_frame, 0)\n",
    "\n",
    "# Mass center of the cart\n",
    "C0 = me.Point('C0')\n",
    "C0.set_pos(O, q[0] * In_frame.x)\n",
    "C0.set_vel(In_frame, qdot[0] * In_frame.x)\n",
    "\n",
    "#cart frame\n",
    "cart_frame = In_frame.orientnew('L0', 'Axis', [q[0], In_frame.x])\n",
    "cart_frame.set_ang_vel(In_frame, 0)\n",
    "\n",
    "#endulum frame\n",
    "pen_frame = In_frame.orientnew('L1', 'Axis', [ sm.pi/2-q[1], In_frame.z])\n",
    "pen_frame.set_ang_vel(In_frame, qdot[1] * In_frame.z)\n",
    "#mass center of pendulum\n",
    "s = C0.locatenew('a', a * pen_frame.x)\n",
    "s.v2pt_theory(C0, In_frame, pen_frame)\n",
    "\n",
    "# finding velocities in inertial reference frame --> use them to find kinetic energy\n",
    "v0 = C0.vel(In_frame)\n",
    "v1 = s.vel(In_frame)\n",
    "T = 1 / 2 * m[0] * v0.dot(v0) + 1 / 2 * m[1] * v1.dot(v1) + 1 / 2 * J[1] * qdot[1]**2\n",
    "\n",
    "v00=qdot[0]\n",
    "v11_sq=(qdot[0]+a*qdot[1]*sm.cos(q[1]))**2 + (a*qdot[1]*sm.sin(q[1]))**2\n",
    "\n",
    "T1=1/2 * m[0] * v00**2 +1/2 * m[1] * v11_sq +1/2 *J[1]*qdot[1]**2\n",
    "# potential energy\n",
    "h = s.pos_from(O).dot(In_frame.y)\n",
    "#V = m[0] * g * h - 1/2 * d * qdot[1]**2\n",
    "V = m[0] * g * h\n",
    "tau = -d * qdot[1]\n",
    "\n",
    "params = [m[0], m[1], J[0], J[1], a, d, g]\n",
    "st.make_global(params)\n",
    "\n",
    "qq=sm.Matrix([q, qdot])\n",
    "equilib_point = sm.Matrix([1.0,sm.pi/6 , 1, 1])\n",
    "\n",
    "parameter_values = [(g, 9.81), (a, 0.2), (d, 0.0), (m[0], 3.34),\n",
    "                    (m[1], 0.8512), (J[0], 0), (J[1], 0.01980)]\n",
    "\n",
    "parameters = list(map(lambda a,b :(a,b),qq, equilib_point)) + parameter_values\n",
    "param_dict=dict(parameters)\n",
    "\n",
    "L=T-V\n",
    "dL_dqdot0=sm.diff(L, qdot[0])\n",
    "dL_dqdot1=sm.diff(L, qdot[1])\n",
    "dL_dq0=sm.diff(L, q[0])\n",
    "dL_dq1=sm.diff(L, q[1])\n",
    "\n",
    "dt_dL_dqdot0=sm.diff(dL_dqdot0, t).simplify()\n",
    "dt_dL_dqdot1=sm.diff(dL_dqdot1, t).simplify()\n",
    "\n",
    "exp1=dt_dL_dqdot0-dL_dq0-f\n",
    "exp2=dt_dL_dqdot1-dL_dq1\n",
    "\n",
    "sol=sm.solve([exp1, exp2], [qdd0, qdd1])\n"
   ]
  },
  {
   "cell_type": "code",
   "execution_count": 49,
   "metadata": {},
   "outputs": [],
   "source": [
    "q0dd_exp=sol[qdd0].expand()\n",
    "q1dd_exp=sol[qdd1].expand()"
   ]
  },
  {
   "cell_type": "code",
   "execution_count": 50,
   "metadata": {},
   "outputs": [],
   "source": [
    "#help(sm.collect)"
   ]
  },
  {
   "cell_type": "code",
   "execution_count": 51,
   "metadata": {},
   "outputs": [],
   "source": [
    "collected_q0dd=sm.collect(q0dd_exp, f,evaluate=False )\n",
    "collected_q1dd=sm.collect(q1dd_exp, f, evaluate=False)"
   ]
  },
  {
   "cell_type": "code",
   "execution_count": 60,
   "metadata": {},
   "outputs": [],
   "source": [
    "gx=sm.Matrix([[0.0],\n",
    "              [0.0],\n",
    "              [collected_q0dd[f]],\n",
    "              [collected_q1dd[f]]])\n",
    "\n",
    "fx=sm.Matrix([[qdot0],\n",
    "              [qdot1],\n",
    "              [collected_q0dd[1].factor()],\n",
    "              [collected_q1dd[1].factor()]])\n",
    "\n",
    "xx=sm.Matrix([q0, q1, qdot0, qdot1])"
   ]
  },
  {
   "cell_type": "code",
   "execution_count": 61,
   "metadata": {},
   "outputs": [
    {
     "data": {
      "text/latex": [
       "$$\\left[\\begin{matrix}0.0\\\\0.0\\\\0.264023561869032\\\\0.417354137317858 \\sqrt{3}\\end{matrix}\\right]$$"
      ],
      "text/plain": [
       "Matrix([\n",
       "[                      0.0],\n",
       "[                      0.0],\n",
       "[        0.264023561869032],\n",
       "[0.417354137317858*sqrt(3)]])"
      ]
     },
     "execution_count": 61,
     "metadata": {},
     "output_type": "execute_result"
    }
   ],
   "source": [
    "gx.subs(param_dict)"
   ]
  },
  {
   "cell_type": "code",
   "execution_count": 62,
   "metadata": {},
   "outputs": [
    {
     "data": {
      "text/latex": [
       "$$-0.022473685586292 + 2.73495505017491 \\operatorname{sin}\\left(0.333333333333333 \\pi\\right)$$"
      ],
      "text/plain": [
       "-0.022473685586292 + 2.73495505017491*sin(0.333333333333333*pi)"
      ]
     },
     "execution_count": 62,
     "metadata": {},
     "output_type": "execute_result"
    }
   ],
   "source": [
    "fx.subs(param_dict)[2].simplify() # 0.0275104"
   ]
  },
  {
   "cell_type": "code",
   "execution_count": 63,
   "metadata": {},
   "outputs": [],
   "source": [
    "gx_lin=gx.jacobian(xx)\n",
    "fx_lin=fx.jacobian(xx)"
   ]
  },
  {
   "cell_type": "code",
   "execution_count": 69,
   "metadata": {
    "scrolled": true
   },
   "outputs": [
    {
     "data": {
      "text/latex": [
       "$$\\left[\\begin{matrix}0\\\\0\\\\- \\frac{4 a^{2} m_{1}^{2} \\left(J_{1} + a^{2} m_{1}\\right) q_{1} \\operatorname{sin}\\left(2 q_{1}\\right)}{\\left(2 J_{1} m_{0} + 2 J_{1} m_{1} + 2 a^{2} m_{0} m_{1} - a^{2} m_{1}^{2} \\operatorname{cos}\\left(2 q_{1}\\right) + a^{2} m_{1}^{2}\\right)^{2}}\\\\- \\frac{a m_{1} \\left(J_{1} m_{0} + J_{1} m_{1} + a^{2} m_{0} m_{1} + a^{2} m_{1}^{2} \\operatorname{cos}^{2}\\left(q_{1}\\right) + a^{2} m_{1}^{2}\\right) q_{1} \\operatorname{sin}\\left(q_{1}\\right)}{\\left(J_{1} m_{0} + J_{1} m_{1} + a^{2} m_{0} m_{1} + a^{2} m_{1}^{2} \\operatorname{sin}^{2}\\left(q_{1}\\right)\\right)^{2}}\\end{matrix}\\right]$$"
      ],
      "text/plain": [
       "Matrix([\n",
       "[                                                                                                                                         0],\n",
       "[                                                                                                                                         0],\n",
       "[                       -4*a**2*m1**2*(J1 + a**2*m1)*q1*sin(2*q1)/(2*J1*m0 + 2*J1*m1 + 2*a**2*m0*m1 - a**2*m1**2*cos(2*q1) + a**2*m1**2)**2],\n",
       "[-a*m1*(J1*m0 + J1*m1 + a**2*m0*m1 + a**2*m1**2*cos(q1)**2 + a**2*m1**2)*q1*sin(q1)/(J1*m0 + J1*m1 + a**2*m0*m1 + a**2*m1**2*sin(q1)**2)**2]])"
      ]
     },
     "execution_count": 69,
     "metadata": {},
     "output_type": "execute_result"
    }
   ],
   "source": [
    "sm.simplify(gx_lin*xx)"
   ]
  },
  {
   "cell_type": "code",
   "execution_count": 68,
   "metadata": {
    "scrolled": true
   },
   "outputs": [
    {
     "data": {
      "text/latex": [
       "$$\\left[\\begin{matrix}\\dot{q}_{0}\\\\\\dot{q}_{1}\\\\\\frac{a m_{1}}{\\left(J_{1} m_{0} + J_{1} m_{1} + a^{2} m_{0} m_{1} + a^{2} m_{1}^{2} \\operatorname{sin}^{2}\\left(q_{1}\\right)\\right)^{2}} \\left(- 2.0 \\left(J_{1} + a^{2} m_{1}\\right) \\left(J_{1} m_{0} + J_{1} m_{1} + a^{2} m_{0} m_{1} + a^{2} m_{1}^{2} \\operatorname{sin}^{2}\\left(q_{1}\\right)\\right) \\operatorname{sin}\\left(q_{1}\\right) \\dot{q}_{1}^{2} + \\left(2.0 a^{2} m_{1}^{2} \\left(1.0 J_{1} \\operatorname{sin}\\left(q_{1}\\right) \\dot{q}_{1}^{2} + 1.0 a^{2} m_{1} \\operatorname{sin}\\left(q_{1}\\right) \\dot{q}_{1}^{2} - 0.5 a g m_{0} \\operatorname{sin}\\left(2.0 q_{1}\\right)\\right) \\operatorname{sin}\\left(q_{1}\\right) \\operatorname{cos}\\left(q_{1}\\right) - 1.0 \\left(J_{1} \\operatorname{cos}\\left(q_{1}\\right) \\dot{q}_{1}^{2} + a^{2} m_{1} \\operatorname{cos}\\left(q_{1}\\right) \\dot{q}_{1}^{2} - a g m_{0} \\operatorname{cos}\\left(2.0 q_{1}\\right)\\right) \\left(J_{1} m_{0} + J_{1} m_{1} + a^{2} m_{0} m_{1} + a^{2} m_{1}^{2} \\operatorname{sin}^{2}\\left(q_{1}\\right)\\right)\\right) q_{1}\\right)\\\\\\frac{a}{\\left(J_{1} m_{0} + J_{1} m_{1} + a^{2} m_{0} m_{1} + a^{2} m_{1}^{2} \\operatorname{sin}^{2}\\left(q_{1}\\right)\\right)^{2}} \\left(- 2 a m_{1}^{2} \\left(J_{1} m_{0} + J_{1} m_{1} + a^{2} m_{0} m_{1} + a^{2} m_{1}^{2} \\operatorname{sin}^{2}\\left(q_{1}\\right)\\right) \\operatorname{sin}\\left(q_{1}\\right) \\operatorname{cos}\\left(q_{1}\\right) \\dot{q}_{1}^{2} + \\left(- 2 a^{2} m_{1}^{2} \\left(- a m_{1}^{2} \\operatorname{cos}\\left(q_{1}\\right) \\dot{q}_{1}^{2} + g m_{0}^{2} + g m_{0} m_{1}\\right) \\operatorname{sin}^{2}\\left(q_{1}\\right) \\operatorname{cos}\\left(q_{1}\\right) + \\left(a m_{1}^{2} \\operatorname{sin}^{2}\\left(q_{1}\\right) \\dot{q}_{1}^{2} + \\left(- a m_{1}^{2} \\operatorname{cos}\\left(q_{1}\\right) \\dot{q}_{1}^{2} + g m_{0}^{2} + g m_{0} m_{1}\\right) \\operatorname{cos}\\left(q_{1}\\right)\\right) \\left(J_{1} m_{0} + J_{1} m_{1} + a^{2} m_{0} m_{1} + a^{2} m_{1}^{2} \\operatorname{sin}^{2}\\left(q_{1}\\right)\\right)\\right) q_{1}\\right)\\end{matrix}\\right]$$"
      ],
      "text/plain": [
       "Matrix([\n",
       "[                                                                                                                                                                                                                                                                                                                                                                                                    q0'],\n",
       "[                                                                                                                                                                                                                                                                                                                                                                                                    q1'],\n",
       "[a*m1*(-2.0*(J1 + a**2*m1)*(J1*m0 + J1*m1 + a**2*m0*m1 + a**2*m1**2*sin(q1)**2)*sin(q1)*q1'**2 + (2.0*a**2*m1**2*(1.0*J1*sin(q1)*q1'**2 + 1.0*a**2*m1*sin(q1)*q1'**2 - 0.5*a*g*m0*sin(2.0*q1))*sin(q1)*cos(q1) - 1.0*(J1*cos(q1)*q1'**2 + a**2*m1*cos(q1)*q1'**2 - a*g*m0*cos(2.0*q1))*(J1*m0 + J1*m1 + a**2*m0*m1 + a**2*m1**2*sin(q1)**2))*q1)/(J1*m0 + J1*m1 + a**2*m0*m1 + a**2*m1**2*sin(q1)**2)**2],\n",
       "[                    a*(-2*a*m1**2*(J1*m0 + J1*m1 + a**2*m0*m1 + a**2*m1**2*sin(q1)**2)*sin(q1)*cos(q1)*q1'**2 + (-2*a**2*m1**2*(-a*m1**2*cos(q1)*q1'**2 + g*m0**2 + g*m0*m1)*sin(q1)**2*cos(q1) + (a*m1**2*sin(q1)**2*q1'**2 + (-a*m1**2*cos(q1)*q1'**2 + g*m0**2 + g*m0*m1)*cos(q1))*(J1*m0 + J1*m1 + a**2*m0*m1 + a**2*m1**2*sin(q1)**2))*q1)/(J1*m0 + J1*m1 + a**2*m0*m1 + a**2*m1**2*sin(q1)**2)**2]])"
      ]
     },
     "execution_count": 68,
     "metadata": {},
     "output_type": "execute_result"
    }
   ],
   "source": [
    "sm.simplify(fx_lin*xx)"
   ]
  },
  {
   "cell_type": "code",
   "execution_count": 39,
   "metadata": {},
   "outputs": [
    {
     "data": {
      "text/latex": [
       "$$\\left[\\begin{matrix}\\dot{q}_{0}\\\\\\dot{q}_{1}\\\\5.67138717420427 q_{1}\\\\139.625927658159 q_{1}\\end{matrix}\\right]$$"
      ],
      "text/plain": [
       "Matrix([\n",
       "[                q0'],\n",
       "[                q1'],\n",
       "[5.67138717420427*q1],\n",
       "[139.625927658159*q1]])"
      ]
     },
     "execution_count": 39,
     "metadata": {},
     "output_type": "execute_result"
    }
   ],
   "source": [
    "fx_lin.subs(param_dict)*xx"
   ]
  },
  {
   "cell_type": "code",
   "execution_count": 40,
   "metadata": {},
   "outputs": [
    {
     "data": {
      "text/latex": [
       "$$\\left[\\begin{matrix}0\\\\0\\\\0\\\\0\\end{matrix}\\right]$$"
      ],
      "text/plain": [
       "Matrix([\n",
       "[0],\n",
       "[0],\n",
       "[0],\n",
       "[0]])"
      ]
     },
     "execution_count": 40,
     "metadata": {},
     "output_type": "execute_result"
    }
   ],
   "source": [
    "gx_lin.subs(param_dict)*xx"
   ]
  },
  {
   "cell_type": "code",
   "execution_count": null,
   "metadata": {
    "collapsed": true
   },
   "outputs": [],
   "source": []
  }
 ],
 "metadata": {
  "kernelspec": {
   "display_name": "Python [default]",
   "language": "python",
   "name": "python3"
  },
  "language_info": {
   "codemirror_mode": {
    "name": "ipython",
    "version": 3
   },
   "file_extension": ".py",
   "mimetype": "text/x-python",
   "name": "python",
   "nbconvert_exporter": "python",
   "pygments_lexer": "ipython3",
   "version": "3.6.3"
  }
 },
 "nbformat": 4,
 "nbformat_minor": 2
}
