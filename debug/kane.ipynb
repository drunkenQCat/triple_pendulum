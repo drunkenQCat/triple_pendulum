{
 "cells": [
  {
   "cell_type": "code",
   "execution_count": 3,
   "metadata": {
    "collapsed": true
   },
   "outputs": [],
   "source": [
    "#imports\n",
    "from __future__ import division, print_function\n",
    "import sympy as sm\n",
    "from sympy import trigsimp\n",
    "import sympy.physics.mechanics as me\n",
    "import mpmath as mp\n",
    "\n",
    "from sympy.physics.vector import init_vprinting, vlatex\n",
    "init_vprinting(use_latex='mathjax', pretty_print=False)\n",
    "\n",
    "# Defining symbolic Variables\n",
    "\n",
    "n = 1\n",
    "q = me.dynamicsymbols('q:{}'.format(n + 1))  # generalized coordinates\n",
    "qdot = me.dynamicsymbols('qdot:{}'.format(n + 1))  #generalized speeds\n",
    "f = me.dynamicsymbols('f')\n",
    "m = sm.symbols('m:{}'.format(n + 1))\n",
    "J = sm.symbols('J:{}'.format(n + 1))\n",
    "l = sm.symbols('l:{}'.format(n))  # lenght of each pendlum\n",
    "a = sm.symbols('a:{}'.format(n))  #location of Mass-centers\n",
    "d = sm.symbols('d1:{}'.format(n + 1))  #viscous damping coef.\n",
    "g, t = sm.symbols('g t')\n",
    "\n",
    "# inertial reference frame\n",
    "In_frame = me.ReferenceFrame('In_frame')\n",
    "\n",
    "# Origninal Point O in Reference Frame :\n",
    "O = me.Point('O')\n",
    "O.set_vel(In_frame, 0)\n",
    "\n",
    "# The Center of Mass Point on cart :\n",
    "C0 = me.Point('C0')\n",
    "C0.set_pos(O, q[0] * In_frame.x)\n",
    "C0.set_vel(In_frame, qdot[0] * In_frame.x)\n",
    "\n",
    "cart_inertia_dyadic = me.inertia(In_frame, 0, 0, J[0])\n",
    "cart_central_inertia = (cart_inertia_dyadic, C0)\n",
    "\n",
    "cart = me.RigidBody('Cart', C0, In_frame, m[0], cart_central_inertia)\n",
    "\n",
    "kindiffs = [q[0].diff(t) - qdot[0]]  # entforcing qdot=Omega\n",
    "\n",
    "frames = [In_frame]\n",
    "mass_centers = [C0]\n",
    "joint_centers = [C0]\n",
    "central_inertias = [cart_central_inertia]\n",
    "forces = [(C0, f * In_frame.x - m[0] * g * In_frame.y)]\n",
    "\n",
    "#adding torques :\n",
    "if n == 1:\n",
    "    torqueVector = (-d[0] * qdot[1]) *(-1)* In_frame.z\n",
    "elif n >= 2:\n",
    "    torqueVector = (-d[0] * qdot[1] - d[1] * (qdot[1] - qdot[2])) *(-1)* In_frame.z\n",
    "\n",
    "torques = [(In_frame, torqueVector)]\n",
    "\n",
    "# cart_potential = 1 / 2 * d[0] * qdot[1]**2\n",
    "# potentials = [cart_potential]\n",
    "# cart.potential_energy= cart_potential\n",
    "\n",
    "\n",
    "rigid_bodies = [cart]\n",
    "# Lagrangian0 = me.Lagrangian(In_frame, rigid_bodies[0])\n",
    "# Lagrangians=[Lagrangian0]\n",
    "\n",
    "\n",
    "for i in range(n):\n",
    "    #Creating new reference frame\n",
    "    Li = In_frame.orientnew('L' + str(i), 'Axis', [sm.pi/2 - q[i + 1], In_frame.z])\n",
    "    Li.set_ang_vel(In_frame, -qdot[i + 1] * In_frame.z)\n",
    "    frames.append(Li)\n",
    "\n",
    "    # Creating new mass point centers\n",
    "    Pi = mass_centers[-1].locatenew('a' + str(i + 1), a[i] * Li.x)\n",
    "    Pi.v2pt_theory(joint_centers[-1], In_frame, Li)\n",
    "    mass_centers.append(Pi)\n",
    "\n",
    "    #Creating new joint Points\n",
    "    Jointi = joint_centers[-1].locatenew('jont' + str(i + 1), l[i] * Li.x)\n",
    "    Jointi.v2pt_theory(joint_centers[-1], In_frame, Li)\n",
    "    joint_centers.append(Jointi)\n",
    "\n",
    "    #adding forces\n",
    "    forces.append((Pi, -m[i + 1] * g * In_frame.y))\n",
    "    \n",
    "    \n",
    "    #adding torques\n",
    "    if i==0 and n==1 :\n",
    "        pass\n",
    "    elif i==0 and n!=1 :\n",
    "        torqueVectori= -d[0] * qdot[1] *(-1)* In_frame.z\n",
    "        torques.append((Li, torqueVectori))\n",
    "    else:\n",
    "        torqueVectori = -d[i] * (qdot[i+1]-qdot[i]) *(-1)* In_frame.z\n",
    "        torques.append((Li, torqueVectori))\n",
    "    \n",
    "    #adding cential inertias \n",
    "    IDi = me.inertia(frames[i + 1], 0, 0, J[i + 1])\n",
    "    ICi = (IDi, mass_centers[i + 1])\n",
    "    central_inertias.append(ICi)\n",
    "\n",
    "    LBodyi = me.RigidBody('L' + str(i + 1) + '_Body', mass_centers[i + 1],\n",
    "                          frames[i + 1], m[i + 1], central_inertias[i + 1])\n",
    "    rigid_bodies.append(LBodyi)\n",
    "\n",
    "    kindiffs.append(q[i + 1].diff(t) - qdot[i + 1])\n",
    "    \n",
    "  \n",
    "   \n",
    "#generalized force\n",
    "torques.append((frames[1], -d[0]*qdot[1]*frames[1].z))\n",
    "loads = torques + forces\n",
    "#loads=forces\n",
    "#Kane's Method --> Equation of motion\n",
    "Kane = me.KanesMethod(In_frame, q, qdot, kd_eqs=kindiffs)\n",
    "fr, frstar = Kane.kanes_equations(rigid_bodies, loads)\n",
    "\n",
    "mass_matrix = trigsimp(Kane.mass_matrix_full)\n",
    "forcing_vector = trigsimp(Kane.forcing_full)\n",
    "\n"
   ]
  },
  {
   "cell_type": "code",
   "execution_count": 4,
   "metadata": {},
   "outputs": [
    {
     "data": {
      "text/plain": [
       "[(In_frame, d1*qdot1*In_frame.z),\n",
       " (L0, - d1*qdot1*L0.z),\n",
       " (C0, f*In_frame.x - g*m0*In_frame.y),\n",
       " (a1, - g*m1*In_frame.y)]"
      ]
     },
     "execution_count": 4,
     "metadata": {},
     "output_type": "execute_result"
    }
   ],
   "source": [
    "loads"
   ]
  },
  {
   "cell_type": "code",
   "execution_count": 5,
   "metadata": {},
   "outputs": [
    {
     "data": {
      "text/latex": [
       "$$\\left[\\begin{matrix}f\\\\a_{0} g m_{1} \\operatorname{sin}\\left(q_{1}\\right) + d_{1} \\dot{q}_{1}\\end{matrix}\\right]$$"
      ],
      "text/plain": [
       "Matrix([\n",
       "[                         f],\n",
       "[a0*g*m1*sin(q1) + d1*qdot1]])"
      ]
     },
     "execution_count": 5,
     "metadata": {},
     "output_type": "execute_result"
    }
   ],
   "source": [
    "fr"
   ]
  },
  {
   "cell_type": "code",
   "execution_count": 6,
   "metadata": {
    "collapsed": true
   },
   "outputs": [],
   "source": [
    "qq=sm.Matrix([q, qdot])\n",
    "equilib_point = sm.Matrix([1. ,sm.pi/6 , 1, 1])\n",
    "\n",
    "parameter_values = [(g, 9.81), (a[0], 0.2), (d[0], 10.0), (m[0], 3.34),\n",
    "                    (m[1], 0.8512), (J[0], 0), (J[1], 0.01980)]\n",
    "\n",
    "parameters = list(map(lambda a,b :(a,b),qq, equilib_point)) + parameter_values\n",
    "param_dict=dict(parameters)\n"
   ]
  },
  {
   "cell_type": "code",
   "execution_count": 7,
   "metadata": {},
   "outputs": [
    {
     "data": {
      "text/latex": [
       "$$\\left[\\begin{matrix}a_{0} m_{1} \\dot{q}^{2}_{1} \\operatorname{sin}\\left(q_{1}\\right) - a_{0} m_{1} \\operatorname{cos}\\left(q_{1}\\right) \\dot{\\dot{q}}_{1} - \\left(m_{0} + m_{1}\\right) \\dot{\\dot{q}}_{0}\\\\- a_{0} m_{1} \\operatorname{cos}\\left(q_{1}\\right) \\dot{\\dot{q}}_{0} - \\left(J_{1} + a_{0}^{2} m_{1}\\right) \\dot{\\dot{q}}_{1}\\end{matrix}\\right]$$"
      ],
      "text/plain": [
       "Matrix([\n",
       "[a0*m1*qdot1**2*sin(q1) - a0*m1*cos(q1)*qdot1' - (m0 + m1)*qdot0'],\n",
       "[                  -a0*m1*cos(q1)*qdot0' - (J1 + a0**2*m1)*qdot1']])"
      ]
     },
     "execution_count": 7,
     "metadata": {},
     "output_type": "execute_result"
    }
   ],
   "source": [
    "frstar"
   ]
  },
  {
   "cell_type": "code",
   "execution_count": 8,
   "metadata": {
    "collapsed": true
   },
   "outputs": [],
   "source": [
    "xdot_expr=(mass_matrix.inv()*forcing_vector).expand()"
   ]
  },
  {
   "cell_type": "code",
   "execution_count": 9,
   "metadata": {},
   "outputs": [
    {
     "data": {
      "text/latex": [
       "$$\\left[\\begin{matrix}\\dot{q}_{0}\\\\\\dot{q}_{1}\\\\\\frac{1}{J_{1} m_{0} + J_{1} m_{1} + a_{0}^{2} m_{0} m_{1} + a_{0}^{2} m_{1}^{2} \\operatorname{sin}^{2}\\left(q_{1}\\right)} \\left(J_{1} a_{0} m_{1} \\dot{q}^{2}_{1} \\operatorname{sin}\\left(q_{1}\\right) + J_{1} f + a_{0}^{3} m_{1}^{2} \\dot{q}^{2}_{1} \\operatorname{sin}\\left(q_{1}\\right) - \\frac{a_{0}^{2} g}{2} m_{1}^{2} \\operatorname{sin}\\left(2 q_{1}\\right) + a_{0}^{2} m_{1} f - a_{0} d_{1} m_{1} \\dot{q}_{1} \\operatorname{cos}\\left(q_{1}\\right)\\right)\\\\\\frac{1}{J_{1} m_{0} + J_{1} m_{1} + a_{0}^{2} m_{0} m_{1} + a_{0}^{2} m_{1}^{2} \\operatorname{sin}^{2}\\left(q_{1}\\right)} \\left(- \\frac{a_{0}^{2} m_{1}^{2}}{2} \\dot{q}^{2}_{1} \\operatorname{sin}\\left(2 q_{1}\\right) + a_{0} g m_{0} m_{1} \\operatorname{sin}\\left(q_{1}\\right) + a_{0} g m_{1}^{2} \\operatorname{sin}\\left(q_{1}\\right) - a_{0} m_{1} f \\operatorname{cos}\\left(q_{1}\\right) + d_{1} m_{0} \\dot{q}_{1} + d_{1} m_{1} \\dot{q}_{1}\\right)\\end{matrix}\\right]$$"
      ],
      "text/plain": [
       "Matrix([\n",
       "[                                                                                                                                                                                     qdot0],\n",
       "[                                                                                                                                                                                     qdot1],\n",
       "[(J1*a0*m1*qdot1**2*sin(q1) + J1*f + a0**3*m1**2*qdot1**2*sin(q1) - a0**2*g*m1**2*sin(2*q1)/2 + a0**2*m1*f - a0*d1*m1*qdot1*cos(q1))/(J1*m0 + J1*m1 + a0**2*m0*m1 + a0**2*m1**2*sin(q1)**2)],\n",
       "[        (-a0**2*m1**2*qdot1**2*sin(2*q1)/2 + a0*g*m0*m1*sin(q1) + a0*g*m1**2*sin(q1) - a0*m1*f*cos(q1) + d1*m0*qdot1 + d1*m1*qdot1)/(J1*m0 + J1*m1 + a0**2*m0*m1 + a0**2*m1**2*sin(q1)**2)]])"
      ]
     },
     "execution_count": 9,
     "metadata": {},
     "output_type": "execute_result"
    }
   ],
   "source": [
    "xdot_expr.simplify()"
   ]
  },
  {
   "cell_type": "code",
   "execution_count": 10,
   "metadata": {
    "collapsed": true
   },
   "outputs": [],
   "source": [
    "collected_qdd0=xdot_expr[2].collect(f, evaluate=False)\n",
    "collected_qdd1=xdot_expr[3].collect(f, evaluate=False)"
   ]
  },
  {
   "cell_type": "code",
   "execution_count": 11,
   "metadata": {},
   "outputs": [],
   "source": [
    "fx=sm.Matrix([[qdot[0]],\n",
    "              [qdot[1]],\n",
    "              [collected_qdd0[1]],\n",
    "              [collected_qdd1[1]]])\n",
    "\n",
    "gx=sm.Matrix([[0.0],\n",
    "              [0.0],\n",
    "              [collected_qdd0[f]],\n",
    "              [collected_qdd1[f]]])\n",
    "\n",
    "xx=sm.Matrix([q[0], q[1], qdot[0], qdot[1]])"
   ]
  },
  {
   "cell_type": "code",
   "execution_count": 19,
   "metadata": {},
   "outputs": [
    {
     "data": {
      "text/latex": [
       "$$\\frac{a_{0} m_{1} \\left(2 J_{1} \\dot{q}^{2}_{1} \\operatorname{sin}\\left(q_{1}\\right) + 2 a_{0}^{2} m_{1} \\dot{q}^{2}_{1} \\operatorname{sin}\\left(q_{1}\\right) - a_{0} g m_{1} \\operatorname{sin}\\left(2 q_{1}\\right) - 2 d_{1} \\dot{q}_{1} \\operatorname{cos}\\left(q_{1}\\right)\\right)}{2 \\left(J_{1} m_{0} + J_{1} m_{1} + a_{0}^{2} m_{0} m_{1} + a_{0}^{2} m_{1}^{2} \\operatorname{sin}^{2}\\left(q_{1}\\right)\\right)}$$"
      ],
      "text/plain": [
       "a0*m1*(2*J1*qdot1**2*sin(q1) + 2*a0**2*m1*qdot1**2*sin(q1) - a0*g*m1*sin(2*q1) - 2*d1*qdot1*cos(q1))/(2*(J1*m0 + J1*m1 + a0**2*m0*m1 + a0**2*m1**2*sin(q1)**2))"
      ]
     },
     "execution_count": 19,
     "metadata": {},
     "output_type": "execute_result"
    }
   ],
   "source": [
    "fx[2].simplify()"
   ]
  },
  {
   "cell_type": "code",
   "execution_count": 18,
   "metadata": {},
   "outputs": [
    {
     "data": {
      "text/latex": [
       "$$\\frac{- \\frac{a_{0}^{2} m_{1}^{2}}{2} \\dot{q}^{2}_{1} \\operatorname{sin}\\left(2 q_{1}\\right) + a_{0} g m_{0} m_{1} \\operatorname{sin}\\left(q_{1}\\right) + a_{0} g m_{1}^{2} \\operatorname{sin}\\left(q_{1}\\right) + d_{1} m_{0} \\dot{q}_{1} + d_{1} m_{1} \\dot{q}_{1}}{J_{1} m_{0} + J_{1} m_{1} + a_{0}^{2} m_{0} m_{1} + a_{0}^{2} m_{1}^{2} \\operatorname{sin}^{2}\\left(q_{1}\\right)}$$"
      ],
      "text/plain": [
       "(-a0**2*m1**2*qdot1**2*sin(2*q1)/2 + a0*g*m0*m1*sin(q1) + a0*g*m1**2*sin(q1) + d1*m0*qdot1 + d1*m1*qdot1)/(J1*m0 + J1*m1 + a0**2*m0*m1 + a0**2*m1**2*sin(q1)**2)"
      ]
     },
     "execution_count": 18,
     "metadata": {},
     "output_type": "execute_result"
    }
   ],
   "source": [
    "fx[3].simplify()"
   ]
  },
  {
   "cell_type": "code",
   "execution_count": 12,
   "metadata": {},
   "outputs": [
    {
     "data": {
      "text/latex": [
       "$$\\left[\\begin{matrix}1.0\\\\1.0\\\\-7.80993528898422\\\\222.598107007434\\end{matrix}\\right]$$"
      ],
      "text/plain": [
       "Matrix([\n",
       "[              1.0],\n",
       "[              1.0],\n",
       "[-7.80993528898422],\n",
       "[ 222.598107007434]])"
      ]
     },
     "execution_count": 12,
     "metadata": {},
     "output_type": "execute_result"
    }
   ],
   "source": [
    "fx.subs(param_dict).evalf()"
   ]
  },
  {
   "cell_type": "code",
   "execution_count": 13,
   "metadata": {},
   "outputs": [
    {
     "data": {
      "text/latex": [
       "$$\\left[\\begin{matrix}0\\\\0\\\\0.264023561869032\\\\-0.722878570583608\\end{matrix}\\right]$$"
      ],
      "text/plain": [
       "Matrix([\n",
       "[                 0],\n",
       "[                 0],\n",
       "[ 0.264023561869032],\n",
       "[-0.722878570583608]])"
      ]
     },
     "execution_count": 13,
     "metadata": {},
     "output_type": "execute_result"
    }
   ],
   "source": [
    "gx.subs(param_dict).evalf()"
   ]
  },
  {
   "cell_type": "code",
   "execution_count": 14,
   "metadata": {},
   "outputs": [
    {
     "data": {
      "text/latex": [
       "$$\\left[\\begin{matrix}q_{0}\\\\q_{1}\\\\\\dot{q}_{0}\\\\\\dot{q}_{1}\\end{matrix}\\right]$$"
      ],
      "text/plain": [
       "Matrix([\n",
       "[   q0],\n",
       "[   q1],\n",
       "[qdot0],\n",
       "[qdot1]])"
      ]
     },
     "execution_count": 14,
     "metadata": {},
     "output_type": "execute_result"
    }
   ],
   "source": [
    "xx"
   ]
  },
  {
   "cell_type": "code",
   "execution_count": 63,
   "metadata": {
    "collapsed": true
   },
   "outputs": [],
   "source": [
    "gx_lin=gx.jacobian(xx)\n",
    "fx_lin=fx.jacobian(xx)"
   ]
  },
  {
   "cell_type": "code",
   "execution_count": 64,
   "metadata": {},
   "outputs": [
    {
     "data": {
      "text/latex": [
       "$$\\left[\\begin{matrix}\\dot{q}_{0}\\\\\\dot{q}_{1}\\\\\\left(\\frac{2 J_{1} a_{0} m_{1} \\dot{q}_{1} \\operatorname{sin}\\left(q_{1}\\right)}{J_{1} m_{0} + J_{1} m_{1} + a_{0}^{2} m_{0} m_{1} - a_{0}^{2} m_{1}^{2} \\operatorname{cos}^{2}\\left(q_{1}\\right) + a_{0}^{2} m_{1}^{2}} + \\frac{2 a_{0}^{3} m_{1}^{2} \\dot{q}_{1} \\operatorname{sin}\\left(q_{1}\\right)}{J_{1} m_{0} + J_{1} m_{1} + a_{0}^{2} m_{0} m_{1} - a_{0}^{2} m_{1}^{2} \\operatorname{cos}^{2}\\left(q_{1}\\right) + a_{0}^{2} m_{1}^{2}}\\right) \\dot{q}_{1} + \\left(- \\frac{2 J_{1} a_{0}^{3} m_{1}^{3} \\dot{q}^{2}_{1} \\operatorname{sin}^{2}\\left(q_{1}\\right) \\operatorname{cos}\\left(q_{1}\\right)}{\\left(J_{1} m_{0} + J_{1} m_{1} + a_{0}^{2} m_{0} m_{1} - a_{0}^{2} m_{1}^{2} \\operatorname{cos}^{2}\\left(q_{1}\\right) + a_{0}^{2} m_{1}^{2}\\right)^{2}} + \\frac{J_{1} a_{0} m_{1} \\dot{q}^{2}_{1} \\operatorname{cos}\\left(q_{1}\\right)}{J_{1} m_{0} + J_{1} m_{1} + a_{0}^{2} m_{0} m_{1} - a_{0}^{2} m_{1}^{2} \\operatorname{cos}^{2}\\left(q_{1}\\right) + a_{0}^{2} m_{1}^{2}} - \\frac{2 a_{0}^{5} m_{1}^{4} \\dot{q}^{2}_{1} \\operatorname{sin}^{2}\\left(q_{1}\\right) \\operatorname{cos}\\left(q_{1}\\right)}{\\left(J_{1} m_{0} + J_{1} m_{1} + a_{0}^{2} m_{0} m_{1} - a_{0}^{2} m_{1}^{2} \\operatorname{cos}^{2}\\left(q_{1}\\right) + a_{0}^{2} m_{1}^{2}\\right)^{2}} + \\frac{2 a_{0}^{4} g m_{1}^{4} \\operatorname{sin}^{2}\\left(q_{1}\\right) \\operatorname{cos}^{2}\\left(q_{1}\\right)}{\\left(J_{1} m_{0} + J_{1} m_{1} + a_{0}^{2} m_{0} m_{1} - a_{0}^{2} m_{1}^{2} \\operatorname{cos}^{2}\\left(q_{1}\\right) + a_{0}^{2} m_{1}^{2}\\right)^{2}} + \\frac{a_{0}^{3} m_{1}^{2} \\dot{q}^{2}_{1} \\operatorname{cos}\\left(q_{1}\\right)}{J_{1} m_{0} + J_{1} m_{1} + a_{0}^{2} m_{0} m_{1} - a_{0}^{2} m_{1}^{2} \\operatorname{cos}^{2}\\left(q_{1}\\right) + a_{0}^{2} m_{1}^{2}} + \\frac{a_{0}^{2} g m_{1}^{2} \\operatorname{sin}^{2}\\left(q_{1}\\right)}{J_{1} m_{0} + J_{1} m_{1} + a_{0}^{2} m_{0} m_{1} - a_{0}^{2} m_{1}^{2} \\operatorname{cos}^{2}\\left(q_{1}\\right) + a_{0}^{2} m_{1}^{2}} - \\frac{a_{0}^{2} g m_{1}^{2} \\operatorname{cos}^{2}\\left(q_{1}\\right)}{J_{1} m_{0} + J_{1} m_{1} + a_{0}^{2} m_{0} m_{1} - a_{0}^{2} m_{1}^{2} \\operatorname{cos}^{2}\\left(q_{1}\\right) + a_{0}^{2} m_{1}^{2}}\\right) q_{1}\\\\- \\frac{2 a_{0}^{2} m_{1}^{2} \\dot{q}^{2}_{1} \\operatorname{sin}\\left(q_{1}\\right) \\operatorname{cos}\\left(q_{1}\\right)}{J_{1} m_{0} + J_{1} m_{1} + a_{0}^{2} m_{0} m_{1} - a_{0}^{2} m_{1}^{2} \\operatorname{cos}^{2}\\left(q_{1}\\right) + a_{0}^{2} m_{1}^{2}} + \\left(\\frac{2 a_{0}^{4} m_{1}^{4} \\dot{q}^{2}_{1} \\operatorname{sin}^{2}\\left(q_{1}\\right) \\operatorname{cos}^{2}\\left(q_{1}\\right)}{\\left(J_{1} m_{0} + J_{1} m_{1} + a_{0}^{2} m_{0} m_{1} - a_{0}^{2} m_{1}^{2} \\operatorname{cos}^{2}\\left(q_{1}\\right) + a_{0}^{2} m_{1}^{2}\\right)^{2}} - \\frac{2 a_{0}^{3} g m_{0} m_{1}^{3} \\operatorname{sin}^{2}\\left(q_{1}\\right) \\operatorname{cos}\\left(q_{1}\\right)}{\\left(J_{1} m_{0} + J_{1} m_{1} + a_{0}^{2} m_{0} m_{1} - a_{0}^{2} m_{1}^{2} \\operatorname{cos}^{2}\\left(q_{1}\\right) + a_{0}^{2} m_{1}^{2}\\right)^{2}} - \\frac{2 a_{0}^{3} g m_{1}^{4} \\operatorname{sin}^{2}\\left(q_{1}\\right) \\operatorname{cos}\\left(q_{1}\\right)}{\\left(J_{1} m_{0} + J_{1} m_{1} + a_{0}^{2} m_{0} m_{1} - a_{0}^{2} m_{1}^{2} \\operatorname{cos}^{2}\\left(q_{1}\\right) + a_{0}^{2} m_{1}^{2}\\right)^{2}} + \\frac{a_{0}^{2} m_{1}^{2} \\dot{q}^{2}_{1} \\operatorname{sin}^{2}\\left(q_{1}\\right)}{J_{1} m_{0} + J_{1} m_{1} + a_{0}^{2} m_{0} m_{1} - a_{0}^{2} m_{1}^{2} \\operatorname{cos}^{2}\\left(q_{1}\\right) + a_{0}^{2} m_{1}^{2}} - \\frac{a_{0}^{2} m_{1}^{2} \\dot{q}^{2}_{1} \\operatorname{cos}^{2}\\left(q_{1}\\right)}{J_{1} m_{0} + J_{1} m_{1} + a_{0}^{2} m_{0} m_{1} - a_{0}^{2} m_{1}^{2} \\operatorname{cos}^{2}\\left(q_{1}\\right) + a_{0}^{2} m_{1}^{2}} + \\frac{a_{0} g m_{0} m_{1} \\operatorname{cos}\\left(q_{1}\\right)}{J_{1} m_{0} + J_{1} m_{1} + a_{0}^{2} m_{0} m_{1} - a_{0}^{2} m_{1}^{2} \\operatorname{cos}^{2}\\left(q_{1}\\right) + a_{0}^{2} m_{1}^{2}} + \\frac{a_{0} g m_{1}^{2} \\operatorname{cos}\\left(q_{1}\\right)}{J_{1} m_{0} + J_{1} m_{1} + a_{0}^{2} m_{0} m_{1} - a_{0}^{2} m_{1}^{2} \\operatorname{cos}^{2}\\left(q_{1}\\right) + a_{0}^{2} m_{1}^{2}}\\right) q_{1}\\end{matrix}\\right]$$"
      ],
      "text/plain": [
       "Matrix([\n",
       "[                                                                                                                                                                                                                                                                                                                                                                                                                                                                                                                                                                                                                                                                                                                                                                                                                                                                                                                                                                         qdot0],\n",
       "[                                                                                                                                                                                                                                                                                                                                                                                                                                                                                                                                                                                                                                                                                                                                                                                                                                                                                                                                                                         qdot1],\n",
       "[(2*J1*a0*m1*qdot1*sin(q1)/(J1*m0 + J1*m1 + a0**2*m0*m1 - a0**2*m1**2*cos(q1)**2 + a0**2*m1**2) + 2*a0**3*m1**2*qdot1*sin(q1)/(J1*m0 + J1*m1 + a0**2*m0*m1 - a0**2*m1**2*cos(q1)**2 + a0**2*m1**2))*qdot1 + (-2*J1*a0**3*m1**3*qdot1**2*sin(q1)**2*cos(q1)/(J1*m0 + J1*m1 + a0**2*m0*m1 - a0**2*m1**2*cos(q1)**2 + a0**2*m1**2)**2 + J1*a0*m1*qdot1**2*cos(q1)/(J1*m0 + J1*m1 + a0**2*m0*m1 - a0**2*m1**2*cos(q1)**2 + a0**2*m1**2) - 2*a0**5*m1**4*qdot1**2*sin(q1)**2*cos(q1)/(J1*m0 + J1*m1 + a0**2*m0*m1 - a0**2*m1**2*cos(q1)**2 + a0**2*m1**2)**2 + 2*a0**4*g*m1**4*sin(q1)**2*cos(q1)**2/(J1*m0 + J1*m1 + a0**2*m0*m1 - a0**2*m1**2*cos(q1)**2 + a0**2*m1**2)**2 + a0**3*m1**2*qdot1**2*cos(q1)/(J1*m0 + J1*m1 + a0**2*m0*m1 - a0**2*m1**2*cos(q1)**2 + a0**2*m1**2) + a0**2*g*m1**2*sin(q1)**2/(J1*m0 + J1*m1 + a0**2*m0*m1 - a0**2*m1**2*cos(q1)**2 + a0**2*m1**2) - a0**2*g*m1**2*cos(q1)**2/(J1*m0 + J1*m1 + a0**2*m0*m1 - a0**2*m1**2*cos(q1)**2 + a0**2*m1**2))*q1],\n",
       "[                                                                                                       -2*a0**2*m1**2*qdot1**2*sin(q1)*cos(q1)/(J1*m0 + J1*m1 + a0**2*m0*m1 - a0**2*m1**2*cos(q1)**2 + a0**2*m1**2) + (2*a0**4*m1**4*qdot1**2*sin(q1)**2*cos(q1)**2/(J1*m0 + J1*m1 + a0**2*m0*m1 - a0**2*m1**2*cos(q1)**2 + a0**2*m1**2)**2 - 2*a0**3*g*m0*m1**3*sin(q1)**2*cos(q1)/(J1*m0 + J1*m1 + a0**2*m0*m1 - a0**2*m1**2*cos(q1)**2 + a0**2*m1**2)**2 - 2*a0**3*g*m1**4*sin(q1)**2*cos(q1)/(J1*m0 + J1*m1 + a0**2*m0*m1 - a0**2*m1**2*cos(q1)**2 + a0**2*m1**2)**2 + a0**2*m1**2*qdot1**2*sin(q1)**2/(J1*m0 + J1*m1 + a0**2*m0*m1 - a0**2*m1**2*cos(q1)**2 + a0**2*m1**2) - a0**2*m1**2*qdot1**2*cos(q1)**2/(J1*m0 + J1*m1 + a0**2*m0*m1 - a0**2*m1**2*cos(q1)**2 + a0**2*m1**2) + a0*g*m0*m1*cos(q1)/(J1*m0 + J1*m1 + a0**2*m0*m1 - a0**2*m1**2*cos(q1)**2 + a0**2*m1**2) + a0*g*m1**2*cos(q1)/(J1*m0 + J1*m1 + a0**2*m0*m1 - a0**2*m1**2*cos(q1)**2 + a0**2*m1**2))*q1]])"
      ]
     },
     "execution_count": 64,
     "metadata": {},
     "output_type": "execute_result"
    }
   ],
   "source": [
    "fx_lin*xx"
   ]
  },
  {
   "cell_type": "code",
   "execution_count": 65,
   "metadata": {},
   "outputs": [
    {
     "data": {
      "text/latex": [
       "$$\\left[\\begin{matrix}0\\\\0\\\\\\left(- \\frac{2 J_{1} a_{0}^{2} m_{1}^{2} \\operatorname{sin}\\left(q_{1}\\right) \\operatorname{cos}\\left(q_{1}\\right)}{\\left(J_{1} m_{0} + J_{1} m_{1} + a_{0}^{2} m_{0} m_{1} - a_{0}^{2} m_{1}^{2} \\operatorname{cos}^{2}\\left(q_{1}\\right) + a_{0}^{2} m_{1}^{2}\\right)^{2}} - \\frac{2 a_{0}^{4} m_{1}^{3} \\operatorname{sin}\\left(q_{1}\\right) \\operatorname{cos}\\left(q_{1}\\right)}{\\left(J_{1} m_{0} + J_{1} m_{1} + a_{0}^{2} m_{0} m_{1} - a_{0}^{2} m_{1}^{2} \\operatorname{cos}^{2}\\left(q_{1}\\right) + a_{0}^{2} m_{1}^{2}\\right)^{2}}\\right) q_{1}\\\\\\left(\\frac{2 a_{0}^{3} m_{1}^{3} \\operatorname{sin}\\left(q_{1}\\right) \\operatorname{cos}^{2}\\left(q_{1}\\right)}{\\left(J_{1} m_{0} + J_{1} m_{1} + a_{0}^{2} m_{0} m_{1} - a_{0}^{2} m_{1}^{2} \\operatorname{cos}^{2}\\left(q_{1}\\right) + a_{0}^{2} m_{1}^{2}\\right)^{2}} + \\frac{a_{0} m_{1} \\operatorname{sin}\\left(q_{1}\\right)}{J_{1} m_{0} + J_{1} m_{1} + a_{0}^{2} m_{0} m_{1} - a_{0}^{2} m_{1}^{2} \\operatorname{cos}^{2}\\left(q_{1}\\right) + a_{0}^{2} m_{1}^{2}}\\right) q_{1}\\end{matrix}\\right]$$"
      ],
      "text/plain": [
       "Matrix([\n",
       "[                                                                                                                                                                                                                     0],\n",
       "[                                                                                                                                                                                                                     0],\n",
       "[(-2*J1*a0**2*m1**2*sin(q1)*cos(q1)/(J1*m0 + J1*m1 + a0**2*m0*m1 - a0**2*m1**2*cos(q1)**2 + a0**2*m1**2)**2 - 2*a0**4*m1**3*sin(q1)*cos(q1)/(J1*m0 + J1*m1 + a0**2*m0*m1 - a0**2*m1**2*cos(q1)**2 + a0**2*m1**2)**2)*q1],\n",
       "[                    (2*a0**3*m1**3*sin(q1)*cos(q1)**2/(J1*m0 + J1*m1 + a0**2*m0*m1 - a0**2*m1**2*cos(q1)**2 + a0**2*m1**2)**2 + a0*m1*sin(q1)/(J1*m0 + J1*m1 + a0**2*m0*m1 - a0**2*m1**2*cos(q1)**2 + a0**2*m1**2))*q1]])"
      ]
     },
     "execution_count": 65,
     "metadata": {},
     "output_type": "execute_result"
    }
   ],
   "source": [
    "gx_lin*xx"
   ]
  },
  {
   "cell_type": "code",
   "execution_count": 66,
   "metadata": {},
   "outputs": [
    {
     "data": {
      "text/latex": [
       "$$\\left[\\begin{matrix}\\dot{q}_{0}\\\\\\dot{q}_{1}\\\\- 1.44535471936607 q_{1}\\\\35.5837094678517 q_{1}\\end{matrix}\\right]$$"
      ],
      "text/plain": [
       "Matrix([\n",
       "[               qdot0],\n",
       "[               qdot1],\n",
       "[-1.44535471936607*q1],\n",
       "[ 35.5837094678517*q1]])"
      ]
     },
     "execution_count": 66,
     "metadata": {},
     "output_type": "execute_result"
    }
   ],
   "source": [
    "fx_lin.subs(param_dict)*xx"
   ]
  },
  {
   "cell_type": "code",
   "execution_count": 216,
   "metadata": {},
   "outputs": [
    {
     "data": {
      "text/latex": [
       "$$\\left[\\begin{matrix}0\\\\0\\\\- 0.0324914914247285 q_{1}\\\\0.506313632868062 q_{1}\\end{matrix}\\right]$$"
      ],
      "text/plain": [
       "Matrix([\n",
       "[                     0],\n",
       "[                     0],\n",
       "[-0.0324914914247285*q1],\n",
       "[  0.506313632868062*q1]])"
      ]
     },
     "execution_count": 216,
     "metadata": {},
     "output_type": "execute_result"
    }
   ],
   "source": [
    "gx_lin.subs(param_dict).evalf()*xx"
   ]
  },
  {
   "cell_type": "code",
   "execution_count": null,
   "metadata": {
    "collapsed": true
   },
   "outputs": [],
   "source": []
  }
 ],
 "metadata": {
  "kernelspec": {
   "display_name": "Python [default]",
   "language": "python",
   "name": "python3"
  },
  "language_info": {
   "codemirror_mode": {
    "name": "ipython",
    "version": 3
   },
   "file_extension": ".py",
   "mimetype": "text/x-python",
   "name": "python",
   "nbconvert_exporter": "python",
   "pygments_lexer": "ipython3",
   "version": "3.6.3"
  }
 },
 "nbformat": 4,
 "nbformat_minor": 2
}
