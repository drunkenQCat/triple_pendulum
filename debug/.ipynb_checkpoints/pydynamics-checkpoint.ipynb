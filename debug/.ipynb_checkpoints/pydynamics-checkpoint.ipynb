{
 "cells": [
  {
   "cell_type": "code",
   "execution_count": 1,
   "metadata": {
    "collapsed": true
   },
   "outputs": [],
   "source": [
    "from __future__ import division, print_function\n",
    "import sympy as sm\n",
    "from sympy import trigsimp\n",
    "import sympy.physics.mechanics as me\n",
    "\n",
    "\n",
    "from sympy.physics.vector import init_vprinting, vlatex\n",
    "init_vprinting(use_latex='mathjax', pretty_print=False)\n"
   ]
  },
  {
   "cell_type": "code",
   "execution_count": 17,
   "metadata": {},
   "outputs": [],
   "source": [
    "In_frame = me.ReferenceFrame('In_frame')\n",
    "q0, q1 = me.dynamicsymbols('q0 q1')  # generalized coordinates\n",
    "qdot0, qdot1 = me.dynamicsymbols('q0 q1', 1)\n",
    "l=sm.symbols('l')\n",
    "J0=sm.symbols('J0')\n",
    "J1=sm.symbols('J1')\n",
    "m0, m1=sm.symbols('m0 m1')\n",
    "\n",
    "\n",
    "O = me.Point('O')\n",
    "O.set_vel(In_frame, 0)\n",
    "C0 = me.Point('C0')\n",
    "C0.set_pos(O, q0 * In_frame.x)\n",
    "C0.set_vel(In_frame, qdot0 * In_frame.x)\n",
    "\n",
    "L = In_frame.orientnew('L1', 'Axis', [q1, In_frame.z])\n",
    "L.set_ang_vel(In_frame, qdot1 * In_frame.z)\n",
    "\n",
    "cart_inertia_dyadic = me.inertia(In_frame, 0, 0, J0)\n",
    "cart_central_intertia = (cart_inertia_dyadic, C0)\n",
    "cart = me.RigidBody('Cart', C0, In_frame, m0, cart_central_intertia)\n",
    "\n",
    "S=C0.locatenew('s',l* L.x)\n",
    "S.v2pt_theory(C0, In_frame, L)\n",
    "v1 = S.vel(In_frame)"
   ]
  },
  {
   "cell_type": "code",
   "execution_count": 19,
   "metadata": {},
   "outputs": [
    {
     "data": {
      "text/latex": [
       "$$\\dot{q}_{0}\\mathbf{\\hat{in_frame}_x} + l \\dot{q}_{1}\\mathbf{\\hat{l1}_y}$$"
      ],
      "text/plain": [
       "q0'*In_frame.x + l*q1'*L1.y"
      ]
     },
     "execution_count": 19,
     "metadata": {},
     "output_type": "execute_result"
    }
   ],
   "source": [
    "v1"
   ]
  },
  {
   "cell_type": "code",
   "execution_count": 20,
   "metadata": {},
   "outputs": [
    {
     "data": {
      "text/latex": [
       "$$l^{2} \\dot{q}_{1}^{2} - 2 l \\operatorname{sin}\\left(q_{1}\\right) \\dot{q}_{0} \\dot{q}_{1} + \\dot{q}_{0}^{2}$$"
      ],
      "text/plain": [
       "l**2*q1'**2 - 2*l*sin(q1)*q0'*q1' + q0'**2"
      ]
     },
     "execution_count": 20,
     "metadata": {},
     "output_type": "execute_result"
    }
   ],
   "source": [
    "v1.dot(v1)"
   ]
  },
  {
   "cell_type": "code",
   "execution_count": null,
   "metadata": {
    "collapsed": true
   },
   "outputs": [],
   "source": [
    "    "
   ]
  }
 ],
 "metadata": {
  "kernelspec": {
   "display_name": "Python [conda env:Anaconda3]",
   "language": "python",
   "name": "conda-env-Anaconda3-py"
  },
  "language_info": {
   "codemirror_mode": {
    "name": "ipython",
    "version": 3
   },
   "file_extension": ".py",
   "mimetype": "text/x-python",
   "name": "python",
   "nbconvert_exporter": "python",
   "pygments_lexer": "ipython3",
   "version": "3.6.3"
  }
 },
 "nbformat": 4,
 "nbformat_minor": 2
}
