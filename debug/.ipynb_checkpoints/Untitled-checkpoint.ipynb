{
 "cells": [
  {
   "cell_type": "code",
   "execution_count": 22,
   "metadata": {},
   "outputs": [],
   "source": [
    "# IMPORTS\n",
    "import numpy as np\n",
    "from numpy import around\n",
    "import matplotlib as mpl\n",
    "#mpl.use('TKAgg')\n",
    "import matplotlib.pyplot as plt\n",
    "from matplotlib import animation\n",
    "from matplotlib.patches import Rectangle, Circle\n",
    "from matplotlib.gridspec import GridSpec\n",
    "import os\n",
    "\n",
    "\n",
    "\n",
    "class Animation():\n",
    "    '''\n",
    "    Provides animation capabilities.\n",
    "    \n",
    "    Given a callable function that draws an image of the system state and smiulation data\n",
    "    this class provides a method to created an animated representation of the system.\n",
    "    \n",
    "    \n",
    "    Parameters\n",
    "    ----------\n",
    "    \n",
    "    drawfnc : callable\n",
    "        Function that returns an image of the current system state according to :attr:`simdata`\n",
    "    \n",
    "    simdata : numpy.ndarray\n",
    "        Array that contains simulation data (time, system states, input states)\n",
    "    \n",
    "    plotsys : list\n",
    "        List of tuples with indices and labels of system variables that will be plotted along the picture\n",
    "    \n",
    "    plotinputs : list\n",
    "        List of tuples with indices and labels of input variables that will be plotted along the picture\n",
    "    '''\n",
    "    \n",
    "    def __init__(self, drawobj, simdata, plotsys=[], plotinputs=[]):\n",
    "        \n",
    "        self.fig = plt.figure()\n",
    "    \n",
    "        self.t = simdata[0]\n",
    "        self.xt = simdata[1]\n",
    "        self.ut = simdata[2]\n",
    "        \n",
    "        self.plotsys = plotsys\n",
    "        self.plotinputs = plotinputs\n",
    "        self.drawobj = drawobj\n",
    "        self.get_axes()\n",
    "        \n",
    "        \n",
    "        self.nframes = len(self.t)\n",
    "        \n",
    "        \n",
    "        #other Configs\n",
    "        self.axes['ax_anim'].set_frame_on(True)\n",
    "        self.axes['ax_anim'].set_aspect('equal')\n",
    "        self.axes['ax_anim'].set_facecolor('w')\n",
    "\n",
    "\n",
    "    # Defining required axis\n",
    "    def get_axes(self):\n",
    "        sys = self.plotsys\n",
    "        inputs = self.plotinputs\n",
    "        \n",
    "        if not sys+inputs:\n",
    "            gs = GridSpec(1,1)\n",
    "        else:\n",
    "            l = len(sys+inputs)\n",
    "            \n",
    "            gs = GridSpec(l, 3)\n",
    "        axes = dict()\n",
    "        syscurves = []\n",
    "        inputcurves = []\n",
    "        \n",
    "        if not sys+inputs:\n",
    "            axes['ax_anim'] = self.fig.add_subplot(gs[:,:])\n",
    "        else:\n",
    "            axes['ax_anim'] = self.fig.add_subplot(gs[:,1:])\n",
    "        \n",
    "\n",
    "        for i in range(len(sys)):\n",
    "            axes['ax_x{}'.format(i)] = self.fig.add_subplot(gs[i,0])\n",
    "            \n",
    "        \n",
    "        lensys = len(sys)\n",
    "        for i in range(len(inputs)):\n",
    "            axes[\"ax_x{}\".format(i)] = self.fig.add_subplot(gs[lensys+i,0])\n",
    "        \n",
    "        self.axes = axes\n",
    "        self.syscurves = syscurves\n",
    "        self.inputcurves = inputcurves\n",
    "\n",
    "        shape_dict={}\n",
    "        #Checking the desired patches , lines , curves\n",
    "    \n",
    "        for i, name in self.drawobj :\n",
    "\n",
    "            shape=0\n",
    "            size=1\n",
    "            position=2\n",
    "            color=3\n",
    "            init_pos=0\n",
    "            recNumber=0\n",
    "            cirNumber=0\n",
    "            lineNumber=0\n",
    "            curvNumber=0\n",
    "            if self.drawobj[name][shape] == 'Rectangle':\n",
    "                \n",
    "                recNumber+=1\n",
    "                rec_pos=self.drawobj[name][position](init_pos)\n",
    "                rec_width=self.drawobj[name][size][0]\n",
    "                rec_height=self.drawobj[name][size][1]\n",
    "                face_color=self.drawobj[name][color]\n",
    "\n",
    "                shape_dict['rec{}'.format(recNumber)]= Rectangle(\n",
    "                rec_pos,\n",
    "                rec_width,\n",
    "                rec_height,\n",
    "                facecolor=face_color,\n",
    "                linwidth=0.2\n",
    "                )\n",
    "                axes['ax_anim'].add_patch( shape_dict['rec{}'.format(recNumber)])\n",
    "\n",
    "\n",
    "            elif self.drawobj[name][shape]=='Circle' :\n",
    "                cirNumber+=1\n",
    "                radios=self.drawobj[name][size]\n",
    "                face_color=self.drawobj[name][color]\n",
    "                shape_dict['Cir{}'.format(cirNumber)]=Circle(init_pos, radios,facecolor=face_color )\n",
    "                axes['ax_anim'].add_patch(shape_dict['Cir{}'.format(cirNumber)])\n",
    "\n",
    "            elif self.drawobj[name][shape]=='Line' :\n",
    "                lineNumber+=1\n",
    "                shape_dict['line{}'.format(lineNumber)], =axes['ax_anim'].plot([], [], lw=2, marker='o', markersize=8)\n",
    "\n",
    "            elif self.drawobj[name][shape]=='Curve' :\n",
    "                curvNumber+=1\n",
    "                curve_color=self.drawobj[name][color]\n",
    "                shape_dict['curve{}'.format(curvNumber)]= axes['ax_anim'].plot([], [], lw=2, color=curve_color)\n",
    "\n",
    "\n",
    "\n",
    "             \n",
    "\n",
    "\n",
    "\n",
    "\n",
    "\n",
    "\n",
    "\n",
    "    def __init(self):\n",
    "        pass\n",
    "\n",
    "\n",
    "    def __anim(self, frame):\n",
    "        pass\n",
    "\n",
    "\n",
    "        \n",
    "\n",
    "           "
   ]
  },
  {
   "cell_type": "code",
   "execution_count": 43,
   "metadata": {},
   "outputs": [],
   "source": [
    "t=np.array(np.linspace(0,9,10))\n",
    "x1=np.array(np.linspace(20,29,10))\n",
    "x2=np.array(np.linspace(30,39,10))\n",
    "simdata=[t, x1, x2]\n",
    "def posrec(t):\n",
    "   return (8,8)\n"
   ]
  },
  {
   "cell_type": "code",
   "execution_count": 54,
   "metadata": {},
   "outputs": [],
   "source": [
    "drawobj={'cart':['Rectangl', (.6,.6), posrec ,'black']}"
   ]
  },
  {
   "cell_type": "code",
   "execution_count": 55,
   "metadata": {},
   "outputs": [],
   "source": [
    "def func(function):\n",
    "    return "
   ]
  },
  {
   "cell_type": "code",
   "execution_count": 56,
   "metadata": {},
   "outputs": [],
   "source": [
    "func(posrec(3))"
   ]
  },
  {
   "cell_type": "code",
   "execution_count": 57,
   "metadata": {},
   "outputs": [
    {
     "data": {
      "text/plain": [
       "{'cart': ['Rectangl', (0.6, 0.6), <function __main__.posrec>, 'black']}"
      ]
     },
     "execution_count": 57,
     "metadata": {},
     "output_type": "execute_result"
    }
   ],
   "source": [
    "drawobj"
   ]
  },
  {
   "cell_type": "code",
   "execution_count": 63,
   "metadata": {},
   "outputs": [
    {
     "data": {
      "text/plain": [
       "(8, 8)"
      ]
     },
     "execution_count": 63,
     "metadata": {},
     "output_type": "execute_result"
    }
   ],
   "source": [
    "drawobj['cart'][2](0)"
   ]
  },
  {
   "cell_type": "code",
   "execution_count": null,
   "metadata": {},
   "outputs": [],
   "source": []
  }
 ],
 "metadata": {
  "kernelspec": {
   "display_name": "Python 3",
   "language": "python",
   "name": "python3"
  },
  "language_info": {
   "codemirror_mode": {
    "name": "ipython",
    "version": 3
   },
   "file_extension": ".py",
   "mimetype": "text/x-python",
   "name": "python",
   "nbconvert_exporter": "python",
   "pygments_lexer": "ipython3",
   "version": "3.6.4"
  }
 },
 "nbformat": 4,
 "nbformat_minor": 2
}
