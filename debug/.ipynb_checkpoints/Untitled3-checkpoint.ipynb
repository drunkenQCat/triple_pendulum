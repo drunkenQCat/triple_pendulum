{
 "cells": [
  {
   "cell_type": "code",
   "execution_count": 27,
   "metadata": {},
   "outputs": [],
   "source": [
    "#coding: utf-8\n",
    "\n",
    "from __future__ import division, print_function\n",
    "import sympy as sm\n",
    "from sympy import trigsimp\n",
    "from sympy import latex\n",
    "import sympy.physics.mechanics as me\n",
    "import mpmath as mp\n",
    "import symbtools as st\n",
    "import numpy as np\n",
    "from sympy import cos , sin , tan\n",
    "import symbtools.modeltools as mt\n",
    "import symbtools.noncommutativetools as nct\n",
    "from scipy.integrate import odeint\n",
    "import pytrajectory as pytr\n",
    "#import pycartan as pc\n",
    "from sympy.solvers import solve\n",
    "\n",
    "from sympy.physics.vector import init_vprinting, vlatex\n",
    "init_vprinting(use_latex='mathjax', pretty_print=False)\n",
    "\n",
    "import ipydex\n",
    "\n",
    "\n",
    "def cart_pen(x, u):\n",
    "    q1, q2, q3, q4 = x\n",
    "    f, = u\n",
    "    \n",
    "    J = 0.01980\n",
    "    m0 = 3.34\n",
    "    m1 = 0.8512\n",
    "    l = 0.2\n",
    "    g = 9.81\n",
    "\n",
    "    alpha = (-m1 * l /\n",
    "             (m0 + m1)) * cos(q1) + (J + m1 * l**2) / (m1 * l * cos(q1))\n",
    "\n",
    "    beta = (-m1 * l / (m0 + m1) * sin(q1)) * q4**2 + g * tan(q1)\n",
    "\n",
    "    gamma = (J + m1 * l**2) / (m1 * l * cos(q1))\n",
    "\n",
    "    fx = np.array([[q3],[q4],[g * tan(q1) - gamma * beta / alpha], [beta / alpha]])\n",
    "    gx= np.array([[0.0],[0.0], [gamma*(1/(m0+m1))* 1/alpha *f], [-1/(m0+m1)* (1/alpha)*f]])\n",
    "\n",
    "    xdot=fx+gx\n",
    "    #np.array(xdot).astype(np.float64)\n",
    "    return  xdot\n",
    "\n",
    "\n",
    "\n",
    "#  boundary values at the start (a = 0.0 [s])\n",
    "xa = [  0.0,\n",
    "        -np.pi,\n",
    "        0.0,\n",
    "        0.0]\n",
    "\n",
    "# boundary values at the end (b = 2.0 [s])\n",
    "xb = [  0.0,\n",
    "        np.pi,\n",
    "        0.0,\n",
    "        0.0]\n",
    "\n",
    "# ipydex.activate_ips_on_exception()\n",
    "\n",
    "# ipydex.IPS()      \n",
    "\n",
    "# create trajectory object\n",
    "#S = pytr.ControlSystem(cart_pen, a=0.0, b=2.0, xa=xa, xb=xb)\n",
    "\n",
    "# change method parameter to increase performance\n",
    "#S.set_param('use_chains', False)\n",
    "\n",
    "# run iteration\n",
    "#S.solve()"
   ]
  },
  {
   "cell_type": "code",
   "execution_count": 28,
   "metadata": {},
   "outputs": [
    {
     "data": {
      "text/plain": [
       "array([[3.0],\n",
       "       [0.20943951023931953],\n",
       "       [0.273748528769421],\n",
       "       [-0.865453675859943]], dtype=object)"
      ]
     },
     "execution_count": 28,
     "metadata": {},
     "output_type": "execute_result"
    }
   ],
   "source": [
    "xt=[  0,\n",
    "        np.pi/3,\n",
    "        3,\n",
    "        np.pi/15]\n",
    "cart_pen(xt, [1.0])\n"
   ]
  },
  {
   "cell_type": "code",
   "execution_count": null,
   "metadata": {},
   "outputs": [],
   "source": []
  }
 ],
 "metadata": {
  "kernelspec": {
   "display_name": "Python 2",
   "language": "python",
   "name": "python2"
  },
  "language_info": {
   "codemirror_mode": {
    "name": "ipython",
    "version": 2
   },
   "file_extension": ".py",
   "mimetype": "text/x-python",
   "name": "python",
   "nbconvert_exporter": "python",
   "pygments_lexer": "ipython2",
   "version": "2.7.15"
  }
 },
 "nbformat": 4,
 "nbformat_minor": 2
}
