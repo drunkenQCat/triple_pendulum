{
 "cells": [
  {
   "cell_type": "code",
   "execution_count": 169,
   "metadata": {},
   "outputs": [
    {
     "ename": "TypeError",
     "evalue": "First entry in each forcelist pair must be a point or frame.",
     "output_type": "error",
     "traceback": [
      "\u001b[1;31m---------------------------------------------------------------------------\u001b[0m",
      "\u001b[1;31mTypeError\u001b[0m                                 Traceback (most recent call last)",
      "\u001b[1;32m<ipython-input-169-c89e108e0750>\u001b[0m in \u001b[0;36m<module>\u001b[1;34m()\u001b[0m\n\u001b[0;32m    114\u001b[0m \u001b[1;31m#Kane's Method --> Equation of motion\u001b[0m\u001b[1;33m\u001b[0m\u001b[1;33m\u001b[0m\u001b[0m\n\u001b[0;32m    115\u001b[0m \u001b[0mKane\u001b[0m \u001b[1;33m=\u001b[0m \u001b[0mme\u001b[0m\u001b[1;33m.\u001b[0m\u001b[0mKanesMethod\u001b[0m\u001b[1;33m(\u001b[0m\u001b[0mIn_frame\u001b[0m\u001b[1;33m,\u001b[0m \u001b[0mq\u001b[0m\u001b[1;33m,\u001b[0m \u001b[0mqdot\u001b[0m\u001b[1;33m,\u001b[0m \u001b[0mkd_eqs\u001b[0m\u001b[1;33m=\u001b[0m\u001b[0mkindiffs\u001b[0m\u001b[1;33m)\u001b[0m\u001b[1;33m\u001b[0m\u001b[0m\n\u001b[1;32m--> 116\u001b[1;33m \u001b[0mfr\u001b[0m\u001b[1;33m,\u001b[0m \u001b[0mfrstar\u001b[0m \u001b[1;33m=\u001b[0m \u001b[0mKane\u001b[0m\u001b[1;33m.\u001b[0m\u001b[0mkanes_equations\u001b[0m\u001b[1;33m(\u001b[0m\u001b[0mrigid_bodies\u001b[0m\u001b[1;33m,\u001b[0m \u001b[0mloads\u001b[0m\u001b[1;33m)\u001b[0m\u001b[1;33m\u001b[0m\u001b[0m\n\u001b[0m\u001b[0;32m    117\u001b[0m \u001b[1;33m\u001b[0m\u001b[0m\n\u001b[0;32m    118\u001b[0m \u001b[0mmass_matrix\u001b[0m \u001b[1;33m=\u001b[0m \u001b[0mtrigsimp\u001b[0m\u001b[1;33m(\u001b[0m\u001b[0mKane\u001b[0m\u001b[1;33m.\u001b[0m\u001b[0mmass_matrix_full\u001b[0m\u001b[1;33m)\u001b[0m\u001b[1;33m\u001b[0m\u001b[0m\n",
      "\u001b[1;32m~\\Anaconda3\\lib\\site-packages\\sympy\\physics\\mechanics\\kane.py\u001b[0m in \u001b[0;36mkanes_equations\u001b[1;34m(self, bodies, loads)\u001b[0m\n\u001b[0;32m    536\u001b[0m             raise AttributeError('Create an instance of KanesMethod with '\n\u001b[0;32m    537\u001b[0m                     'kinematic differential equations to use this method.')\n\u001b[1;32m--> 538\u001b[1;33m         \u001b[0mfr\u001b[0m \u001b[1;33m=\u001b[0m \u001b[0mself\u001b[0m\u001b[1;33m.\u001b[0m\u001b[0m_form_fr\u001b[0m\u001b[1;33m(\u001b[0m\u001b[0mloads\u001b[0m\u001b[1;33m)\u001b[0m\u001b[1;33m\u001b[0m\u001b[0m\n\u001b[0m\u001b[0;32m    539\u001b[0m         \u001b[0mfrstar\u001b[0m \u001b[1;33m=\u001b[0m \u001b[0mself\u001b[0m\u001b[1;33m.\u001b[0m\u001b[0m_form_frstar\u001b[0m\u001b[1;33m(\u001b[0m\u001b[0mbodies\u001b[0m\u001b[1;33m)\u001b[0m\u001b[1;33m\u001b[0m\u001b[0m\n\u001b[0;32m    540\u001b[0m         \u001b[1;32mif\u001b[0m \u001b[0mself\u001b[0m\u001b[1;33m.\u001b[0m\u001b[0m_uaux\u001b[0m\u001b[1;33m:\u001b[0m\u001b[1;33m\u001b[0m\u001b[0m\n",
      "\u001b[1;32m~\\Anaconda3\\lib\\site-packages\\sympy\\physics\\mechanics\\kane.py\u001b[0m in \u001b[0;36m_form_fr\u001b[1;34m(self, fl)\u001b[0m\n\u001b[0;32m    275\u001b[0m         \u001b[0mN\u001b[0m \u001b[1;33m=\u001b[0m \u001b[0mself\u001b[0m\u001b[1;33m.\u001b[0m\u001b[0m_inertial\u001b[0m\u001b[1;33m\u001b[0m\u001b[0m\n\u001b[0;32m    276\u001b[0m         \u001b[1;31m# pull out relevant velocities for constructing partial velocities\u001b[0m\u001b[1;33m\u001b[0m\u001b[1;33m\u001b[0m\u001b[0m\n\u001b[1;32m--> 277\u001b[1;33m         \u001b[0mvel_list\u001b[0m\u001b[1;33m,\u001b[0m \u001b[0mf_list\u001b[0m \u001b[1;33m=\u001b[0m \u001b[0m_f_list_parser\u001b[0m\u001b[1;33m(\u001b[0m\u001b[0mfl\u001b[0m\u001b[1;33m,\u001b[0m \u001b[0mN\u001b[0m\u001b[1;33m)\u001b[0m\u001b[1;33m\u001b[0m\u001b[0m\n\u001b[0m\u001b[0;32m    278\u001b[0m         \u001b[0mvel_list\u001b[0m \u001b[1;33m=\u001b[0m \u001b[1;33m[\u001b[0m\u001b[0mmsubs\u001b[0m\u001b[1;33m(\u001b[0m\u001b[0mi\u001b[0m\u001b[1;33m,\u001b[0m \u001b[0mself\u001b[0m\u001b[1;33m.\u001b[0m\u001b[0m_qdot_u_map\u001b[0m\u001b[1;33m)\u001b[0m \u001b[1;32mfor\u001b[0m \u001b[0mi\u001b[0m \u001b[1;32min\u001b[0m \u001b[0mvel_list\u001b[0m\u001b[1;33m]\u001b[0m\u001b[1;33m\u001b[0m\u001b[0m\n\u001b[0;32m    279\u001b[0m \u001b[1;33m\u001b[0m\u001b[0m\n",
      "\u001b[1;32m~\\Anaconda3\\lib\\site-packages\\sympy\\physics\\mechanics\\functions.py\u001b[0m in \u001b[0;36m_f_list_parser\u001b[1;34m(fl, ref_frame)\u001b[0m\n\u001b[0;32m    583\u001b[0m     \u001b[1;32melse\u001b[0m\u001b[1;33m:\u001b[0m\u001b[1;33m\u001b[0m\u001b[0m\n\u001b[0;32m    584\u001b[0m         \u001b[0munzip\u001b[0m \u001b[1;33m=\u001b[0m \u001b[1;32mlambda\u001b[0m \u001b[0ml\u001b[0m\u001b[1;33m:\u001b[0m \u001b[0mlist\u001b[0m\u001b[1;33m(\u001b[0m\u001b[0mzip\u001b[0m\u001b[1;33m(\u001b[0m\u001b[1;33m*\u001b[0m\u001b[0ml\u001b[0m\u001b[1;33m)\u001b[0m\u001b[1;33m)\u001b[0m \u001b[1;32mif\u001b[0m \u001b[0ml\u001b[0m\u001b[1;33m[\u001b[0m\u001b[1;36m0\u001b[0m\u001b[1;33m]\u001b[0m \u001b[1;32melse\u001b[0m \u001b[1;33m[\u001b[0m\u001b[1;33m(\u001b[0m\u001b[1;33m)\u001b[0m\u001b[1;33m,\u001b[0m \u001b[1;33m(\u001b[0m\u001b[1;33m)\u001b[0m\u001b[1;33m]\u001b[0m\u001b[1;33m\u001b[0m\u001b[0m\n\u001b[1;32m--> 585\u001b[1;33m         \u001b[0mvel_list\u001b[0m\u001b[1;33m,\u001b[0m \u001b[0mf_list\u001b[0m \u001b[1;33m=\u001b[0m \u001b[0munzip\u001b[0m\u001b[1;33m(\u001b[0m\u001b[0mlist\u001b[0m\u001b[1;33m(\u001b[0m\u001b[0mflist_iter\u001b[0m\u001b[1;33m(\u001b[0m\u001b[1;33m)\u001b[0m\u001b[1;33m)\u001b[0m\u001b[1;33m)\u001b[0m\u001b[1;33m\u001b[0m\u001b[0m\n\u001b[0m\u001b[0;32m    586\u001b[0m     \u001b[1;32mreturn\u001b[0m \u001b[0mvel_list\u001b[0m\u001b[1;33m,\u001b[0m \u001b[0mf_list\u001b[0m\u001b[1;33m\u001b[0m\u001b[0m\n",
      "\u001b[1;32m~\\Anaconda3\\lib\\site-packages\\sympy\\physics\\mechanics\\functions.py\u001b[0m in \u001b[0;36mflist_iter\u001b[1;34m()\u001b[0m\n\u001b[0;32m    576\u001b[0m                 \u001b[1;32myield\u001b[0m \u001b[0mobj\u001b[0m\u001b[1;33m.\u001b[0m\u001b[0mvel\u001b[0m\u001b[1;33m(\u001b[0m\u001b[0mref_frame\u001b[0m\u001b[1;33m)\u001b[0m\u001b[1;33m,\u001b[0m \u001b[0mforce\u001b[0m\u001b[1;33m\u001b[0m\u001b[0m\n\u001b[0;32m    577\u001b[0m             \u001b[1;32melse\u001b[0m\u001b[1;33m:\u001b[0m\u001b[1;33m\u001b[0m\u001b[0m\n\u001b[1;32m--> 578\u001b[1;33m                 raise TypeError('First entry in each forcelist pair must '\n\u001b[0m\u001b[0;32m    579\u001b[0m                                 'be a point or frame.')\n\u001b[0;32m    580\u001b[0m \u001b[1;33m\u001b[0m\u001b[0m\n",
      "\u001b[1;31mTypeError\u001b[0m: First entry in each forcelist pair must be a point or frame."
     ]
    }
   ],
   "source": [
    "#imports\n",
    "from __future__ import division, print_function\n",
    "import sympy as sm\n",
    "from sympy import trigsimp\n",
    "import sympy.physics.mechanics as me\n",
    "import mpmath as mp\n",
    "\n",
    "from sympy.physics.vector import init_vprinting, vlatex\n",
    "init_vprinting(use_latex='mathjax', pretty_print=False)\n",
    "\n",
    "# Defining symbolic Variables\n",
    "\n",
    "n = 1\n",
    "q = me.dynamicsymbols('q:{}'.format(n + 1))  # generalized coordinates\n",
    "qdot = me.dynamicsymbols('qdot:{}'.format(n + 1))  #generalized speeds\n",
    "f = me.dynamicsymbols('f')\n",
    "m = sm.symbols('m:{}'.format(n + 1))\n",
    "J = sm.symbols('J:{}'.format(n + 1))\n",
    "l = sm.symbols('l:{}'.format(n))  # lenght of each pendlum\n",
    "a = sm.symbols('a:{}'.format(n))  #location of Mass-centers\n",
    "d = sm.symbols('d1:{}'.format(n + 1))  #viscous damping coef.\n",
    "g, t = sm.symbols('g t')\n",
    "\n",
    "# intertial reference frame\n",
    "In_frame = me.ReferenceFrame('In_frame')\n",
    "\n",
    "# Origninal Point O in Reference Frame :\n",
    "O = me.Point('O')\n",
    "O.set_vel(In_frame, 0)\n",
    "\n",
    "# The Center of Mass Point on cart :\n",
    "C0 = me.Point('C0')\n",
    "C0.set_pos(O, q[0] * In_frame.x)\n",
    "C0.set_vel(In_frame, qdot[0] * In_frame.x)\n",
    "\n",
    "cart_inertia_dyadic = me.inertia(In_frame, 0, 0, J[0])\n",
    "cart_central_inertia = (cart_inertia_dyadic, C0)\n",
    "\n",
    "cart = me.RigidBody('Cart', C0, In_frame, m[0], cart_central_inertia)\n",
    "\n",
    "kindiffs = [q[0].diff(t) - qdot[0]]  # entforcing qdot=Omega\n",
    "\n",
    "frames = [In_frame]\n",
    "mass_centers = [C0]\n",
    "joint_centers = [C0]\n",
    "central_intertias = [cart_central_intertia]\n",
    "forces = [(C0, f * In_frame.x - m[0] * g * In_frame.y)]\n",
    "\n",
    "#adding torques :\n",
    "if n == 1:\n",
    "    torqueVector = (-d[0] * qdot[1]) *(-1)* In_frame.z\n",
    "elif n >= 2:\n",
    "    torqueVector = (-d[0] * qdot[1] - d[1] * (qdot[1] - qdot[2])) *(-1)* In_frame.z\n",
    "\n",
    "torques = [(In_frame, torqueVector)]\n",
    "\n",
    "# cart_potential = 1 / 2 * d[0] * qdot[1]**2\n",
    "# potentials = [cart_potential]\n",
    "# cart.potential_energy= cart_potential\n",
    "\n",
    "\n",
    "rigid_bodies = [cart]\n",
    "# Lagrangian0 = me.Lagrangian(In_frame, rigid_bodies[0])\n",
    "# Lagrangians=[Lagrangian0]\n",
    "\n",
    "\n",
    "for i in range(n):\n",
    "    #Creating new reference frame\n",
    "    Li = In_frame.orientnew('L' + str(i), 'Axis', [sm.pi/2 - q[i + 1], In_frame.z])\n",
    "    Li.set_ang_vel(In_frame, -qdot[i + 1] * In_frame.z)\n",
    "    frames.append(Li)\n",
    "\n",
    "    # Creating new mass point centers\n",
    "    Pi = mass_centers[-1].locatenew('a' + str(i + 1), a[i] * Li.x)\n",
    "    Pi.v2pt_theory(joint_centers[-1], In_frame, Li)\n",
    "    mass_centers.append(Pi)\n",
    "\n",
    "    #Creating new joint Points\n",
    "    Jointi = joint_centers[-1].locatenew('jont' + str(i + 1), l[i] * Li.x)\n",
    "    Jointi.v2pt_theory(joint_centers[-1], In_frame, Li)\n",
    "    joint_centers.append(Jointi)\n",
    "\n",
    "    #adding forces\n",
    "    forces.append((Pi, -m[i + 1] * g * In_frame.y))\n",
    "    \n",
    "    \n",
    "    #adding torques\n",
    "    if i==0 and n==1 :\n",
    "        pass\n",
    "    elif i==0 and n!=1 :\n",
    "        torqueVectori= -d[0] * qdot[1] *(-1)* In_frame.z\n",
    "        torques.append((Li, torqueVectori))\n",
    "    else:\n",
    "        torqueVectori = -d[i] * (qdot[i+1]-qdot[i]) *(-1)* In_frame.z\n",
    "        torques.append((Li, torqueVectori))\n",
    "    \n",
    "    #adding cential inertias \n",
    "    IDi = me.inertia(frames[i + 1], 0, 0, J[i + 1])\n",
    "    ICi = (IDi, mass_centers[i + 1])\n",
    "    central_intertias.append(ICi)\n",
    "\n",
    "    LBodyi = me.RigidBody('L' + str(i + 1) + '_Body', mass_centers[i + 1],\n",
    "                          frames[i + 1], m[i + 1], central_intertias[i + 1])\n",
    "    rigid_bodies.append(LBodyi)\n",
    "\n",
    "    kindiffs.append(q[i + 1].diff(t) - qdot[i + 1])\n",
    "    \n",
    "  \n",
    "   \n",
    "#generalized force\n",
    "torques.append((frames[1].z, d[0]*qdot[1]*frames[1].z))\n",
    "loads = torques + forces\n",
    "#loads=forces\n",
    "#Kane's Method --> Equation of motion\n",
    "Kane = me.KanesMethod(In_frame, q, qdot, kd_eqs=kindiffs)\n",
    "fr, frstar = Kane.kanes_equations(rigid_bodies, loads)\n",
    "\n",
    "mass_matrix = trigsimp(Kane.mass_matrix_full)\n",
    "forcing_vector = trigsimp(Kane.forcing_full)\n",
    "\n"
   ]
  },
  {
   "cell_type": "code",
   "execution_count": 166,
   "metadata": {},
   "outputs": [],
   "source": [
    "torques+=[(frames[1].z, d[0]*qdot[1]*frames[1].z)]"
   ]
  },
  {
   "cell_type": "code",
   "execution_count": 167,
   "metadata": {},
   "outputs": [
    {
     "data": {
      "text/plain": [
       "[(In_frame, d1*qdot1*In_frame.z), L0.z, d1*qdot1*L0.z, (L0.z, d1*qdot1*L0.z)]"
      ]
     },
     "execution_count": 167,
     "metadata": {},
     "output_type": "execute_result"
    }
   ],
   "source": [
    "torques"
   ]
  },
  {
   "cell_type": "code",
   "execution_count": 154,
   "metadata": {},
   "outputs": [
    {
     "data": {
      "text/plain": [
       "[(In_frame, d1*qdot1*In_frame.z),\n",
       " (C0, f*In_frame.x - g*m0*In_frame.y),\n",
       " (a1, - g*m1*In_frame.y)]"
      ]
     },
     "execution_count": 154,
     "metadata": {},
     "output_type": "execute_result"
    }
   ],
   "source": [
    "loads"
   ]
  },
  {
   "cell_type": "code",
   "execution_count": 147,
   "metadata": {},
   "outputs": [],
   "source": [
    "qq=sm.Matrix([q, qdot])\n",
    "equilib_point = sm.Matrix([1. ,sm.pi/6 , 1, 1])\n",
    "\n",
    "parameter_values = [(g, 9.81), (a[0], 0.2), (d, 110.0), (m[0], 3.34),\n",
    "                    (m[1], 0.8512), (J[0], 0), (J[1], 0.01980)]\n",
    "\n",
    "parameters = list(map(lambda a,b :(a,b),qq, equilib_point)) + parameter_values\n",
    "param_dict=dict(parameters)\n"
   ]
  },
  {
   "cell_type": "code",
   "execution_count": 148,
   "metadata": {},
   "outputs": [],
   "source": [
    "xdot_expr=(mass_matrix.inv()*forcing_vector).expand()"
   ]
  },
  {
   "cell_type": "code",
   "execution_count": 153,
   "metadata": {},
   "outputs": [
    {
     "data": {
      "text/latex": [
       "$$\\left[\\begin{matrix}\\dot{q}_{0}\\\\\\dot{q}_{1}\\\\\\frac{J_{1} a_{0} m_{1} \\dot{q}^{2}_{1} \\operatorname{sin}\\left(q_{1}\\right) + J_{1} f + a_{0}^{3} m_{1}^{2} \\dot{q}^{2}_{1} \\operatorname{sin}\\left(q_{1}\\right) - \\frac{a_{0}^{2} g}{2} m_{1}^{2} \\operatorname{sin}\\left(2 q_{1}\\right) + a_{0}^{2} m_{1} f}{J_{1} m_{0} + J_{1} m_{1} + a_{0}^{2} m_{0} m_{1} + a_{0}^{2} m_{1}^{2} \\operatorname{sin}^{2}\\left(q_{1}\\right)}\\\\\\frac{a_{0} m_{1} \\left(- \\frac{a_{0} m_{1}}{2} \\dot{q}^{2}_{1} \\operatorname{sin}\\left(2 q_{1}\\right) + g m_{0} \\operatorname{sin}\\left(q_{1}\\right) + g m_{1} \\operatorname{sin}\\left(q_{1}\\right) - f \\operatorname{cos}\\left(q_{1}\\right)\\right)}{J_{1} m_{0} + J_{1} m_{1} + a_{0}^{2} m_{0} m_{1} + a_{0}^{2} m_{1}^{2} \\operatorname{sin}^{2}\\left(q_{1}\\right)}\\end{matrix}\\right]$$"
      ],
      "text/plain": [
       "Matrix([\n",
       "[                                                                                                                                                            qdot0],\n",
       "[                                                                                                                                                            qdot1],\n",
       "[(J1*a0*m1*qdot1**2*sin(q1) + J1*f + a0**3*m1**2*qdot1**2*sin(q1) - a0**2*g*m1**2*sin(2*q1)/2 + a0**2*m1*f)/(J1*m0 + J1*m1 + a0**2*m0*m1 + a0**2*m1**2*sin(q1)**2)],\n",
       "[                             a0*m1*(-a0*m1*qdot1**2*sin(2*q1)/2 + g*m0*sin(q1) + g*m1*sin(q1) - f*cos(q1))/(J1*m0 + J1*m1 + a0**2*m0*m1 + a0**2*m1**2*sin(q1)**2)]])"
      ]
     },
     "execution_count": 153,
     "metadata": {},
     "output_type": "execute_result"
    }
   ],
   "source": [
    "xdot_expr.simplify()"
   ]
  },
  {
   "cell_type": "code",
   "execution_count": 150,
   "metadata": {},
   "outputs": [],
   "source": [
    "collected_qdd0=xdot_expr[2].collect(f, evaluate=False)\n",
    "collected_qdd1=xdot_expr[3].collect(f, evaluate=False)"
   ]
  },
  {
   "cell_type": "code",
   "execution_count": 151,
   "metadata": {},
   "outputs": [],
   "source": [
    "fx=sm.Matrix([[qdot[0]],\n",
    "              [qdot[1]],\n",
    "              [collected_qdd0[1]],\n",
    "              [collected_qdd1[1]]])\n",
    "\n",
    "gx=sm.Matrix([[0.0],\n",
    "              [0.0],\n",
    "              [collected_qdd0[f]],\n",
    "              [collected_qdd1[f]]])\n",
    "\n",
    "xx=sm.Matrix([q[0], q[1], qdot[0], qdot[1]])"
   ]
  },
  {
   "cell_type": "code",
   "execution_count": 152,
   "metadata": {},
   "outputs": [
    {
     "data": {
      "text/latex": [
       "$$\\left[\\begin{matrix}1.0\\\\1.0\\\\-0.581149583148141\\\\17.0982643938759\\end{matrix}\\right]$$"
      ],
      "text/plain": [
       "Matrix([\n",
       "[               1.0],\n",
       "[               1.0],\n",
       "[-0.581149583148141],\n",
       "[  17.0982643938759]])"
      ]
     },
     "execution_count": 152,
     "metadata": {},
     "output_type": "execute_result"
    }
   ],
   "source": [
    "fx.subs(param_dict).evalf()"
   ]
  },
  {
   "cell_type": "code",
   "execution_count": 145,
   "metadata": {},
   "outputs": [
    {
     "data": {
      "text/latex": [
       "$$\\left[\\begin{matrix}0.0\\\\0.0\\\\0.264023561869032\\\\- 0.417354137317858 \\sqrt{3}\\end{matrix}\\right]$$"
      ],
      "text/plain": [
       "Matrix([\n",
       "[                       0.0],\n",
       "[                       0.0],\n",
       "[         0.264023561869032],\n",
       "[-0.417354137317858*sqrt(3)]])"
      ]
     },
     "execution_count": 145,
     "metadata": {},
     "output_type": "execute_result"
    }
   ],
   "source": [
    "gx.subs(param_dict)"
   ]
  },
  {
   "cell_type": "code",
   "execution_count": null,
   "metadata": {},
   "outputs": [],
   "source": [
    "xx"
   ]
  },
  {
   "cell_type": "code",
   "execution_count": 63,
   "metadata": {
    "collapsed": true
   },
   "outputs": [],
   "source": [
    "gx_lin=gx.jacobian(xx)\n",
    "fx_lin=fx.jacobian(xx)"
   ]
  },
  {
   "cell_type": "code",
   "execution_count": 64,
   "metadata": {},
   "outputs": [
    {
     "data": {
      "text/latex": [
       "$$\\left[\\begin{matrix}\\dot{q}_{0}\\\\\\dot{q}_{1}\\\\\\left(\\frac{2 J_{1} a_{0} m_{1} \\dot{q}_{1} \\operatorname{sin}\\left(q_{1}\\right)}{J_{1} m_{0} + J_{1} m_{1} + a_{0}^{2} m_{0} m_{1} - a_{0}^{2} m_{1}^{2} \\operatorname{cos}^{2}\\left(q_{1}\\right) + a_{0}^{2} m_{1}^{2}} + \\frac{2 a_{0}^{3} m_{1}^{2} \\dot{q}_{1} \\operatorname{sin}\\left(q_{1}\\right)}{J_{1} m_{0} + J_{1} m_{1} + a_{0}^{2} m_{0} m_{1} - a_{0}^{2} m_{1}^{2} \\operatorname{cos}^{2}\\left(q_{1}\\right) + a_{0}^{2} m_{1}^{2}}\\right) \\dot{q}_{1} + \\left(- \\frac{2 J_{1} a_{0}^{3} m_{1}^{3} \\dot{q}^{2}_{1} \\operatorname{sin}^{2}\\left(q_{1}\\right) \\operatorname{cos}\\left(q_{1}\\right)}{\\left(J_{1} m_{0} + J_{1} m_{1} + a_{0}^{2} m_{0} m_{1} - a_{0}^{2} m_{1}^{2} \\operatorname{cos}^{2}\\left(q_{1}\\right) + a_{0}^{2} m_{1}^{2}\\right)^{2}} + \\frac{J_{1} a_{0} m_{1} \\dot{q}^{2}_{1} \\operatorname{cos}\\left(q_{1}\\right)}{J_{1} m_{0} + J_{1} m_{1} + a_{0}^{2} m_{0} m_{1} - a_{0}^{2} m_{1}^{2} \\operatorname{cos}^{2}\\left(q_{1}\\right) + a_{0}^{2} m_{1}^{2}} - \\frac{2 a_{0}^{5} m_{1}^{4} \\dot{q}^{2}_{1} \\operatorname{sin}^{2}\\left(q_{1}\\right) \\operatorname{cos}\\left(q_{1}\\right)}{\\left(J_{1} m_{0} + J_{1} m_{1} + a_{0}^{2} m_{0} m_{1} - a_{0}^{2} m_{1}^{2} \\operatorname{cos}^{2}\\left(q_{1}\\right) + a_{0}^{2} m_{1}^{2}\\right)^{2}} + \\frac{2 a_{0}^{4} g m_{1}^{4} \\operatorname{sin}^{2}\\left(q_{1}\\right) \\operatorname{cos}^{2}\\left(q_{1}\\right)}{\\left(J_{1} m_{0} + J_{1} m_{1} + a_{0}^{2} m_{0} m_{1} - a_{0}^{2} m_{1}^{2} \\operatorname{cos}^{2}\\left(q_{1}\\right) + a_{0}^{2} m_{1}^{2}\\right)^{2}} + \\frac{a_{0}^{3} m_{1}^{2} \\dot{q}^{2}_{1} \\operatorname{cos}\\left(q_{1}\\right)}{J_{1} m_{0} + J_{1} m_{1} + a_{0}^{2} m_{0} m_{1} - a_{0}^{2} m_{1}^{2} \\operatorname{cos}^{2}\\left(q_{1}\\right) + a_{0}^{2} m_{1}^{2}} + \\frac{a_{0}^{2} g m_{1}^{2} \\operatorname{sin}^{2}\\left(q_{1}\\right)}{J_{1} m_{0} + J_{1} m_{1} + a_{0}^{2} m_{0} m_{1} - a_{0}^{2} m_{1}^{2} \\operatorname{cos}^{2}\\left(q_{1}\\right) + a_{0}^{2} m_{1}^{2}} - \\frac{a_{0}^{2} g m_{1}^{2} \\operatorname{cos}^{2}\\left(q_{1}\\right)}{J_{1} m_{0} + J_{1} m_{1} + a_{0}^{2} m_{0} m_{1} - a_{0}^{2} m_{1}^{2} \\operatorname{cos}^{2}\\left(q_{1}\\right) + a_{0}^{2} m_{1}^{2}}\\right) q_{1}\\\\- \\frac{2 a_{0}^{2} m_{1}^{2} \\dot{q}^{2}_{1} \\operatorname{sin}\\left(q_{1}\\right) \\operatorname{cos}\\left(q_{1}\\right)}{J_{1} m_{0} + J_{1} m_{1} + a_{0}^{2} m_{0} m_{1} - a_{0}^{2} m_{1}^{2} \\operatorname{cos}^{2}\\left(q_{1}\\right) + a_{0}^{2} m_{1}^{2}} + \\left(\\frac{2 a_{0}^{4} m_{1}^{4} \\dot{q}^{2}_{1} \\operatorname{sin}^{2}\\left(q_{1}\\right) \\operatorname{cos}^{2}\\left(q_{1}\\right)}{\\left(J_{1} m_{0} + J_{1} m_{1} + a_{0}^{2} m_{0} m_{1} - a_{0}^{2} m_{1}^{2} \\operatorname{cos}^{2}\\left(q_{1}\\right) + a_{0}^{2} m_{1}^{2}\\right)^{2}} - \\frac{2 a_{0}^{3} g m_{0} m_{1}^{3} \\operatorname{sin}^{2}\\left(q_{1}\\right) \\operatorname{cos}\\left(q_{1}\\right)}{\\left(J_{1} m_{0} + J_{1} m_{1} + a_{0}^{2} m_{0} m_{1} - a_{0}^{2} m_{1}^{2} \\operatorname{cos}^{2}\\left(q_{1}\\right) + a_{0}^{2} m_{1}^{2}\\right)^{2}} - \\frac{2 a_{0}^{3} g m_{1}^{4} \\operatorname{sin}^{2}\\left(q_{1}\\right) \\operatorname{cos}\\left(q_{1}\\right)}{\\left(J_{1} m_{0} + J_{1} m_{1} + a_{0}^{2} m_{0} m_{1} - a_{0}^{2} m_{1}^{2} \\operatorname{cos}^{2}\\left(q_{1}\\right) + a_{0}^{2} m_{1}^{2}\\right)^{2}} + \\frac{a_{0}^{2} m_{1}^{2} \\dot{q}^{2}_{1} \\operatorname{sin}^{2}\\left(q_{1}\\right)}{J_{1} m_{0} + J_{1} m_{1} + a_{0}^{2} m_{0} m_{1} - a_{0}^{2} m_{1}^{2} \\operatorname{cos}^{2}\\left(q_{1}\\right) + a_{0}^{2} m_{1}^{2}} - \\frac{a_{0}^{2} m_{1}^{2} \\dot{q}^{2}_{1} \\operatorname{cos}^{2}\\left(q_{1}\\right)}{J_{1} m_{0} + J_{1} m_{1} + a_{0}^{2} m_{0} m_{1} - a_{0}^{2} m_{1}^{2} \\operatorname{cos}^{2}\\left(q_{1}\\right) + a_{0}^{2} m_{1}^{2}} + \\frac{a_{0} g m_{0} m_{1} \\operatorname{cos}\\left(q_{1}\\right)}{J_{1} m_{0} + J_{1} m_{1} + a_{0}^{2} m_{0} m_{1} - a_{0}^{2} m_{1}^{2} \\operatorname{cos}^{2}\\left(q_{1}\\right) + a_{0}^{2} m_{1}^{2}} + \\frac{a_{0} g m_{1}^{2} \\operatorname{cos}\\left(q_{1}\\right)}{J_{1} m_{0} + J_{1} m_{1} + a_{0}^{2} m_{0} m_{1} - a_{0}^{2} m_{1}^{2} \\operatorname{cos}^{2}\\left(q_{1}\\right) + a_{0}^{2} m_{1}^{2}}\\right) q_{1}\\end{matrix}\\right]$$"
      ],
      "text/plain": [
       "Matrix([\n",
       "[                                                                                                                                                                                                                                                                                                                                                                                                                                                                                                                                                                                                                                                                                                                                                                                                                                                                                                                                                                         qdot0],\n",
       "[                                                                                                                                                                                                                                                                                                                                                                                                                                                                                                                                                                                                                                                                                                                                                                                                                                                                                                                                                                         qdot1],\n",
       "[(2*J1*a0*m1*qdot1*sin(q1)/(J1*m0 + J1*m1 + a0**2*m0*m1 - a0**2*m1**2*cos(q1)**2 + a0**2*m1**2) + 2*a0**3*m1**2*qdot1*sin(q1)/(J1*m0 + J1*m1 + a0**2*m0*m1 - a0**2*m1**2*cos(q1)**2 + a0**2*m1**2))*qdot1 + (-2*J1*a0**3*m1**3*qdot1**2*sin(q1)**2*cos(q1)/(J1*m0 + J1*m1 + a0**2*m0*m1 - a0**2*m1**2*cos(q1)**2 + a0**2*m1**2)**2 + J1*a0*m1*qdot1**2*cos(q1)/(J1*m0 + J1*m1 + a0**2*m0*m1 - a0**2*m1**2*cos(q1)**2 + a0**2*m1**2) - 2*a0**5*m1**4*qdot1**2*sin(q1)**2*cos(q1)/(J1*m0 + J1*m1 + a0**2*m0*m1 - a0**2*m1**2*cos(q1)**2 + a0**2*m1**2)**2 + 2*a0**4*g*m1**4*sin(q1)**2*cos(q1)**2/(J1*m0 + J1*m1 + a0**2*m0*m1 - a0**2*m1**2*cos(q1)**2 + a0**2*m1**2)**2 + a0**3*m1**2*qdot1**2*cos(q1)/(J1*m0 + J1*m1 + a0**2*m0*m1 - a0**2*m1**2*cos(q1)**2 + a0**2*m1**2) + a0**2*g*m1**2*sin(q1)**2/(J1*m0 + J1*m1 + a0**2*m0*m1 - a0**2*m1**2*cos(q1)**2 + a0**2*m1**2) - a0**2*g*m1**2*cos(q1)**2/(J1*m0 + J1*m1 + a0**2*m0*m1 - a0**2*m1**2*cos(q1)**2 + a0**2*m1**2))*q1],\n",
       "[                                                                                                       -2*a0**2*m1**2*qdot1**2*sin(q1)*cos(q1)/(J1*m0 + J1*m1 + a0**2*m0*m1 - a0**2*m1**2*cos(q1)**2 + a0**2*m1**2) + (2*a0**4*m1**4*qdot1**2*sin(q1)**2*cos(q1)**2/(J1*m0 + J1*m1 + a0**2*m0*m1 - a0**2*m1**2*cos(q1)**2 + a0**2*m1**2)**2 - 2*a0**3*g*m0*m1**3*sin(q1)**2*cos(q1)/(J1*m0 + J1*m1 + a0**2*m0*m1 - a0**2*m1**2*cos(q1)**2 + a0**2*m1**2)**2 - 2*a0**3*g*m1**4*sin(q1)**2*cos(q1)/(J1*m0 + J1*m1 + a0**2*m0*m1 - a0**2*m1**2*cos(q1)**2 + a0**2*m1**2)**2 + a0**2*m1**2*qdot1**2*sin(q1)**2/(J1*m0 + J1*m1 + a0**2*m0*m1 - a0**2*m1**2*cos(q1)**2 + a0**2*m1**2) - a0**2*m1**2*qdot1**2*cos(q1)**2/(J1*m0 + J1*m1 + a0**2*m0*m1 - a0**2*m1**2*cos(q1)**2 + a0**2*m1**2) + a0*g*m0*m1*cos(q1)/(J1*m0 + J1*m1 + a0**2*m0*m1 - a0**2*m1**2*cos(q1)**2 + a0**2*m1**2) + a0*g*m1**2*cos(q1)/(J1*m0 + J1*m1 + a0**2*m0*m1 - a0**2*m1**2*cos(q1)**2 + a0**2*m1**2))*q1]])"
      ]
     },
     "execution_count": 64,
     "metadata": {},
     "output_type": "execute_result"
    }
   ],
   "source": [
    "fx_lin*xx"
   ]
  },
  {
   "cell_type": "code",
   "execution_count": 65,
   "metadata": {},
   "outputs": [
    {
     "data": {
      "text/latex": [
       "$$\\left[\\begin{matrix}0\\\\0\\\\\\left(- \\frac{2 J_{1} a_{0}^{2} m_{1}^{2} \\operatorname{sin}\\left(q_{1}\\right) \\operatorname{cos}\\left(q_{1}\\right)}{\\left(J_{1} m_{0} + J_{1} m_{1} + a_{0}^{2} m_{0} m_{1} - a_{0}^{2} m_{1}^{2} \\operatorname{cos}^{2}\\left(q_{1}\\right) + a_{0}^{2} m_{1}^{2}\\right)^{2}} - \\frac{2 a_{0}^{4} m_{1}^{3} \\operatorname{sin}\\left(q_{1}\\right) \\operatorname{cos}\\left(q_{1}\\right)}{\\left(J_{1} m_{0} + J_{1} m_{1} + a_{0}^{2} m_{0} m_{1} - a_{0}^{2} m_{1}^{2} \\operatorname{cos}^{2}\\left(q_{1}\\right) + a_{0}^{2} m_{1}^{2}\\right)^{2}}\\right) q_{1}\\\\\\left(\\frac{2 a_{0}^{3} m_{1}^{3} \\operatorname{sin}\\left(q_{1}\\right) \\operatorname{cos}^{2}\\left(q_{1}\\right)}{\\left(J_{1} m_{0} + J_{1} m_{1} + a_{0}^{2} m_{0} m_{1} - a_{0}^{2} m_{1}^{2} \\operatorname{cos}^{2}\\left(q_{1}\\right) + a_{0}^{2} m_{1}^{2}\\right)^{2}} + \\frac{a_{0} m_{1} \\operatorname{sin}\\left(q_{1}\\right)}{J_{1} m_{0} + J_{1} m_{1} + a_{0}^{2} m_{0} m_{1} - a_{0}^{2} m_{1}^{2} \\operatorname{cos}^{2}\\left(q_{1}\\right) + a_{0}^{2} m_{1}^{2}}\\right) q_{1}\\end{matrix}\\right]$$"
      ],
      "text/plain": [
       "Matrix([\n",
       "[                                                                                                                                                                                                                     0],\n",
       "[                                                                                                                                                                                                                     0],\n",
       "[(-2*J1*a0**2*m1**2*sin(q1)*cos(q1)/(J1*m0 + J1*m1 + a0**2*m0*m1 - a0**2*m1**2*cos(q1)**2 + a0**2*m1**2)**2 - 2*a0**4*m1**3*sin(q1)*cos(q1)/(J1*m0 + J1*m1 + a0**2*m0*m1 - a0**2*m1**2*cos(q1)**2 + a0**2*m1**2)**2)*q1],\n",
       "[                    (2*a0**3*m1**3*sin(q1)*cos(q1)**2/(J1*m0 + J1*m1 + a0**2*m0*m1 - a0**2*m1**2*cos(q1)**2 + a0**2*m1**2)**2 + a0*m1*sin(q1)/(J1*m0 + J1*m1 + a0**2*m0*m1 - a0**2*m1**2*cos(q1)**2 + a0**2*m1**2))*q1]])"
      ]
     },
     "execution_count": 65,
     "metadata": {},
     "output_type": "execute_result"
    }
   ],
   "source": [
    "gx_lin*xx"
   ]
  },
  {
   "cell_type": "code",
   "execution_count": 66,
   "metadata": {},
   "outputs": [
    {
     "data": {
      "text/latex": [
       "$$\\left[\\begin{matrix}\\dot{q}_{0}\\\\\\dot{q}_{1}\\\\- 1.44535471936607 q_{1}\\\\35.5837094678517 q_{1}\\end{matrix}\\right]$$"
      ],
      "text/plain": [
       "Matrix([\n",
       "[               qdot0],\n",
       "[               qdot1],\n",
       "[-1.44535471936607*q1],\n",
       "[ 35.5837094678517*q1]])"
      ]
     },
     "execution_count": 66,
     "metadata": {},
     "output_type": "execute_result"
    }
   ],
   "source": [
    "fx_lin.subs(param_dict)*xx"
   ]
  },
  {
   "cell_type": "code",
   "execution_count": 67,
   "metadata": {},
   "outputs": [
    {
     "data": {
      "text/latex": [
       "$$\\left[\\begin{matrix}0\\\\0\\\\0\\\\0\\end{matrix}\\right]$$"
      ],
      "text/plain": [
       "Matrix([\n",
       "[0],\n",
       "[0],\n",
       "[0],\n",
       "[0]])"
      ]
     },
     "execution_count": 67,
     "metadata": {},
     "output_type": "execute_result"
    }
   ],
   "source": [
    "gx_lin.subs(param_dict)*xx"
   ]
  },
  {
   "cell_type": "code",
   "execution_count": null,
   "metadata": {
    "collapsed": true
   },
   "outputs": [],
   "source": []
  }
 ],
 "metadata": {
  "kernelspec": {
   "display_name": "Python [default]",
   "language": "python",
   "name": "python3"
  },
  "language_info": {
   "codemirror_mode": {
    "name": "ipython",
    "version": 3
   },
   "file_extension": ".py",
   "mimetype": "text/x-python",
   "name": "python",
   "nbconvert_exporter": "python",
   "pygments_lexer": "ipython3",
   "version": "3.6.3"
  }
 },
 "nbformat": 4,
 "nbformat_minor": 2
}
