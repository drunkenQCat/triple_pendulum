{
 "cells": [
  {
   "cell_type": "code",
   "execution_count": 1,
   "metadata": {
    "collapsed": true
   },
   "outputs": [],
   "source": [
    "import sympy as sm\n",
    "\n",
    "y=sm.symbols('y:2')\n",
    "x=sm.symbols('x:2')\n"
   ]
  },
  {
   "cell_type": "code",
   "execution_count": 2,
   "metadata": {
    "collapsed": true
   },
   "outputs": [],
   "source": [
    "xx = sm.Matrix.vstack(sm.Matrix(x), sm.Matrix(y))"
   ]
  },
  {
   "cell_type": "code",
   "execution_count": 3,
   "metadata": {},
   "outputs": [
    {
     "data": {
      "text/plain": [
       "Matrix([\n",
       "[x0],\n",
       "[x1],\n",
       "[y0],\n",
       "[y1]])"
      ]
     },
     "execution_count": 3,
     "metadata": {},
     "output_type": "execute_result"
    }
   ],
   "source": [
    "xx"
   ]
  },
  {
   "cell_type": "code",
   "execution_count": 2,
   "metadata": {
    "collapsed": true
   },
   "outputs": [],
   "source": [
    "import numpy as np"
   ]
  },
  {
   "cell_type": "code",
   "execution_count": 3,
   "metadata": {
    "collapsed": true
   },
   "outputs": [],
   "source": [
    "A=np.identity(4)"
   ]
  },
  {
   "cell_type": "code",
   "execution_count": 4,
   "metadata": {},
   "outputs": [
    {
     "data": {
      "text/plain": [
       "array([[1., 0., 0., 0.],\n",
       "       [0., 1., 0., 0.],\n",
       "       [0., 0., 1., 0.],\n",
       "       [0., 0., 0., 1.]])"
      ]
     },
     "execution_count": 4,
     "metadata": {},
     "output_type": "execute_result"
    }
   ],
   "source": [
    "A"
   ]
  },
  {
   "cell_type": "code",
   "execution_count": 7,
   "metadata": {},
   "outputs": [
    {
     "data": {
      "text/plain": [
       "array([1., 0., 0., 0., 0., 1., 0., 0., 0., 0., 1., 0., 0., 0., 0., 1.])"
      ]
     },
     "execution_count": 7,
     "metadata": {},
     "output_type": "execute_result"
    }
   ],
   "source": [
    "A.reshape(16)"
   ]
  },
  {
   "cell_type": "code",
   "execution_count": 1,
   "metadata": {
    "collapsed": true
   },
   "outputs": [],
   "source": [
    "\n",
    "# riccuti differential equation\n",
    "def riccati_diff_equ(P, t, A_equi, B_equi, Q, R, dynamic_symbs):\n",
    "    '''\n",
    "    it returns riccati differential equation :\n",
    "\n",
    "      P_dot = -P * A - A.T * P + P * b * R**-1 * b.T * P - Q\n",
    "    \n",
    "    =========================================================\n",
    "     INPUTS :\n",
    "    =========================================================\n",
    "    - P\n",
    "    - t\n",
    "    - A_equi  : sympy.Matrix \n",
    "    - B_equi  : sympy.Matrix \n",
    "    - Q\n",
    "    - R\n",
    "    - dynamic_symbs : list containing symbolic variable in A_equi \n",
    "                      and B_equi ---> exmpel :\n",
    "                      dynamic_symb= [q0, q1, qdot0, qdot1, u]\n",
    "                \n",
    "    ===========================================================\n",
    "     OUTPUTS:\n",
    "    =========================================================== \n",
    "    P_dot : numpy.array \n",
    "     \n",
    "    '''\n",
    "    # evaluating A_equi and B_equi at equilibrium point\n",
    "    x0 = config.cs_ret[0](t)\n",
    "    u0 = config.cs_ret[1](t)\n",
    "\n",
    "    equilib_point = np.hstack((x0, u0))\n",
    "    values_dict = dict(zip(dynamic_symbs, equilib_point))\n",
    "\n",
    "    A = A_equi.subs(values_dict)\n",
    "    B = B_equi.subs(values_dict)\n",
    "\n",
    "    # converting sympy.Matrix to numpy.array\n",
    "    A = np.array(A.tolist()).astype(np.float64)\n",
    "    B = np.array(B.tolist()).astype(np.float64)\n",
    "    # logger.debug('A_eq %f:', A)\n",
    "    # logger.debug('B_eq %f:', B)\n",
    "    \n",
    "    P=P.reshape((4,4))\n",
    "    P_dot = -P.dot(A) - (A.T).dot(P) + P.dot(B.dot(np_inv(R) *\n",
    "                                                   (B.T).dot(P))) - Q\n",
    "    # logger.debug('P_dot %f:', P_dot)\n",
    "    print('P_dot ::', P_dot)\n",
    "    ret= P_dot.reshape(16)\n",
    "    return ret \n"
   ]
  },
  {
   "cell_type": "code",
   "execution_count": 5,
   "metadata": {
    "collapsed": true
   },
   "outputs": [],
   "source": [
    "x=[0,1,2,3]"
   ]
  },
  {
   "cell_type": "code",
   "execution_count": 6,
   "metadata": {
    "collapsed": true
   },
   "outputs": [],
   "source": [
    "n=2\n",
    "qdot=x[n::]\n"
   ]
  },
  {
   "cell_type": "code",
   "execution_count": 11,
   "metadata": {},
   "outputs": [],
   "source": [
    "qdot=3"
   ]
  },
  {
   "cell_type": "code",
   "execution_count": 12,
   "metadata": {
    "collapsed": true
   },
   "outputs": [],
   "source": [
    "test= (qdot)"
   ]
  },
  {
   "cell_type": "code",
   "execution_count": 13,
   "metadata": {},
   "outputs": [
    {
     "data": {
      "text/plain": [
       "3"
      ]
     },
     "execution_count": 13,
     "metadata": {},
     "output_type": "execute_result"
    }
   ],
   "source": [
    "test\n"
   ]
  },
  {
   "cell_type": "code",
   "execution_count": 14,
   "metadata": {},
   "outputs": [
    {
     "data": {
      "text/plain": [
       "int"
      ]
     },
     "execution_count": 14,
     "metadata": {},
     "output_type": "execute_result"
    }
   ],
   "source": [
    "type(test)"
   ]
  },
  {
   "cell_type": "code",
   "execution_count": 15,
   "metadata": {
    "collapsed": true
   },
   "outputs": [],
   "source": [
    "import numpy as np\n"
   ]
  },
  {
   "cell_type": "code",
   "execution_count": 16,
   "metadata": {
    "collapsed": true
   },
   "outputs": [],
   "source": [
    "frames_per_sec = 15\n",
    "final_time = 2\n",
    "t = np.linspace(0.0, final_time, final_time * frames_per_sec)"
   ]
  },
  {
   "cell_type": "code",
   "execution_count": 17,
   "metadata": {},
   "outputs": [
    {
     "data": {
      "text/plain": [
       "array([0.        , 0.06896552, 0.13793103, 0.20689655, 0.27586207,\n",
       "       0.34482759, 0.4137931 , 0.48275862, 0.55172414, 0.62068966,\n",
       "       0.68965517, 0.75862069, 0.82758621, 0.89655172, 0.96551724,\n",
       "       1.03448276, 1.10344828, 1.17241379, 1.24137931, 1.31034483,\n",
       "       1.37931034, 1.44827586, 1.51724138, 1.5862069 , 1.65517241,\n",
       "       1.72413793, 1.79310345, 1.86206897, 1.93103448, 2.        ])"
      ]
     },
     "execution_count": 17,
     "metadata": {},
     "output_type": "execute_result"
    }
   ],
   "source": [
    "t"
   ]
  },
  {
   "cell_type": "code",
   "execution_count": 23,
   "metadata": {},
   "outputs": [],
   "source": [
    "fp=np.arange(len(t))\n"
   ]
  },
  {
   "cell_type": "code",
   "execution_count": 26,
   "metadata": {},
   "outputs": [
    {
     "data": {
      "text/plain": [
       "1.4993"
      ]
     },
     "execution_count": 26,
     "metadata": {},
     "output_type": "execute_result"
    }
   ],
   "source": [
    "np.interp(0.1034, t, fp)"
   ]
  },
  {
   "cell_type": "code",
   "execution_count": 25,
   "metadata": {},
   "outputs": [
    {
     "name": "stdout",
     "output_type": "stream",
     "text": [
      "Help on function interp in module numpy.lib.function_base:\n",
      "\n",
      "interp(x, xp, fp, left=None, right=None, period=None)\n",
      "    One-dimensional linear interpolation.\n",
      "    \n",
      "    Returns the one-dimensional piecewise linear interpolant to a function\n",
      "    with given values at discrete data-points.\n",
      "    \n",
      "    Parameters\n",
      "    ----------\n",
      "    x : array_like\n",
      "        The x-coordinates of the interpolated values.\n",
      "    \n",
      "    xp : 1-D sequence of floats\n",
      "        The x-coordinates of the data points, must be increasing if argument\n",
      "        `period` is not specified. Otherwise, `xp` is internally sorted after\n",
      "        normalizing the periodic boundaries with ``xp = xp % period``.\n",
      "    \n",
      "    fp : 1-D sequence of float or complex\n",
      "        The y-coordinates of the data points, same length as `xp`.\n",
      "    \n",
      "    left : optional float or complex corresponding to fp\n",
      "        Value to return for `x < xp[0]`, default is `fp[0]`.\n",
      "    \n",
      "    right : optional float or complex corresponding to fp\n",
      "        Value to return for `x > xp[-1]`, default is `fp[-1]`.\n",
      "    \n",
      "    period : None or float, optional\n",
      "        A period for the x-coordinates. This parameter allows the proper\n",
      "        interpolation of angular x-coordinates. Parameters `left` and `right`\n",
      "        are ignored if `period` is specified.\n",
      "    \n",
      "        .. versionadded:: 1.10.0\n",
      "    \n",
      "    Returns\n",
      "    -------\n",
      "    y : float or complex (corresponding to fp) or ndarray\n",
      "        The interpolated values, same shape as `x`.\n",
      "    \n",
      "    Raises\n",
      "    ------\n",
      "    ValueError\n",
      "        If `xp` and `fp` have different length\n",
      "        If `xp` or `fp` are not 1-D sequences\n",
      "        If `period == 0`\n",
      "    \n",
      "    Notes\n",
      "    -----\n",
      "    Does not check that the x-coordinate sequence `xp` is increasing.\n",
      "    If `xp` is not increasing, the results are nonsense.\n",
      "    A simple check for increasing is::\n",
      "    \n",
      "        np.all(np.diff(xp) > 0)\n",
      "    \n",
      "    Examples\n",
      "    --------\n",
      "    >>> xp = [1, 2, 3]\n",
      "    >>> fp = [3, 2, 0]\n",
      "    >>> np.interp(2.5, xp, fp)\n",
      "    1.0\n",
      "    >>> np.interp([0, 1, 1.5, 2.72, 3.14], xp, fp)\n",
      "    array([ 3. ,  3. ,  2.5 ,  0.56,  0. ])\n",
      "    >>> UNDEF = -99.0\n",
      "    >>> np.interp(3.14, xp, fp, right=UNDEF)\n",
      "    -99.0\n",
      "    \n",
      "    Plot an interpolant to the sine function:\n",
      "    \n",
      "    >>> x = np.linspace(0, 2*np.pi, 10)\n",
      "    >>> y = np.sin(x)\n",
      "    >>> xvals = np.linspace(0, 2*np.pi, 50)\n",
      "    >>> yinterp = np.interp(xvals, x, y)\n",
      "    >>> import matplotlib.pyplot as plt\n",
      "    >>> plt.plot(x, y, 'o')\n",
      "    [<matplotlib.lines.Line2D object at 0x...>]\n",
      "    >>> plt.plot(xvals, yinterp, '-x')\n",
      "    [<matplotlib.lines.Line2D object at 0x...>]\n",
      "    >>> plt.show()\n",
      "    \n",
      "    Interpolation with periodic x-coordinates:\n",
      "    \n",
      "    >>> x = [-180, -170, -185, 185, -10, -5, 0, 365]\n",
      "    >>> xp = [190, -190, 350, -350]\n",
      "    >>> fp = [5, 10, 3, 4]\n",
      "    >>> np.interp(x, xp, fp, period=360)\n",
      "    array([7.5, 5., 8.75, 6.25, 3., 3.25, 3.5, 3.75])\n",
      "    \n",
      "    Complex interpolation\n",
      "    >>> x = [1.5, 4.0]\n",
      "    >>> xp = [2,3,5]\n",
      "    >>> fp = [1.0j, 0, 2+3j]\n",
      "    >>> np.interp(x, xp, fp)\n",
      "    array([ 0.+1.j ,  1.+1.5j])\n",
      "\n"
     ]
    }
   ],
   "source": [
    "help(np.interp)"
   ]
  },
  {
   "cell_type": "code",
   "execution_count": null,
   "metadata": {
    "collapsed": true
   },
   "outputs": [],
   "source": []
  }
 ],
 "metadata": {
  "kernelspec": {
   "display_name": "Python [conda env:py2env]",
   "language": "python",
   "name": "conda-env-py2env-py"
  },
  "language_info": {
   "codemirror_mode": {
    "name": "ipython",
    "version": 2
   },
   "file_extension": ".py",
   "mimetype": "text/x-python",
   "name": "python",
   "nbconvert_exporter": "python",
   "pygments_lexer": "ipython2",
   "version": "2.7.15"
  }
 },
 "nbformat": 4,
 "nbformat_minor": 2
}
