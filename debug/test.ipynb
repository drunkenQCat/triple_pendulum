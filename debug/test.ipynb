{
 "cells": [
  {
   "cell_type": "code",
   "execution_count": 4,
   "metadata": {},
   "outputs": [],
   "source": [
    "import numpy as np\n",
    "import copy"
   ]
  },
  {
   "cell_type": "code",
   "execution_count": null,
   "metadata": {},
   "outputs": [],
   "source": [
    "#z= np.array([1,2,3,4])"
   ]
  },
  {
   "cell_type": "code",
   "execution_count": 42,
   "metadata": {},
   "outputs": [
    {
     "name": "stdout",
     "output_type": "stream",
     "text": [
      "(i,j) (0, 0)\n",
      "9.0\n",
      "9.0\n",
      "(i,j) (1, 1)\n",
      "5.0\n",
      "5.0\n",
      "(i,j) (2, 2)\n",
      "-2.0\n",
      "-2.0\n",
      "(i,j) (3, 3)\n",
      "-33.0\n",
      "-33.0\n",
      "(i,j) (16, 0)\n",
      "-46.0\n",
      "-46.0\n",
      "(i,j) (17, 1)\n",
      "-54.0\n",
      "-54.0\n",
      "(i,j) (18, 2)\n",
      "14.0\n",
      "14.0\n",
      "(i,j) (19, 3)\n",
      "4.0\n",
      "4.0\n"
     ]
    }
   ],
   "source": [
    "n=4\n",
    "k=3\n",
    "x0=[1,6,14,46]\n",
    "xf=[66,75,8,19]\n",
    "u0=uf=[0]\n",
    "def x_boundry_generator(i,j,x):\n",
    "    ''' returns a function for x[i] boundry condition\n",
    "        you cann loop over it and make scalar boundry\n",
    "        conditions for x[i] i = from 0 to n\n",
    "        that's just a trick to turn a vector boundry condition\n",
    "        to scalar boudnry conditions of each elements !\n",
    "    '''\n",
    "    x_boundry_func = lambda z, i=i, j=j : z[i]-x[j]\n",
    "    print( '(i,j)', (i,j))\n",
    "    print(x_boundry_func(z0))\n",
    "    print(z0[i]-x[j])\n",
    "    \n",
    "    return x_boundry_func\n",
    "\n",
    "boundry_x0_tupel= ()\n",
    "for i in range (n) :\n",
    "    boundry_x0_dict = {'type': 'eq', 'fun': x_boundry_generator(i,i,x0)}\n",
    "    boundry_x0_tupel+= (boundry_x0_dict, )\n",
    "    \n",
    "boundry_xf_tupel= ()\n",
    "xf_in_z= np.arange((2*k-1)*n - n, (2*k-1)*n)\n",
    "xf_in_xf=np.arange(0, n)\n",
    "for i,j in  zip(xf_in_z, xf_in_xf) :\n",
    "    boundry_xf_dict = {'type': 'eq', 'fun': x_boundry_generator(i,j,xf)}\n",
    "    boundry_xf_tupel+= (boundry_xf_dict, )\n"
   ]
  },
  {
   "cell_type": "code",
   "execution_count": 31,
   "metadata": {},
   "outputs": [],
   "source": [
    "x00=[10,11,12,13]\n",
    "xff=[20,21,22,23]\n",
    "z0 = np.array(x00 + [0.1 for i in range((2*k-1) * n - 2*n)] + xff+ u0 +\n",
    "                  [1 for i in range(2*k-1 - 2)] + uf)\n"
   ]
  },
  {
   "cell_type": "code",
   "execution_count": 45,
   "metadata": {},
   "outputs": [
    {
     "data": {
      "text/plain": [
       "-33.0"
      ]
     },
     "execution_count": 45,
     "metadata": {},
     "output_type": "execute_result"
    }
   ],
   "source": [
    "boundry_x0_tupel[3]['fun'](z0)"
   ]
  },
  {
   "cell_type": "code",
   "execution_count": 39,
   "metadata": {},
   "outputs": [
    {
     "data": {
      "text/plain": [
       "14.0"
      ]
     },
     "execution_count": 39,
     "metadata": {},
     "output_type": "execute_result"
    }
   ],
   "source": [
    "boundry_xf_tupel[0]['fun'](z0)"
   ]
  },
  {
   "cell_type": "code",
   "execution_count": 34,
   "metadata": {},
   "outputs": [
    {
     "data": {
      "text/plain": [
       "[1, 2, 3, 4]"
      ]
     },
     "execution_count": 34,
     "metadata": {},
     "output_type": "execute_result"
    }
   ],
   "source": [
    "x0"
   ]
  },
  {
   "cell_type": "code",
   "execution_count": 35,
   "metadata": {},
   "outputs": [
    {
     "data": {
      "text/plain": [
       "array([10. , 11. , 12. , 13. ,  0.1,  0.1,  0.1,  0.1,  0.1,  0.1,  0.1,\n",
       "        0.1,  0.1,  0.1,  0.1,  0.1, 20. , 21. , 22. , 23. ,  0. ,  1. ,\n",
       "        1. ,  1. ,  0. ])"
      ]
     },
     "execution_count": 35,
     "metadata": {},
     "output_type": "execute_result"
    }
   ],
   "source": [
    "z0"
   ]
  },
  {
   "cell_type": "code",
   "execution_count": 36,
   "metadata": {},
   "outputs": [
    {
     "data": {
      "text/plain": [
       "20.0"
      ]
     },
     "execution_count": 36,
     "metadata": {},
     "output_type": "execute_result"
    }
   ],
   "source": [
    "z0[16]"
   ]
  },
  {
   "cell_type": "code",
   "execution_count": null,
   "metadata": {},
   "outputs": [],
   "source": []
  }
 ],
 "metadata": {
  "kernelspec": {
   "display_name": "Python 3",
   "language": "python",
   "name": "python3"
  },
  "language_info": {
   "codemirror_mode": {
    "name": "ipython",
    "version": 3
   },
   "file_extension": ".py",
   "mimetype": "text/x-python",
   "name": "python",
   "nbconvert_exporter": "python",
   "pygments_lexer": "ipython3",
   "version": "3.6.4"
  }
 },
 "nbformat": 4,
 "nbformat_minor": 2
}
