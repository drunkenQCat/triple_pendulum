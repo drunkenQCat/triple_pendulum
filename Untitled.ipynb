{
 "cells": [
  {
   "cell_type": "markdown",
   "metadata": {
    "slideshow": {
     "slide_type": "slide"
    }
   },
   "source": [
    "\n",
    "Technische Universität Dresden\n",
    "\n",
    "Fakultät Elektrotechnik und Informationstechnik\n",
    "\n",
    "Institut für Regelungs- und Steuerungstheorie\n",
    "\n",
    "\n",
    "\n",
    "\n",
    "\n",
    "\n",
    "\n",
    "Diplomarbeit\n",
    "\n",
    "Modellbildung, Simulation, Regler- und\n",
    "\n",
    "Steuerungsentwurf für einen\n",
    "Dreifachpendel-Versuchsstand\n",
    "\n",
    "\n",
    "\n",
    "\n",
    "\n",
    "\n",
    "\n",
    "\n",
    "\n",
    "vorgelegt von:\tBolorkhuu Dariimaa\n",
    "\n",
    "geboren am:\t26. Juni 1989 in Choibalsan\n",
    "\n",
    "\n",
    "\n",
    "\n",
    "\n",
    "\n",
    "\n",
    "zum Erlangen des akademischen Grades\n",
    "\n",
    "Diplomingenieur\n",
    "\n",
    "(Dipl.-Ing.)\n",
    " \n",
    "\n",
    "\n",
    "\n",
    "\n",
    "\n",
    "\n",
    "\n",
    "Betreuer:\n",
    "\n",
    "Verantwortlicher Hochschullehrer:\n",
    "\n",
    "Tag der Einreichung:\n",
    " \n",
    "\n",
    "\n",
    "\n",
    "\n",
    "\n",
    "\n",
    "\n",
    "\n",
    "Dr.-Ing. J. Winkler\n",
    "\n",
    "Dr.-Ing. C. Knoll\n",
    "\n",
    "Prof. Dr.-Ing. habil. Dipl.-Math. K. Röbenack\n",
    "\n",
    "26. September 2017\n"
   ]
  }
 ],
 "metadata": {
  "celltoolbar": "Slideshow",
  "kernelspec": {
   "display_name": "Python [conda env:Anaconda3]",
   "language": "python",
   "name": "conda-env-Anaconda3-py"
  },
  "language_info": {
   "codemirror_mode": {
    "name": "ipython",
    "version": 3
   },
   "file_extension": ".py",
   "mimetype": "text/x-python",
   "name": "python",
   "nbconvert_exporter": "python",
   "pygments_lexer": "ipython3",
   "version": "3.6.3"
  }
 },
 "nbformat": 4,
 "nbformat_minor": 2
}
