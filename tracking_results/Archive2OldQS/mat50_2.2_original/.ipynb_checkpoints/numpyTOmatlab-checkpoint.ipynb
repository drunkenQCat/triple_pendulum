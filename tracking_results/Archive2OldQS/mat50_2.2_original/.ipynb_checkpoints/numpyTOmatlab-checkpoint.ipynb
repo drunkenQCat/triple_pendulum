{
 "cells": [
  {
   "cell_type": "code",
   "execution_count": 1,
   "metadata": {},
   "outputs": [],
   "source": [
    "\n",
    "import numpy as np\n",
    "import scipy.io as sio\n"
   ]
  },
  {
   "cell_type": "code",
   "execution_count": 2,
   "metadata": {},
   "outputs": [
    {
     "name": "stdout",
     "output_type": "stream",
     "text": [
      "K_matrix_deviation_None_original_00_t0_0_x0_0_QR_1.01.0_Inverted_triple_Pendulum_mat50_2.2.npy\r\n",
      "Untitled.ipynb\r\n",
      "cart_mat50_2.2_None_original_00_00_1.01.0.png\r\n",
      "deltaU_deviation_None_original_00_t0_0_x0_0_QR_1.01.0_Inverted_triple_Pendulum_mat50_2.2.npy\r\n",
      "deltaX_deviation_None_original_00_t0_0_x0_0_QR_1.01.0_Inverted_triple_Pendulum_mat50_2.2.npy\r\n",
      "gain_mat50_2.2_None_original_00_00_1.01.0.png\r\n",
      "\u001b[1m\u001b[36mmat\u001b[m\u001b[m/\r\n",
      "npContent.mat\r\n",
      "phis_mat50_2.2_None_original_00_00_1.01.0.png\r\n",
      "simulation_time.npy\r\n",
      "u_closed_loop_deviation_None_original_00_t0_0_x0_0_QR_1.01.0_Inverted_triple_Pendulum_mat50_2.2.npy\r\n",
      "x_closed_loop_deviation_None_original_00_t0_0_x0_0_QR_1.01.0_Inverted_triple_Pendulum_mat50_2.2.npy\r\n"
     ]
    }
   ],
   "source": [
    "ls"
   ]
  },
  {
   "cell_type": "code",
   "execution_count": 3,
   "metadata": {},
   "outputs": [],
   "source": [
    "time=np.load('simulation_time.npy')\n",
    "control=np.load('u_closed_loop_deviation_None_original_00_t0_0_x0_0_QR_1.01.0_Inverted_triple_Pendulum_mat50_2.2.npy')\n",
    "state= np.load('x_closed_loop_deviation_None_original_00_t0_0_x0_0_QR_1.01.0_Inverted_triple_Pendulum_mat50_2.2.npy')"
   ]
  },
  {
   "cell_type": "code",
   "execution_count": 4,
   "metadata": {},
   "outputs": [],
   "source": [
    "sio.savemat('npContent.mat', {'time':time.ravel(), 'control':control.ravel(), 'state':state.ravel()})"
   ]
  },
  {
   "cell_type": "code",
   "execution_count": null,
   "metadata": {},
   "outputs": [],
   "source": []
  }
 ],
 "metadata": {
  "kernelspec": {
   "display_name": "Python 3",
   "language": "python",
   "name": "python3"
  },
  "language_info": {
   "codemirror_mode": {
    "name": "ipython",
    "version": 3
   },
   "file_extension": ".py",
   "mimetype": "text/x-python",
   "name": "python",
   "nbconvert_exporter": "python",
   "pygments_lexer": "ipython3",
   "version": "3.6.6"
  }
 },
 "nbformat": 4,
 "nbformat_minor": 2
}
