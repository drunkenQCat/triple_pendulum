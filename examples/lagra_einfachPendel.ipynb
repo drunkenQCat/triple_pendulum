{
 "cells": [
  {
   "cell_type": "code",
   "execution_count": 1,
   "metadata": {
    "collapsed": true
   },
   "outputs": [],
   "source": [
    "-"
   ]
  },
  {
   "cell_type": "code",
   "execution_count": 2,
   "metadata": {
    "collapsed": true
   },
   "outputs": [],
   "source": [
    "params=[m[0],m[1], J[0],J[1], a, d, g]\n",
    "st.make_global(params)"
   ]
  },
  {
   "cell_type": "code",
   "execution_count": 3,
   "metadata": {},
   "outputs": [],
   "source": [
    "mod=mt.generate_symbolic_model(T, V, q, [f, tau])"
   ]
  },
  {
   "cell_type": "code",
   "execution_count": 4,
   "metadata": {
    "collapsed": true
   },
   "outputs": [],
   "source": [
    "mod.MM.simplify()"
   ]
  },
  {
   "cell_type": "code",
   "execution_count": 5,
   "metadata": {
    "scrolled": true
   },
   "outputs": [
    {
     "data": {
      "text/latex": [
       "$$\\left[\\begin{matrix}- f + 1.0 m_{0} \\ddot{q}_{0} - 1.0 m_{1} \\left(a \\ddot{q}_{1} \\operatorname{sin}\\left(q_{1}\\right) + a \\dot{q}_{1}^{2} \\operatorname{cos}\\left(q_{1}\\right) - \\ddot{q}_{0}\\right)\\\\1.0 J_{1} \\ddot{q}_{1} + 1.0 a^{2} m_{1} \\ddot{q}_{1} + 0.5 a g m_{0} \\operatorname{cos}\\left(q_{1}\\right) - 1.0 a m_{1} \\ddot{q}_{0} \\operatorname{sin}\\left(q_{1}\\right) + 1.0 d \\dot{q}_{1}\\end{matrix}\\right]$$"
      ],
      "text/plain": [
       "Matrix([\n",
       "[                   -f + 1.0*m0*qddot0 - 1.0*m1*(a*qddot1*sin(q1) + a*qdot1**2*cos(q1) - qddot0)],\n",
       "[1.0*J1*qddot1 + 1.0*a**2*m1*qddot1 + 0.5*a*g*m0*cos(q1) - 1.0*a*m1*qddot0*sin(q1) + 1.0*d*qdot1]])"
      ]
     },
     "execution_count": 5,
     "metadata": {},
     "output_type": "execute_result"
    }
   ],
   "source": [
    "mod.eqns"
   ]
  },
  {
   "cell_type": "code",
   "execution_count": null,
   "metadata": {
    "collapsed": true
   },
   "outputs": [],
   "source": [
    "from sympy.solvers import solve\n",
    "\n",
    "solutions=solve(mod.eqns, q[0], q[1], qdot[0], qdot[1])\n",
    "'''\n",
    "def generate_state_eq(equations, q, qdot, qdd):\n",
    "    num_states=len(q)\n",
    "    X=[q[0], q[1], qdot[0], qdot[1]]\n",
    "    x0, x1=sm.symbols('x0 x1')\n",
    "    solutions=solve(mod.eqns,qdd[0], qdd[1])\n",
    "    solutions=\n",
    "'''    \n",
    "    \n",
    "    \n",
    "    "
   ]
  },
  {
   "cell_type": "code",
   "execution_count": 127,
   "metadata": {},
   "outputs": [
    {
     "data": {
      "text/latex": [
       "$$2$$"
      ],
      "text/plain": [
       "2"
      ]
     },
     "execution_count": 127,
     "metadata": {},
     "output_type": "execute_result"
    }
   ],
   "source": []
  },
  {
   "cell_type": "code",
   "execution_count": null,
   "metadata": {},
   "outputs": [],
   "source": [
    "solutions=solve(mod.eqns, q[0], q[1], qdot[0], qdot[1])\n",
    "solutions[0]"
   ]
  },
  {
   "cell_type": "code",
   "execution_count": 114,
   "metadata": {
    "collapsed": true
   },
   "outputs": [],
   "source": [
    "expr0=solutions[qdd[0]]"
   ]
  },
  {
   "cell_type": "code",
   "execution_count": 115,
   "metadata": {},
   "outputs": [
    {
     "data": {
      "text/latex": [
       "$$\\frac{1}{a^{2} m_{1}^{2} \\operatorname{sin}^{2}\\left(q_{1}\\right) - \\left(J_{1} + a^{2} m_{1}\\right) \\left(m_{0} + m_{1}\\right)} \\left(- a m_{1} \\left(a m_{1} \\dot{q}_{1}^{2} \\operatorname{cos}\\left(q_{1}\\right) + f\\right) \\operatorname{sin}\\left(q_{1}\\right) + 0.5 \\left(m_{0} + m_{1}\\right) \\left(a g m_{0} \\operatorname{cos}\\left(q_{1}\\right) + 2.0 d \\dot{q}_{1}\\right)\\right)$$"
      ],
      "text/plain": [
       "(-a*m1*(a*m1*qdot1**2*cos(q1) + f)*sin(q1) + 0.5*(m0 + m1)*(a*g*m0*cos(q1) + 2.0*d*qdot1))/(a**2*m1**2*sin(q1)**2 - (J1 + a**2*m1)*(m0 + m1))"
      ]
     },
     "execution_count": 115,
     "metadata": {},
     "output_type": "execute_result"
    }
   ],
   "source": [
    "solutions[qdd[1]].simplify()"
   ]
  },
  {
   "cell_type": "code",
   "execution_count": null,
   "metadata": {
    "collapsed": true
   },
   "outputs": [],
   "source": [
    "type(solutions)"
   ]
  },
  {
   "cell_type": "code",
   "execution_count": null,
   "metadata": {},
   "outputs": [],
   "source": [
    "collected_expr =sm.collect(expr0, qdot[1], evaluate=False)\n",
    "collected_expr"
   ]
  },
  {
   "cell_type": "code",
   "execution_count": null,
   "metadata": {},
   "outputs": [],
   "source": [
    "sm.Add(*[argi for argi in expr0.args if argi.has(f)])"
   ]
  },
  {
   "cell_type": "code",
   "execution_count": null,
   "metadata": {
    "collapsed": true
   },
   "outputs": [],
   "source": [
    "# mod.calc_coll_part_lin_state_eq(simplify=True)"
   ]
  },
  {
   "cell_type": "code",
   "execution_count": null,
   "metadata": {
    "collapsed": true
   },
   "outputs": [],
   "source": [
    "xx=mod.x\n",
    "fx=mod.ff\n",
    "G=mod.gg\n",
    "gx, =st.col_split(G)"
   ]
  },
  {
   "cell_type": "code",
   "execution_count": null,
   "metadata": {},
   "outputs": [],
   "source": [
    "G"
   ]
  },
  {
   "cell_type": "code",
   "execution_count": null,
   "metadata": {},
   "outputs": [],
   "source": [
    "fx"
   ]
  },
  {
   "cell_type": "code",
   "execution_count": null,
   "metadata": {},
   "outputs": [],
   "source": [
    "gx"
   ]
  },
  {
   "cell_type": "code",
   "execution_count": null,
   "metadata": {
    "collapsed": true
   },
   "outputs": [],
   "source": [
    "equilib_point=sm.Matrix([0, sm.pi/6, 0, 0])\n",
    "#fx.subz(xx, equilib_point)"
   ]
  },
  {
   "cell_type": "code",
   "execution_count": null,
   "metadata": {},
   "outputs": [],
   "source": [
    "parameter_values = [(g, 9.81), (a, 0.2), (d, 0.00715), (m[0], 3.34), (m[1], 0.8512), (J[0], 0), (J[1], 0.01980)]\n",
    "#replm = list(map(lambda a,b :(a,b),xx, equilib_point)) + parameter_values\n",
    "replm = parameter_values\n",
    "m_values=sm.Matrix([3.34,0.8512])\n",
    "fx=fx.subz(m,m_values)\n",
    "a_value=sm.Matrix([0.2])\n",
    "fx.subs({a:a_value})"
   ]
  },
  {
   "cell_type": "code",
   "execution_count": null,
   "metadata": {
    "collapsed": true
   },
   "outputs": [],
   "source": [
    "tt=np.arange(0,10, 1e-3)\n",
    "xx0= st.to_np(equilib_point).ravel()"
   ]
  },
  {
   "cell_type": "code",
   "execution_count": null,
   "metadata": {},
   "outputs": [],
   "source": [
    "mod.xx"
   ]
  },
  {
   "cell_type": "code",
   "execution_count": null,
   "metadata": {
    "collapsed": true
   },
   "outputs": [],
   "source": [
    "simulation=st.SimulationModel(fx, mod.gg , mod.xx, model_parameters=parameter_values)"
   ]
  },
  {
   "cell_type": "code",
   "execution_count": null,
   "metadata": {
    "collapsed": true
   },
   "outputs": [],
   "source": [
    "#help(st.SimulationModel)"
   ]
  },
  {
   "cell_type": "code",
   "execution_count": null,
   "metadata": {
    "collapsed": true
   },
   "outputs": [],
   "source": [
    "rhs1= simulation.create_simfunction()"
   ]
  },
  {
   "cell_type": "code",
   "execution_count": null,
   "metadata": {
    "collapsed": true
   },
   "outputs": [],
   "source": [
    "#help(st.SimulationModel)"
   ]
  },
  {
   "cell_type": "code",
   "execution_count": null,
   "metadata": {
    "collapsed": true
   },
   "outputs": [],
   "source": [
    "sol= odeint(rhs1, xx0, tt)"
   ]
  },
  {
   "cell_type": "code",
   "execution_count": null,
   "metadata": {},
   "outputs": [],
   "source": [
    "sol"
   ]
  },
  {
   "cell_type": "code",
   "execution_count": null,
   "metadata": {
    "collapsed": true
   },
   "outputs": [],
   "source": []
  },
  {
   "cell_type": "code",
   "execution_count": null,
   "metadata": {
    "collapsed": true
   },
   "outputs": [],
   "source": []
  }
 ],
 "metadata": {
  "kernelspec": {
   "display_name": "Python 3",
   "language": "python",
   "name": "python3"
  },
  "language_info": {
   "codemirror_mode": {
    "name": "ipython",
    "version": 3
   },
   "file_extension": ".py",
   "mimetype": "text/x-python",
   "name": "python",
   "nbconvert_exporter": "python",
   "pygments_lexer": "ipython3",
   "version": "3.6.3"
  }
 },
 "nbformat": 4,
 "nbformat_minor": 2
}
