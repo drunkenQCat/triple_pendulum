{
 "cells": [
  {
   "cell_type": "code",
   "execution_count": 28,
   "metadata": {},
   "outputs": [],
   "source": [
    "from __future__ import division, print_function\n",
    "import sympy as sm\n",
    "from sympy import trigsimp\n",
    "from sympy import latex\n",
    "import sympy.physics.mechanics as me\n",
    "import mpmath as mp\n",
    "import symbtools as st\n",
    "import numpy as np\n",
    "import symbtools.modeltools as mt\n",
    "import symbtools.noncommutativetools as nct\n",
    "from scipy.integrate import odeint\n",
    "\n",
    "import pycartan as pc\n",
    "from sympy.solvers import solve\n",
    "\n",
    "from sympy.physics.vector import init_vprinting, vlatex\n",
    "init_vprinting(use_latex='mathjax', pretty_print=False)\n",
    "\n",
    "#definingymbolic variables\n",
    "q = st.symb_vector('q:2')\n",
    "qdot = st.time_deriv(q, q)\n",
    "qdd = st.time_deriv(qdot, qdot)\n",
    "st.make_global(q, qdot)\n",
    "\n",
    "f = sm.symbols('f')\n",
    "m = sm.symbols('m:2')\n",
    "J = sm.symbols('J:2')\n",
    "l = sm.symbols('l')\n",
    "a = sm.symbols('a')\n",
    "d = sm.symbols('d')\n",
    "g, t = sm.symbols('g t')\n",
    "\n",
    "# defining reference frames and points\n",
    "In_frame = me.ReferenceFrame('In_frame')  #reference frame with velocity 0\n",
    "O = me.Point('O')\n",
    "O.set_vel(In_frame, 0)\n",
    "\n",
    "# Mass center of the cart\n",
    "C0 = me.Point('C0')\n",
    "C0.set_pos(O, q[0] * In_frame.x)\n",
    "C0.set_vel(In_frame, qdot[0] * In_frame.x)\n",
    "\n",
    "#cart frame\n",
    "cart_frame = In_frame.orientnew('L0', 'Axis', [q[0], In_frame.x])\n",
    "cart_frame.set_ang_vel(In_frame, 0)\n",
    "\n",
    "#endulum frame\n",
    "pen_frame = In_frame.orientnew('L1', 'Axis', [q[1], In_frame.z])\n",
    "pen_frame.set_ang_vel(In_frame, qdot[1] * In_frame.z)\n",
    "#mass center of pendulum\n",
    "s = C0.locatenew('a', a * pen_frame.x)\n",
    "s.v2pt_theory(C0, In_frame, pen_frame)\n",
    "\n",
    "\n",
    "# finding velocities in inertial reference frame --> use them to find kinetic energy\n",
    "v0 = C0.vel(In_frame)\n",
    "v1 = s.vel(In_frame)\n",
    "T = 1 / 2 * m[0] * v0.dot(v0) + 1 / 2 * m[1] * v1.dot(\n",
    "    v1) + 1 / 2 * J[1] * qdot[1]**2\n",
    "\n",
    "# potential energy\n",
    "h = s.pos_from(O).dot(In_frame.y)\n",
    "#V = 1 / 2 * m[0] * g * h - 1/2 * d * qdot[1]**2\n",
    "V = 1 / 2 * m[0] * g * h\n",
    "tau = -d * qdot[1]\n",
    "\n",
    "params = [m[0], m[1], J[0], J[1], a, d, g]\n",
    "st.make_global(params)\n",
    "\n",
    "mod = mt.generate_symbolic_model(T, V, q, [f, tau])\n",
    "mod.eqns.simplify()\n"
   ]
  },
  {
   "cell_type": "code",
   "execution_count": 29,
   "metadata": {},
   "outputs": [],
   "source": [
    "xx=mod.xx\n",
    "fx=mod.f\n",
    "G=mod.g\n",
    "#gx, =st.col_split(G)"
   ]
  },
  {
   "cell_type": "code",
   "execution_count": 27,
   "metadata": {},
   "outputs": [
    {
     "name": "stdout",
     "output_type": "stream",
     "text": [
      "None\n"
     ]
    }
   ],
   "source": []
  },
  {
   "cell_type": "code",
   "execution_count": 21,
   "metadata": {},
   "outputs": [],
   "source": [
    "fx"
   ]
  },
  {
   "cell_type": "code",
   "execution_count": null,
   "metadata": {
    "collapsed": true
   },
   "outputs": [],
   "source": [
    "equilib_point=sm.Matrix([0, sm.pi/6, 0, 0])\n",
    "#fx.subz(xx, equilib_point)"
   ]
  },
  {
   "cell_type": "code",
   "execution_count": null,
   "metadata": {},
   "outputs": [],
   "source": [
    "parameter_values = [(g, 9.81), (a, 0.2), (d, 0.00715), (m[0], 3.34), (m[1], 0.8512), (J[0], 0), (J[1], 0.01980)]\n",
    "#replm = list(map(lambda a,b :(a,b),xx, equilib_point)) + parameter_values\n",
    "replm = parameter_values\n",
    "m_values=sm.Matrix([3.34,0.8512])\n",
    "fx=fx.subz(m,m_values)\n",
    "a_value=sm.Matrix([0.2])\n",
    "fx.subs({a:a_value})"
   ]
  },
  {
   "cell_type": "code",
   "execution_count": null,
   "metadata": {
    "collapsed": true
   },
   "outputs": [],
   "source": [
    "tt=np.arange(0,10, 1e-3)\n",
    "xx0= st.to_np(equilib_point).ravel()"
   ]
  },
  {
   "cell_type": "code",
   "execution_count": null,
   "metadata": {},
   "outputs": [],
   "source": [
    "mod.xx"
   ]
  },
  {
   "cell_type": "code",
   "execution_count": null,
   "metadata": {
    "collapsed": true
   },
   "outputs": [],
   "source": [
    "simulation=st.SimulationModel(fx, mod.gg , mod.xx, model_parameters=parameter_values)"
   ]
  },
  {
   "cell_type": "code",
   "execution_count": null,
   "metadata": {
    "collapsed": true
   },
   "outputs": [],
   "source": [
    "#help(st.SimulationModel)"
   ]
  },
  {
   "cell_type": "code",
   "execution_count": null,
   "metadata": {
    "collapsed": true
   },
   "outputs": [],
   "source": [
    "rhs1= simulation.create_simfunction()"
   ]
  },
  {
   "cell_type": "code",
   "execution_count": null,
   "metadata": {
    "collapsed": true
   },
   "outputs": [],
   "source": [
    "#help(st.SimulationModel)"
   ]
  },
  {
   "cell_type": "code",
   "execution_count": null,
   "metadata": {
    "collapsed": true
   },
   "outputs": [],
   "source": [
    "sol= odeint(rhs1, xx0, tt)"
   ]
  },
  {
   "cell_type": "code",
   "execution_count": null,
   "metadata": {},
   "outputs": [],
   "source": [
    "sol"
   ]
  },
  {
   "cell_type": "code",
   "execution_count": null,
   "metadata": {
    "collapsed": true
   },
   "outputs": [],
   "source": []
  },
  {
   "cell_type": "code",
   "execution_count": null,
   "metadata": {
    "collapsed": true
   },
   "outputs": [],
   "source": []
  }
 ],
 "metadata": {
  "kernelspec": {
   "display_name": "Python 3",
   "language": "python",
   "name": "python3"
  },
  "language_info": {
   "codemirror_mode": {
    "name": "ipython",
    "version": 3
   },
   "file_extension": ".py",
   "mimetype": "text/x-python",
   "name": "python",
   "nbconvert_exporter": "python",
   "pygments_lexer": "ipython3",
   "version": "3.6.4"
  }
 },
 "nbformat": 4,
 "nbformat_minor": 2
}
