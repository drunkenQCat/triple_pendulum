{
 "cells": [
  {
   "cell_type": "code",
   "execution_count": 38,
   "metadata": {
    "collapsed": true
   },
   "outputs": [],
   "source": [
    "from __future__ import division, print_function\n",
    "import sympy as sm\n",
    "from sympy import trigsimp\n",
    "from sympy import latex\n",
    "import sympy.physics.mechanics as me\n",
    "import mpmath as mp\n",
    "import symbtools as st\n",
    "import numpy as np\n",
    "import symbtools.modeltools as mt\n",
    "import symbtools.noncommutativetools as nct\n",
    "from scipy.integrate import odeint\n",
    "\n",
    "import pycartan as pc\n",
    "\n",
    "from sympy.physics.vector import init_vprinting, vlatex\n",
    "init_vprinting(use_latex='mathjax', pretty_print=False)\n",
    "\n",
    "#definingymbolic variables\n",
    "q = st.symb_vector('q:2')\n",
    "qdot = st.time_deriv(q, q)\n",
    "qdd = st.time_deriv(qdot, qdot)\n",
    "st.make_global(q, qdot)\n",
    "\n",
    "f = sm.symbols('f')\n",
    "m = sm.symbols('m:2')\n",
    "J = sm.symbols('J:2')\n",
    "l = sm.symbols('l')\n",
    "a = sm.symbols('a')\n",
    "d = sm.symbols('d')\n",
    "g, t = sm.symbols('g t')\n",
    "\n",
    "# defining reference frames and points\n",
    "In_frame = me.ReferenceFrame('In_frame') #reference frame with velocity 0\n",
    "O = me.Point('O')\n",
    "O.set_vel(In_frame, 0)\n",
    "\n",
    "# Mass center of the cart\n",
    "C0 = me.Point('C0')\n",
    "C0.set_pos(O, q[0] * In_frame.x)\n",
    "C0.set_vel(In_frame, qdot[0] * In_frame.x)\n",
    "#cart frame\n",
    "cart_frame = In_frame.orientnew('L0', 'Axis', [q[0], In_frame.x]) \n",
    "cart_frame.set_ang_vel(In_frame, 0)\n",
    "\n",
    "'''\n",
    "cart_inertia_dyadic = me.inertia(cart_frame, 0, 0, J[0])\n",
    "cart_central_inertia = (cart_inertia_dyadic, C0)\n",
    "\n",
    "cart = me.RigidBody('Cart', C0, cart_frame, m[0], cart_central_inertia)\n",
    "'''\n",
    "#endulum frame\n",
    "pen_frame = In_frame.orientnew('L1', 'Axis', [q[1], In_frame.z])\n",
    "pen_frame.set_ang_vel(In_frame, qdot[1] * In_frame.z)\n",
    "#mass center of pendulum\n",
    "s = C0.locatenew('a', a * pen_frame.x)\n",
    "s.v2pt_theory(C0, In_frame, pen_frame)\n",
    "'''\n",
    "pen_inertia_dyadic = me.inertia(pen_frame, 0, 0, J[1])\n",
    "pen_central_inertia = (pen_inertia_dyadic, a)\n",
    "pen = me.RigidBody('Pen', a, pen_frame, m[1], pen_central_inertia)\n",
    "'''\n",
    "\n",
    "# finding velocities in inertial reference frame --> use them to find kinetic energy\n",
    "v0=C0.vel(In_frame)\n",
    "v1=s.vel(In_frame)\n",
    "T = 1 / 2 * m[0] *v0.dot(v0) + 1 / 2 * m[1] *v1.dot(v1) + 1 / 2 * J[1] * qdot[1]**2\n",
    "\n",
    "# potential energy\n",
    "h = s.pos_from(O).dot(In_frame.y)\n",
    "#V = 1 / 2 * m[0] * g * h - 1/2 * d * qdot[1]**2\n",
    "V = 1 / 2 * m[0] * g * h\n",
    "tau= -d*qdot[1]"
   ]
  },
  {
   "cell_type": "code",
   "execution_count": 39,
   "metadata": {
    "collapsed": true
   },
   "outputs": [],
   "source": [
    "params=[m[0],m[1], J[0],J[1], a, d, g]\n",
    "st.make_global(params)"
   ]
  },
  {
   "cell_type": "code",
   "execution_count": 41,
   "metadata": {},
   "outputs": [],
   "source": [
    "mod=mt.generate_symbolic_model(T, V, q, [f, tau])"
   ]
  },
  {
   "cell_type": "code",
   "execution_count": 45,
   "metadata": {
    "collapsed": true
   },
   "outputs": [],
   "source": [
    "mod.MM.simplify()"
   ]
  },
  {
   "cell_type": "code",
   "execution_count": 46,
   "metadata": {},
   "outputs": [
    {
     "data": {
      "text/latex": [
       "$$\\left[\\begin{matrix}- f + 1.0 m_{0} \\ddot{q}_{0} - 1.0 m_{1} \\left(a \\ddot{q}_{1} \\operatorname{sin}\\left(q_{1}\\right) + a \\dot{q}_{1}^{2} \\operatorname{cos}\\left(q_{1}\\right) - \\ddot{q}_{0}\\right)\\\\1.0 J_{1} \\ddot{q}_{1} + 1.0 a^{2} m_{1} \\ddot{q}_{1} + 0.5 a g m_{0} \\operatorname{cos}\\left(q_{1}\\right) - 1.0 a m_{1} \\ddot{q}_{0} \\operatorname{sin}\\left(q_{1}\\right) + 1.0 d \\dot{q}_{1}\\end{matrix}\\right]$$"
      ],
      "text/plain": [
       "Matrix([\n",
       "[                   -f + 1.0*m0*qddot0 - 1.0*m1*(a*qddot1*sin(q1) + a*qdot1**2*cos(q1) - qddot0)],\n",
       "[1.0*J1*qddot1 + 1.0*a**2*m1*qddot1 + 0.5*a*g*m0*cos(q1) - 1.0*a*m1*qddot0*sin(q1) + 1.0*d*qdot1]])"
      ]
     },
     "execution_count": 46,
     "metadata": {},
     "output_type": "execute_result"
    }
   ],
   "source": [
    "mod.eqns"
   ]
  },
  {
   "cell_type": "code",
   "execution_count": 66,
   "metadata": {},
   "outputs": [],
   "source": [
    "from sympy.solvers import solve\n",
    "solutions=solve(mod.eqns,qdd[0], qdd[1])"
   ]
  },
  {
   "cell_type": "code",
   "execution_count": 79,
   "metadata": {},
   "outputs": [],
   "source": [
    "expr0=solutions[qdd[0]].simplify()"
   ]
  },
  {
   "cell_type": "code",
   "execution_count": 72,
   "metadata": {},
   "outputs": [
    {
     "data": {
      "text/latex": [
       "$$\\frac{1}{a^{2} m_{1}^{2} \\operatorname{sin}^{2}\\left(q_{1}\\right) - \\left(J_{1} + a^{2} m_{1}\\right) \\left(m_{0} + m_{1}\\right)} \\left(- a m_{1} \\left(a m_{1} \\dot{q}_{1}^{2} \\operatorname{cos}\\left(q_{1}\\right) + f\\right) \\operatorname{sin}\\left(q_{1}\\right) + 0.5 \\left(m_{0} + m_{1}\\right) \\left(a g m_{0} \\operatorname{cos}\\left(q_{1}\\right) + 2.0 d \\dot{q}_{1}\\right)\\right)$$"
      ],
      "text/plain": [
       "(-a*m1*(a*m1*qdot1**2*cos(q1) + f)*sin(q1) + 0.5*(m0 + m1)*(a*g*m0*cos(q1) + 2.0*d*qdot1))/(a**2*m1**2*sin(q1)**2 - (J1 + a**2*m1)*(m0 + m1))"
      ]
     },
     "execution_count": 72,
     "metadata": {},
     "output_type": "execute_result"
    }
   ],
   "source": [
    "solutions[qdd[1]].simplify()"
   ]
  },
  {
   "cell_type": "code",
   "execution_count": 96,
   "metadata": {},
   "outputs": [],
   "source": [
    "collected_expr = sm.collect(expr0, qdot[0],evaluate=False)"
   ]
  },
  {
   "cell_type": "code",
   "execution_count": 97,
   "metadata": {},
   "outputs": [
    {
     "data": {
      "text/latex": [
       "$$\\left \\{ 1 : \\frac{1}{a^{2} m_{1}^{2} \\operatorname{sin}^{2}\\left(q_{1}\\right) - \\left(J_{1} + a^{2} m_{1}\\right) \\left(m_{0} + m_{1}\\right)} \\left(0.5 a m_{1} \\left(a g m_{0} \\operatorname{cos}\\left(q_{1}\\right) + 2.0 d \\dot{q}_{1}\\right) \\operatorname{sin}\\left(q_{1}\\right) - 1.0 \\left(J_{1} + a^{2} m_{1}\\right) \\left(a m_{1} \\dot{q}_{1}^{2} \\operatorname{cos}\\left(q_{1}\\right) + f\\right)\\right)\\right \\}$$"
      ],
      "text/plain": [
       "{1: (0.5*a*m1*(a*g*m0*cos(q1) + 2.0*d*qdot1)*sin(q1) - 1.0*(J1 + a**2*m1)*(a*m1*qdot1**2*cos(q1) + f))/(a**2*m1**2*sin(q1)**2 - (J1 + a**2*m1)*(m0 + m1))}"
      ]
     },
     "execution_count": 97,
     "metadata": {},
     "output_type": "execute_result"
    }
   ],
   "source": [
    "collected_expr"
   ]
  },
  {
   "cell_type": "code",
   "execution_count": null,
   "metadata": {
    "collapsed": true
   },
   "outputs": [],
   "source": [
    "# mod.calc_coll_part_lin_state_eq(simplify=True)"
   ]
  },
  {
   "cell_type": "code",
   "execution_count": 74,
   "metadata": {
    "collapsed": true
   },
   "outputs": [],
   "source": [
    "xx=mod.x\n",
    "fx=mod.ff\n",
    "G=mod.gg\n",
    "gx, =st.col_split(G)"
   ]
  },
  {
   "cell_type": "code",
   "execution_count": 75,
   "metadata": {},
   "outputs": [
    {
     "data": {
      "text/latex": [
       "$$\\left[\\begin{matrix}0\\\\0\\\\\\frac{1.0 a m_{1} \\operatorname{sin}\\left(q_{1}\\right)}{m_{0} + m_{1}}\\\\1\\end{matrix}\\right]$$"
      ],
      "text/plain": [
       "Matrix([\n",
       "[                         0],\n",
       "[                         0],\n",
       "[1.0*a*m1*sin(q1)/(m0 + m1)],\n",
       "[                         1]])"
      ]
     },
     "execution_count": 75,
     "metadata": {},
     "output_type": "execute_result"
    }
   ],
   "source": [
    "G"
   ]
  },
  {
   "cell_type": "code",
   "execution_count": 76,
   "metadata": {},
   "outputs": [
    {
     "data": {
      "text/latex": [
       "$$\\left[\\begin{matrix}\\dot{q}_{0}\\\\\\dot{q}_{1}\\\\\\frac{1.0 a m_{1} \\dot{q}_{1}^{2} \\operatorname{cos}\\left(q_{1}\\right)}{m_{0} + m_{1}}\\\\0\\end{matrix}\\right]$$"
      ],
      "text/plain": [
       "Matrix([\n",
       "[                              qdot0],\n",
       "[                              qdot1],\n",
       "[1.0*a*m1*qdot1**2*cos(q1)/(m0 + m1)],\n",
       "[                                  0]])"
      ]
     },
     "execution_count": 76,
     "metadata": {},
     "output_type": "execute_result"
    }
   ],
   "source": [
    "fx"
   ]
  },
  {
   "cell_type": "code",
   "execution_count": 77,
   "metadata": {},
   "outputs": [
    {
     "data": {
      "text/latex": [
       "$$\\left[\\begin{matrix}0\\\\0\\\\\\frac{1.0 a m_{1} \\operatorname{sin}\\left(q_{1}\\right)}{m_{0} + m_{1}}\\\\1\\end{matrix}\\right]$$"
      ],
      "text/plain": [
       "Matrix([\n",
       "[                         0],\n",
       "[                         0],\n",
       "[1.0*a*m1*sin(q1)/(m0 + m1)],\n",
       "[                         1]])"
      ]
     },
     "execution_count": 77,
     "metadata": {},
     "output_type": "execute_result"
    }
   ],
   "source": [
    "gx"
   ]
  },
  {
   "cell_type": "code",
   "execution_count": 28,
   "metadata": {
    "collapsed": true
   },
   "outputs": [],
   "source": [
    "equilib_point=sm.Matrix([0, sm.pi/6, 0, 0])\n",
    "#fx.subz(xx, equilib_point)"
   ]
  },
  {
   "cell_type": "code",
   "execution_count": 29,
   "metadata": {},
   "outputs": [
    {
     "data": {
      "text/latex": [
       "$$\\left[\\begin{matrix}\\dot{q}_{0}\\\\\\dot{q}_{1}\\\\0.203092193166635 \\dot{q}_{1}^{2} \\operatorname{cos}\\left(q_{1}\\right) \\left[\\begin{matrix}0.2\\end{matrix}\\right]\\\\0\\end{matrix}\\right]$$"
      ],
      "text/plain": [
       "Matrix([\n",
       "[                                             qdot0],\n",
       "[                                             qdot1],\n",
       "[0.203092193166635*qdot1**2*cos(q1)*Matrix([[0.2]])],\n",
       "[                                                 0]])"
      ]
     },
     "execution_count": 29,
     "metadata": {},
     "output_type": "execute_result"
    }
   ],
   "source": [
    "parameter_values = [(g, 9.81), (a, 0.2), (d, 0.00715), (m[0], 3.34), (m[1], 0.8512), (J[0], 0), (J[1], 0.01980)]\n",
    "#replm = list(map(lambda a,b :(a,b),xx, equilib_point)) + parameter_values\n",
    "replm = parameter_values\n",
    "m_values=sm.Matrix([3.34,0.8512])\n",
    "fx=fx.subz(m,m_values)\n",
    "a_value=sm.Matrix([0.2])\n",
    "fx.subs({a:a_value})"
   ]
  },
  {
   "cell_type": "code",
   "execution_count": 20,
   "metadata": {
    "collapsed": true
   },
   "outputs": [],
   "source": [
    "tt=np.arange(0,10, 1e-3)\n",
    "xx0= st.to_np(equilib_point).ravel()"
   ]
  },
  {
   "cell_type": "code",
   "execution_count": 21,
   "metadata": {},
   "outputs": [
    {
     "data": {
      "text/latex": [
       "$$\\left[\\begin{matrix}q_{0}\\\\q_{1}\\\\\\dot{q}_{0}\\\\\\dot{q}_{1}\\end{matrix}\\right]$$"
      ],
      "text/plain": [
       "Matrix([\n",
       "[   q0],\n",
       "[   q1],\n",
       "[qdot0],\n",
       "[qdot1]])"
      ]
     },
     "execution_count": 21,
     "metadata": {},
     "output_type": "execute_result"
    }
   ],
   "source": [
    "mod.xx"
   ]
  },
  {
   "cell_type": "code",
   "execution_count": 22,
   "metadata": {
    "collapsed": true
   },
   "outputs": [],
   "source": [
    "simulation=st.SimulationModel(fx, mod.gg , mod.xx, model_parameters=parameter_values)"
   ]
  },
  {
   "cell_type": "code",
   "execution_count": 23,
   "metadata": {
    "collapsed": true
   },
   "outputs": [],
   "source": [
    "#help(st.SimulationModel)"
   ]
  },
  {
   "cell_type": "code",
   "execution_count": 24,
   "metadata": {
    "collapsed": true
   },
   "outputs": [],
   "source": [
    "rhs1= simulation.create_simfunction()"
   ]
  },
  {
   "cell_type": "code",
   "execution_count": 25,
   "metadata": {
    "collapsed": true
   },
   "outputs": [],
   "source": [
    "#help(st.SimulationModel)"
   ]
  },
  {
   "cell_type": "code",
   "execution_count": 26,
   "metadata": {
    "collapsed": true
   },
   "outputs": [],
   "source": [
    "sol= odeint(rhs1, xx0, tt)"
   ]
  },
  {
   "cell_type": "code",
   "execution_count": 27,
   "metadata": {},
   "outputs": [
    {
     "data": {
      "text/plain": [
       "array([[  0.00000000e+00,   5.23598776e-01,   4.00000000e+00,   0.00000000e+00],\n",
       "       [  4.00000000e-03,   5.23598776e-01,   4.00000000e+00,   0.00000000e+00],\n",
       "       [  8.00000000e-03,   5.23598776e-01,   4.00000000e+00,   0.00000000e+00],\n",
       "       ..., \n",
       "       [  3.99880000e+01,   5.23598776e-01,   4.00000000e+00,   0.00000000e+00],\n",
       "       [  3.99920000e+01,   5.23598776e-01,   4.00000000e+00,   0.00000000e+00],\n",
       "       [  3.99960000e+01,   5.23598776e-01,   4.00000000e+00,   0.00000000e+00]])"
      ]
     },
     "execution_count": 27,
     "metadata": {},
     "output_type": "execute_result"
    }
   ],
   "source": [
    "sol"
   ]
  },
  {
   "cell_type": "code",
   "execution_count": null,
   "metadata": {
    "collapsed": true
   },
   "outputs": [],
   "source": []
  },
  {
   "cell_type": "code",
   "execution_count": null,
   "metadata": {
    "collapsed": true
   },
   "outputs": [],
   "source": []
  }
 ],
 "metadata": {
  "kernelspec": {
   "display_name": "Python 3",
   "language": "python",
   "name": "python3"
  },
  "language_info": {
   "codemirror_mode": {
    "name": "ipython",
    "version": 3
   },
   "file_extension": ".py",
   "mimetype": "text/x-python",
   "name": "python",
   "nbconvert_exporter": "python",
   "pygments_lexer": "ipython3",
   "version": "3.6.3"
  }
 },
 "nbformat": 4,
 "nbformat_minor": 2
}
