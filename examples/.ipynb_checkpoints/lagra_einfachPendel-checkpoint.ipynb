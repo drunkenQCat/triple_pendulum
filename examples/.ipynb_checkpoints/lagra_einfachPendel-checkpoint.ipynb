{
 "cells": [
  {
   "cell_type": "code",
   "execution_count": 23,
   "metadata": {},
   "outputs": [],
   "source": [
    "from __future__ import division, print_function\n",
    "import sympy as sm\n",
    "from sympy import trigsimp\n",
    "from sympy import latex\n",
    "import sympy.physics.mechanics as me\n",
    "import mpmath as mp\n",
    "import symbtools as st\n",
    "import numpy as np\n",
    "import symbtools.modeltools as mt\n",
    "import symbtools.noncommutativetools as nct\n",
    "from scipy.integrate import odeint\n",
    "\n",
    "import pycartan as pc\n",
    "\n",
    "from sympy.physics.vector import init_vprinting, vlatex\n",
    "init_vprinting(use_latex='mathjax', pretty_print=False)\n",
    "\n",
    "#definingymbolic variables\n",
    "q = st.symb_vector('q:2')\n",
    "qdot = st.time_deriv(q, q)\n",
    "qdd = st.time_deriv(qdot, qdot)\n",
    "st.make_global(q, qdot)\n",
    "\n",
    "f = sm.symbols('f')\n",
    "m = sm.symbols('m:2')\n",
    "J = sm.symbols('J:2')\n",
    "l = sm.symbols('l')\n",
    "a = sm.symbols('a')\n",
    "d = sm.symbols('d')\n",
    "g, t = sm.symbols('g t')\n",
    "\n",
    "# defining reference frames and points\n",
    "In_frame = me.ReferenceFrame('In_frame') #reference frame with velocity 0\n",
    "O = me.Point('O')\n",
    "O.set_vel(In_frame, 0)\n",
    "\n",
    "# Mass center of the cart\n",
    "C0 = me.Point('C0')\n",
    "C0.set_pos(O, q[0] * In_frame.x)\n",
    "C0.set_vel(In_frame, qdot[0] * In_frame.x)\n",
    "#cart frame\n",
    "cart_frame = In_frame.orientnew('L0', 'Axis', [q[0], In_frame.x]) \n",
    "cart_frame.set_ang_vel(In_frame, 0)\n",
    "\n",
    "'''\n",
    "cart_inertia_dyadic = me.inertia(cart_frame, 0, 0, J[0])\n",
    "cart_central_inertia = (cart_inertia_dyadic, C0)\n",
    "\n",
    "cart = me.RigidBody('Cart', C0, cart_frame, m[0], cart_central_inertia)\n",
    "'''\n",
    "#endulum frame\n",
    "pen_frame = In_frame.orientnew('L1', 'Axis', [q[1], In_frame.z])\n",
    "pen_frame.set_ang_vel(In_frame, qdot[1] * In_frame.z)\n",
    "#mass center of pendulum\n",
    "s = C0.locatenew('a', a * pen_frame.x)\n",
    "s.v2pt_theory(C0, In_frame, pen_frame)\n",
    "'''\n",
    "pen_inertia_dyadic = me.inertia(pen_frame, 0, 0, J[1])\n",
    "pen_central_inertia = (pen_inertia_dyadic, a)\n",
    "pen = me.RigidBody('Pen', a, pen_frame, m[1], pen_central_inertia)\n",
    "'''\n",
    "\n",
    "# finding velocities in inertial reference frame --> use them to find kinetic energy\n",
    "v0=C0.vel(In_frame)\n",
    "v1=s.vel(In_frame)\n",
    "T = 1 / 2 * m[0] *v0.dot(v0) + 1 / 2 * m[1] *v1.dot(v1) + 1 / 2 * J[1] * qdot[1]**2\n",
    "\n",
    "# potential energy\n",
    "h = s.pos_from(O).dot(In_frame.y)\n",
    "V = 1 / 2 * m[0] * g * h - 1/2 * d * qdot[1]**2\n",
    "\n"
   ]
  },
  {
   "cell_type": "code",
   "execution_count": 2,
   "metadata": {
    "collapsed": true
   },
   "outputs": [],
   "source": [
    "params=[m[0],m[1], J[0],J[1], a, d, g]\n",
    "st.make_global(params)"
   ]
  },
  {
   "cell_type": "code",
   "execution_count": 3,
   "metadata": {
    "collapsed": true
   },
   "outputs": [],
   "source": [
    "mod=mt.generate_symbolic_model(T, V, q, [0, f])"
   ]
  },
  {
   "cell_type": "code",
   "execution_count": 4,
   "metadata": {
    "collapsed": true
   },
   "outputs": [],
   "source": [
    "mod.MM.simplify()"
   ]
  },
  {
   "cell_type": "code",
   "execution_count": 5,
   "metadata": {},
   "outputs": [
    {
     "data": {
      "text/latex": [
       "$$\\left[\\begin{matrix}1.0 m_{0} + 1.0 m_{1} & - 1.0 a m_{1} \\operatorname{sin}\\left(q_{1}\\right)\\\\- 1.0 a m_{1} \\operatorname{sin}\\left(q_{1}\\right) & 1.0 J_{1} + 1.0 a^{2} m_{1} + 1.0 d\\end{matrix}\\right]$$"
      ],
      "text/plain": [
       "Matrix([\n",
       "[  1.0*m0 + 1.0*m1,            -1.0*a*m1*sin(q1)],\n",
       "[-1.0*a*m1*sin(q1), 1.0*J1 + 1.0*a**2*m1 + 1.0*d]])"
      ]
     },
     "execution_count": 5,
     "metadata": {},
     "output_type": "execute_result"
    }
   ],
   "source": [
    "mod.MM"
   ]
  },
  {
   "cell_type": "code",
   "execution_count": 6,
   "metadata": {
    "collapsed": true
   },
   "outputs": [],
   "source": [
    "mod.calc_coll_part_lin_state_eq(simplify=True)"
   ]
  },
  {
   "cell_type": "code",
   "execution_count": 7,
   "metadata": {
    "collapsed": true
   },
   "outputs": [],
   "source": [
    "xx=mod.x\n",
    "fx=mod.ff\n",
    "G=mod.gg\n",
    "g1, =st.col_split(G)"
   ]
  },
  {
   "cell_type": "code",
   "execution_count": 8,
   "metadata": {},
   "outputs": [
    {
     "data": {
      "text/latex": [
       "$$\\left[\\begin{matrix}q_{0}\\\\q_{1}\\\\\\dot{q}_{0}\\\\\\dot{q}_{1}\\end{matrix}\\right]$$"
      ],
      "text/plain": [
       "Matrix([\n",
       "[   q0],\n",
       "[   q1],\n",
       "[qdot0],\n",
       "[qdot1]])"
      ]
     },
     "execution_count": 8,
     "metadata": {},
     "output_type": "execute_result"
    }
   ],
   "source": [
    "xx"
   ]
  },
  {
   "cell_type": "code",
   "execution_count": 9,
   "metadata": {},
   "outputs": [
    {
     "data": {
      "text/latex": [
       "$$\\left[\\begin{matrix}\\dot{q}_{0}\\\\\\dot{q}_{1}\\\\\\frac{1.0 a m_{1} \\dot{q}_{1}^{2} \\operatorname{cos}\\left(q_{1}\\right)}{m_{0} + m_{1}}\\\\0\\end{matrix}\\right]$$"
      ],
      "text/plain": [
       "Matrix([\n",
       "[                              qdot0],\n",
       "[                              qdot1],\n",
       "[1.0*a*m1*qdot1**2*cos(q1)/(m0 + m1)],\n",
       "[                                  0]])"
      ]
     },
     "execution_count": 9,
     "metadata": {},
     "output_type": "execute_result"
    }
   ],
   "source": [
    "fx"
   ]
  },
  {
   "cell_type": "code",
   "execution_count": 10,
   "metadata": {},
   "outputs": [
    {
     "data": {
      "text/latex": [
       "$$\\left[\\begin{matrix}0\\\\0\\\\\\frac{1.0 a m_{1} \\operatorname{sin}\\left(q_{1}\\right)}{m_{0} + m_{1}}\\\\1\\end{matrix}\\right]$$"
      ],
      "text/plain": [
       "Matrix([\n",
       "[                         0],\n",
       "[                         0],\n",
       "[1.0*a*m1*sin(q1)/(m0 + m1)],\n",
       "[                         1]])"
      ]
     },
     "execution_count": 10,
     "metadata": {},
     "output_type": "execute_result"
    }
   ],
   "source": [
    "g1"
   ]
  },
  {
   "cell_type": "code",
   "execution_count": 26,
   "metadata": {},
   "outputs": [
    {
     "data": {
      "text/latex": [
       "$$\\left[\\begin{matrix}0\\\\0\\\\0\\\\0\\end{matrix}\\right]$$"
      ],
      "text/plain": [
       "Matrix([\n",
       "[0],\n",
       "[0],\n",
       "[0],\n",
       "[0]])"
      ]
     },
     "execution_count": 26,
     "metadata": {},
     "output_type": "execute_result"
    }
   ],
   "source": [
    "equilib_point=sm.Matrix([sm.pi/3, 0, 0, 0])\n",
    "fx.subz(xx, equilib_point)"
   ]
  },
  {
   "cell_type": "code",
   "execution_count": 27,
   "metadata": {
    "collapsed": true
   },
   "outputs": [],
   "source": [
    "parameter_values = [(g, 9.81), (a, 0.2), (d, 0.00715), (m[0], 3.34), (m[1], 0.8512), (J[0], 0), (J[1], 0.01980)]\n",
    "replm = list(map(lambda a,b :(a,b),xx, equilib_point)) + parameter_values\n",
    "\n"
   ]
  },
  {
   "cell_type": "code",
   "execution_count": 28,
   "metadata": {
    "collapsed": true
   },
   "outputs": [],
   "source": [
    "tt=np.arange(0,10, 1e-3)\n",
    "xx0= st.to_np(equilib_point).ravel()"
   ]
  },
  {
   "cell_type": "code",
   "execution_count": 29,
   "metadata": {
    "collapsed": true
   },
   "outputs": [],
   "source": [
    "sm= st.SimulationModel(mod.ff, mod.gg , mod.xx, model_parameters=parameter_values)"
   ]
  },
  {
   "cell_type": "code",
   "execution_count": 30,
   "metadata": {
    "collapsed": true
   },
   "outputs": [],
   "source": [
    "#help(st.SimulationModel)"
   ]
  },
  {
   "cell_type": "code",
   "execution_count": 31,
   "metadata": {},
   "outputs": [],
   "source": [
    "rhs1= sm.create_simfunction()"
   ]
  },
  {
   "cell_type": "code",
   "execution_count": 32,
   "metadata": {
    "collapsed": true
   },
   "outputs": [],
   "source": [
    "#help(st.SimulationModel)"
   ]
  },
  {
   "cell_type": "code",
   "execution_count": 33,
   "metadata": {},
   "outputs": [],
   "source": [
    "sol= odeint(rhs1, xx0, tt)"
   ]
  },
  {
   "cell_type": "code",
   "execution_count": 34,
   "metadata": {},
   "outputs": [
    {
     "data": {
      "text/plain": [
       "array([[ 1.04719755,  0.        ,  0.        ,  0.        ],\n",
       "       [ 1.04719755,  0.        ,  0.        ,  0.        ],\n",
       "       [ 1.04719755,  0.        ,  0.        ,  0.        ],\n",
       "       ..., \n",
       "       [ 1.04719755,  0.        ,  0.        ,  0.        ],\n",
       "       [ 1.04719755,  0.        ,  0.        ,  0.        ],\n",
       "       [ 1.04719755,  0.        ,  0.        ,  0.        ]])"
      ]
     },
     "execution_count": 34,
     "metadata": {},
     "output_type": "execute_result"
    }
   ],
   "source": [
    "sol"
   ]
  },
  {
   "cell_type": "code",
   "execution_count": null,
   "metadata": {
    "collapsed": true
   },
   "outputs": [],
   "source": []
  }
 ],
 "metadata": {
  "kernelspec": {
   "display_name": "Python 3",
   "language": "python",
   "name": "python3"
  },
  "language_info": {
   "codemirror_mode": {
    "name": "ipython",
    "version": 3
   },
   "file_extension": ".py",
   "mimetype": "text/x-python",
   "name": "python",
   "nbconvert_exporter": "python",
   "pygments_lexer": "ipython3",
   "version": "3.6.3"
  }
 },
 "nbformat": 4,
 "nbformat_minor": 2
}
