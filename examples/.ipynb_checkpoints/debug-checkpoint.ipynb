{
 "cells": [
  {
   "cell_type": "code",
   "execution_count": 13,
   "metadata": {},
   "outputs": [
    {
     "name": "stderr",
     "output_type": "stream",
     "text": [
      "C:\\Users\\kuros\\Anaconda3\\lib\\site-packages\\ipykernel_launcher.py:87: DeprecationWarning: object of type <class 'float'> cannot be safely interpreted as an integer.\n"
     ]
    },
    {
     "data": {
      "text/plain": [
       "'\\nM, A, B= linearizer.linearize()\\nM_op=msubs(M, op_point)\\nA_op=msubs(A, op_point)\\nperm_mat=linearizer.perm_mat\\nA_lin=perm_mat.T*M_op.LUsolve(A_op)\\n'"
      ]
     },
     "execution_count": 13,
     "metadata": {},
     "output_type": "execute_result"
    }
   ],
   "source": [
    "#IMPORTS\n",
    "from eq_of_motion import *\n",
    "\n",
    "import numpy as np\n",
    "import sympy as sm\n",
    "from numpy import deg2rad, rad2deg\n",
    "from scipy import linalg as la\n",
    "from sympy.physics.mechanics import  msubs\n",
    "from scipy.integrate import odeint\n",
    "from pydy.codegen.ode_function_generators import generate_ode_function\n",
    "from sympy.physics.vector import init_vprinting, vlatex\n",
    "init_vprinting(use_latex='mathjax', pretty_print=False)\n",
    "\n",
    "from matplotlib import pyplot as plt\n",
    "\n",
    "#LQR control :\n",
    "\n",
    "\n",
    "def lqr(A, B, Q, R):\n",
    "    \"\"\"\n",
    "    solve the continous time lqr controller:\n",
    "    dx/dt = A x + B u\n",
    "    cost : integral x.T*Q*x + u.T*R*u\n",
    "\n",
    "    \"\"\"\n",
    "    #solving the algebric riccati equation\n",
    "    P = np.array([la.solve_continuous_are(A, B, Q, R)])\n",
    "\n",
    "    #computer LQR gain\n",
    "    K = np.array(la.inv(R) * (B.T * P))\n",
    "    eigVals, eigVec = la.eig(A - B * K)\n",
    "\n",
    "    return K, P, eigVals\n",
    "\n",
    "\n",
    "def dlqr(A, B, Q, R):\n",
    "    \"\"\"\n",
    "    solving discrete time lqr controller\n",
    "    x[k+1] = A x[k] + B u[k]\n",
    "\n",
    "    \"\"\"\n",
    "    #solving the algebric riccati equation\n",
    "    P = np.array([la.solve_discrete_are(A, B, Q, R)])\n",
    "\n",
    "    #computer LQR gain\n",
    "    K = np.array([la.inv(R) * (B.T * P)])\n",
    "    eigVals, eigVec = la.eig(A - B * K)\n",
    "\n",
    "    return K, P, eigVals\n",
    "\n",
    "\n",
    "#Constants\n",
    "constants = [l, a[0], m[0], m[1], J[0], J[1], d[0], g]\n",
    "specified=[f]\n",
    "\n",
    "#generating ode functions from symbolic eq. :\n",
    "right_hand_side = generate_ode_function(\n",
    "    forcing_vector,\n",
    "    q,\n",
    "    qdot,\n",
    "    constants,\n",
    "    mass_matrix=mass_matrix,\n",
    "    specifieds=specified)\n",
    "\n",
    "#defining numerical constans :\n",
    "numerical_constants = np.array([\n",
    "    0.32,  # l0\n",
    "    0.2,  #a0\n",
    "    3.34,  #m0\n",
    "    0.8512,  #m1\n",
    "    0,  #J0\n",
    "    0.01980,  #J1\n",
    "    0.00715,  #d\n",
    "    9.81  #g\n",
    "])\n",
    "\n",
    "#\n",
    "numerical_specified = np.array([0])\n",
    "\n",
    "#integrating the Eq. of Motion\n",
    "x0 = np.array([0, deg2rad(45), 0, 0])\n",
    "right_hand_side(x0, 0.0, numerical_specified, numerical_constants)\n",
    "\n",
    "#integrating the Eq. of Motion\n",
    "frames_per_sec = 60\n",
    "final_time = 5.0\n",
    "t = np.linspace(0.0, final_time, final_time * frames_per_sec)\n",
    "\n",
    "parameter_dict = dict(zip(constants, numerical_constants))\n",
    "#linearizing the equation at the point where pendulum on top of the cart is.q[1]=pi/2\n",
    "linearizer = Kane.to_linearizer()\n",
    "\n",
    "\n",
    "linearizer.r== sm.Matrix(specified) #definig input r as our specified\n",
    "linearizer.r= sm.Matrix(specified)\n",
    "\n",
    "#A, B = linearizer.linearize(A_and_B=True)\n",
    "equilibrium_dict = {q[0]: 0, q[1]: np.pi / 2, qdot[0]:0, qdot[1]:0}\n",
    "\n",
    "op_point=[equilibrium_dict, parameter_dict]\n",
    "A_op, B_op = linearizer.linearize(\n",
    "    A_and_B=True, op_point=op_point, simplify=True)\n",
    "'''\n",
    "M, A, B= linearizer.linearize()\n",
    "M_op=msubs(M, op_point)\n",
    "A_op=msubs(A, op_point)\n",
    "perm_mat=linearizer.perm_mat\n",
    "A_lin=perm_mat.T*M_op.LUsolve(A_op)\n",
    "'''"
   ]
  },
  {
   "cell_type": "code",
   "execution_count": 5,
   "metadata": {},
   "outputs": [
    {
     "data": {
      "text/latex": [
       "$$\\left[\\begin{matrix}1 & 0 & 0 & 0\\\\0 & 1 & 0 & 0\\\\0 & 0 & - m_{0} - m_{1} & 1.0 a_{0} m_{1}\\\\0 & 0 & 1.0 a_{0} m_{1} & - J_{1} - a_{0}^{2} m_{1}\\end{matrix}\\right]$$"
      ],
      "text/plain": [
       "Matrix([\n",
       "[1, 0,         0,              0],\n",
       "[0, 1,         0,              0],\n",
       "[0, 0,  -m0 - m1,      1.0*a0*m1],\n",
       "[0, 0, 1.0*a0*m1, -J1 - a0**2*m1]])"
      ]
     },
     "execution_count": 5,
     "metadata": {},
     "output_type": "execute_result"
    }
   ],
   "source": [
    "M_op"
   ]
  },
  {
   "cell_type": "code",
   "execution_count": 6,
   "metadata": {},
   "outputs": [
    {
     "data": {
      "text/latex": [
       "$$\\left[\\begin{matrix}1 & 0 & 0 & 0\\\\0 & 1 & 0 & 0\\\\0 & 0 & m_{0} + m_{1} & - a_{0} m_{1} \\operatorname{sin}\\left(q_{1}\\right)\\\\0 & 0 & - a_{0} m_{1} \\operatorname{sin}\\left(q_{1}\\right) & J_{1} + a_{0}^{2} m_{1}\\end{matrix}\\right]$$"
      ],
      "text/plain": [
       "Matrix([\n",
       "[1, 0,              0,              0],\n",
       "[0, 1,              0,              0],\n",
       "[0, 0,        m0 + m1, -a0*m1*sin(q1)],\n",
       "[0, 0, -a0*m1*sin(q1),  J1 + a0**2*m1]])"
      ]
     },
     "execution_count": 6,
     "metadata": {},
     "output_type": "execute_result"
    }
   ],
   "source": [
    "mass_matrix"
   ]
  },
  {
   "cell_type": "code",
   "execution_count": 7,
   "metadata": {},
   "outputs": [
    {
     "data": {
      "text/latex": [
       "$$\\left[\\begin{matrix}\\dot{q}_{0}\\\\\\dot{q}_{1}\\\\a_{0} m_{1} \\dot{q}^{2}_{1} \\operatorname{cos}\\left(q_{1}\\right) + f\\\\- a_{0} g m_{1} \\operatorname{cos}\\left(q_{1}\\right)\\end{matrix}\\right]$$"
      ],
      "text/plain": [
       "Matrix([\n",
       "[                     qdot0],\n",
       "[                     qdot1],\n",
       "[a0*m1*qdot1**2*cos(q1) + f],\n",
       "[          -a0*g*m1*cos(q1)]])"
      ]
     },
     "execution_count": 7,
     "metadata": {},
     "output_type": "execute_result"
    }
   ],
   "source": [
    "forcing_vector"
   ]
  },
  {
   "cell_type": "code",
   "execution_count": 11,
   "metadata": {},
   "outputs": [
    {
     "data": {
      "text/latex": [
       "$$\\left[\\begin{matrix}1 & 0 & 0 & 0\\\\0 & 1 & 0 & 0\\\\0 & 0 & - m_{0} - m_{1} & a_{0} m_{1} \\operatorname{sin}\\left(q_{1}\\right)\\\\0 & 0 & a_{0} m_{1} \\operatorname{sin}\\left(q_{1}\\right) & - J_{1} - a_{0}^{2} m_{1}\\end{matrix}\\right]$$"
      ],
      "text/plain": [
       "Matrix([\n",
       "[1, 0,             0,              0],\n",
       "[0, 1,             0,              0],\n",
       "[0, 0,      -m0 - m1,  a0*m1*sin(q1)],\n",
       "[0, 0, a0*m1*sin(q1), -J1 - a0**2*m1]])"
      ]
     },
     "execution_count": 11,
     "metadata": {},
     "output_type": "execute_result"
    }
   ],
   "source": [
    "M"
   ]
  },
  {
   "cell_type": "code",
   "execution_count": 15,
   "metadata": {},
   "outputs": [
    {
     "data": {
      "text/latex": [
       "$$\\left[\\begin{matrix}0 & 0 & 1 & 0\\\\0 & 0 & 0 & 1\\\\0 & 9.02165662948104 \\cdot 10^{-18} \\dot{\\dot{q}}_{0} + 2.85360764910888 \\cdot 10^{-18} \\dot{\\dot{q}}_{1} + 1.44535471936607 & 0 & 0\\\\0 & 2.22107420497421 \\cdot 10^{-16} \\dot{\\dot{q}}_{0} + 9.02165662948104 \\cdot 10^{-18} \\dot{\\dot{q}}_{1} + 35.5837094678517 & 0 & 0\\end{matrix}\\right]$$"
      ],
      "text/plain": [
       "Matrix([\n",
       "[0,                                                                            0, 1, 0],\n",
       "[0,                                                                            0, 0, 1],\n",
       "[0, 9.02165662948104e-18*qdot0' + 2.85360764910888e-18*qdot1' + 1.44535471936607, 0, 0],\n",
       "[0, 2.22107420497421e-16*qdot0' + 9.02165662948104e-18*qdot1' + 35.5837094678517, 0, 0]])"
      ]
     },
     "execution_count": 15,
     "metadata": {},
     "output_type": "execute_result"
    }
   ],
   "source": [
    "A_op"
   ]
  },
  {
   "cell_type": "code",
   "execution_count": 16,
   "metadata": {},
   "outputs": [
    {
     "ename": "NameError",
     "evalue": "name 'matrix2numpy' is not defined",
     "output_type": "error",
     "traceback": [
      "\u001b[1;31m---------------------------------------------------------------------------\u001b[0m",
      "\u001b[1;31mNameError\u001b[0m                                 Traceback (most recent call last)",
      "\u001b[1;32m<ipython-input-16-81c3af168d12>\u001b[0m in \u001b[0;36m<module>\u001b[1;34m()\u001b[0m\n\u001b[1;32m----> 1\u001b[1;33m \u001b[0mA\u001b[0m \u001b[1;33m=\u001b[0m \u001b[0mmatrix2numpy\u001b[0m\u001b[1;33m(\u001b[0m\u001b[0mA_op\u001b[0m\u001b[1;33m,\u001b[0m \u001b[0mdtype\u001b[0m\u001b[1;33m=\u001b[0m\u001b[0mfloat\u001b[0m\u001b[1;33m)\u001b[0m\u001b[1;33m\u001b[0m\u001b[0m\n\u001b[0m",
      "\u001b[1;31mNameError\u001b[0m: name 'matrix2numpy' is not defined"
     ]
    }
   ],
   "source": [
    "A = sm.matrix2numpy(A_op, dtype=float)"
   ]
  },
  {
   "cell_type": "code",
   "execution_count": null,
   "metadata": {
    "collapsed": true
   },
   "outputs": [],
   "source": []
  }
 ],
 "metadata": {
  "kernelspec": {
   "display_name": "Python 3",
   "language": "python",
   "name": "python3"
  },
  "language_info": {
   "codemirror_mode": {
    "name": "ipython",
    "version": 3
   },
   "file_extension": ".py",
   "mimetype": "text/x-python",
   "name": "python",
   "nbconvert_exporter": "python",
   "pygments_lexer": "ipython3",
   "version": "3.6.3"
  }
 },
 "nbformat": 4,
 "nbformat_minor": 2
}
