{
 "cells": [
  {
   "cell_type": "code",
   "execution_count": 29,
   "metadata": {},
   "outputs": [
    {
     "name": "stdout",
     "output_type": "stream",
     "text": [
      "0\n",
      "1\n"
     ]
    }
   ],
   "source": [
    "#imports\n",
    "from __future__ import division, print_function\n",
    "import sympy as sm\n",
    "from sympy import trigsimp\n",
    "import sympy.physics.mechanics as me\n",
    "import mpmath as mp\n",
    "\n",
    "from sympy.physics.vector import init_vprinting, vlatex\n",
    "init_vprinting(use_latex='mathjax', pretty_print=False)\n",
    "\n",
    "# Defining symbolic Variables\n",
    "\n",
    "n = 2\n",
    "q = me.dynamicsymbols('q:{}'.format(n + 1))  # generalized coordinates\n",
    "qdot = me.dynamicsymbols('qdot:{}'.format(n + 1))  #generalized speeds\n",
    "f = me.dynamicsymbols('f')\n",
    "m = sm.symbols('m:{}'.format(n + 1))\n",
    "J = sm.symbols('J:{}'.format(n + 1))\n",
    "l = sm.symbols('l:{}'.format(n))  # lenght of each pendlum\n",
    "a = sm.symbols('a:{}'.format(n))  #location of Mass-centers\n",
    "d = sm.symbols('d1:{}'.format(n + 1))  #viscous damping coef.\n",
    "g, t = sm.symbols('g t')\n",
    "\n",
    "# intertial reference frame\n",
    "In_frame = me.ReferenceFrame('In_frame')\n",
    "\n",
    "# Origninal Point O in Reference Frame :\n",
    "O = me.Point('O')\n",
    "O.set_vel(In_frame, 0)\n",
    "\n",
    "# The Center of Mass Point on cart :\n",
    "C0 = me.Point('C0')\n",
    "C0.set_pos(O, q[0] * In_frame.x)\n",
    "C0.set_vel(In_frame, qdot[0] * In_frame.x)\n",
    "\n",
    "cart_inertia_dyadic = me.inertia(In_frame, 0, 0, J[0])\n",
    "cart_central_intertia = (cart_inertia_dyadic, C0)\n",
    "\n",
    "cart = me.RigidBody('Cart', C0, In_frame, m[0], cart_central_intertia)\n",
    "\n",
    "kindiffs = [q[0].diff(t) - qdot[0]]  # entforcing qdot=Omega\n",
    "\n",
    "frames = [In_frame]\n",
    "mass_centers = [C0]\n",
    "joint_centers = [C0]\n",
    "central_intertias = [cart_central_intertia]\n",
    "\n",
    "forces = [(C0, f * In_frame.x - m[0] * g * In_frame.y)]\n",
    "\n",
    "torques=[]\n",
    "\n",
    "rigid_bodies = [cart]\n",
    "\n",
    "\n",
    "for i in range(n):\n",
    "    #Creating new reference frame\n",
    "    Li = In_frame.orientnew('L' + str(i), 'Axis', [q[i + 1], In_frame.z])\n",
    "    Li.set_ang_vel(In_frame, qdot[i + 1] * In_frame.z)\n",
    "    frames.append(Li)\n",
    "\n",
    "    # Creating new mass point centers\n",
    "    Pi = mass_centers[-1].locatenew('a' + str(i + 1), a[i] * Li.x)\n",
    "    Pi.v2pt_theory(joint_centers[-1], In_frame, Li)\n",
    "    mass_centers.append(Pi)\n",
    "\n",
    "    #Creating new joint Points\n",
    "    Jointi = joint_centers[-1].locatenew('jont' + str(i + 1), l[i] * Li.x)\n",
    "    Jointi.v2pt_theory(joint_centers[-1], In_frame, Li)\n",
    "    joint_centers.append(Jointi)\n",
    "\n",
    "    #adding forces\n",
    "    forces.append((Pi, -m[i + 1] * g * In_frame.y))\n",
    "    \n",
    "    #adding torqes\n",
    "    if i=0 :\n",
    "        torqueVectori= -d[0] * qdot[1] * In_frame.z\n",
    "        torques.append((L0, torqueVectori))\n",
    "    else:\n",
    "        torqueVectori = -d[i] * (qdot[i+1]-qdot[i])*In_frame.z\n",
    "        torques.append((L[i], torqueVectori))\n",
    "    \n",
    "    \n",
    "    #adding torqes\n",
    "    if i <= (n - 3) :\n",
    "        torqueVectori = (d[i] * (qdot[i + 1] - qdot[i + 2]) - d[i + 2] *\n",
    "                         (qdot[i + 2] - qdot[i + 3])) * In_frame.z\n",
    "        torques.append((Li, torqueVectori))\n",
    "     \n",
    "\n",
    "    elif i == (n - 2):\n",
    "        torqueVectori = (d[i + 1] * (qdot[i + 1] - qdot[i + 2])) * In_frame.z\n",
    "        torques.append((Li, torqueVectori))\n",
    "        \n",
    "    elif n == 1 : \n",
    "        torqueVector = (-d[0] * qdot[1]) * In_frame.z  \n",
    "        torques.append((Li, torqueVector))\n",
    "        \n",
    "    \n",
    "    \n",
    "    #adding cential inertias \n",
    "    IDi = me.inertia(frames[i + 1], 0, 0, J[i + 1])\n",
    "    ICi = (IDi, mass_centers[i + 1])\n",
    "    central_intertias.append(ICi)\n",
    "\n",
    "    LBodyi = me.RigidBody('L' + str(i + 1) + '_Body', mass_centers[i + 1],\n",
    "                          frames[i + 1], m[i + 1], central_intertias[i + 1])\n",
    "    rigid_bodies.append(LBodyi)\n",
    "\n",
    "    kindiffs.append(q[i + 1].diff(t) - qdot[i + 1])\n",
    "    print(i) \n",
    "\n",
    "#generalized force\n",
    "loads = torques + forces\n",
    "\n",
    "#Kane's Method --> Equation of motion\n",
    "Kane = me.KanesMethod(In_frame, q, qdot, kindiffs)\n",
    "fr, frstar = Kane.kanes_equations(rigid_bodies, loads)\n",
    "\n",
    "mass_matrix = trigsimp(Kane.mass_matrix_full)\n",
    "forcing_vector = trigsimp(Kane.forcing_full)\n",
    "\n",
    "    "
   ]
  },
  {
   "cell_type": "code",
   "execution_count": 30,
   "metadata": {},
   "outputs": [
    {
     "data": {
      "text/latex": [
       "$$\\left[\\begin{matrix}1 & 0 & 0 & 0 & 0 & 0\\\\0 & 1 & 0 & 0 & 0 & 0\\\\0 & 0 & 1 & 0 & 0 & 0\\\\0 & 0 & 0 & m_{0} + m_{1} + m_{2} & - \\left(a_{0} m_{1} + l_{0} m_{2}\\right) \\operatorname{sin}\\left(q_{1}\\right) & m_{2} \\left(- a_{1} \\operatorname{sin}\\left(q_{2}\\right) + \\left(- a_{0} + l_{0}\\right) \\operatorname{sin}\\left(q_{1}\\right)\\right)\\\\0 & 0 & 0 & - \\left(a_{0} m_{1} + l_{0} m_{2}\\right) \\operatorname{sin}\\left(q_{1}\\right) & J_{1} + a_{0}^{2} m_{1} + l_{0}^{2} m_{2} & l_{0} m_{2} \\left(a_{0} + a_{1} \\operatorname{cos}\\left(q_{1} - q_{2}\\right) - l_{0}\\right)\\\\0 & 0 & 0 & m_{2} \\left(- a_{1} \\operatorname{sin}\\left(q_{2}\\right) + \\left(- a_{0} + l_{0}\\right) \\operatorname{sin}\\left(q_{1}\\right)\\right) & l_{0} m_{2} \\left(a_{0} + a_{1} \\operatorname{cos}\\left(q_{1} - q_{2}\\right) - l_{0}\\right) & J_{2} + m_{2} \\left(a_{1}^{2} + 2 a_{1} \\left(a_{0} - l_{0}\\right) \\operatorname{cos}\\left(q_{1} - q_{2}\\right) + \\left(a_{0} - l_{0}\\right)^{2}\\right)\\end{matrix}\\right]$$"
      ],
      "text/plain": [
       "Matrix([\n",
       "[1, 0, 0,                                     0,                                 0,                                                            0],\n",
       "[0, 1, 0,                                     0,                                 0,                                                            0],\n",
       "[0, 0, 1,                                     0,                                 0,                                                            0],\n",
       "[0, 0, 0,                          m0 + m1 + m2,          -(a0*m1 + l0*m2)*sin(q1),                        m2*(-a1*sin(q2) + (-a0 + l0)*sin(q1))],\n",
       "[0, 0, 0,              -(a0*m1 + l0*m2)*sin(q1),          J1 + a0**2*m1 + l0**2*m2,                            l0*m2*(a0 + a1*cos(q1 - q2) - l0)],\n",
       "[0, 0, 0, m2*(-a1*sin(q2) + (-a0 + l0)*sin(q1)), l0*m2*(a0 + a1*cos(q1 - q2) - l0), J2 + m2*(a1**2 + 2*a1*(a0 - l0)*cos(q1 - q2) + (a0 - l0)**2)]])"
      ]
     },
     "execution_count": 30,
     "metadata": {},
     "output_type": "execute_result"
    }
   ],
   "source": [
    "mass_matrix"
   ]
  },
  {
   "cell_type": "code",
   "execution_count": 31,
   "metadata": {},
   "outputs": [
    {
     "data": {
      "text/latex": [
       "$$\\left[\\begin{matrix}\\dot{q}_{0}\\\\\\dot{q}_{1}\\\\\\dot{q}_{2}\\\\a_{0} m_{1} \\dot{q}^{2}_{1} \\operatorname{cos}\\left(q_{1}\\right) + a_{1} m_{2} \\dot{q}^{2}_{2} \\operatorname{cos}\\left(q_{2}\\right) + m_{2} \\left(l_{0} \\dot{q}_{1} + \\left(a_{0} - l_{0}\\right) \\dot{q}_{2}\\right) \\dot{q}_{1} \\operatorname{cos}\\left(q_{1}\\right) + f\\\\- a_{0} g m_{1} \\operatorname{cos}\\left(q_{1}\\right) - a_{1} l_{0} m_{2} \\dot{q}^{2}_{2} \\operatorname{sin}\\left(q_{1} - q_{2}\\right) + d_{2} \\left(\\dot{q}_{1} - \\dot{q}_{2}\\right) - g l_{0} m_{2} \\operatorname{cos}\\left(q_{1}\\right)\\\\- a_{1} g m_{2} \\operatorname{cos}\\left(q_{2}\\right) - a_{1} m_{2} \\left(a_{0} - l_{0}\\right) \\dot{q}^{2}_{2} \\operatorname{sin}\\left(q_{1} - q_{2}\\right) + a_{1} m_{2} \\left(l_{0} \\dot{q}_{1} + \\left(a_{0} - l_{0}\\right) \\dot{q}_{2}\\right) \\dot{q}_{1} \\operatorname{sin}\\left(q_{1} - q_{2}\\right) - g m_{2} \\left(a_{0} - l_{0}\\right) \\operatorname{cos}\\left(q_{1}\\right)\\end{matrix}\\right]$$"
      ],
      "text/plain": [
       "Matrix([\n",
       "[                                                                                                                                    qdot0],\n",
       "[                                                                                                                                    qdot1],\n",
       "[                                                                                                                                    qdot2],\n",
       "[                                      a0*m1*qdot1**2*cos(q1) + a1*m2*qdot2**2*cos(q2) + m2*(l0*qdot1 + (a0 - l0)*qdot2)*qdot1*cos(q1) + f],\n",
       "[                                                 -a0*g*m1*cos(q1) - a1*l0*m2*qdot2**2*sin(q1 - q2) + d2*(qdot1 - qdot2) - g*l0*m2*cos(q1)],\n",
       "[-a1*g*m2*cos(q2) - a1*m2*(a0 - l0)*qdot2**2*sin(q1 - q2) + a1*m2*(l0*qdot1 + (a0 - l0)*qdot2)*qdot1*sin(q1 - q2) - g*m2*(a0 - l0)*cos(q1)]])"
      ]
     },
     "execution_count": 31,
     "metadata": {},
     "output_type": "execute_result"
    }
   ],
   "source": [
    "forcing_vector"
   ]
  },
  {
   "cell_type": "code",
   "execution_count": 32,
   "metadata": {},
   "outputs": [
    {
     "data": {
      "text/plain": [
       "[(L0, d2*(qdot1 - qdot2)*In_frame.z),\n",
       " (C0, f*In_frame.x - g*m0*In_frame.y),\n",
       " (a1, - g*m1*In_frame.y),\n",
       " (a2, - g*m2*In_frame.y)]"
      ]
     },
     "execution_count": 32,
     "metadata": {},
     "output_type": "execute_result"
    }
   ],
   "source": [
    "loads"
   ]
  },
  {
   "cell_type": "code",
   "execution_count": null,
   "metadata": {},
   "outputs": [],
   "source": []
  }
 ],
 "metadata": {
  "kernelspec": {
   "display_name": "Python 3",
   "language": "python",
   "name": "python3"
  },
  "language_info": {
   "codemirror_mode": {
    "name": "ipython",
    "version": 3
   },
   "file_extension": ".py",
   "mimetype": "text/x-python",
   "name": "python",
   "nbconvert_exporter": "python",
   "pygments_lexer": "ipython3",
   "version": "3.6.4"
  }
 },
 "nbformat": 4,
 "nbformat_minor": 2
}
