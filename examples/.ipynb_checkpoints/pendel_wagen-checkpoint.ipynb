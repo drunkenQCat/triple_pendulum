{
 "cells": [
  {
   "cell_type": "code",
   "execution_count": 1,
   "metadata": {
    "collapsed": true
   },
   "outputs": [],
   "source": [
    "\n",
    "%matplotlib inline\n",
    "\n",
    "import sympy as sp\n",
    "from sympy import sin, cos, pi\n",
    "from sympy.interactive import printing\n",
    "import pickle\n",
    "import numpy as np\n",
    "import scipy as sc\n",
    "import scipy.interpolate\n",
    "from scipy.integrate import odeint\n",
    "import matplotlib.pyplot as pl\n",
    "\n",
    "import symbtools as st\n",
    "import symbtools.modeltools as mt\n",
    "import symbtools.noncommutativetools as nct\n",
    "import pycartan as pc\n",
    "zip0 = st.zip0\n",
    "printing.init_printing(1)\n",
    "\n",
    "#from diss_aux import latex"
   ]
  },
  {
   "cell_type": "code",
   "execution_count": 2,
   "metadata": {
    "collapsed": true
   },
   "outputs": [],
   "source": [
    "t = sp.Symbol('t')\n",
    "\n",
    "q = st.symb_vector(\"q0:{0}\".format(2))\n",
    "qdot = st.time_deriv(q, q) ##:T\n",
    "\n",
    "#ww = st.symb_vector(\"w1:{0}\".format(Nq+1))\n",
    "\n",
    "qdd = st.time_deriv(q, q, order=2) ##:T\n",
    "st.make_global(q, qdot)"
   ]
  },
  {
   "cell_type": "code",
   "execution_count": 3,
   "metadata": {
    "collapsed": true
   },
   "outputs": [],
   "source": [
    "params = sp.symbols('m0, m1, l, a, J1,d, g')\n",
    "st.make_global(params)\n",
    "f = sp.Symbol(\"f\")"
   ]
  },
  {
   "cell_type": "code",
   "execution_count": 4,
   "metadata": {
    "collapsed": true
   },
   "outputs": [],
   "source": [
    "ex = sp.Matrix([1,0])\n",
    "ey = sp.Matrix([0,1])\n",
    "\n",
    "# Koordinaten der Schwerpunkte und Gelenke\n",
    "\n",
    "S1 = ex*q0 # Schwerpunkt Wagen\n",
    "G2 = S1 # Pendel-Gelenk\n",
    "\n",
    "# Schwerpunkt des Pendels (Pendel zeigt für kleine Winkel nach unten)\n",
    "S2 = G2 + mt.Rz(q1)*(-ey)*a\n",
    "\n",
    "# Zeitableitungen der Schwerpunktskoordinaten\n",
    "Sd1, Sd2  = st.col_split(st.time_deriv(st.col_stack(S1, S2), q)) ##"
   ]
  },
  {
   "cell_type": "code",
   "execution_count": 5,
   "metadata": {
    "collapsed": true
   },
   "outputs": [],
   "source": [
    "# Energie\n",
    "T_rot = 1/2 * J1 * qdot1\n",
    "T_trans = ( m0*Sd1.T*Sd1  +  m1*Sd2.T*Sd2 )/2\n",
    "\n",
    "T = T_rot + T_trans[0]\n",
    "\n",
    "V = m1*g*S2[1] - 1/2 * d * qdot1**2"
   ]
  },
  {
   "cell_type": "code",
   "execution_count": 6,
   "metadata": {
    "collapsed": true
   },
   "outputs": [],
   "source": [
    "mod = mt.generate_symbolic_model(T, V, q, [0, f])"
   ]
  },
  {
   "cell_type": "code",
   "execution_count": 7,
   "metadata": {},
   "outputs": [
    {
     "data": {
      "text/latex": [
       "$$\\left[\\begin{matrix}m_{0} + m_{1} & a m_{1} \\cos{\\left (q_{1} \\right )}\\\\1.0 a m_{1} \\cos{\\left (q_{1} \\right )} & 1.0 a^{2} m_{1} + 1.0 d\\end{matrix}\\right]$$"
      ],
      "text/plain": [
       "⎡    m₀ + m₁         a⋅m₁⋅cos(q₁)   ⎤\n",
       "⎢                                   ⎥\n",
       "⎢                       2           ⎥\n",
       "⎣1.0⋅a⋅m₁⋅cos(q₁)  1.0⋅a ⋅m₁ + 1.0⋅d⎦"
      ]
     },
     "execution_count": 7,
     "metadata": {},
     "output_type": "execute_result"
    }
   ],
   "source": [
    "mod.MM.simplify()\n",
    "mod.MM"
   ]
  },
  {
   "cell_type": "code",
   "execution_count": 8,
   "metadata": {
    "collapsed": true
   },
   "outputs": [],
   "source": [
    "mod.calc_coll_part_lin_state_eq(simplify=True)"
   ]
  },
  {
   "cell_type": "code",
   "execution_count": 9,
   "metadata": {
    "collapsed": true
   },
   "outputs": [],
   "source": [
    "xx = mod.x ##:T\n",
    "f = mod.ff ##:\n",
    "G = mod.gg \n",
    "g1, = st.col_split(G) ##:"
   ]
  },
  {
   "cell_type": "code",
   "execution_count": 16,
   "metadata": {},
   "outputs": [],
   "source": [
    "\n",
    "eqp1 = sp.Matrix([sp.pi, 0, 0, 0 ]) ##:T\n",
    "\n",
    "# Probe:\n",
    "#f.subz(xx, eqp1) ##:T"
   ]
  },
  {
   "cell_type": "code",
   "execution_count": 11,
   "metadata": {
    "collapsed": true
   },
   "outputs": [],
   "source": [
    "# Parameterwerte\n",
    "\n",
    "parameter_values = [(g, 9.81), (a, 0.2)]\n",
    "replm = list(map(lambda a,b :(a,b),xx, eqp1)) + parameter_values\n"
   ]
  },
  {
   "cell_type": "code",
   "execution_count": 12,
   "metadata": {},
   "outputs": [
    {
     "data": {
      "image/png": "[encoded data removed]",
      "text/latex": [
       "$$\\left [ \\left ( q_{0}, \\quad \\pi\\right ), \\quad \\left ( q_{1}, \\quad 0\\right ), \\quad \\left ( \\dot{q}_{0}, \\quad 0\\right ), \\quad \\left ( \\dot{q}_{1}, \\quad 0\\right ), \\quad \\left ( g, \\quad 9.81\\right ), \\quad \\left ( a, \\quad 0.2\\right )\\right ]$$"
      ],
      "text/plain": [
       "[(q₀, π), (q₁, 0), (q̇₀, 0), (q̇₁, 0), (g, 9.81), (a, 0.2)]"
      ]
     },
     "execution_count": 12,
     "metadata": {},
     "output_type": "execute_result"
    }
   ],
   "source": [
    "replm"
   ]
  },
  {
   "cell_type": "code",
   "execution_count": 17,
   "metadata": {
    "collapsed": true
   },
   "outputs": [],
   "source": [
    "#A1 = f.jacobian(xx).subs(replm) ##\n",
    "#b1 = G.subs(replm) ##"
   ]
  },
  {
   "cell_type": "code",
   "execution_count": 25,
   "metadata": {},
   "outputs": [],
   "source": [
    "sm = st.SimulationModel(mod.ff, mod.gg, mod.xx ,model_parameters=parameter_values)\n"
   ]
  },
  {
   "cell_type": "code",
   "execution_count": 26,
   "metadata": {},
   "outputs": [],
   "source": [
    "rhs1 = sm.create_simfunction"
   ]
  },
  {
   "cell_type": "code",
   "execution_count": 28,
   "metadata": {},
   "outputs": [],
   "source": [
    "tt = np.arange(0, 10, 1e-3)\n",
    "xx0 = st.to_np(eqp2).ravel()\n",
    "sol = odeint(rhs1, xx0, tt)"
   ]
  },
  {
   "cell_type": "raw",
   "metadata": {},
   "source": []
  }
 ],
 "metadata": {
  "kernelspec": {
   "display_name": "Python 3",
   "language": "python",
   "name": "python3"
  },
  "language_info": {
   "codemirror_mode": {
    "name": "ipython",
    "version": 3
   },
   "file_extension": ".py",
   "mimetype": "text/x-python",
   "name": "python",
   "nbconvert_exporter": "python",
   "pygments_lexer": "ipython3",
   "version": "3.6.3"
  }
 },
 "nbformat": 4,
 "nbformat_minor": 2
}
