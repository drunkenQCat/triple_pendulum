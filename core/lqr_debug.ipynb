{
 "cells": [
  {
   "cell_type": "code",
   "execution_count": 1,
   "metadata": {},
   "outputs": [
    {
     "name": "stderr",
     "output_type": "stream",
     "text": [
      "2018-06-01 15:22:17,859 matplotlib   DEBUG    $HOME=C:\\Users\\kuros\n",
      "2018-06-01 15:22:17,864 matplotlib   DEBUG    matplotlib data path C:\\Users\\kuros\\Anaconda3\\envs\\py2env\\lib\\site-packages\\matplotlib\\mpl-data\n",
      "2018-06-01 15:22:17,898 matplotlib   DEBUG    loaded rc file C:\\Users\\kuros\\Anaconda3\\envs\\py2env\\lib\\site-packages\\matplotlib\\mpl-data\\matplotlibrc\n",
      "2018-06-01 15:22:17,908 matplotlib   DEBUG    matplotlib version 2.2.2\n",
      "2018-06-01 15:22:17,910 matplotlib   DEBUG    interactive is False\n",
      "2018-06-01 15:22:17,911 matplotlib   DEBUG    platform is win32\n",
      "2018-06-01 15:22:17,913 matplotlib   DEBUG    loaded modules: ['sympy.functions.combinatorial.factorials', 'numpy.core.info', 'traitlets.config.decorator', 'sympy.sets.__future__', 'distutils.sysconfig', 'pygments.filters', 'IPython.utils.pprint', 'logging.weakref', 'mpmath.libmp.StringIO', 'dateutil.tz.os', 'pprint', 'prompt_toolkit.key_binding.bindings.vi', 'ipykernel.traitlets', 'dill.objtypes', 'IPython.terminal.sys', 'sympy.interactive', 'scipy.sparse.linalg.isolve.utils', 'IPython.terminal.embed', 'scipy.integrate._ivp.bdf', 'jupyter_core.sys', 'sympy.core.relational', 'sympy.combinatorics.partitions', 'cmd', 'IPython.core.magics.auto', 'shlex', 'scipy.optimize._trustregion_constr.tr_interior_point', 'sympy.functions.elementary.sympy', 'scipy.optimize._lsq.least_squares', 'IPython.core.completerlib', 'scipy.sparse.linalg.dsolve.linsolve', 'zlib', 'sympy.printing.latex', 'pygments.styles.pygments', 'IPython.terminal.ipapp', 'IPython.core.excolors', 'matplotlib.cbook.warnings', 'sympy.physics.units', 'zmq.backend.cython.error', 'ipykernel._subprocess', 'numpy.lib.npyio', 'sympy.printing.tempfile', 'IPython.core.mimetypes', 'sympy.combinatorics.random', 'ntpath', 'IPython.utils.openpy', 'sympy.strategies.functools', 'prompt_toolkit.key_binding.weakref', 'prompt_toolkit.tempfile', 'scipy.linalg._decomp_ldl', 'scipy.sparse.linalg.isolve._iterative', 'codecs', 'traitlets.config.loader', 'scipy.linalg.decomp_cholesky', 'zmq.eventloop', 'pytrajectory.system', 'pygments.filters.pygments', 'prompt_toolkit.styles.__future__', 'distutils.sys', 'sympy.matrices.expressions.trace', 'json.decoder', 'sympy.solvers.itertools', 'sympy.polys.domains.algebraicfield', 'sympy.series.collections', 'sympy.ntheory.factor_', 'sympy.solvers.solvers', 'sympy.tensor.array.functools', 'sympy.functions.special.functools', 'ctypes._ctypes', '_heapq', 'sympy.external', 'zmq.sugar.constants', 'sympy.polys.os', 'sympy.strategies.tree', 'zmq.backend.cython._poll', 'prompt_toolkit.filters.utils', 'dateutil.tz._common', 'sympy.logic.inference', 'fractions', 'cPickle', 'ipykernel.comm.ipykernel', 'unittest.sys', 'ipykernel.os', 'sympy.parsing.keyword', 'IPython.lib.os', 'sympy.simplify.fu', 'zmq.backend.cython.cPickle', 'numpy.core.umath', 'prompt_toolkit.enums', 'numpy.ctypeslib', 'scipy.optimize._lsq.trf', 'jupyter_client.sys', 'prompt_toolkit.styles.pygments', 'sympy.external.os', 'scipy._lib._util', 'pytrajectory.sympy', 'zmq.backend.cython.codecs', 'jupyter_client.blocking.jupyter_client', 'exceptions', 'sympy.physics.vector.fieldfunctions', 'pygments.regexopt', 'scipy._lib.operator', 'logging.cStringIO', 'sympy.functions.special.delta_functions', 'numpy.compat', 'dateutil.parser.__future__', 'scipy.sparse.linalg.isolve.minres', 'numpy.core.records', 'sympy.logic.sympy', 'ipykernel.zmq', 'sympy.physics.mechanics.sympy', 'symbtools.sympy', 'strop', 'sympy.polys.domains', 'IPython.core.history', 'concurrent.futures.process', 'sympy.matrices.expressions.matadd', 'ipython_genutils.textwrap', 'prompt_toolkit.abc', 'IPython.utils.ipstruct', 'config', 'sympy.functions.elementary', 'sympy.printing.__future__', 'concurrent.pkgutil', 'sympy.calculus.euler', 'sympy.solvers.polysys', 'sympy.geometry.exceptions', 'sympy.core.compatibility', 'scipy.linalg._decomp_qz', 'os.path', 'prompt_toolkit.terminal.os', 'scipy._lib._testutils', 'sympy.combinatorics.subsets', 'prompt_toolkit.eventloop.callbacks', 'sympy.ntheory', 'sympy.ntheory.__future__', 'scipy.optimize.__future__', 'scipy.optimize._zeros', 'sympy.polys.specialpolys', 'functools', 'prompt_toolkit.subprocess', 'sympy.matrices', 'sympy.polys.domains.complexfield', 'scipy.optimize._trustregion_constr.scipy', 'uuid', 'numpy.matrixlib.defmatrix', 'sympy.matrices.types', 'imp', 'multiprocessing.os', 'IPython.utils.tempdir', 'backports.shutil_get_terminal_size.collections', 'enum.sys', 'numpy.core', 'prompt_toolkit.ctypes', 'scipy._lib._ccallback', 'zmq.zmq', 'scipy.optimize.linesearch', 'sympy.utilities.fnmatch', 'sympy.plotting.pygletplot.sympy', 'IPython.extensions', 'dill.source', 'zmq.eventloop.__future__', 'sympy.utilities.re', 'decorator', 'IPython.core.magics.execution', 'sympy.plotting.experimental_lambdify', 'IPython.utils.imp', 'prompt_toolkit.win32_types', 'IPython.testing.sys', 'IPython.core.magics.basic', 'sympy.printing.os', 'dateutil.tz.struct', 'sympy.polys.rootisolation', 'IPython.terminal.pt_inputhooks', 'numpy.add_newdocs', 'IPython.core.macro', 'sympy.parsing.__future__', 'sympy.polys.rootoftools', 'sympy.ntheory.collections', 'IPython.core.tempfile', 'sympy.interactive.IPython', 'numpy.random.threading', 're', 'IPython.core.IPython', 'json.json', 'sympy.matrices.expressions.hadamard', 'sympy.utilities.randtest', 'sympy.printing.pretty.stringpict', 'ipykernel.ctypes', 'matplotlib.json', 'scipy.optimize._trlib.scipy', 'prompt_toolkit.filters', '_locale', 'logging', 'traceback', 'sympy.polys.domains.characteristiczero', 'symbtools.modeltools', 'IPython.utils.coloransi', 'sympy.utilities.magic', 'sympy.core.functools', 'colorama.os', 'sympy.core.string', 'IPython.terminal.IPython', 'traitlets.config.ast', 'sympy.utilities.traceback', 'sympy.functions.special.sympy', 'dateutil.six', 'scipy.special.lambertw', 'scipy.optimize._slsqp', 'sympy.solvers', 'traitlets.logging', 'numpy.core.arrayprint', 'sympy.polys.domains.mpelements', 'zmq.backend.cython._device', 'prompt_toolkit.utils', 'sympy.core.decorators', 'numpy._import_tools', 'IPython.utils.os', 'sympy.printing.pretty.unicodedata', 'IPython.core.magics.code', 'scipy.optimize._minimize', 'prompt_toolkit.reactive', 'keyword', 'ipython_genutils.random', 'pytrajectory.numpy', 'sympy.geometry.polygon', 'IPython.utils.sysinfo', 'pygments.lexers.fnmatch', 'IPython.utils.generics', 'dill.types', 'scipy.sparse.bsr', 'sympy.calculus.util', 'sympy.plotting.textplot', 'sympy.functions.sympy', '__main__', 'colorama.initialise', 'sympy.physics.units.dimensions', 'numpy.sys', 'mpmath.libmp.os', 'prompt_toolkit.token', 'IPython.utils.terminal', 'ipykernel.iostream', 'sympy.functions.elementary.__future__', 'IPython.terminal.os', 'scipy.sparse.csgraph._laplacian', 'scipy._lib.os', 'sympy.strategies.tools', 'mpmath.ctx_iv', 'unittest.difflib', 'sympy.polys.domains.operator', 'numpy.lib.index_tricks', 'numpy.lib.scipy', 'IPython.lib.clipboard', 'glob', 'prompt_toolkit.prompt_toolkit', 'sympy.core.math', '_sqlite3', 'numpy.__config__', 'sympy.tensor.array.mutable_ndim_array', 'scipy.linalg.linalg_version', 'IPython.utils.wildcard', 'sympy.printing.subprocess', 'symbtools.collections', 'pathlib2.urllib', 'scipy.integrate._ivp.base', 'numpy.lib._iotools', 'sympy.integrals.collections', 'sympy.matrices.collections', 'sympy.polys.fields', 'ipykernel.jupyter_core', 'random', 'zmq.sugar.context', 'pygments.operator', 'scipy.optimize._basinhopping', 'scipy.optimize._minpack', 'sympy.functions.elementary.integers', 'IPython.core.time', 'sympy.combinatorics.generators', 'sympy.ntheory.random', 'scipy.sparse.linalg.eigen.arpack.arpack', 'numpy.lib._version', 'sympy.printing.defaults', 'ipython_genutils.platform', 'sympy.functions.elementary.exponential', 'symbtools.noncommutativetools', 'sympy.functions.special.tensor_functions', 'numpy.lib.type_check', 'mpmath.visualization', 'prompt_toolkit.types', 'prompt_toolkit.terminal.win32_output', 'IPython.core.prefilter', 'jupyter_core.paths', 'prompt_toolkit.key_binding.six', 'dateutil.parser.io', 'ipykernel.comm.traitlets', 'sympy.core.itertools', 'sympy.series.gruntz', 'sympy.core.os', 'sympy.physics.vector', 'urllib', 'sympy.functions.special.__future__', 'scipy.optimize._trustregion_ncg', 'ipykernel.displayhook', 'sympy.printing.octave', 'sympy.core.threading', 'symbtools.pickle', 'scipy.linalg._matfuncs_sqrtm', 'mpmath.calculus.odes', 'IPython.core.atexit', 'zmq.utils', 'pytrajectory.collocation', 'Queue', 'numpy.lib.info', 'dateutil.tz.win', 'ctypes', 'IPython.lib.collections', 'scipy._lib.StringIO', 'ipykernel.__future__', 'unittest.signal', 'symbtools.warnings', 'IPython.core.magics.namespace', 'sympy.solvers.sympy', 'IPython.terminal.shortcuts', 'IPython.core.magics.atexit', 'six.moves', 'IPython.terminal.logging', 'IPython.testing', 'sqlite3.datetime', 'pygments.lexers.re', 'prompt_toolkit.shlex', 'IPython.core.hooks', 'IPython.display', 'pkgutil', 'sqlite3._sqlite3', 'sympy.geometry.ellipse', 'sympy.tensor.array.ndim_array', 'zmq.backend.cython', 'zmq.backend.os', 'dateutil.parser.string', 'mpmath.ctx_base', 'scipy.optimize._constraints', 'numpy', 'sympy.codegen', 'sympy.solvers.pde', 'scipy.optimize.slsqp', 'multiprocessing.multiprocessing', 'prompt_toolkit.__future__', 'ipydex.IPython', 'storemagic', 'wcwidth.table_zero', 'sympy.concrete.products', 'scipy.linalg.blas', 'mpmath.functions.factorials', 'ipykernel.thread', 'sympy.utilities.misc', 'tornado.platform.auto', 'sympy.integrals', 'sympy.core.core', 'mpmath.colorsys', 'dateutil.tz', 'io', 'IPython.utils.random', 'jupyter_client.clientabc', 'sympy.matrices.matrices', 'sympy.core.sys', 'mpmath.libmp.libmpi', 'mpmath.libmp.libmpf', 'numpy.core._internal', 'mpmath.libmp.libmpc', 'sympy.sets.fancysets', 'unittest.time', 'sympy.simplify.powsimp', 'concurrent.futures', 'prompt_toolkit.weakref', 'doctest', 'mpmath.calculus.inverselaplace', 'zmq.os', 'scipy.sparse.linalg.eigen.arpack._arpack', 'rfc822', 'sympy.functions.special.bessel', 'sympy.strategies.core', 'mpmath.ctx_fp', 'scipy.sparse._sparsetools', 'jupyter_client.traitlets', 'IPython.core.usage', 'scipy.optimize.cobyla', '_weakref', 'IPython.core.inputtransformer', 'urlparse', 'pygments.cStringIO', 'gzip', 'IPython.core', 'traitlets.utils.six', '_bisect', 'sympy.external.sys', 'sympy.plotting', 'ipykernel.pickleutil', 'prompt_toolkit.key_binding.defaults', 'matplotlib.colors', 'ipython_genutils.path', 'scipy.optimize._trustregion', 'numpy.random.info', 'ipydex.core', 'IPython.utils.strdispatch', 'jupyter_client.random', 'sympy.core.sympy', 'pytrajectory.scipy', 'sympy.utilities.textwrap', 'collections', 'unittest.main', 'IPython.extensions.sys', 'IPython.core.struct', 'sympy.physics.units.definitions', 'mpmath.calculus.polynomials', 'IPython.terminal.magics', 'textwrap', 'IPython.lib.subprocess', 'tornado.util', 'sympy.tensor.__future__', 'ipykernel.math', 'zmq.backend.cython._version', 'sympy.sets.sympy', 'sympy.integrals.trigonometry', 'IPython.terminal.warnings', 'IPython.core.getopt', 'scipy.special._logsumexp', 'scipy.sparse._csparsetools', 'numpy.core.getlimits', 'pygments.lexers._mapping', 'pygments.lexers.os', 'logging.traceback', 'tornado.stack_context', 'prompt_toolkit.terminal.array', 'IPython.core.argparse', 'numpy.lib.mixins', 'scipy.sparse.linalg.isolve.lsmr', 'scipy._lib.contextlib', 'sympy.interactive.sys', 'sympy.combinatorics.mpmath', 'pathlib2.operator', 'mpl_toolkits', 'sympy.series', 'traitlets.config.ipython_genutils', 'IPython.lib', 'colorama.winterm', 'tornado.platform.common', 'sympy.core.StringIO', 'sympy.integrals.sympy', 'IPython.utils._process_win32', 'sympy.core.random', 'scipy.linalg.decomp_qr', 'sympy.core.fractions', 'sympy.matrices.__future__', 'sympy.concrete.expr_with_intlimits', 'mpmath.sys', 'mpmath.matrices.eigen_symmetric', 'numpy.linalg.lapack_lite', 'marshal', 'IPython.lib.deepreload', 'sympy.polys.domains.mpmath', 'jupyter_client.blocking.Queue', 'prompt_toolkit.layout.itertools', 'scipy.sparse.linalg._norm', 'pygments.formatters.fnmatch', 'IPython.utils.tokenutil', '_socket', 'IPython.core.glob', 'IPython.core.abc', 'numpy.testing.nose_tools.utils', 'pathlib2.posixpath', 'scipy.optimize.lbfgsb', 'zmq.eventloop.zmq', 'sympy.polys.ring_series', 'prompt_toolkit.styles.prompt_toolkit', 'sympy.combinatorics.graycode', 'tokenize', 'pygments.formatters', '_pyio', 'prompt_toolkit.six', 'zmq.backend', 'mpmath.operator', 'IPython.core.magics.pylab', 'dateutil.tz.bisect', 'IPython.paths', 'numpy.random.numpy', 'colorsys', 'mpmath.functions.functions', 'sympy.polys.domains.pythonrationalfield', 'mimetools', 'sympy.physics.vector.__future__', 'dill.operator', 'sympy.tensor.array.__future__', 'scipy.linalg.decomp_schur', 'IPython.core.magics.os', 'numpy.polynomial.polynomial', 'sympy.sets.itertools', 'prompt_toolkit.key_binding.bindings.scroll', 'sympy.polys.densearith', 'sympy.geometry.curve', 'IPython.core.string', 'sympy.tensor.sympy', 'sympy.matrices.copy', 'sympy.plotting.plot_implicit', 'sympy.tensor.collections', 'prompt_toolkit.os', 'sympy.core.types', 'jupyter_client.client', 'nt', 'sympy.utilities.timeit', 'wcwidth.wcwidth', 'genericpath', 'sympy.printing.types', 'sympy.polys.polytools', 'IPython.utils.io', 'sympy.integrals.transforms', 'prompt_toolkit.styles.utils', 'ipykernel.time', 'IPython.utils.encoding', 'concurrent', 'ctypes.ctypes', 'IPython.utils.functools', 'scipy.optimize._hessian_update_strategy', 'scipy.sparse.extract', 'symbtools', 'tornado.platform.windows', 'sympy.ntheory.bisect', 'sympy.physics.vector.sympy', 'sympy.printing.codeprinter', 'sympy.core.__future__', 'cmath', 'IPython.utils.signatures', 'jupyter_client.blocking.time', 'time', 'IPython.core.error', 'sympy.ntheory.continued_fraction', 'pygments.lexers.pygments', 'prompt_toolkit.terminal.vt100_output', 'sympy.codegen.sympy', 'sympy.plotting.intervalmath', 'scipy.sparse.linalg.eigen.arpack', 'IPython.utils.simplegeneric', 'jupyter_client.json', 'string', 'prompt_toolkit.layout.six', 'sympy.core.cache', 'scipy.optimize._spectral', 'scipy.sparse.construct', 'subprocess', 'sympy.integrals.singularityfunctions', 'zmq.backend.cython.utils', 'sympy.polys.math', 'sympy.integrals.__future__', 'IPython.core.displayhook', 'numpy.ma.extras', 'sympy.simplify.epathtools', 'sympy.functions.special.error_functions', 'IPython.core.ultratb', 'multiprocessing', 'dis', 'sympy.concrete.gosper', 'IPython.core.splitinput', 'IPython.lib.types', 'sympy.concrete', 'sympy.utilities.timeutils', 'sympy.plotting.warnings', 'IPython.utils.tempfile', 'IPython.extensions.textwrap', 'IPython.lib.getpass', 'sympy.matrices.sparse', 'sympy.printing.pretty', 'ipython_genutils.sys', 'colorama.ansitowin32', 'pathlib2.ctypes', 'sympy.polys.domains.domain', 'sympy.printing.printer', 'sympy.utilities.operator', 'scipy.optimize._lbfgsb', 'mpmath.calculus.itertools', 'scipy.linalg._expm_frechet', 'dateutil.tz.ctypes', 'scipy.sparse.csgraph._min_spanning_tree', '_ctypes', 'fnmatch', 'pygments.os', 'scipy.optimize._lsq.lsq_linear', 'ipykernel.imp', 'sympy.plotting.__future__', 'IPython.core.shadowns', 'sympy.polys.compatibility', 'IPython.utils.PyColorize', 'traitlets.config.json', 'sympy.matrices.expressions', 'weakref', 'traitlets', 'sympy.functions.special', 'IPython.core.display', 'numpy.lib.arraypad', 'IPython.terminal', 'scipy.integrate.quadrature', 'sympy.simplify.combsimp', 'sympy.tensor.array.dense_ndim_array', 'jupyter_client.blocking.zmq', 'prompt_toolkit.key_binding.bindings.basic', 'sympy.polys.polyerrors', 'IPython.core.json', 'sympy.polys.densebasic', 'sympy.core.cStringIO', 'IPython', 'logging.re', 'IPython.core.subprocess', 'six.moves.urllib', 'sympy.combinatorics.named_groups', 'sympy.utilities.pdb', 'prompt_toolkit.layout.abc', 'sympy.solvers.ode', 'sympy.interactive.distutils', 'traitlets.utils.inspect', 'IPython.core.magics.errno', 'zmq.sugar.threading', 'sympy.printing.re', 'IPython.core.ast', 'prompt_toolkit.clipboard.base', 'sympy.ntheory.sympy', 'mpmath.calculus.math', 'IPython.core.getipython', 'sympy.utilities.linecache', 'IPython.core.magics.display', 'numpy.core.fromnumeric', '_ast', 'IPython.utils.process', 'scipy.special.specfun', 'sympy.strategies.__future__', 'sympy.series.approximants', 'sympy.simplify', 'tornado.concurrent', 'pickle', 'dill.threading', 'pygments.lexers.python', 'sympy.external.__future__', 'numpy.lib.polynomial', 'ipykernel.comm.ipython_genutils', 'prompt_toolkit.key_binding.abc', 'sympy.strategies.branch', 'sympy.interactive.session', 'IPython.shutil', 'IPython.utils.contexts', 'matplotlib.testing', 'IPython.core.magics.logging', 'prompt_toolkit.eventloop.base', 'IPython.lib.warnings', 'concurrent.futures.threading', 'numpy.lib.utils', 'dateutil.relativedelta', 'repr', 'dill.os', 'codeop', 'numpy.lib.arrayterator', 'tornado.platform.interface', 'zmq.sugar.atexit', 'IPython.core.magics.time', 'sympy.simplify.ratsimp', 'sympy.ntheory.mpmath', 'sympy.matrices.expressions.blockmatrix', '_weakrefset', 'zmq.backend.select', 'sympy.concrete.__future__', 'scipy.optimize._root', 'unittest.traceback', 'scipy.linalg._fblas', 'sympy.geometry.warnings', 'unittest.os', 'scipy.__config__', 'IPython.core.traitlets', 'sympy.matrices.sympy', 'pygments.pygments', 'sympy.geometry.point', 'prompt_toolkit.terminal.msvcrt', 'sympy.polys.orthopolys', 'IPython.lib.base64', 'prompt_toolkit.terminal.win32_input', 'jupyter_client._version', 'sympy.utilities.enumerative', 'pygments.formatters.types', 'sympy.strategies.traverse', 'jupyter_core.os', 'prompt_toolkit.terminal.conemu_output', 'platform', 'sympy.integrals.integrals', 'matplotlib.compat', 'sympy.logic.collections', 'scipy.sparse.dia', 'prompt_toolkit.terminal.ctypes', 'sympy.core.function', 'unittest.functools', 'sympy.polys.domains.pythonintegerring', 'mpmath.math', 'sympy.core.alphabets', 'IPython.core.traceback', 'unittest.util', 'sympy.concrete.summations', 'prompt_toolkit.layout.mouse_handlers', 'prompt_toolkit.key_binding.bindings.codecs', 'mpmath.functions.zetazeros', 'mpmath.calculus.approximation', 'scipy._lib.types', 'sympy.printing.itertools', 'IPython.extensions.traitlets', 'sympy.physics.vector.dyadic', 'scipy.linalg.lapack', 'sympy.polys.domains.gmpyfinitefield', 'sympy.strategies.branch.itertools', 'dateutil.warnings', 'pathlib2.six', 'sympy.polys.polyconfig', 'sympy.polys.euclidtools', 'backports.shutil_get_terminal_size.struct', 'traitlets.utils.ipython_genutils', 'zmq.sugar.frame', 'mpmath.libmp.libelefun', 'IPython.core.magics.history', 'zmq.backend.cython.struct', 'sympy.functions.special.polynomials', 'sympy.combinatorics.polyhedron', 'pydoc', 'scipy.special._ellip_harm_2', 'ipykernel.signal', 'distutils.string', 'IPython.utils', '_subprocess', 'prompt_toolkit.layout.time', 'sympy.series.__future__', 'pathlib2.fnmatch', 'pygments.filters.re', 'scipy.sparse.linalg.eigen', 'IPython.core.magics.IPython', 'IPython.utils.capture', 'sympy.printing.tree', 'sympy.polys.domains.rationalfield', 'pathlib2.collections', 'sympy.printing.pretty.warnings', 'prompt_toolkit.interface', 'sympy.release', 'sympy.parsing.sympy_parser', 'prompt_toolkit.key_binding.bindings.six', 'sympy.strategies.util', 'IPython.core.errno', 'scipy.optimize.zeros', 'sympy.simplify.traversaltools', 'sympy.tensor.array.collections', 'sympy.parsing.sympy_tokenize', 'ipydex.release', 'concurrent.futures.time', 'IPython.core.copy', 'numpy.random', 'pygments.lexers.sys', 'ipykernel.uuid', 'sympy.strategies.sympy', 'array', 'IPython.core.magics.config', 'sympy.interactive.sympy', 'ipykernel.atexit', 'IPython.utils._sysinfo', 'types', '_codecs', 'IPython.core.unicodedata', 'IPython.extensions.inspect', 'pygments.time', 'copy', 'sympy.functions.combinatorial', 'sympy.concrete.expr_with_limits', 'sympy.polys.constructor', 'sympy.functions.combinatorial.__future__', 'unittest.weakref', 'backports.shutil_get_terminal_size.os', 'sympy.tensor.array.sparse_ndim_array', 'prompt_toolkit.layout.utils', 'symbtools.fractions', 'zmq.utils.itertools', 'numpy.lib.shape_base', 'getpass', 'prompt_toolkit.inspect', 'IPython.core.threading', 'sympy.utilities.collections', 'numpy.fft.info', 'sympy.polys.monomials', 'sympy.polys.polyclasses', 'sympy.simplify.simplify', 'unittest.result', 'sympy.printing.fcode', 'sympy.printing.precedence', 'IPython.core.pprint', 'concurrent.futures._base', 'sympy.polys.domains.polynomialring', 'scipy._lib._version', 'dateutil.parser.six', 'tornado', 'ipykernel.getpass', 'sympy.printing.pretty.sys', 'colorama', 'scipy._lib.decorator', 'sympy.polys.domains.gmpyrationalfield', 'future_builtins', 'sympy.series.limits', 'pygments.modeline', 'sympy.functions.elementary.hyperbolic', 'dill.dill', 'linecache', 'sympy.plotting.re', 'jupyter_client.zmq', 'hmac', 'scandir', 'scipy.optimize.minpack2', 'colorama.ansi', 'datetime', 'backports.shutil_get_terminal_size.sys', 'ipykernel.datapub', 'scipy.special.basic', 'pygments.formatters._mapping', 'logging.stat', '_cython_0_28_2', 'dateutil.tz.tz', 'IPython.core.magic', 'sympy.tensor.array.itertools', '_json', 'ipykernel.cPickle', 'scipy.sparse.linalg.isolve', 'traitlets.config.argparse', 'scipy.special._ufuncs_cxx', 'IPython.lib.contextlib', 'sympy.strategies.branch.sympy', 'cProfile', '_struct', 'IPython.lib.re', 'sympy.core.mpmath', 'zmq.backend.cython.threading', 'ssl', 'scipy.optimize._trlib._trlib', 'numpy.version', 'prompt_toolkit.completion', 'sympy.core.warnings', 'traitlets.config', 'unittest.re', 'threading', 'prompt_toolkit.styles.from_dict', 'IPython.lib.datetime', 'ctypes.wintypes', 'IPython.core.events', 'numpy.fft', 'pathlib2.io', 'scipy.sparse.linalg._onenormest', 'zmq.eventloop.ioloop', 'sympy.physics.mechanics.functions', 'sympy.strategies.branch.core', 'scipy.special.spfun_stats', 'scipy.linalg._solvers', 'calendar', 'IPython.core.magics.__future__', 'timeit', 'sympy.functions.special.hyper', 'sympy.matrices.expressions.determinant', 'sympy.solvers.warnings', 'sympy.simplify.trigsimp', 'jupyter_client.managerabc', 'mpmath.ctx_mp', 'scipy.linalg._flapack', 'sympy.printing.gtk', 'zmq.sys', 'prompt_toolkit.validation', 'jupyter_client.blocking.sys', 'unittest.case', 'IPython.utils.path', 'distutils.os', 'jupyter_client.localinterfaces', 'prompt_toolkit.key_binding.bindings.math', 'sympy.polys.domains.modularinteger', 'IPython.utils._process_common', 'pickleshare', 'ipykernel.ipykernel', 'json.re', 'opcode', 'colorama.sys', 'mpmath.matrices.linalg', 'pstats', 'mpmath.functions.theta', 'sympy.printing.sympy', 'scipy.sparse.csc', 'unittest', 'prompt_toolkit.renderer', 'sympy.assumptions.__future__', 'prompt_toolkit.key_binding.bindings.string', 'prompt_toolkit.shortcuts', 'logging.errno', 'scipy.integrate._odepack', 'scipy.sparse.csr', 'sympy.utilities.os', 'numpy.polynomial.laguerre', 'sre_constants', 'sympy.simplify.cse_opts', 'sympy.solvers.bivariate', 'IPython.lib.backgroundjobs', 'sympy.physics.units.quantities', 'numpy.core.function_base', 'numpy.compat.py3k', 'sympy.logic.__future__', 'sympy.polys.domains.ring', 'ipython_genutils.functools', 'mpmath.libmp.math', 'scipy.integrate._dop', 'scipy.linalg._decomp_update', 'dateutil.parser.time', 'logging.atexit', 'logging.cPickle', 'mpmath.libmp.bisect', 'sympy.functions.special.beta_functions', 'prompt_toolkit.layout.screen', 'traj_opt', 'sympy.functions.special.zeta_functions', 'concurrent.futures.Queue', 'traitlets.enum', 'prompt_toolkit.layout.dimension', 'sympy.polys.__future__', 'shutil', 'prompt_toolkit.styles.base', 'sympy.external.distutils', 'sympy.physics.mechanics.__future__', 'IPython.core.magics.script', 'sympy.functions.combinatorial.numbers', 'sympy.core.power', 'pygments.formatters.pygments', 'prompt_toolkit.buffer', 'ipydex.sys', 'traitlets.config.traitlets', 'sympy.ntheory.sys', 'sympy.ntheory.multinomial', 'sympy.logic.itertools', 'sympy.plotting.intervalmath.interval_arithmetic', 'multiprocessing.subprocess', 'importlib.sys', 'scipy.sparse.linalg.isolve.lsqr', 'jupyter_client', 'matplotlib.fontconfig_pattern', 'prompt_toolkit.layout.collections', 'dill.weakref', 'ipykernel.binascii', 'sympy.polys.domains.finitefield', 'IPython.core.StringIO', 'odeintw._odeintw', 'heapq', 'sympy.printing.python', 'mpmath.libmp.types', 'sympy.core.mod', 'sympy.calculus.sympy', 'IPython.core.os', 'IPython.utils._signatures', 'struct', 'IPython.utils.tokenize2', 'prompt_toolkit.eventloop.six', 'prompt_toolkit.filters.collections', 'symbtools.core', 'distutils.types', 'traitlets.utils', 'pathlib2.sys', 'mpmath.functions.math', 'jupyter_client.channelsabc', 'prompt_toolkit.filters.__future__', 'scipy.sparse.coo', 'zmq.sugar.errno', 'IPython.utils.frame', 'IPython.core.payloadpage', 'prompt_toolkit.filters.abc', 'prompt_toolkit.layout.prompt', 'scipy.optimize.minpack', 'mpmath', 'decimal', 'IPython.core.imp', 'sympy.combinatorics.sympy', 'IPython.terminal.prompts', 'scipy.linalg.decomp_svd', '_winreg', 'sympy.physics.vector.vector', 'scipy.optimize.scipy', 'IPython.core.magic_arguments', 'mpmath.calculus.quadrature', 'wcwidth.table_wide', 'sympy.polys.rings', 'sympy.physics.units.prefixes', 'IPython.extensions.__future__', 'sympy.plotting.intervalmath.__future__', 'zmq.utils.jsonapi', 'pygments.formatters.re', 'prompt_toolkit.eventloop.abc', 'prompt_toolkit.key_binding.bindings.itertools', 'scipy.special._ufuncs', 'IPython.terminal.__future__', 'inspect', 'mpmath.matrices.matrices', 'urllib2', 'scipy.linalg._solve_toeplitz', 'sqlite3.dbapi2', 'scipy.sparse.csgraph._reordering', 'scipy.optimize._remove_redundancy', 'sympy.strategies.branch.tools', 'numpy.core.memmap', 'cython_runtime', 'IPython.core.re', 'dateutil.math', 'IPython.core.pdb', 'os', 'IPython.terminal.ptutils', 'backports.functools_lru_cache', 'numpy.core.shape_base', 'numpy.lib.format', 'operator', 'prompt_toolkit.layout.menus', 'pytrajectory', 'sympy.polys.rationaltools', 'mpmath.functions.expintegrals', 'traitlets.config.os', 'prompt_toolkit.clipboard.abc', 'colorama.contextlib', 'mpmath.functions.cmath', '_warnings', 'mpmath.calculus', 'IPython.core.latex_symbols', 'sympy.utilities.decorator', 'IPython.utils.__future__', 'prompt_toolkit.layout.__future__', 'zmq.backend.cython.zmq', 'sympy.series.sequences', 'sympy.simplify.collections', 'sympy.polys.polyfuncs', 'IPython.utils.types', 'ipykernel.heartbeat', 'dateutil.parser.dateutil', 'IPython.lib.tempfile', 'sympy.printing.conventions', 'ipykernel.ipython_genutils', 'sympy.printing.mathml', 'sympy.physics.vector.functions', 'sympy.printing.string', 'scipy.linalg._decomp_polar', 'dateutil.datetime', 'colorama.atexit', 'sympy.strategies.rl', 'zmq.utils.zmq', 'sympy.geometry.entity', 'IPython.utils.time', 'IPython.lib.hashlib', 'traitlets.warnings', 'sympy.strategies.branch.traverse', 'IPython.utils.glob', 'prompt_toolkit.bisect', 'IPython.core.release', 'numpy.core.defchararray', 'gettext', 'sympy.printing.jscode', '_abcoll', 'IPython.lib.security', 'sympy.physics.mechanics.system', 'sympy.geometry.util', 'zmq.eventloop.Queue', 'mimetypes', 'pygments.lexers', 'IPython.core.formatters', 'IPython.warnings', 'prompt_toolkit.collections', 'unittest.signals', 'numpy.testing.nosetester', 'dill.temp', 'scipy.optimize._cobyla', 'prompt_toolkit.layout', 'scipy.sparse._matrix_io', 'traitlets.re', 'IPython.utils.py3compat', 'sympy.simplify.__future__', 'traitlets.config.sys', 'concurrent.futures.types', 'sympy.matrices.immutable', 'scipy.special.warnings', 'runpy', 'sympy.geometry.parabola', 'jupyter_client.blocking.channels', 'sympy.functions.combinatorial.math', 'sympy.solvers.solveset', 'prompt_toolkit.key_binding.manager', 'pathlib2.scandir', 'sympy.functions.combinatorial.mpmath', 'sympy', 'zmq', 'sympy.core.backend', 'sympy.series.fourier', 'encodings.utf_8', 'json.encoder', 'scipy.integrate._ivp.numpy', 'mpmath.ctx_mp_python', 'sympy.matrices.expressions.functools', 'unittest.StringIO', 'traitlets.log', 'sympy.polys.domains.pythonfinitefield', 'concurrent.futures.collections', 'IPython.lib.IPython', 'numpy.fft.fftpack_lite', 'sympy.printing.mathematica', 'scipy.linalg.cython_lapack', 'IPython.terminal.unicodedata', 'IPython.extensions.IPython', 'sympy.polys.types', 'IPython.core.inspect', 'abc', 'zmq.utils.sys', 'sympy.polys.numberfields', 'ipython_genutils.errno', 'sympy.simplify.cse_main', 'traitlets.os', 'jupyter_client.blocking.traitlets', 'sympy.printing.pretty.sympy', 'ipykernel.jsonutil', 'IPython.core.alias', 'IPython.core.datetime', 'sympy.functions', 'ipykernel.re', 'prompt_toolkit.clipboard.six', 'symbtools.itertools', 'IPython.utils.shutil', 'StringIO', 'wcwidth', 'ipykernel.itertools', 'sympy.ntheory.partitions_', 'sympy.core.decimal', 'scipy.sparse.linalg.dsolve.numpy', 'sympy.printing.pretty.pretty', 'scipy.linalg._sketches', 'scipy.optimize._trustregion_constr.equality_constrained_sqp', 'sympy.interactive.io', 'select', 'numpy.lib.financial', 'zmq.backend.cython.time', 'sympy.core.distutils', 'jupyter_client.session', 'numpy.polynomial.hermite_e', 'mpmath.libmp.gammazeta', 'sympy.core.sympify', 'IPython.core.keyword', 'prompt_toolkit.styles.abc', 'IPython.terminal.pt_inputhooks.importlib', 'unicodedata', 'zmq.sugar.tracker', 'jupyter_client.blocking.getpass', 'sympy.core', 'sympy.physics.vector.printing', 'encodings.aliases', 'jupyter_core.version', 'numpy.random.warnings', 'sympy.printing.rcode', 'jupyter_client.launcher', 'prompt_toolkit.styles.six', 'numbers', 'IPython.utils.shlex', 'IPython.core.pygments', 'sympy.core.codecs', 'sympy.functions.special.bsplines', 'pygments.util', 'numpy.core.numeric', 'jupyter_client.connect', 'sympy.polys.domains.fractionfield', 'sympy.physics.units.util', 'traitlets._version', 'sympy.sets.contains', 'jupyter_client.jupyter_core', 'scipy.linalg.misc', 'sympy.physics.mechanics.linearize', 'htmlentitydefs', 'jupyter_core.tempfile', 'dill.settings', 'pygments.formatter', 'argparse', 'sympy.series.sympy', 'scipy.sparse.csgraph._tools', 'scipy.optimize._trlib.numpy', 'traitlets.config.configurable', 'symbtools.numpy', 'prompt_toolkit.io', 'concurrent.futures.concurrent', 'scipy.sparse.lil', 'symbtools.ipydex', 'mpmath.calculus.optimization', 'dill.pickle', 'sympy.parsing.sympy', 'scipy.sparse.csgraph', 'numpy.core.machar', 'prompt_toolkit.wcwidth', 'scipy.linalg._flinalg', 'jupyter_client.datetime', 'sympy.functions.special.elliptic_integrals', 'traitlets.utils.sentinel', 'numpy.linalg.info', 'sympy.core.multidimensional', 'scipy', 'scipy.special._ellip_harm', 'sympy.polys.polyutils', 'zmq.sugar.sys', 'httplib', 'scipy.special._spherical_bessel', 'IPython.terminal.interactiveshell', 'zmq.backend.cython.context', 'sympy.core.__builtin__', 'token', 'prompt_toolkit.auto_suggest', 'sympy.ntheory.fractions', 'scipy.optimize._linprog_ip', 'dill.thread', 'IPython.core.io', 'sympy.core.numbers', 'sympy.assumptions.contextlib', 'multiprocessing.process', 'sympy.utilities.exceptions', 'IPython.core.__future__', 'zmq.utils.strtypes', 'IPython.core.binascii', 'odeintw.numpy', 'IPython.core.interactiveshell', 'ipykernel.kernelbase', 'sympy.tensor.indexed', 'sympy.concrete.sympy', 'ipykernel.errno', 'sys_model', 'matplotlib.cbook', 'sympy.matrices.expressions.slice', 'IPython.core.importlib', 'ast', 'dateutil.tz.six', 'IPython.lib.sys', 'zmq.utils.constant_names', 'scipy.integrate.lsoda', 'ctypes.struct', 'scipy.optimize._trustregion_constr.minimize_trustregion_constr', 'prompt_toolkit.pygments', 'IPython.core.logging', 'thread', 'jupyter_client.jupyter_client', 'sympy.integrals.meijerint', 'zmq.backend.platform', 'scipy.integrate._ivp', 'multiprocessing.util', 'sympy.functions.special.mathieu_functions', '_collections', 'prompt_toolkit.mouse_events', 'prompt_toolkit.key_binding.bindings.__future__', 'jupyter_client.binascii', 'scipy.optimize.numpy', 'sympy.printing.preview', 'ipykernel.warnings', 'IPython.utils.locale', 'ctypes.sys', 'pygments.lexers.__future__', 'posixpath', 'sympy.printing.collections', 'prompt_toolkit.filters.cli', 'jupyter_client.blocking', 'IPython.core.linecache', 'json._json', 'symbtools.interactive_aux', 'pytrajectory.time', 'traitlets.contextlib', 'ipykernel.comm.sys', 'json.sys', 'dateutil.parser.calendar', 'sympy.core.containers', 'concurrent.futures.multiprocessing', 'scipy.optimize._trustregion_krylov', 'zmq.sugar.socket', 'prompt_toolkit.styles.collections', 'ipykernel.comm.logging', 'ipython_genutils.shutil', 'hashlib', 'scipy.sparse.linalg.eigen.lobpcg', 'numpy.lib.nanfunctions', 'IPython.core.hashlib', 'sympy.external.warnings', 'ipykernel.connect', 'prompt_toolkit.datetime', 'sre_compile', 'sympy.core.inspect', 'sympy.printing.cxxcode', 'sympy.core.singleton', 'sympy.utilities.time', 'IPython.core.bdb', 'logging.collections', 'multiprocessing.atexit', 'sympy.physics.mechanics.collections', 'dateutil._version', 'sympy.solvers.inequalities', 'bz2', 'sympy.combinatorics.group_constructs', 'prompt_toolkit.terminal.errno', 'sympy.core.operator', 'IPython.core.completer', 'sympy.matrices.expressions.matexpr', 'ipykernel.io', 'IPython.utils.re', 'encodings.ascii', 'IPython.utils.inspect', 'zmq.backend.cython.sys', 'prompt_toolkit.clipboard.__future__', 'zmq.backend.cython.random', 'numpy.lib.twodim_base', 'mpmath.function_docs', 'zmq.backend.cython.warnings', 'concurrent.futures.sys', 'sympy.utilities.memoization', 'IPython.core.extensions', 'sympy.polys.domains.expressiondomain', 'sympy.printing.pretty.__future__', 'ipykernel.comm', 'numpy.linalg.linalg', 'prompt_toolkit.terminal.six', 'matplotlib.cbook.functools', 'scipy.sparse.linalg.isolve.lgmres', 'sympy.utilities.__future__', 'scipy._lib.messagestream', 'logging.os', 'ctypes._endian', 'encodings.encodings', 'unittest.pprint', 'matplotlib.sys', 'mpmath.libmp.operator', 'ipykernel.numbers', 'IPython.utils.dir2', 'numpy.linalg', 'scipy.optimize._trustregion_exact', 'prompt_toolkit.styles.defaults', 'prompt_toolkit.buffer_mapping', 'prompt_toolkit.key_binding.bindings.completion', 'pygments.sys', 'dill.imp', 'sympy.simplify.mpmath', 'ipykernel.traceback', 'IPython.core.payload', '_lsprof', 'prompt_toolkit.eventloop.__future__', 'scipy.optimize._lsq.givens_elimination', 'IPython.utils._tokenize_py2', 'IPython.utils.hashlib', 'sympy.tensor.array.arrayop', 'pathlib2.re', 'IPython.utils.IPython', 'prompt_toolkit.keys', 'sympy.logic.boolalg', 'sympy.assumptions.ask', 'dateutil.tz.functools', 'numpy.fft.helper', 'pathlib2.errno', 'scipy.integrate.vode', 'sympy.utilities.iterables', 'jupyter_client.errno', 'locale', 'sympy.series.limitseq', 'sympy.ntheory.primetest', 'prompt_toolkit.document', 'atexit', 'IPython.core.autocall', 'sympy.polys.orderings', 'matplotlib._color_data', 'traitlets.sys', 'sympy.polys.polyquinticconst', 'dateutil', 'traitlets.utils.bunch', 'backports.shutil_get_terminal_size.get_terminal_size', 'dill.logging', 'concurrent.futures.itertools', 'msvcrt', 'scipy.optimize._group_columns', 'IPython.lib.shutil', 'pygments.StringIO', 'ctypes.subprocess', 'unittest.suite', 'sympy.polys.domains.field', 'sympy.polys.domains.math', 'scipy.linalg.basic', 'traitlets.config.application', 'jupyter_client.socket', 'prompt_toolkit.key_binding.bindings', 'prompt_toolkit.filters.base', 'sympy.utilities', 'IPython.utils.decorators', 'numpy.fft.fftpack', 'traitlets.config.six', 'pdb', 'mpmath.matrices.copy', 'sympy.solvers.recurr', 'IPython.terminal.signal', 'scipy.linalg.flinalg', 'scipy._lib.__future__', 'zmq.eventloop.zmqstream', 'sympy.polys.domains.sympy', 'dateutil.parser.re', 'unittest.collections', 'sympy.geometry', 'IPython.lib.__future__', 'jupyter_client.manager', 'dateutil.tz._factories', 'sympy.polys.domains.gmpyintegerring', 'sympy.physics.mechanics', 'logging.struct', 'sympy.tensor', 'ipykernel.threading', 'prompt_toolkit.filters.prompt_toolkit', 'scipy._lib.tempfile', 'ipykernel.platform', 'IPython.utils.ulinecache', 'sympy.matrices.expressions.inverse', 'scipy.linalg.decomp_lu', 'dill.__main__', 'numpy.ma.core', 'sympy.utilities.source', 'ipykernel.parentpoller', 'matplotlib.cbook._backports', 'sympy.core.add', 'concurrent.futures.logging', 'scipy.sparse.csgraph._traversal', 'prompt_toolkit.textwrap', 'sympy.strategies.branch.__future__', 'sympy.polys.galoistools', 'IPython.terminal.prompt_toolkit', 'copy_reg', 'symbtools.symbtools', 'pytrajectory.copy', 'IPython.utils.linecache', 'dill.__builtin__', 'IPython.core.shutil', 'ipython_genutils.string', 'prompt_toolkit.search_state', 'IPython.utils.platform', 'dateutil.parser.datetime', 'sympy.physics.units.__future__', 'prompt_toolkit.clipboard.collections', 'zmq.sugar.zmq', 'IPython.lib.logging', 'ipykernel.zmqshell', 'scipy.integrate.odepack', 'sqlite3', 'ipydex.inspect', 'IPython.core.magics.pprint', 'sympy.matrices.common', 'scipy.optimize.nnls', 'wcwidth.__future__', 'IPython.core.types', 'sys', 'sympy.matrices.expressions.funcmatrix', 'prompt_toolkit.filters.six', 'sympy.utilities.inspect', 'prompt_toolkit.output', 'prompt_toolkit.layout.re', 'IPython.core.application', 'ipykernel._version', 'sympy.parsing', 'IPython.core.magics.io', 'prompt_toolkit.key_binding.registry', 'prompt_toolkit.key_binding.prompt_toolkit', 'distutils', 'scipy._lib.scipy', 'IPython.core.oinspect', 'sympy.plotting.pygletplot', 'zmq.backend.cython.constants', 'sympy.printing.ccode', 'sympy.matrices.expressions.sympy', 'pygments.styles.default', 'jupyter_client.cPickle', 'scipy.integrate._ivp.rk', 'logging.socket', 'ipykernel.comm.comm', 'backports.shutil_get_terminal_size.ctypes', 'zipimport', 'sympy.physics.vector.point', 'scipy._distributor_init', 'pathlib2.functools', 'traitlets.config.re', 'sympy.core.evalf', 'IPython.lib.random', 'ipykernel.codeutil', 'numpy.dual', 'signal', 'sympy.tensor.array', 'sympy.solvers.operator', 'sympy.polys.polyroots', 'distutils.version', 'sympy.deprecated.sympy', 'dateutil.tz.sys', 'prompt_toolkit.key_binding.bindings.emacs', 'zmq.backend.cython.copy', 'IPython.utils.module_paths', 'IPython.utils.timing', 'traitlets.utils.getargspec', 'sympy.printing.pretty.itertools', 'numpy.testing.nose_tools.decorators', 'warnings', 'scipy.sparse.linalg', 'scipy.linalg._procrustes', 'sympy.physics.sympy', 'ipython_genutils', 'zmq.sugar.cPickle', 'IPython.utils.subprocess', 'sympy.functions.special.gamma_functions', 'jupyter_client.abc', 'IPython.utils.syspathcontext', 'UserDict', 'sympy.core.mul', 'tornado.escape', 'sympy.polys.domains.simpledomain', 'scipy.optimize._trustregion_constr.projections', 'IPython.terminal.wcwidth', 'sympy.solvers.types', 'dateutil.calendar', 'unittest.loader', 'dill.cStringIO', 'mpmath.calculus.calculus', 'scipy.sparse.csgraph._validation', 'dill.marshal', 'zmq.sugar.version', 'backports.shutil_get_terminal_size', 'scipy._lib.__builtin__', 'dill.pointers', 'IPython.core.magics.osm', 'ipykernel.copy', '__future__', 'traitlets.utils.functools', 'IPython.core.__main__', 'sympy.calculus.finite_diff', 'IPython.core.msvcrt', 'sympy.assumptions.inspect', 'scipy.optimize', 'mpmath.libmp.six.moves', 'errno', 'sympy.solvers.diophantine', 'prompt_toolkit.clipboard.in_memory', 'sympy.parsing.re', 'pygments.itertools', 'sympy.utilities.subprocess', 'scipy.optimize._lsq.trf_linear', 'prompt_toolkit.key_binding.__future__', 'IPython.utils.text', 'encodings.__builtin__', 'jupyter_client.hmac', 'ipython_genutils.os', 'prompt_toolkit.layout.math', 'scipy.sparse', 'IPython.core.profiledir', 'zmq.sugar.stopwatch', 'multiprocessing._multiprocessing', 'sympy.external.sympy', 'prompt_toolkit.key_binding.collections', 'sympy.core.collections', 'backports', 'prompt_toolkit.filters.weakref', 'prompt_toolkit.filters.types', 'sympy.assumptions.ask_generated', 'scipy.optimize.optimize', 'dill', 'multiprocessing.signal', 'sympy.functions.special.spherical_harmonics', 'jupyter_client.hashlib', 'logging.codecs', '_random', 'numpy.polynomial._polybase', 'sympy.utilities.functools', 'prompt_toolkit.layout.margins', 'concurrent.futures.thread', 'scipy.integrate._ivp.lsoda', 'sympy.combinatorics.perm_groups', 'mpmath.calculus.bisect', 'sympy.parsing.string', 'IPython.utils.importstring', 'dateutil.parser.decimal', 'jupyter_client.dateutil', 'sympy.solvers.collections', 'IPython.core.codeop', 'ipykernel.types', 'scipy.optimize._trlib', 'dateutil.parser.functools', 'jupyter_client.kernelspec', 'sympy.matrices.expressions.__future__', 'jupyter_core', 'scipy.optimize._linprog', 'dill.functools', 'numpy.matrixlib', 'sympy.polys.densetools', 'sympy.polys.random', 'dill.gc', 'sympy.functions.elementary.complexes', 'sympy.matrices.expressions.dotproduct', 'traitlets.utils.importstring', 'sympy.printing.pretty.pretty_symbology', 'sympy.combinatorics.itertools', 'tornado.ioloop', 'mpmath.math2', 'sympy.core.facts', 'ipython_genutils.py3compat', 'mpmath.cmath', 'mpmath.usertools', 'sympy.physics.matrices', 'ctypes.os', 'odeintw', 'gc', 'sympy.core.evaluate', 'mpmath.functions.orthogonal', 'sympy.plotting.intervalmath.lib_interval', 'sympy.series.formal', 'traitlets.traitlets', 'base64', 'sympy.printing.julia', 'sympy.external.importtools', 'sympy.polys', 'mpmath.functions', 'dill._pyio', 'dateutil.parser._parser', 'numpy.lib.arraysetops', 'sympy.physics.mechanics.particle', 'mpmath.functions.elliptic', 'concurrent.futures.weakref', 'sympy.calculus', 'matplotlib._version', 'jupyter_client.pprint', 'traitlets.config.logging', 'IPython.utils.errno', 'IPython.core.debugger', 'sympy.core.expr', 'jupyter_client.jsonutil', 'prompt_toolkit.eventloop', 'logging.threading', 'ipykernel.importlib', 'sympy.assumptions.sympy', 'sympy.strategies', 'sympy.printing.str', 'matplotlib.cbook.textwrap', 'scipy.special._comb', 'IPython.core.displaypub', 'bdb', 'dateutil.parser.warnings', 'numpy._globals', 'scipy.integrate.quadpack', 'scipy._lib', 'scipy.optimize._trustregion_constr.report', 'symbtools.IPython', 'sympy.polys.operator', 'ipykernel.serialize', 'prompt_toolkit.terminal', 'ipython_genutils.re', 'matplotlib', 'sympy.series.order', 'json.scanner', 'numpy.testing', 'sympy.ntheory.egyptian_fraction', 'scipy.linalg.decomp', 'sympy.calculus.singularities', 'jupyter_client.blocking.functools', 'numpy.os', 'ipython_genutils.locale', 'prompt_toolkit.application', 'scipy.optimize.tnc', 'prompt_toolkit.terminal.prompt_toolkit', 'zmq.eventloop.warnings', 'concurrent.futures.atexit', 'scipy.sparse.linalg._expm_multiply', 'prompt_toolkit.terminal.sys', 'six.moves.urllib.request', 'jupyter_client.os', 'sympy.solvers.__future__', '_sre', 'pygments.formatters.html', 'scipy.special', 'traitlets.types', 'unittest.runner', 'sympy.core.rules', 'prompt_toolkit.clipboard.prompt_toolkit', 'sympy.geometry.random', 'IPython.core.display_trap', 'prompt_toolkit.key_binding.bindings.prompt_toolkit', 'binascii', 'IPython.core.logger', 'unittest.fnmatch', 'pygments.formatters.sys', 'prompt_toolkit.clipboard', 'sympy.interactive.__future__', 'numpy.polynomial.chebyshev', 'sympy.physics.mechanics.lagrange', 'sympy.matrices.expressions.diagonal', 'mpmath.functions.zeta', 'sympy.parsing.ast', 'numpy.testing.utils', 'zmq.eventloop.tornado', 'sympy.utilities.sys', 'sympy.assumptions.assume', 'sympy.utilities.lambdify', 'IPython.core.page', 'traitlets.six', 'scipy._lib.six', 'IPython.utils.ctypes', 'scipy.sparse.base', 'jupyter_client.blocking.__future__', 'sre_parse', 'scipy.os', 'ipykernel.collections', 'encodings.cp1252', 'sympy.utilities.itertools', 'IPython.terminal.debugger', 'scipy.optimize._trustregion_constr.qp_subproblem', '_scandir', 'IPython.core.magics.signal', 'sympy.simplify.sqrtdenest', 'traitlets.inspect', 'scipy.sparse.compressed', 'scipy.optimize._trustregion_constr.numpy', 'six', 'scipy.integrate._ode', 'prompt_toolkit.input', 'scipy.sparse.linalg.isolve.iterative', 'sympy.polys.sympy', 'ctypes.util', 'dateutil._common', 'sympy.plotting.inspect', 'sympy.polys.sqfreetools', 'jupyter_client.multikernelmanager', 'multiprocessing.sys', 'tornado.platform', 'scipy.linalg.special_matrices', 'sympy.tensor.array.sympy', 'sympy.parsing.token', 'simplegeneric', 'sympy.printing.rust', 'pygments.styles', 'sysconfig', 'IPython.terminal.traitlets', 'scipy.special.sf_error', 'scipy.integrate._ivp.radau', 'sqlite3.collections', 'dateutil.tz.time', 'scipy._lib.ctypes', 'tempfile', 'sympy.functions.elementary.piecewise', 'scipy.optimize.moduleTNC', 'prompt_toolkit.layout.lexers', 'multiprocessing.itertools', 'scipy.optimize._trustregion_dogleg', 'sympy.interactive.printing', 'sympy.utilities.platform', 'traitlets.config.collections', 'logging.logging', 'ipython_genutils._version', 'sympy.polys.fglmtools', 'scipy.integrate', 'IPython.core.zipimport', 'pygments.unistring', 'scipy.special.orthogonal', 'scipy._lib._ccallback_c', 'numpy.lib._datasource', 'IPython.core.warnings', 'logging.handlers', 'dateutil.tz.datetime', 'mpmath.matrices.eigen', 'jupyter_client.warnings', 'dateutil.operator', 'pygments.formatters.os', 'mpmath.functions.qfunctions', 'IPython.core.magics.gc', 'cStringIO', 'sympy.core.symbol', 'numpy.polynomial', 'sympy.utilities.mpmath', 'jupyter_client.re', 'traitlets.config.copy', 'sympy.polys.domains.__future__', 'mpmath.libmp.six', 'encodings', 'sympy.core.operations', 'ipykernel.comm.uuid', 'zmq.sugar.poll', 'IPython.core.operator', 'IPython.core.crashhandler', 'numpy.lib.numpy', 'prompt_toolkit.threading', 'sympy.simplify.radsimp', 'scipy._lib._threadsafety', 'sympy.polys.domains.groundtypes', 'sqlite3.time', 'sympy.plotting.plot', 'math', 'sympy.geometry.__future__', 'ipykernel.comm.manager', 'scipy.sparse.linalg.eigen.lobpcg.lobpcg', 'numpy.lib.ufunclike', 'dateutil.parser.isoparser', 'IPython.utils.colorable', 'prompt_toolkit.layout.containers', 'prompt_toolkit.key_binding.input_processor', 'IPython.core.builtin_trap', 'sympy.polys.domains.integerring', 'sympy.matrices.random', 'sympy.functions.elementary.trigonometric', 'sympy.printing.keyword', 'sympy.utilities.runtests', 'sympy.physics.units.sympy', 'sympy.physics.mechanics.body', 'scipy.integrate._ivp.common', 'scipy.integrate._ivp.scipy', 'pygments.filter', 'mpmath.functions.bessel', 'jupyter_client.channels', 'sympy.sets.mpmath', 'mpmath.libmp.libhyper', 'sympy.utilities.types', 'IPython.lib.imp', 'sympy.combinatorics.__future__', 'numpy.lib.stride_tricks', 'sympy.utilities.math', 'numpy.lib.scimath', 'sympy.matrices.expressions.transpose', 'scipy.optimize._nnls', 'ipykernel.jupyter_client', 'sympy.parsing.unicodedata', 'enum.collections', 'sympy.integrals.manualintegrate', 'scipy.linalg.cython_blas', 'scipy.sparse.sputils', 'sympy.matrices.expressions.adjoint', 'ipykernel.datetime', 'prompt_toolkit', 'zmq.error', 'sympy.polys.groebnertools', 'scipy.optimize._differentiable_functions', 'scipy.sparse.data', 'scipy.sparse.linalg.isolve._gcrotmk', 'sympy.core.assumptions', 'tornado.platform.select', 'ipykernel.IPython', 'sympy.ntheory.generate', 'ipykernel', 'sympy.calculus.itertools', '_hashlib', 'IPython.core.sys', 'zmq.eventloop.cPickle', 'IPython.core.sqlite3', 'sympy.combinatorics.permutations', 'sympy.codegen.ffunctions', 'pygments.__future__', 'prompt_toolkit.string', 'odeintw.scipy', 'dateutil.parser', 'sympy.series.series_class', 'encodings.codecs', 'IPython.utils.__builtin__', 'sympy.matrices.expressions.matmul', 'IPython.core.magics', 'mpmath.functions.hypergeometric', '_ssl', 'IPython.utils.sys', 'sympy.utilities.warnings', 'IPython.core.base64', 'ipython_genutils.text', 'IPython.core.shellapp', 'numpy._distributor_init', 'prompt_toolkit.selection', 'numpy.testing.nose_tools', 'sympy.core.contextlib', 'symbtools.random', 'scipy.sparse.linalg.interface', '_io', '_strptime', 'IPython.core.compilerop', 'scipy.optimize._lsq.dogbox', 'prompt_toolkit.key_binding.bindings.named_commands', 'unittest.types', 'zmq.sugar.warnings', 'IPython.extensions.storemagic', 'prompt_toolkit.key_binding.vi_state', 'pyparsing', 'ipykernel.copy_reg', 'numpy.random.mtrand', 'importlib', 'prompt_toolkit.styles.from_pygments', 'sympy.printing.tableform', 'ipykernel.logging', 'ipython_genutils.importstring', 'logging.thread', 'mpmath.calculus.copy', 'prompt_toolkit.history', 'mpmath.identification', 'pathlib2', 'traitlets.config.__future__', 'distutils.re', 'IPython.os', 'pygments.lexer', 'scipy.linalg.matfuncs', 'zmq.sugar', 'bisect', 'prompt_toolkit.terminal.__future__', 'sympy.simplify.hyperexpand', 'sympy.polys.mpmath', 'traitlets.ipython_genutils', 'zmq.ctypes', 'sympy.combinatorics.util', 'cycler', 'mpmath.numbers', 'IPython.core.textwrap', 'scipy.sparse.linalg.dsolve._superlu', 'sympy.simplify.itertools', 'sympy.plotting.sympy', 'zmq.backend.cython.message', 'sympy.plotting.intervalmath.sympy', 'scipy.integrate._bvp', 'numpy.testing.decorators', 'scipy.integrate._quadpack', 'tornado.log', 'numpy.core.numerictypes', 'sympy.printing.functools', 'numpy.polynomial.legendre', 'sympy.physics', 'scipy.sparse.dok', 'IPython.lib.io', 'pygments.plugin', 'prompt_toolkit.layout.controls', 'mpmath.re', 'sympy.polys.domains.domainelement', 'IPython.core.magics.re', 'dill.sys', 'sympy.physics.__future__', 'sympy.ntheory.residue_ntheory', 'itertools', 'sympy.sets.conditionset', 'sympy.core.exprtools', 'IPython.core.magics.subprocess', 'symbtools.functools', 'IPython.extensions.os', 'sympy.functions.combinatorial.sympy', 'zmq.errno', 'sympy.physics.mechanics.rigidbody', 'pygments', 'prompt_toolkit.signal', 'sympy.series.series', 'IPython.core.tokenize', 'IPython.utils.sentinel', 'IPython.core.magics.warnings', 'sympy.polys.heuristicgcd', 'json', 'scipy._lib.sys', 'scipy.optimize._lsq.common', 'sympy.plotting.collections', 'IPython.core.inputsplitter', 'prompt_toolkit.sys', 'numpy.ma', 'IPython.IPython', 'nturl2path', 'scipy.optimize._differentialevolution', 'mpmath.rational', 'IPython.lib.traitlets', 'sympy.polys.textwrap', 'mpmath.matrices.calculus', 'sympy.utilities.stat', 'prompt_toolkit.functools', 'numpy.lib', 'pathlib2.nt', 'jupyter_client.blocking.client', 'ipython_genutils.__builtin__', 'multiprocessing.weakref', 'colorama.win32', 'distutils.distutils', 'ipykernel.kernelapp', 'site', 'jupyter_client.io', 'sympy.polys.domains.pythonrational', 'scipy.optimize._hungarian', 'sympy.assumptions.refine', 'zmq.backend.sys', 'IPython.testing.skipdoctest', 'sympy.combinatorics.collections', 'matplotlib.rcsetup', 'sympy.physics.vector.frame', 'scipy._lib.re', 'IPython.utils.data', 'numpy.polynomial.polyutils', 'sympy.sets.sets', 'pathlib2.stat', 'numpy.compat._inspect', 'sympy.tensor.index_methods', 'sympy.geometry.plane', 'dill.ctypes', 'sympy.utilities.sympy', 'sympy.printing.io', 'pygments.formatters.__future__', 'difflib', 'distutils.errors', 'sympy.codegen.__future__', 'IPython.lib.threading', 'IPython.core.decorator', 'unittest.warnings', 'prompt_toolkit.layout.processors', 'sympy.polys.partfrac', 'numpy.linalg._umath_linalg', 'sympy.polys.contextlib', 'numpy.core.einsumfunc', 'zmq.backend.cython.socket', 'IPython.terminal.pt_inputhooks.os', 'zmq.sugar.attrsettr', 'matplotlib.cbook.deprecation', 'jupyter_client.shutil', 'jupyter_client.logging', 'sympy.polys.polyoptions', 'sympy.utilities.random', 'sympy.simplify.sympy', 'numpy.testing.nose_tools.nosetester', 'sympy.matrices.expressions.matpow', 'scipy.sparse.linalg.dsolve._add_newdocs', 'prompt_toolkit.key_binding', 'scipy.sparse.csgraph._shortest_path', 'sympy.codegen.ast', 'sympy.printing.lambdarepr', 'sympy.functions.special.singularity_functions', 'sympy.utilities.signal', 'ipython_genutils.encoding', 'scipy.optimize._numdiff', 'dill.info', 'sympy.combinatorics', 'sympy.solvers.deutils', 'zmq.platform', 'sympy.solvers.mpmath', 'sympy.deprecated.class_registry', 'sympy.printing.repr', 'sympy.sets', 'sympy.core.re', 'numpy.random.operator', 'scipy.integrate._ivp.ivp', 'prompt_toolkit.re', 'sympy.polys.factortools', '_cython_0_27_3', 'ipydex.collections', 'numpy.core.multiarray', 'ipykernel.sys', 'pygments.lexers.types', 'IPython.lib.display', 'sympy.series.residues', 'sympy.printing.mpmath', 'matplotlib.compat.subprocess', 'scipy.version', 'mpmath.calculus.differentiation', 'IPython.utils.token', 'ipydex', 'sympy.solvers.decompogen', 'scipy.sparse.linalg.dsolve', 'pygments.codecs', 'pygments.style', 'sympy.combinatorics.math', 'sympy.core.basic', '_multiprocessing', 'prompt_toolkit.layout.prompt_toolkit', 'sympy.polys.re', 'prompt_toolkit.key_binding.digraphs', 'IPython.core.magics.traitlets', 'sympy.ntheory.math', 'scipy.optimize._trustregion_constr.canonical_constraint', 'ipython_genutils.warnings', 'scipy.optimize._trustregion_constr', 'sympy.physics.units.unitsystem', 'IPython.core.itertools', 'enum', 'pytrajectory.pickle', 'mpmath.functions.rszeta', 'zmq.sugar.random', 'IPython.core.magics.extension', 'prompt_toolkit.time', 'logging.sys', '_functools', 'colorama.ctypes', 'socket', 'pathlib2.ntpath', 'ipykernel.socket', 'IPython.core.pylabtools', 'pytrajectory.collections', 'sympy.deprecated', 'IPython.utils.warnings', 'prompt_toolkit.styles', 'sympy.matrices.expressions.operator', 'scipy.linalg', 'ipykernel.tornado', 'IPython.lib.latextools', 'sympy.plotting.sys', '__builtin__', 'prompt_toolkit.cache', 'sympy.physics.mechanics.kane', 'sympy.matrices.dense', 'json.struct', 'scipy.optimize.nonlin', 'mpmath.libmp.backend', 'pygments.token', 'multiprocessing.threading', 'pathlib2.os', 'numpy.core._methods', 'scipy.optimize._lsq', 'sympy.geometry.line', 'scipy._lib.itertools', 'IPython.core.magics.sys', 'sympy.logic', 'jupyter_client.adapter', 'sympy.core.logic', 'scipy.optimize._lsq.bvls', 'jupyter_client.ipython_genutils', 'mpmath.libmp.sys', 'sympy.combinatorics.prufer', 'mpmath.libmp.libintmath', 'sympy.assumptions', 'sympy.functions.elementary.miscellaneous', 'scipy._lib._numpy_compat', 'ipykernel.ipkernel', 'IPython.core.functools', 'sympy.geometry.sympy', 'IPython.terminal.pygments', 'jupyter_client.subprocess', 'logging.time', 'scipy.sparse.linalg.matfuncs', 'mpmath.matrices', 'numpy.lib.function_base', 'logging.warnings', 'symbtools.release', 'IPython.tempfile', 'pygments.re', 'sympy.utilities.doctest', 'numpy.polynomial.hermite', 'contextlib', 'dill.detect', 'functions', 'IPython.lib.pretty', 'prompt_toolkit.layout.toolbars', 'sympy.ntheory.array', 'IPython.utils.string', 'sympy.polys.domains.realfield', 'sympy.polys.domains.compositedomain', 'getopt', 'zmq.sugar.time', 'ipython_genutils.types', 'stat', 'sympy.printing', 'sympy.core.coreerrors', 'scipy._lib.collections', 'mpmath.libmp', 'scipy._lib.inspect', 'mpmath.calculus.extrapolation', 'encodings.mbcs', 'sympy.printing.shutil', 'sympy.physics.units.collections', 'colorama.re']\n"
     ]
    },
    {
     "name": "stderr",
     "output_type": "stream",
     "text": [
      "2018-06-01 15:22:18,043 matplotlib   DEBUG    CACHEDIR=C:\\Users\\kuros\\.matplotlib\n",
      "2018-06-01 15:22:18,075 matplotlib.font_manager DEBUG    Using fontManager instance from C:\\Users\\kuros\\.matplotlib\\fontList.json\n",
      "2018-06-01 15:22:18,322 matplotlib.backends DEBUG    backend module://ipykernel.pylab.backend_inline version unknown\n",
      "2018-06-01 15:22:18,615 root         WARNING  scipy version (1.1.0) may be out of date\n"
     ]
    },
    {
     "name": "stdout",
     "output_type": "stream",
     "text": [
      "WARNING: \t scipy version (1.1.0) may be out of date\n"
     ]
    },
    {
     "name": "stderr",
     "output_type": "stream",
     "text": [
      "2018-06-01 15:22:18,617 root         WARNING  sympy version (1.1.1) may be out of date\n"
     ]
    },
    {
     "name": "stdout",
     "output_type": "stream",
     "text": [
      "WARNING: \t sympy version (1.1.1) may be out of date\n"
     ]
    },
    {
     "name": "stderr",
     "output_type": "stream",
     "text": [
      "2018-06-01 15:22:18,694 root         DEBUG    Determine system/input dimensions\n",
      "2018-06-01 15:22:18,711 root         DEBUG    --> state: 4\n",
      "2018-06-01 15:22:18,713 root         DEBUG    --> input: 1\n",
      "2018-06-01 15:22:18,713 root         DEBUG    --> a.f.p.: 0\n",
      "2018-06-01 15:22:18,714 root         DEBUG    --> penalties: 0\n",
      "2018-06-01 15:22:18,907 root         DEBUG    Looking for integrator chains\n",
      "2018-06-01 15:22:18,915 root         DEBUG    --> found: x1 -> x3 -> u1\n",
      "2018-06-01 15:22:18,917 root         DEBUG    --> found: x2 -> x4\n",
      "2018-06-01 15:22:18,918 root         INFO     Iteration #1; spline parts_ 10\n"
     ]
    },
    {
     "name": "stdout",
     "output_type": "stream",
     "text": [
      "INFO: \t Iteration #1; spline parts_ 10\n"
     ]
    },
    {
     "name": "stderr",
     "output_type": "stream",
     "text": [
      "2018-06-01 15:22:18,920 root         DEBUG    Initialise Splines\n",
      "2018-06-01 15:22:19,048 root         DEBUG    Building Equation System\n",
      "2018-06-01 15:22:19,213 root         DEBUG    Solving Equation System\n",
      "2018-06-01 15:22:19,214 root         DEBUG    Run Levenberg-Marquardt method\n",
      "2018-06-01 15:22:19,290 root         DEBUG      rho= 0.000000    mu= 0.000200, |s|^2=1041.489053\n",
      "2018-06-01 15:22:19,312 root         DEBUG      rho= 0.000000    mu= 0.000400, |s|^2=1036.343891\n",
      "2018-06-01 15:22:19,335 root         DEBUG      rho= 0.000000    mu= 0.000800, |s|^2=1018.129216\n",
      "2018-06-01 15:22:19,357 root         DEBUG      rho= 0.000000    mu= 0.001600, |s|^2=966.461358\n",
      "2018-06-01 15:22:19,372 root         DEBUG      rho= 0.000000    mu= 0.003200, |s|^2=860.265148\n",
      "2018-06-01 15:22:19,398 root         DEBUG      rho= 0.000000    mu= 0.006400, |s|^2=711.307524\n",
      "2018-06-01 15:22:19,420 root         DEBUG      rho= 0.352586    mu= 0.006400, |s|^2=578.219881\n",
      "2018-06-01 15:22:19,423 root         DEBUG    sp=10  nIt=1   k=40.565440                       res=80.108006\n",
      "2018-06-01 15:22:19,486 root         DEBUG      rho= 0.800351    mu= 0.003200, |s|^2=478.137424\n",
      "2018-06-01 15:22:19,490 root         DEBUG    sp=10  nIt=2   k=89.318582                       res=52.951923\n",
      "2018-06-01 15:22:19,552 root         DEBUG      rho= 0.668418    mu= 0.003200, |s|^2=526.271809\n",
      "2018-06-01 15:22:19,555 root         DEBUG    sp=10  nIt=3   k=242.708604                       res=12.482052\n",
      "2018-06-01 15:22:19,609 root         DEBUG      rho= 0.999148    mu= 0.001600, |s|^2=205.799951\n",
      "2018-06-01 15:22:19,611 root         DEBUG    sp=10  nIt=4   k=333.707599                       res=5.894013\n",
      "2018-06-01 15:22:19,668 root         DEBUG      rho= 0.953912    mu= 0.000800, |s|^2=304.977627\n",
      "2018-06-01 15:22:19,671 root         DEBUG    sp=10  nIt=5   k=507.461891                       res=1.894760\n",
      "2018-06-01 15:22:19,727 root         DEBUG      rho= 0.731650    mu= 0.000800, |s|^2=305.424071\n",
      "2018-06-01 15:22:19,730 root         DEBUG    sp=10  nIt=6   k=644.841371                       res=1.654485\n",
      "2018-06-01 15:22:19,796 root         DEBUG      rho= 1.003218    mu= 0.000400, |s|^2=118.664985\n",
      "2018-06-01 15:22:19,799 root         DEBUG    sp=10  nIt=7   k=654.433235                       res=1.524735\n",
      "2018-06-01 15:22:19,864 root         DEBUG      rho= 1.007956    mu= 0.000200, |s|^2=49.285518\n",
      "2018-06-01 15:22:19,867 root         DEBUG    sp=10  nIt=8   k=662.997152                       res=1.408906\n",
      "2018-06-01 15:22:19,924 root         DEBUG      rho= 0.823642    mu= 0.000100, |s|^2=9.691029\n",
      "2018-06-01 15:22:19,927 root         DEBUG    sp=10  nIt=9   k=661.087589                       res=1.406272\n",
      "2018-06-01 15:22:19,990 root         DEBUG      rho= 0.557833    mu= 0.000100, |s|^2=3.691809\n",
      "2018-06-01 15:22:19,993 root         DEBUG    sp=10  nIt=10   k=662.340446                       res=1.406191\n",
      "2018-06-01 15:22:20,048 root         DEBUG      rho= 0.518669    mu= 0.000100, |s|^2=1.737703\n",
      "2018-06-01 15:22:20,049 root         DEBUG    sp=10  nIt=11   k=661.769148                       res=1.406185\n",
      "2018-06-01 15:22:20,049 root         DEBUG    LM-Break reason: rel tol\n",
      "2018-06-01 15:22:20,052 root         DEBUG    Set spline coefficients\n",
      "2018-06-01 15:22:20,065 root         DEBUG    Solving Initial Value Problem\n",
      "2018-06-01 15:22:20,072 root         DEBUG    start: [0.0, 3.141592653589793, 0.0, 0.0]\n",
      "2018-06-01 15:22:20,266 root         DEBUG    ----------------------------------------\n",
      "2018-06-01 15:22:20,267 root         DEBUG    Ending up with:   Should Be:  Difference:\n",
      "2018-06-01 15:22:20,269 root         DEBUG    x1 : 0.013953     0.000000    0.013953\n",
      "2018-06-01 15:22:20,269 root         DEBUG    x2 : 0.837059     0.000000    0.837059\n",
      "2018-06-01 15:22:20,270 root         DEBUG    x3 : -0.015825     0.000000    0.015825\n",
      "2018-06-01 15:22:20,273 root         DEBUG    x4 : 4.358163     0.000000    4.358163\n",
      "2018-06-01 15:22:20,273 root         DEBUG    ----------------------------------------\n",
      "2018-06-01 15:22:20,286 root         DEBUG      --> reached desired accuracy: False\n",
      "2018-06-01 15:22:20,289 root         INFO     par = []\n"
     ]
    },
    {
     "name": "stdout",
     "output_type": "stream",
     "text": [
      "INFO: \t par = []\n"
     ]
    },
    {
     "name": "stderr",
     "output_type": "stream",
     "text": [
      "2018-06-01 15:22:20,299 root         INFO     Iteration #2; spline parts_ 20\n"
     ]
    },
    {
     "name": "stdout",
     "output_type": "stream",
     "text": [
      "INFO: \t Iteration #2; spline parts_ 20\n"
     ]
    },
    {
     "name": "stderr",
     "output_type": "stream",
     "text": [
      "2018-06-01 15:22:20,306 root         DEBUG    Initialise Splines\n",
      "2018-06-01 15:22:20,674 root         DEBUG    Get new guess for spline x1\n",
      "2018-06-01 15:22:20,687 root         DEBUG    Get new guess for spline x2\n",
      "2018-06-01 15:22:20,700 root         DEBUG    Get new guess for spline x3\n",
      "2018-06-01 15:22:20,710 root         DEBUG    Get new guess for spline x4\n",
      "2018-06-01 15:22:20,721 root         DEBUG    Get new guess for spline u1\n",
      "2018-06-01 15:22:20,736 root         DEBUG    Building Equation System\n",
      "2018-06-01 15:22:21,102 root         DEBUG    Solving Equation System\n",
      "2018-06-01 15:22:21,105 root         DEBUG    Run Levenberg-Marquardt method\n",
      "2018-06-01 15:22:21,217 root         DEBUG      rho= 0.318022    mu= 0.000100, |s|^2=3554.343733\n",
      "2018-06-01 15:22:21,219 root         DEBUG    sp=20  nIt=1   k=-332.734499                       res=8.448104\n",
      "2018-06-01 15:22:21,316 root         DEBUG      rho= 0.877055    mu= 0.000050, |s|^2=1139.202523\n",
      "2018-06-01 15:22:21,318 root         DEBUG    sp=20  nIt=2   k=-442.026665                       res=5.891174\n",
      "2018-06-01 15:22:21,423 root         DEBUG      rho= 0.407274    mu= 0.000050, |s|^2=959.262273\n",
      "2018-06-01 15:22:21,424 root         DEBUG    sp=20  nIt=3   k=-978.389130                       res=1.099201\n",
      "2018-06-01 15:22:21,490 root         DEBUG      rho= 0.780100    mu= 0.000050, |s|^2=591.854584\n",
      "2018-06-01 15:22:21,492 root         DEBUG    sp=20  nIt=4   k=-1090.086045                       res=0.815096\n",
      "2018-06-01 15:22:21,599 root         DEBUG      rho= 0.000000    mu= 0.000100, |s|^2=438.883500\n",
      "2018-06-01 15:22:21,637 root         DEBUG      rho= 0.756838    mu= 0.000100, |s|^2=276.087649\n",
      "2018-06-01 15:22:21,638 root         DEBUG    sp=20  nIt=5   k=-1173.746168                       res=0.473388\n",
      "2018-06-01 15:22:21,743 root         DEBUG      rho= 0.370286    mu= 0.000100, |s|^2=155.667293\n",
      "2018-06-01 15:22:21,744 root         DEBUG    sp=20  nIt=6   k=-1125.758383                       res=0.395563\n",
      "2018-06-01 15:22:21,845 root         DEBUG      rho= 0.284698    mu= 0.000100, |s|^2=173.661478\n",
      "2018-06-01 15:22:21,845 root         DEBUG    sp=20  nIt=7   k=-1188.368122                       res=0.386240\n",
      "2018-06-01 15:22:21,944 root         DEBUG      rho= 0.329246    mu= 0.000100, |s|^2=128.443694\n",
      "2018-06-01 15:22:21,946 root         DEBUG    sp=20  nIt=8   k=-1141.604642                       res=0.381664\n",
      "2018-06-01 15:22:22,046 root         DEBUG      rho= 0.273928    mu= 0.000100, |s|^2=129.653310\n",
      "2018-06-01 15:22:22,048 root         DEBUG    sp=20  nIt=9   k=-1189.667174                       res=0.377932\n",
      "2018-06-01 15:22:22,137 root         DEBUG      rho= 0.303737    mu= 0.000100, |s|^2=108.875760\n",
      "2018-06-01 15:22:22,138 root         DEBUG    sp=20  nIt=10   k=-1149.278690                       res=0.375867\n",
      "2018-06-01 15:22:22,242 root         DEBUG      rho= 0.270518    mu= 0.000100, |s|^2=103.114506\n",
      "2018-06-01 15:22:22,243 root         DEBUG    sp=20  nIt=11   k=-1187.921429                       res=0.374236\n",
      "2018-06-01 15:22:22,352 root         DEBUG      rho= 0.282692    mu= 0.000100, |s|^2=90.917177\n",
      "2018-06-01 15:22:22,357 root         DEBUG    sp=20  nIt=12   k=-1154.136066                       res=0.373246\n",
      "2018-06-01 15:22:22,520 root         DEBUG      rho= 0.258119    mu= 0.000100, |s|^2=83.810264\n",
      "2018-06-01 15:22:22,523 root         DEBUG    sp=20  nIt=13   k=-1185.623604                       res=0.372508\n",
      "2018-06-01 15:22:22,642 root         DEBUG      rho= 0.262401    mu= 0.000100, |s|^2=75.296943\n",
      "2018-06-01 15:22:22,644 root         DEBUG    sp=20  nIt=14   k=-1157.633045                       res=0.372040\n",
      "2018-06-01 15:22:22,743 root         DEBUG      rho= 0.239283    mu= 0.000100, |s|^2=68.676771\n",
      "2018-06-01 15:22:22,744 root         DEBUG    sp=20  nIt=15   k=-1183.429625                       res=0.371698\n",
      "2018-06-01 15:22:22,894 root         DEBUG      rho= 0.240697    mu= 0.000100, |s|^2=62.154088\n",
      "2018-06-01 15:22:22,897 root         DEBUG    sp=20  nIt=16   k=-1160.313825                       res=0.371477\n",
      "2018-06-01 15:22:23,026 root         DEBUG      rho= 0.216589    mu= 0.000100, |s|^2=56.466582\n",
      "2018-06-01 15:22:23,028 root         DEBUG    sp=20  nIt=17   k=-1181.505625                       res=0.371314\n",
      "2018-06-01 15:22:23,121 root         DEBUG      rho= 0.217280    mu= 0.000100, |s|^2=51.248809\n",
      "2018-06-01 15:22:23,122 root         DEBUG    sp=20  nIt=18   k=-1162.435243                       res=0.371209\n",
      "2018-06-01 15:22:23,229 root         DEBUG      rho= 0.192124    mu= 0.000200, |s|^2=46.498698\n",
      "2018-06-01 15:22:23,273 root         DEBUG      rho= 0.788342    mu= 0.000200, |s|^2=22.997315\n",
      "2018-06-01 15:22:23,275 root         DEBUG    sp=20  nIt=19   k=-1170.597495                       res=0.371130\n",
      "2018-06-01 15:22:23,460 root         DEBUG      rho= 0.944674    mu= 0.000100, |s|^2=3.218693\n",
      "2018-06-01 15:22:23,461 root         DEBUG    sp=20  nIt=20   k=-1170.571214                       res=0.370954\n",
      "2018-06-01 15:22:23,595 root         DEBUG      rho= 0.405752    mu= 0.000100, |s|^2=4.192443\n",
      "2018-06-01 15:22:23,596 root         DEBUG    sp=20  nIt=21   k=-1172.098491                       res=0.370942\n",
      "2018-06-01 15:22:23,604 root         DEBUG    LM-Break reason: rel tol\n",
      "2018-06-01 15:22:23,607 root         DEBUG    Set spline coefficients\n",
      "2018-06-01 15:22:23,631 root         DEBUG    Solving Initial Value Problem\n",
      "2018-06-01 15:22:23,638 root         DEBUG    start: [0.0, 3.141592653589793, 0.0, 0.0]\n",
      "2018-06-01 15:22:23,788 root         DEBUG    ----------------------------------------\n",
      "2018-06-01 15:22:23,790 root         DEBUG    Ending up with:   Should Be:  Difference:\n",
      "2018-06-01 15:22:23,793 root         DEBUG    x1 : -0.002410     0.000000    0.002410\n",
      "2018-06-01 15:22:23,815 root         DEBUG    x2 : 0.051814     0.000000    0.051814\n",
      "2018-06-01 15:22:23,819 root         DEBUG    x3 : -0.001019     0.000000    0.001019\n",
      "2018-06-01 15:22:23,822 root         DEBUG    x4 : 0.292032     0.000000    0.292032\n",
      "2018-06-01 15:22:23,831 root         DEBUG    ----------------------------------------\n",
      "2018-06-01 15:22:23,834 root         DEBUG      --> reached desired accuracy: False\n",
      "2018-06-01 15:22:23,838 root         INFO     par = []\n"
     ]
    },
    {
     "name": "stdout",
     "output_type": "stream",
     "text": [
      "INFO: \t par = []\n"
     ]
    },
    {
     "name": "stderr",
     "output_type": "stream",
     "text": [
      "2018-06-01 15:22:23,842 root         INFO     Iteration #3; spline parts_ 40\n"
     ]
    },
    {
     "name": "stdout",
     "output_type": "stream",
     "text": [
      "INFO: \t Iteration #3; spline parts_ 40\n"
     ]
    },
    {
     "name": "stderr",
     "output_type": "stream",
     "text": [
      "2018-06-01 15:22:23,844 root         DEBUG    Initialise Splines\n",
      "2018-06-01 15:22:24,549 root         DEBUG    Get new guess for spline x1\n",
      "2018-06-01 15:22:24,571 root         DEBUG    Get new guess for spline x2\n",
      "2018-06-01 15:22:24,588 root         DEBUG    Get new guess for spline x3\n",
      "2018-06-01 15:22:24,604 root         DEBUG    Get new guess for spline x4\n",
      "2018-06-01 15:22:24,621 root         DEBUG    Get new guess for spline u1\n",
      "2018-06-01 15:22:24,635 root         DEBUG    Building Equation System\n",
      "2018-06-01 15:22:25,365 root         DEBUG    Solving Equation System\n",
      "2018-06-01 15:22:25,367 root         DEBUG    Run Levenberg-Marquardt method\n",
      "2018-06-01 15:22:25,608 root         DEBUG      rho= 0.999860    mu= 0.000050, |s|^2=2745.877727\n",
      "2018-06-01 15:22:25,609 root         DEBUG    sp=40  nIt=1   k=43.307251                       res=7.938713\n",
      "2018-06-01 15:22:25,829 root         DEBUG      rho= 0.905269    mu= 0.000025, |s|^2=3057.268986\n",
      "2018-06-01 15:22:25,832 root         DEBUG    sp=40  nIt=2   k=29.822203                       res=0.334181\n",
      "2018-06-01 15:22:26,032 root         DEBUG      rho= 0.888622    mu= 0.000013, |s|^2=3219.095305\n",
      "2018-06-01 15:22:26,036 root         DEBUG    sp=40  nIt=3   k=8.990721                       res=0.201259\n",
      "2018-06-01 15:22:26,211 root         DEBUG      rho= 0.000514    mu= 0.000025, |s|^2=2693.152881\n",
      "2018-06-01 15:22:26,289 root         DEBUG      rho= 0.764755    mu= 0.000025, |s|^2=1415.904513\n",
      "2018-06-01 15:22:26,290 root         DEBUG    sp=40  nIt=4   k=-10.693041                       res=0.099370\n",
      "2018-06-01 15:22:26,473 root         DEBUG      rho= 0.954527    mu= 0.000013, |s|^2=833.871680\n",
      "2018-06-01 15:22:26,474 root         DEBUG    sp=40  nIt=5   k=-27.948180                       res=0.069593\n",
      "2018-06-01 15:22:26,676 root         DEBUG      rho= 0.883963    mu= 0.000006, |s|^2=1401.469622\n",
      "2018-06-01 15:22:26,677 root         DEBUG    sp=40  nIt=6   k=-56.759439                       res=0.051021\n",
      "2018-06-01 15:22:26,867 root         DEBUG      rho= 0.000000    mu= 0.000013, |s|^2=1726.761868\n",
      "2018-06-01 15:22:26,940 root         DEBUG      rho= 0.969420    mu= 0.000006, |s|^2=805.826074\n",
      "2018-06-01 15:22:26,941 root         DEBUG    sp=40  nIt=7   k=-64.590043                       res=0.040693\n",
      "2018-06-01 15:22:27,121 root         DEBUG      rho= 0.000000    mu= 0.000013, |s|^2=1269.741028\n",
      "2018-06-01 15:22:27,198 root         DEBUG      rho= 0.730667    mu= 0.000013, |s|^2=546.003668\n",
      "2018-06-01 15:22:27,201 root         DEBUG    sp=40  nIt=8   k=-60.685053                       res=0.035898\n",
      "2018-06-01 15:22:27,398 root         DEBUG      rho= 0.333435    mu= 0.000013, |s|^2=403.910393\n",
      "2018-06-01 15:22:27,401 root         DEBUG    sp=40  nIt=9   k=-51.445521                       res=0.034600\n",
      "2018-06-01 15:22:27,619 root         DEBUG      rho= 0.368238    mu= 0.000013, |s|^2=313.290209\n",
      "2018-06-01 15:22:27,621 root         DEBUG    sp=40  nIt=10   k=-40.572649                       res=0.034145\n",
      "2018-06-01 15:22:27,848 root         DEBUG      rho= 0.450966    mu= 0.000013, |s|^2=249.407435\n",
      "2018-06-01 15:22:27,849 root         DEBUG    sp=40  nIt=11   k=-29.913452                       res=0.033614\n",
      "2018-06-01 15:22:28,043 root         DEBUG      rho= 0.512355    mu= 0.000013, |s|^2=201.534603\n",
      "2018-06-01 15:22:28,045 root         DEBUG    sp=40  nIt=12   k=-20.244028                       res=0.033050\n",
      "2018-06-01 15:22:28,305 root         DEBUG      rho= 0.558154    mu= 0.000013, |s|^2=164.331146\n",
      "2018-06-01 15:22:28,305 root         DEBUG    sp=40  nIt=13   k=-11.795057                       res=0.032583\n",
      "2018-06-01 15:22:28,506 root         DEBUG      rho= 0.596805    mu= 0.000013, |s|^2=134.778226\n",
      "2018-06-01 15:22:28,507 root         DEBUG    sp=40  nIt=14   k=-4.550219                       res=0.032252\n",
      "2018-06-01 15:22:28,694 root         DEBUG      rho= 0.633230    mu= 0.000013, |s|^2=110.979874\n",
      "2018-06-01 15:22:28,697 root         DEBUG    sp=40  nIt=15   k=1.603212                       res=0.032036\n",
      "2018-06-01 15:22:28,907 root         DEBUG      rho= 0.670052    mu= 0.000013, |s|^2=91.645806\n",
      "2018-06-01 15:22:28,908 root         DEBUG    sp=40  nIt=16   k=6.804657                       res=0.031899\n",
      "2018-06-01 15:22:29,101 root         DEBUG      rho= 0.708242    mu= 0.000013, |s|^2=75.845306\n",
      "2018-06-01 15:22:29,104 root         DEBUG    sp=40  nIt=17   k=11.190807                       res=0.031815\n",
      "2018-06-01 15:22:29,305 root         DEBUG      rho= 0.747547    mu= 0.000013, |s|^2=62.878982\n",
      "2018-06-01 15:22:29,306 root         DEBUG    sp=40  nIt=18   k=14.884853                       res=0.031762\n",
      "2018-06-01 15:22:29,539 root         DEBUG      rho= 0.786888    mu= 0.000013, |s|^2=52.206299\n",
      "2018-06-01 15:22:29,539 root         DEBUG    sp=40  nIt=19   k=17.993751                       res=0.031730\n",
      "2018-06-01 15:22:29,743 root         DEBUG      rho= 0.824795    mu= 0.000006, |s|^2=43.401471\n",
      "2018-06-01 15:22:29,744 root         DEBUG    sp=40  nIt=20   k=20.608843                       res=0.031709\n",
      "2018-06-01 15:22:29,940 root         DEBUG      rho= 0.000000    mu= 0.000013, |s|^2=91.414811\n",
      "2018-06-01 15:22:30,030 root         DEBUG      rho= 0.859863    mu= 0.000006, |s|^2=36.124792\n",
      "2018-06-01 15:22:30,038 root         DEBUG    sp=40  nIt=21   k=22.807525                       res=0.031695\n",
      "2018-06-01 15:22:30,039 root         DEBUG    LM-Break reason: rel tol\n",
      "2018-06-01 15:22:30,042 root         DEBUG    Set spline coefficients\n",
      "2018-06-01 15:22:30,076 root         DEBUG    Solving Initial Value Problem\n",
      "2018-06-01 15:22:30,086 root         DEBUG    start: [0.0, 3.141592653589793, 0.0, 0.0]\n",
      "2018-06-01 15:22:30,341 root         DEBUG    ----------------------------------------\n",
      "2018-06-01 15:22:30,342 root         DEBUG    Ending up with:   Should Be:  Difference:\n",
      "2018-06-01 15:22:30,345 root         DEBUG    x1 : -0.000099     0.000000    0.000099\n",
      "2018-06-01 15:22:30,346 root         DEBUG    x2 : -0.000555     0.000000    0.000555\n",
      "2018-06-01 15:22:30,349 root         DEBUG    x3 : -0.000065     0.000000    0.000065\n",
      "2018-06-01 15:22:30,351 root         DEBUG    x4 : -0.003208     0.000000    0.003208\n",
      "2018-06-01 15:22:30,357 root         DEBUG    ----------------------------------------\n",
      "2018-06-01 15:22:30,371 root         INFO       --> reached desired accuracy: True\n"
     ]
    },
    {
     "name": "stdout",
     "output_type": "stream",
     "text": [
      "INFO: \t   --> reached desired accuracy: True\n"
     ]
    },
    {
     "name": "stderr",
     "output_type": "stream",
     "text": [
      "2018-06-01 15:22:30,390 root         INFO     par = []\n"
     ]
    },
    {
     "name": "stdout",
     "output_type": "stream",
     "text": [
      "INFO: \t par = []\n",
      "Pytrajecotry Succeeded!\n"
     ]
    },
    {
     "name": "stderr",
     "output_type": "stream",
     "text": [
      "2018-06-01 15:22:31,476 root         DEBUG    u : u\n",
      "2018-06-01 15:22:31,483 root         DEBUG    fx_expr: Matrix([[qdot0(t)], [qdot1(t)], [0], [a0*g*m1*sin(q1(t))/(J1 + a0**2*m1) + d1*qdot1(t)/(J1 + a0**2*m1)]])\n",
      "2018-06-01 15:22:31,490 root         DEBUG    gx_expr: Matrix([[0.0], [0.0], [1], [-a0*m1*cos(q1(t))/(J1 + a0**2*m1)]])\n",
      "2018-06-01 15:22:31,522 root         DEBUG    xdot_exr: Matrix([[qdot0(t)], [qdot1(t)], [u], [-3.16149160600208*u*cos(q1(t)) + 0.185707918585648*qdot1(t) + 31.0142326548804*sin(q1(t))]])\n"
     ]
    },
    {
     "data": {
      "text/plain": [
       "\"\\nx_closed_loop=np.array(config.cs_ret[0](t).tolist())\\n\\nimport matplotlib as mpl\\nimport matplotlib.pyplot as plt\\n\\nfig, axes = plt.subplots()\\naxes.plot(t, x_open_loop[:, 1] * 180 / np.pi, 'o')\\naxes.plot(t, x_closed_loop[:]\\naxes.plot(vect, K)\\n\\nplt.show()\\n\\n\""
      ]
     },
     "execution_count": 1,
     "metadata": {},
     "output_type": "execute_result"
    },
    {
     "name": "stderr",
     "output_type": "stream",
     "text": [
      "2018-06-01 15:22:31,601 matplotlib.backends DEBUG    backend module://ipykernel.pylab.backend_inline version unknown\n"
     ]
    }
   ],
   "source": [
    "# coding: utf-8\n",
    "'''\n",
    "-----------\n",
    "To Do :\n",
    "  - parameter shoul be read from a file isntead of dictionary!\n",
    "  - finding a general way to define Q and R according to number of pendulums\n",
    "  - (should I have a dynamic way of changing  Q and R to find the best result ?! )\n",
    "'''\n",
    "#=============================================================\n",
    "# Standard Python modules\n",
    "#=============================================================\n",
    "import os, sys\n",
    "import dill\n",
    "import logging\n",
    "\n",
    "#=============================================================\n",
    "# External Python modules\n",
    "#=============================================================\n",
    "#from __future__ import division, print_function\n",
    "from sympy.physics.vector import init_vprinting, vlatex\n",
    "init_vprinting(use_latex='mathjax', pretty_print=False)\n",
    "\n",
    "import sympy as sm\n",
    "import sympy.physics.mechanics as me\n",
    "import numpy as np\n",
    "from numpy.linalg import inv as np_inv\n",
    "import scipy as sc\n",
    "from scipy.integrate import odeint\n",
    "\n",
    "from odeintw import odeintw\n",
    "\n",
    "#import ipydex\n",
    "#=============================================================\n",
    "# Standard Python modules\n",
    "#=============================================================\n",
    "from functions import *\n",
    "from sys_model import *\n",
    "from traj_opt import *\n",
    "#=============================================================\n",
    "# Lqr control for top equilibrium point\n",
    "#=============================================================\n",
    "\n",
    "logging.basicConfig(\n",
    "    filename='pen_odeint.log',\n",
    "    level=logging.DEBUG,\n",
    "    format='%(asctime)s %(name)-12s %(levelname)-8s %(message)s')\n",
    "\n",
    "# logger = logging.getLogger()\n",
    "# handler = logging.StreamHandler()\n",
    "# formatter = logging.Formatter(\n",
    "#     '%(asctime)s %(name)-12s %(levelname)-8s %(message)s')\n",
    "# handler.setFormatter(formatter)\n",
    "# logger.addHandler(handler)\n",
    "# logger.setLevel(logging.DEBUG)\n",
    "\n",
    "#ipydex.activate_ips_on_exception()\n",
    "\n",
    "# Defining equilibrium point and system parameters\n",
    "if n == 1:\n",
    "    param_values = config.parameter_values_simple_pendulum\n",
    "    x0 = [0., 0., 0., 0.]\n",
    "\n",
    "elif n == 2:\n",
    "    param_values = config.parameter_values_double_pendulum\n",
    "    x0 = [0., 0., 0., 0., 0., 0.]\n",
    "\n",
    "elif n == 3:\n",
    "    param_values = config.parameter_values_triple_pendulum\n",
    "    x0 = [0., 0., 0., 0., 0., 0., 0., 0.]\n",
    "\n",
    "param_symb = list(a + d + m + J + (g, f))\n",
    "param_list = zip(param_symb, param_values)\n",
    "\n",
    "u0 = [0.0]\n",
    "equilibrium_point = x0 + u0\n",
    "\n",
    "# linearization of model @ equilibrium point\n",
    "A, B = linearize_state_equ(fx, gx, q, qdot, u, param_list, equilibrium_point)\n",
    "\n",
    "# lqr control to find K (we need it as a boundry-value (Pe) for our tracking !)\n",
    "Q = np.identity(4)\n",
    "R = 0.01 * np.identity(1)\n",
    "# k_top = lqr(A, B, Q, R)\n",
    "results = lqr(A, B, Q, R, additional_outputs=True)\n",
    "k_top = results[0]\n",
    "'''\n",
    "# k(t)= R^-1 * B.T * P(t)  ---> Pe=(B.T).inv() * R * k_top\n",
    "# ATTENTION :\n",
    "#             - B is a 4*1 matrix so we couldnt find Pe exactly using\n",
    "#               equation above! We impose a second condition for Pe\n",
    "#               to be a diagonal Matrix. --> Pe=diag(p1, p2, p3, p4)\n",
    "#\n",
    "#             - On the other hand because the first and second\n",
    "#               component of the vector B are always 0 , finding p1, p2\n",
    "#               provide no additional informations. so we could set\n",
    "#               them to be 0 and just find p3 and p4 !\n",
    "\n",
    "diag_Pe= [0.0 for i in range(len(q))]\n",
    "for i in range(len(q)):\n",
    "      indx=i+len(q)\n",
    "      diag_Pe.append(k_top[0,indx]*R[0,0]/B[indx,0])\n",
    "\n",
    "Pe=np.diag(diag_Pe)\n",
    "'''\n",
    "\n",
    "Pe = results[1].reshape(16)\n",
    "\n",
    "# lqr tracking of the desired trajectory :\n",
    "# determining linearized model at any equilibrium point\n",
    "A_eq, B_eq = linearize_state_equ(fx, gx, q, qdot, u, param_list)\n",
    "\n",
    "# solving riccati differential equations inverse in time :\n",
    "dynamic_symbs = q + qdot + [u]\n",
    "\n",
    "frames_per_sec = 15\n",
    "final_time = 2\n",
    "t = np.linspace(0.0, final_time, final_time * frames_per_sec)\n",
    "\n",
    "# P_dot= riccati_diff_equ(Pe, final_time, A_eq, B_eq, Q, R, dynamic_symbs)\n",
    "Pe0 = np.identity(4)\n",
    "# converting Matrix to Vector to be able to use in odeint\n",
    "#   we're converting it back again to a Matrix ! (it also need some changes\n",
    "#   in riccati_diff_equ function !)\n",
    "Pe0 = Pe0.reshape(16)\n",
    "# logger.debug('Pe = y0 : %f', Pe0)\n",
    "# print ('Pe = y0 :', Pe0)\n",
    "'''\n",
    "P = odeint(riccati_diff_equ, Pe, t[::-1], args=(A_eq, B_eq, Q, R, dynamic_symbs))\n",
    "\n",
    "with open('P_matrix.pkl','wb' ) as file :\n",
    "    dill.dump(P, file)\n",
    "'''\n",
    "with open('P_matrix.pkl', 'rb') as file :\n",
    "    P=dill.load(file)\n",
    "\n",
    "# finding gain k for lqr Tracking :\n",
    "\n",
    "Psim=P[::-1]\n",
    "K_matrix= generate_gain_matrix(R, B_eq, Psim, t, dynamic_symbs)\n",
    "\n",
    "# finding states of the system using calculated K_matrix and\n",
    "# comparing the results with desired trajecory !\n",
    "xdot_func= sympy_states_to_func(dynamic_symbs, param_list)\n",
    "#ipydex.IPS()\n",
    "\n",
    "\n",
    "def ode_function(x, t, xdot_func, K_matrix, Vect,  mode='Open_loop'):\n",
    "    '''\n",
    "    it's the dy/dt=func(y, t, args)  to be used in odeint\n",
    "    (the first two arguments are system state x and time t)\n",
    "\n",
    "    there are two modes available:\n",
    "     - Open_loop is defualt and use for tracking (Folgerung)\n",
    "     - Closed_loop could be activated in mode and could be \n",
    "       used as regulator (Regler)\n",
    "\n",
    "    ATTENTION :\n",
    "      - use sympy_states_to_func to produce xdot functions out of \n",
    "        sympy expresisons. \n",
    "        (you have to run sympy_state_to_func once and store the result\n",
    "        so you could pass it as xdot_func )\n",
    "\n",
    "    '''\n",
    "    \n",
    "    logging.debug('x_new: %s \\n \\n', x)\n",
    "    logging.debug('----------------------------------------------------------------')\n",
    "    n=len(Vect)\n",
    "    xs=config.cs_ret[0](t)\n",
    "    us=config.cs_ret[1](t)\n",
    "    \n",
    "    if mode == 'Open_loop' :\n",
    "        k0 = np.interp(t, Vect, K_matrix[:, 0])\n",
    "        k1 = np.interp(t, Vect, K_matrix[:, 1])\n",
    "        k2 = np.interp(t, Vect, K_matrix[:, 2])\n",
    "        k3 = np.interp(t, Vect, K_matrix[:, 3])\n",
    "\n",
    "        k = np.array([k0, k1, k2, k3])\n",
    "        delta_x = x - xs\n",
    "        delta_u = (-1) * k.T.dot(delta_x)\n",
    "        inputs = us + delta_u\n",
    "        # loggings :\n",
    "        logging.debug('k :%s', k)\n",
    "        logging.debug('delta_x: %s',delta_x)\n",
    "        logging.debug('delta_u: %s \\n', delta_u)\n",
    "    elif mode == 'Closed_loop' :\n",
    "        inputs= us\n",
    "\n",
    "    state= x\n",
    "    logging.debug('t: %s \\n', t)\n",
    "    \n",
    "    logging.debug('us: %s', us )\n",
    "    logging.debug('xs:%s \\n',  xs)\n",
    "    logging.debug('state: %s', state)\n",
    "    logging.debug('inputs: %s \\n', inputs)\n",
    "    \n",
    "    # ipydex.IPS()\n",
    "    xdot= xdot_func(state, inputs)\n",
    "    logging.debug('x_current: %s', x)    \n",
    "    logging.debug('xdot : %s ', xdot)\n",
    "    \n",
    "    return xdot\n",
    "\n",
    "\n",
    "# x_open_loop= odeint(ode_function, xa, t, args=(xdot_func, K_matrix, t) )\n",
    "# x_closed_loop= odeint(ode_function, xa, t, args=(xdot_func, K_matrix, t, 'Closed_loop') )\n",
    "#ipydex.IPS()\n",
    "\n",
    "'''\n",
    "x_closed_loop=np.array(config.cs_ret[0](t).tolist())\n",
    "\n",
    "import matplotlib as mpl\n",
    "import matplotlib.pyplot as plt\n",
    "\n",
    "fig, axes = plt.subplots()\n",
    "axes.plot(t, x_open_loop[:, 1] * 180 / np.pi, 'o')\n",
    "axes.plot(t, x_closed_loop[:]\n",
    "axes.plot(vect, K)\n",
    "\n",
    "plt.show()\n",
    "\n",
    "'''"
   ]
  },
  {
   "cell_type": "code",
   "execution_count": 22,
   "metadata": {},
   "outputs": [],
   "source": [
    "#=============================================================\n",
    "# Standard Python modules\n",
    "#=============================================================\n",
    "import os, sys\n",
    "import dill\n",
    "import logging\n",
    "\n",
    "#=============================================================\n",
    "# External Python modules\n",
    "#=============================================================\n",
    "#from __future__ import division, print_function\n",
    "from sympy.physics.vector import init_vprinting, vlatex\n",
    "init_vprinting(use_latex='mathjax', pretty_print=False)\n",
    "\n",
    "import sympy as sm\n",
    "import sympy.physics.mechanics as me\n",
    "import numpy as np\n",
    "from numpy.linalg import inv as np_inv\n",
    "import scipy as sc\n",
    "from scipy.integrate import odeint\n",
    "\n",
    "from odeintw import odeintw\n",
    "\n",
    "#import ipydex\n",
    "#=============================================================\n",
    "# Standard Python modules\n",
    "#=============================================================\n",
    "from functions import *\n",
    "from sys_model import *"
   ]
  },
  {
   "cell_type": "code",
   "execution_count": 26,
   "metadata": {},
   "outputs": [],
   "source": [
    "qdd_expr = fx + gx * u"
   ]
  },
  {
   "cell_type": "code",
   "execution_count": 34,
   "metadata": {
    "collapsed": true
   },
   "outputs": [],
   "source": [
    "qdd_func = [\n",
    "            sm.lambdify(q+qdot+[u],\n",
    "                        qdd_expr[i + len(q)], 'sympy') for i in range(len(q))\n",
    "        ]"
   ]
  },
  {
   "cell_type": "code",
   "execution_count": 35,
   "metadata": {},
   "outputs": [
    {
     "data": {
      "text/latex": [
       "$$\\frac{a_{0} g m_{1} \\operatorname{sin}\\left(1\\right)}{J_{1} + a_{0}^{2} m_{1}} - \\frac{4 a_{0} m_{1} \\operatorname{cos}\\left(1\\right)}{J_{1} + a_{0}^{2} m_{1}} + \\frac{3 d_{1}}{J_{1} + a_{0}^{2} m_{1}}$$"
      ],
      "text/plain": [
       "a0*g*m1*sin(1)/(J1 + a0**2*m1) - 4*a0*m1*cos(1)/(J1 + a0**2*m1) + 3*d1/(J1 + a0**2*m1)"
      ]
     },
     "execution_count": 35,
     "metadata": {},
     "output_type": "execute_result"
    }
   ],
   "source": [
    "qdd_func[1](0,1,2,3,4)"
   ]
  },
  {
   "cell_type": "code",
   "execution_count": 33,
   "metadata": {},
   "outputs": [
    {
     "data": {
      "text/latex": [
       "$$2$$"
      ],
      "text/plain": [
       "2"
      ]
     },
     "execution_count": 33,
     "metadata": {},
     "output_type": "execute_result"
    }
   ],
   "source": [
    "len(q)"
   ]
  },
  {
   "cell_type": "code",
   "execution_count": 36,
   "metadata": {
    "collapsed": true
   },
   "outputs": [],
   "source": [
    " qdd_func = [\n",
    "        sm.lambdify(q + qdot + [u], qdd_expr[i + len(q)], 'sympy')\n",
    "        for i in range(len(q))\n",
    "    ]"
   ]
  },
  {
   "cell_type": "code",
   "execution_count": 38,
   "metadata": {},
   "outputs": [
    {
     "data": {
      "text/latex": [
       "$$4$$"
      ],
      "text/plain": [
       "4"
      ]
     },
     "execution_count": 38,
     "metadata": {},
     "output_type": "execute_result"
    }
   ],
   "source": [
    "qdd_func[0](0,1,2,3,4)"
   ]
  },
  {
   "cell_type": "code",
   "execution_count": 39,
   "metadata": {},
   "outputs": [
    {
     "data": {
      "text/latex": [
       "$$\\left [ q_{0}, \\quad q_{1}\\right ]$$"
      ],
      "text/plain": [
       "[q0, q1]"
      ]
     },
     "execution_count": 39,
     "metadata": {},
     "output_type": "execute_result"
    }
   ],
   "source": [
    "q"
   ]
  },
  {
   "cell_type": "code",
   "execution_count": 45,
   "metadata": {
    "collapsed": true
   },
   "outputs": [],
   "source": [
    "x0=[0 for i in range(len(b))]\n"
   ]
  },
  {
   "cell_type": "code",
   "execution_count": 46,
   "metadata": {},
   "outputs": [
    {
     "data": {
      "text/latex": [
       "$$\\left [ 0, \\quad 0, \\quad 0, \\quad 0\\right ]$$"
      ],
      "text/plain": [
       "[0, 0, 0, 0]"
      ]
     },
     "execution_count": 46,
     "metadata": {},
     "output_type": "execute_result"
    }
   ],
   "source": [
    "x0"
   ]
  },
  {
   "cell_type": "code",
   "execution_count": 48,
   "metadata": {},
   "outputs": [
    {
     "ename": "TypeError",
     "evalue": "can only assign an iterable",
     "output_type": "error",
     "traceback": [
      "\u001b[1;31m---------------------------------------------------------------------------\u001b[0m",
      "\u001b[1;31mTypeError\u001b[0m                                 Traceback (most recent call last)",
      "\u001b[1;32m<ipython-input-48-b65914976a27>\u001b[0m in \u001b[0;36m<module>\u001b[1;34m()\u001b[0m\n\u001b[1;32m----> 1\u001b[1;33m \u001b[0mx0\u001b[0m\u001b[1;33m[\u001b[0m\u001b[1;36m1\u001b[0m\u001b[1;33m:\u001b[0m\u001b[1;36m3\u001b[0m\u001b[1;33m]\u001b[0m\u001b[1;33m=\u001b[0m\u001b[1;36m5\u001b[0m\u001b[1;33m\u001b[0m\u001b[0m\n\u001b[0m",
      "\u001b[1;31mTypeError\u001b[0m: can only assign an iterable"
     ]
    }
   ],
   "source": [
    "x0[1:3]=5"
   ]
  },
  {
   "cell_type": "code",
   "execution_count": 43,
   "metadata": {},
   "outputs": [
    {
     "data": {
      "text/latex": [
       "$$\\left [ 0, \\quad 5\\right ]$$"
      ],
      "text/plain": [
       "[0, 5]"
      ]
     },
     "execution_count": 43,
     "metadata": {},
     "output_type": "execute_result"
    }
   ],
   "source": [
    "x0"
   ]
  },
  {
   "cell_type": "code",
   "execution_count": 44,
   "metadata": {},
   "outputs": [
    {
     "data": {
      "text/latex": [
       "$$\\left [ b_{0}, \\quad b_{1}, \\quad b_{2}, \\quad b_{3}\\right ]$$"
      ],
      "text/plain": [
       "[b0, b1, b2, b3]"
      ]
     },
     "execution_count": 44,
     "metadata": {},
     "output_type": "execute_result"
    }
   ],
   "source": [
    "b"
   ]
  },
  {
   "cell_type": "code",
   "execution_count": 53,
   "metadata": {},
   "outputs": [],
   "source": [
    "x0=[0]+ [np.pi in range(len(b)-1)]+ [0  in range(len(q))]"
   ]
  },
  {
   "cell_type": "code",
   "execution_count": 54,
   "metadata": {},
   "outputs": [
    {
     "data": {
      "text/plain": [
       "[0, False, True]"
      ]
     },
     "execution_count": 54,
     "metadata": {},
     "output_type": "execute_result"
    }
   ],
   "source": [
    "x0"
   ]
  },
  {
   "cell_type": "code",
   "execution_count": null,
   "metadata": {
    "collapsed": true
   },
   "outputs": [],
   "source": []
  }
 ],
 "metadata": {
  "kernelspec": {
   "display_name": "Python [conda env:py2env]",
   "language": "python",
   "name": "conda-env-py2env-py"
  },
  "language_info": {
   "codemirror_mode": {
    "name": "ipython",
    "version": 2
   },
   "file_extension": ".py",
   "mimetype": "text/x-python",
   "name": "python",
   "nbconvert_exporter": "python",
   "pygments_lexer": "ipython2",
   "version": "2.7.15"
  }
 },
 "nbformat": 4,
 "nbformat_minor": 2
}
