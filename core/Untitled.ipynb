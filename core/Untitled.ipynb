{
 "cells": [
  {
   "cell_type": "code",
   "execution_count": 6,
   "metadata": {
    "collapsed": true
   },
   "outputs": [],
   "source": [
    "from __future__ import division, print_function\n",
    "from sympy.physics.vector import init_vprinting, vlatex\n",
    "init_vprinting(use_latex='mathjax', pretty_print=False)\n",
    "\n",
    "import sympy as sm\n",
    "import sympy.physics.mechanics as me\n",
    "import numpy as np\n",
    "import scipy as sc\n",
    "\n",
    "import ipydex\n",
    "#=============================================================\n",
    "# Standard Python modules\n",
    "#=============================================================\n",
    "from functions import *\n",
    "from sys_model import *\n",
    "#from traj_opt import *\n",
    "#=============================================================\n",
    "# Lqr control for top equilibrium point\n",
    "#=============================================================\n",
    "\n",
    "x0 = sm.Matrix([0., 0., 0., 0., 0.])\n",
    "u0=0.0\n",
    "parameter_values = [(g, 9.81), (a[0], 0.2), (d[0], 10.0), (m[0], 3.34),\n",
    "                    (m[1], 0.8512), (J[0], 0), (J[1], 0.01980), (f, 0)]\n",
    "\n",
    "# linearization of model @ equilibrium point\n",
    "A, B = linearize_state_equ(fx, gx, q, qdot, u, parameter_values, x0,u0)"
   ]
  },
  {
   "cell_type": "code",
   "execution_count": 7,
   "metadata": {
    "collapsed": true
   },
   "outputs": [],
   "source": [
    "qq = sm.Matrix([q, qdot])\n",
    "values = list(map(lambda a, b: (a, b), qq, x0)) + \\\n",
    "[(u, u0)] + \\\n",
    "parameter_values\n",
    "values_dict = dict(values)"
   ]
  },
  {
   "cell_type": "code",
   "execution_count": 8,
   "metadata": {
    "collapsed": true
   },
   "outputs": [],
   "source": [
    "import config\n",
    "param_values = config.parameter_values_simple_pendulum\n",
    "param_symb= list(a+d+m+J+(g,f))\n",
    "param_list= zip(param_symb, param_values)"
   ]
  },
  {
   "cell_type": "code",
   "execution_count": 9,
   "metadata": {},
   "outputs": [
    {
     "data": {
      "text/latex": [
       "$$\\left [ \\left ( a_{0}, \\quad 0.2\\right ), \\quad \\left ( d_{1}, \\quad 10.0\\right ), \\quad \\left ( m_{0}, \\quad 3.34\\right ), \\quad \\left ( m_{1}, \\quad 0.8512\\right ), \\quad \\left ( J_{0}, \\quad 0.0\\right ), \\quad \\left ( J_{1}, \\quad 0.0198\\right ), \\quad \\left ( g, \\quad 9.81\\right ), \\quad \\left ( f, \\quad 0.0\\right )\\right ]$$"
      ],
      "text/plain": [
       "[(a0, 0.2), (d1, 10.0), (m0, 3.34), (m1, 0.8512), (J0, 0.0), (J1, 0.0198), (g, 9.81), (f, 0.0)]"
      ]
     },
     "execution_count": 9,
     "metadata": {},
     "output_type": "execute_result"
    }
   ],
   "source": [
    "param_list"
   ]
  },
  {
   "cell_type": "code",
   "execution_count": 10,
   "metadata": {},
   "outputs": [
    {
     "data": {
      "text/latex": [
       "$$\\left [ a_{0}, \\quad d_{1}, \\quad m_{0}, \\quad m_{1}, \\quad J_{0}, \\quad J_{1}, \\quad g, \\quad f\\right ]$$"
      ],
      "text/plain": [
       "[a0, d1, m0, m1, J0, J1, g, f]"
      ]
     },
     "execution_count": 10,
     "metadata": {},
     "output_type": "execute_result"
    }
   ],
   "source": [
    "param_symb"
   ]
  },
  {
   "cell_type": "code",
   "execution_count": 12,
   "metadata": {
    "collapsed": true
   },
   "outputs": [],
   "source": [
    "bb=np.array([0,1,2,3,4,5,6,7])"
   ]
  },
  {
   "cell_type": "code",
   "execution_count": 13,
   "metadata": {},
   "outputs": [
    {
     "data": {
      "text/latex": [
       "$$\\left [ \\left ( a_{0}, \\quad 0\\right ), \\quad \\left ( d_{1}, \\quad 1\\right ), \\quad \\left ( m_{0}, \\quad 2\\right ), \\quad \\left ( m_{1}, \\quad 3\\right ), \\quad \\left ( J_{0}, \\quad 4\\right ), \\quad \\left ( J_{1}, \\quad 5\\right ), \\quad \\left ( g, \\quad 6\\right ), \\quad \\left ( f, \\quad 7\\right )\\right ]$$"
      ],
      "text/plain": [
       "[(a0, 0), (d1, 1), (m0, 2), (m1, 3), (J0, 4), (J1, 5), (g, 6), (f, 7)]"
      ]
     },
     "execution_count": 13,
     "metadata": {},
     "output_type": "execute_result"
    }
   ],
   "source": [
    "zip(param_symb, bb)"
   ]
  },
  {
   "cell_type": "code",
   "execution_count": 14,
   "metadata": {},
   "outputs": [
    {
     "name": "stdout",
     "output_type": "stream",
     "text": [
      "Help on function hstack in module numpy.core.shape_base:\n",
      "\n",
      "hstack(tup)\n",
      "    Stack arrays in sequence horizontally (column wise).\n",
      "    \n",
      "    This is equivalent to concatenation along the second axis, except for 1-D\n",
      "    arrays where it concatenates along the first axis. Rebuilds arrays divided\n",
      "    by `hsplit`.\n",
      "    \n",
      "    This function makes most sense for arrays with up to 3 dimensions. For\n",
      "    instance, for pixel-data with a height (first axis), width (second axis),\n",
      "    and r/g/b channels (third axis). The functions `concatenate`, `stack` and\n",
      "    `block` provide more general stacking and concatenation operations.\n",
      "    \n",
      "    Parameters\n",
      "    ----------\n",
      "    tup : sequence of ndarrays\n",
      "        The arrays must have the same shape along all but the second axis,\n",
      "        except 1-D arrays which can be any length.\n",
      "    \n",
      "    Returns\n",
      "    -------\n",
      "    stacked : ndarray\n",
      "        The array formed by stacking the given arrays.\n",
      "    \n",
      "    See Also\n",
      "    --------\n",
      "    stack : Join a sequence of arrays along a new axis.\n",
      "    vstack : Stack arrays in sequence vertically (row wise).\n",
      "    dstack : Stack arrays in sequence depth wise (along third axis).\n",
      "    concatenate : Join a sequence of arrays along an existing axis.\n",
      "    hsplit : Split array along second axis.\n",
      "    block : Assemble arrays from blocks.\n",
      "    \n",
      "    Examples\n",
      "    --------\n",
      "    >>> a = np.array((1,2,3))\n",
      "    >>> b = np.array((2,3,4))\n",
      "    >>> np.hstack((a,b))\n",
      "    array([1, 2, 3, 2, 3, 4])\n",
      "    >>> a = np.array([[1],[2],[3]])\n",
      "    >>> b = np.array([[2],[3],[4]])\n",
      "    >>> np.hstack((a,b))\n",
      "    array([[1, 2],\n",
      "           [2, 3],\n",
      "           [3, 4]])\n",
      "\n"
     ]
    }
   ],
   "source": [
    "help(np.hstack)"
   ]
  },
  {
   "cell_type": "code",
   "execution_count": 25,
   "metadata": {},
   "outputs": [
    {
     "ename": "SyntaxError",
     "evalue": "invalid syntax (<ipython-input-25-73efbd78b9b3>, line 44)",
     "output_type": "error",
     "traceback": [
      "\u001b[1;36m  File \u001b[1;32m\"<ipython-input-25-73efbd78b9b3>\"\u001b[1;36m, line \u001b[1;32m44\u001b[0m\n\u001b[1;33m    return p\u001b[0m\n\u001b[1;37m         ^\u001b[0m\n\u001b[1;31mSyntaxError\u001b[0m\u001b[1;31m:\u001b[0m invalid syntax\n"
     ]
    }
   ],
   "source": [
    "\n",
    "# riccuti differential equation\n",
    "def riccati_diff_equ(P, t, A_equi, B_equi, Q, R, dynamic_symbs):\n",
    "    '''\n",
    "    it returns riccati differential equation :\n",
    "\n",
    "      P_dot = -P * A - A.T * P + P * b * R**-1 * b.T * P - Q\n",
    "    \n",
    "    =========================================================\n",
    "     INPUTS :\n",
    "    =========================================================\n",
    "    P\n",
    "    t\n",
    "    A_equi  : sympy.Matrix \n",
    "    B_equi  : sympy.Matrix \n",
    "    Q\n",
    "    R\n",
    "    dynamic_symbs : list containing symbolic variable in A_equi \n",
    "                   and B_equi ---> \n",
    "                   dynamic_symb= [q0, q1, qdot0, qdot1, u]\n",
    "                \n",
    "    ===========================================================\n",
    "     OUTPUTS:\n",
    "    =========================================================== \n",
    "    p_dot : numpy.array \n",
    "     \n",
    "    '''\n",
    "    # evaluating A_equi and B_equi at equilibrium point\n",
    "    x0= config.cs_ret[0](t)\n",
    "    u0= config.cs_ret[1](t)\n",
    "\n",
    "    equilib_point= np.hstack((x0, u0))\n",
    "    values_dict= dict(zip(dynamic_symbs, equilib_point))\n",
    "     \n",
    "    #A = A_equi.subs(values_dict)\n",
    "    #A=A_equi\n",
    "    #B= B_equi                  \n",
    "    \n",
    "    # converting sympy.Matrix to numpy.array\n",
    "    #A = np.array(A.tolist()).astype(np.float64)\n",
    "    #B = np.array(B.tolist()).astype(np.float64)\n",
    "\n",
    "    #P_dot = -P.dot(A) - (A.T).dot(P) + P.dot(B.dot(R.inv() * (B.T).dot(P))) - Q\n",
    "    return p\n",
    "     "
   ]
  },
  {
   "cell_type": "code",
   "execution_count": 27,
   "metadata": {
    "collapsed": true
   },
   "outputs": [],
   "source": [
    "R=np.identity(1)"
   ]
  },
  {
   "cell_type": "code",
   "execution_count": 39,
   "metadata": {},
   "outputs": [],
   "source": [
    "from numpy.linalg import inv as np_inv"
   ]
  },
  {
   "cell_type": "code",
   "execution_count": 40,
   "metadata": {},
   "outputs": [
    {
     "data": {
      "text/plain": [
       "array([[1.]])"
      ]
     },
     "execution_count": 40,
     "metadata": {},
     "output_type": "execute_result"
    }
   ],
   "source": [
    "np_inv(R)"
   ]
  },
  {
   "cell_type": "code",
   "execution_count": 41,
   "metadata": {
    "collapsed": true
   },
   "outputs": [],
   "source": [
    "list_e=[1,2,3,4]"
   ]
  },
  {
   "cell_type": "code",
   "execution_count": 43,
   "metadata": {},
   "outputs": [
    {
     "data": {
      "text/latex": [
       "$$\\left ( 4, \\quad 4\\right )$$"
      ],
      "text/plain": [
       "(4, 4)"
      ]
     },
     "execution_count": 43,
     "metadata": {},
     "output_type": "execute_result"
    }
   ],
   "source": [
    "np.shape(np.diag(list_e))"
   ]
  },
  {
   "cell_type": "code",
   "execution_count": null,
   "metadata": {
    "collapsed": true
   },
   "outputs": [],
   "source": [
    "np.diag"
   ]
  }
 ],
 "metadata": {
  "kernelspec": {
   "display_name": "Python [conda env:py2env]",
   "language": "python",
   "name": "conda-env-py2env-py"
  },
  "language_info": {
   "codemirror_mode": {
    "name": "ipython",
    "version": 2
   },
   "file_extension": ".py",
   "mimetype": "text/x-python",
   "name": "python",
   "nbconvert_exporter": "python",
   "pygments_lexer": "ipython2",
   "version": "2.7.15"
  }
 },
 "nbformat": 4,
 "nbformat_minor": 2
}
