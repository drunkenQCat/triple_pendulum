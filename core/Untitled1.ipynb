{
 "cells": [
  {
   "cell_type": "code",
   "execution_count": 1,
   "metadata": {},
   "outputs": [
    {
     "name": "stdout",
     "output_type": "stream",
     "text": [
      "mass_matrix and forcing_vector are calculated! \n",
      "\n",
      "calculating fx and gx\n",
      "system modeling succesfully finished ! \n",
      "fx_expr and gx_expr are stored in config.py\n"
     ]
    }
   ],
   "source": [
    "# coding: utf-8\n",
    "'''\n",
    "-----------\n",
    "To Do :\n",
    "  - parameter shoul be read from a file isntead of dictionary!\n",
    "  \n",
    "'''\n",
    "#=============================================================\n",
    "# Standard Python modules\n",
    "#=============================================================\n",
    "import sys, os\n",
    "import time\n",
    "#=============================================================\n",
    "# External Python modules\n",
    "#============================\n",
    "#from __future__ import division, print_function\n",
    "from sympy.physics.vector import init_vprinting, vlatex\n",
    "init_vprinting(use_latex='mathjax', pretty_print=True)\n",
    "\n",
    "import sympy as sm\n",
    "import sympy.physics.mechanics as me\n",
    "import numpy as np\n",
    "import mpmath as mp\n",
    "import scipy as sc\n",
    "\n",
    "#=============================================================\n",
    "# Standard Python modules\n",
    "#=============================================================\n",
    "from functions import *\n",
    "\n",
    "#=============================================================\n",
    "# Systme Model\n",
    "#=============================================================\n",
    "\n",
    "# Defining symbolic Variables\n",
    "\n",
    "n = 2\n",
    "q = me.dynamicsymbols('q:{}'.format(n + 1))  # generalized coordinates\n",
    "qdot = me.dynamicsymbols('qdot:{}'.format(n + 1))  #generalized speeds\n",
    "qdd = me.dynamicsymbols('qddot:{}'.format(n + 1))\n",
    "f = me.dynamicsymbols('f')\n",
    "u = sm.symbols('u')\n",
    "m = sm.symbols('m:{}'.format(n + 1))\n",
    "J = sm.symbols('J:{}'.format(n + 1))\n",
    "l = sm.symbols('l1:{}'.format(n+1))  # lenght of each pendlum\n",
    "a = sm.symbols('a1:{}'.format(n+1))  #location of Mass-centers\n",
    "d = sm.symbols('d1:{}'.format(n + 1))  #viscous damping coef.\n",
    "g, t = sm.symbols('g t')\n",
    "\n",
    "# intertial reference frame\n",
    "In_frame = me.ReferenceFrame('In_frame')\n",
    "\n",
    "# Origninal Point O in Reference Frame :\n",
    "O = me.Point('O')\n",
    "O.set_vel(In_frame, 0)\n",
    "\n",
    "# The Center of Mass Point on cart :\n",
    "C0 = me.Point('C0')\n",
    "C0.set_pos(O, q[0] * In_frame.x)\n",
    "C0.set_vel(In_frame, qdot[0] * In_frame.x)\n",
    "\n",
    "cart_inertia_dyadic = me.inertia(In_frame, 0, 0, J[0])\n",
    "cart_central_inertia = (cart_inertia_dyadic, C0)\n",
    "\n",
    "cart = me.RigidBody('Cart', C0, In_frame, m[0], cart_central_inertia)\n",
    "\n",
    "kindiffs = [q[0].diff(t) - qdot[0]]  # entforcing qdot=Omega\n",
    "\n",
    "frames = [In_frame]\n",
    "mass_centers = [C0]\n",
    "joint_centers = [C0]\n",
    "central_inertias = [cart_central_inertia]\n",
    "forces = [(C0, f * In_frame.x - m[0] * g * In_frame.y)]\n",
    "torques = []\n",
    "\n",
    "# cart_potential = 1 / 2 * d[0] * qdot[1]**2\n",
    "# potentials = [cart_potential]\n",
    "# cart.potential_energy= cart_potential\n",
    "\n",
    "rigid_bodies = [cart]\n",
    "# Lagrangian0 = me.Lagrangian(In_frame, rigid_bodies[0])\n",
    "# Lagrangians=[Lagrangian0]\n",
    "\n",
    "for i in range(n):\n",
    "    #Creating new reference frame\n",
    "    Li = In_frame.orientnew('L' + str(i), 'Axis',\n",
    "                            [sm.pi / 2 - q[i + 1], In_frame.z])\n",
    "    Li.set_ang_vel(In_frame, -qdot[i + 1] * In_frame.z)\n",
    "    frames.append(Li)\n",
    "\n",
    "    # Creating new Points representing mass_centers\n",
    "    Pi = mass_centers[-1].locatenew('a' + str(i + 1), a[i] * Li.x)\n",
    "    Pi.v2pt_theory(joint_centers[-1], In_frame, Li)\n",
    "    mass_centers.append(Pi)\n",
    "\n",
    "    #Creating new Points representing Joints\n",
    "    Jointi = joint_centers[-1].locatenew('jont' + str(i + 1), l[i] * Li.x)\n",
    "    Jointi.v2pt_theory(joint_centers[-1], In_frame, Li)\n",
    "    joint_centers.append(Jointi)\n",
    "\n",
    "    #adding forces\n",
    "    forces.append((Pi, -m[i + 1] * g * In_frame.y))\n",
    "\n",
    "    #adding torques\n",
    "    if i == 0:\n",
    "        torqueVectori = (-d[0] * qdot[1]) * frames[1].z\n",
    "        torques.append((Li, torqueVectori))\n",
    "\n",
    "    else:\n",
    "        torqueVectori = -d[i] * (qdot[i + 1] - qdot[i]) * In_frame.z\n",
    "        torques.append((Li, torqueVectori))\n",
    "\n",
    "    #adding cential inertias\n",
    "    IDi = me.inertia(frames[i + 1], 0, 0, J[i + 1])\n",
    "    ICi = (IDi, mass_centers[i + 1])\n",
    "    central_inertias.append(ICi)\n",
    "\n",
    "    LBodyi = me.RigidBody('L' + str(i + 1) + '_Body', mass_centers[i + 1],\n",
    "                          frames[i + 1], m[i + 1], central_inertias[i + 1])\n",
    "    rigid_bodies.append(LBodyi)\n",
    "\n",
    "    kindiffs.append(q[i + 1].diff(t) - qdot[i + 1])\n",
    "\n",
    "#generalized force\n",
    "loads = torques + forces\n",
    "\n",
    "#Kane's Method --> Equation of motion\n",
    "Kane = me.KanesMethod(In_frame, q, qdot, kd_eqs=kindiffs)\n",
    "fr, frstar = Kane.kanes_equations(rigid_bodies, loads)\n",
    "\n",
    "mass_matrix = sm.trigsimp(Kane.mass_matrix_full)\n",
    "forcing_vector = sm.trigsimp(Kane.forcing_full)\n",
    "\n",
    "\n",
    "print(\n",
    "    'mass_matrix and forcing_vector are calculated! \\n'\n",
    ")\n",
    "#xdot_expr=(mass_matrix.inv()*forcing_vector)\n",
    "\n",
    "\n",
    "# defining parameter values according to number of pendulum n :\n",
    "if n == 1:\n",
    "    param_values = config.parameter_values_simple_pendulum\n",
    "\n",
    "elif n == 2:\n",
    "    param_values = config.parameter_values_double_pendulum\n",
    "\n",
    "elif n == 3:\n",
    "    param_values = config.parameter_values_triple_pendulum\n",
    "\n",
    "param_symb = list( l + a + m  + J + d + (g, f))\n",
    "param_list = zip(param_symb, param_values)\n",
    "param_dict = dict(param_list)\n",
    "\n",
    "\n",
    "# substituting parameters to mass and forcing_vector\n",
    "mass_matrix_simplified= mass_matrix.subs(param_dict).simplify()\n",
    "forcing_vector_simplified= forcing_vector.subs(param_dict).simplify()\n",
    "# finding fx and gx wiht qdd0 as input\n",
    "print('calculating fx and gx')\n",
    "#start= time.clock()\n",
    "#fx, gx = generate_state_equ_old(mass_matrix_simplified, forcing_vector_simplified, qdot, qdd, u)\n",
    "#finished= time.clock()\n",
    "#elapsed= finished- start\n",
    "#config.fx_expr = (fx)\n",
    "#config.gx_expr = (gx)\n",
    "\n",
    "print(\n",
    "    'system modeling succesfully finished ! \\nfx_expr and gx_expr are stored in config.py'\n",
    ")"
   ]
  },
  {
   "cell_type": "code",
   "execution_count": 2,
   "metadata": {},
   "outputs": [
    {
     "name": "stdout",
     "output_type": "stream",
     "text": [
      "starting simplification\n",
      "we are calculating qdd, its gonna take a while !\n",
      "qdd is ready!\n"
     ]
    }
   ],
   "source": [
    "start= time.clock()\n",
    "fx, gx = generate_state_equ(mass_matrix_simplified, forcing_vector_simplified, qdot, qdd, u)\n",
    "finished= time.clock()\n",
    "elapsed= finished- start"
   ]
  },
  {
   "cell_type": "code",
   "execution_count": 3,
   "metadata": {},
   "outputs": [
    {
     "data": {
      "text/latex": [
       "$$14.4721214$$"
      ],
      "text/plain": [
       "14.4721214"
      ]
     },
     "execution_count": 3,
     "metadata": {},
     "output_type": "execute_result"
    }
   ],
   "source": [
    "elapsed"
   ]
  },
  {
   "cell_type": "code",
   "execution_count": 4,
   "metadata": {},
   "outputs": [
    {
     "name": "stdout",
     "output_type": "stream",
     "text": [
      "starting simplification\n",
      "we are calculating qdd, its gonna take a while !\n",
      "inversing qdd_coeff_matrix\n",
      "inversion of qdd_coeff_matrix finished\n"
     ]
    }
   ],
   "source": [
    "start= time.clock()\n",
    "fx1, gx1 = generate_state_equ_new(mass_matrix_simplified, forcing_vector_simplified, qdot, qdd, u)\n",
    "finished= time.clock()\n",
    "elapsed_new= finished- start"
   ]
  },
  {
   "cell_type": "code",
   "execution_count": 5,
   "metadata": {},
   "outputs": [
    {
     "data": {
      "text/latex": [
       "$$2.7829687$$"
      ],
      "text/plain": [
       "2.7829687"
      ]
     },
     "execution_count": 5,
     "metadata": {},
     "output_type": "execute_result"
    }
   ],
   "source": [
    "elapsed_new"
   ]
  }
 ],
 "metadata": {
  "kernelspec": {
   "display_name": "Python [conda env:py2env]",
   "language": "python",
   "name": "conda-env-py2env-py"
  },
  "language_info": {
   "codemirror_mode": {
    "name": "ipython",
    "version": 2
   },
   "file_extension": ".py",
   "mimetype": "text/x-python",
   "name": "python",
   "nbconvert_exporter": "python",
   "pygments_lexer": "ipython2",
   "version": "2.7.15"
  }
 },
 "nbformat": 4,
 "nbformat_minor": 2
}
