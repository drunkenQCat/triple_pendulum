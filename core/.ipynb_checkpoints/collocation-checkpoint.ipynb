{
 "cells": [
  {
   "cell_type": "code",
   "execution_count": 1,
   "metadata": {},
   "outputs": [],
   "source": [
    "def trajectory_generator(ct, max_time):\n",
    "    ''' generates trajectory using collocation method\n",
    "    '''\n",
    "    print('\\n \\n')\n",
    "    print(\n",
    "        '======================== Trajectory_generator ========================'\n",
    "    )\n",
    "\n",
    "    q = ct.model.q\n",
    "    fx= ct.model.fx\n",
    "    gx= ct.model.gx\n",
    "    ct.trajectory.n = n = 2 * len(q)\n",
    "    ct.trajectory.k = k = 20\n",
    "\n",
    "    ct.trajectory.max_time = h = max_time\n",
    "\n",
    "    x0 = [0.0] + [np.pi\n",
    "                  for i in range(len(q) - 1)] + [0.0 for i in range(len(q))]\n",
    "    xf = [0.0 for i in range(2 * len(q))]\n",
    "    # xf= [0.01, 10*np.pi/3, 0, 0 ]\n",
    "\n",
    "    u0 = [0.0]\n",
    "    uf = [0.0]\n",
    "\n",
    "    # fxu needet for constraint generator\n",
    "    fxu = sympy_states_to_func(fx, gx)\n",
    "    ct.trajectory.fxu = fxu\n",
    "\n",
    "    # defining constraints\n",
    "    collocation_cons = {'type': 'eq', 'fun': collocation_constrains}\n",
    "    interpolation_cons = {'type': 'eq', 'fun': interpolation_constrains}\n",
    "    # error_cons= {'type': 'ineq', 'fun': lambda z : error_function(z) -10**-6 }\n",
    "\n",
    "    # boundry conditions\n",
    "    boundry_x0 = {'type': 'eq', 'fun': lambda z: z[:n] - np.array(x0)}\n",
    "    boundry_u0 = {\n",
    "        'type': 'eq',\n",
    "        'fun': lambda z: z[(2 * k - 1) * n] - np.array(u0)\n",
    "    }\n",
    "    boundry_xf = {\n",
    "        'type': 'eq',\n",
    "        'fun': lambda z: z[(2 * k - 1) * n - n:(2 * k - 1) * n] - np.array(xf)\n",
    "    }\n",
    "    boundry_uf = {'type': 'eq', 'fun': lambda z: z[-1] - np.array(uf)}\n",
    "\n",
    "\n",
    "\n",
    "    # all constrainsts together\n",
    "    cons = (collocation_cons, interpolation_cons, boundry_x0, boundry_xf)\n",
    "    \n",
    "    # initial guess !\n",
    "    z0 = np.array(x0 + [0.1 for i in range((2 * k - 1) * n - 2 * n)] + xf +\n",
    "                  u0 + [1 for i in range(2 * k - 1 - 2)] + uf)\n",
    "\n",
    "    # minimizing the objective functional using SLSQP\n",
    "    opt_res = minimize(\n",
    "        objective_functional,\n",
    "        z0,\n",
    "        method='SLSQP',\n",
    "        constraints=cons,\n",
    "        options={\n",
    "            'ftol': 0.001,\n",
    "            'disp': True\n",
    "        })\n",
    "    print('================================')\n",
    "    print('\\n \\n')"
   ]
  },
  {
   "cell_type": "code",
   "execution_count": 2,
   "metadata": {},
   "outputs": [],
   "source": [
    "def collocation_constrains(z):\n",
    "    '''return collocation constrains\n",
    "    '''\n",
    "    # k :number of knotes ,  and n :system dimension\n",
    "    k = cfg.pendata.trajectory.k\n",
    "    n = cfg.pendata.trajectory.n\n",
    "    max_time = cfg.pendata.trajectory.max_time\n",
    "    hk = max_time / (k - 1)\n",
    "    fxu = cfg.pendata.trajectory.fxu\n",
    "\n",
    "    x = z[0:(2 * k - 1) * n].reshape(2 * k - 1, n)\n",
    "    x_knot = x[::2]\n",
    "    xc = x[1::2]\n",
    "\n",
    "    # u_knote: uk on each knote , uc: u(k+1/2)\n",
    "    u_knot = z[(2 * k - 1) * n::2]\n",
    "    uc = z[(2 * k - 1) * n + 1::2]\n",
    "\n",
    "    coll_const = []\n",
    "    # inter_const = []\n",
    "    for i in range(k - 1):\n",
    "\n",
    "        x0 = x_knot[i]\n",
    "        x1 = x_knot[i + 1]\n",
    "        x01 = xc[i]\n",
    "        print(\"x0:\",x0)\n",
    "        print(\"x1:\",x1)\n",
    "        \n",
    "        u0 = [u_knot[i]]\n",
    "        u1 = [u_knot[i + 1]]\n",
    "        u01 = [uc[i]]\n",
    "        \n",
    "        f0 = fxu(x0, u0)\n",
    "        f1 = fxu(x1, u1)\n",
    "        f01 = fxu(x01, u01)\n",
    "\n",
    "        coll_const.append(x0 - x1 + hk / 6.0 * (f0 + 4 * f01 + f1))\n",
    "        # inter_const.append(0.5 * (x0 + x1) + hk / 8.0 * (f0 - f1) - x01)\n",
    "\n",
    "    return np.array(coll_const)"
   ]
  },
  {
   "cell_type": "code",
   "execution_count": 3,
   "metadata": {},
   "outputs": [],
   "source": [
    "def objective_functional(z):\n",
    "    '''returns objective function Ju \n",
    "    '''\n",
    "    k = cfg.pendata.trajectory.k\n",
    "    n = cfg.pendata.trajectory.n\n",
    "    fxu=cfg.pendata.trajectory.fxu\n",
    "    max_time = cfg.pendata.trajectory.max_time\n",
    "    hk = max_time / (k - 1)\n",
    "\n",
    "    x = z[0:(2 * k - 1) * n].reshape(2 * k - 1, n)\n",
    "    x_knot = x[::2]\n",
    "    xc = x[1::2]\n",
    "\n",
    "    # u_knote: uk on each knote , uc: u(k+1/2)\n",
    "    u_knot = z[(2 * k - 1) * n::2]\n",
    "    uc = z[(2 * k - 1) * n + 1::2]\n",
    "\n",
    "    xf = x[-1]\n",
    "\n",
    "    S = Q = np.eye(4)\n",
    "    R = 1.0 * np.identity(1)\n",
    "    Ju = 0.5 * xf.dot(S).dot(xf)\n",
    "\n",
    "    S2=S\n",
    "\n",
    "\n",
    "\n",
    "    # defining l(x,u, t)\n",
    "    lxut = lambda x, u: 0.5 * x.dot(Q).dot(x) + 0.5 * u.dot(R).dot(u)\n",
    "    epsilon =0.0\n",
    "    for i in range(k - 1):\n",
    "\n",
    "        x0 = x_knot[i]\n",
    "        x1 = x_knot[i + 1]\n",
    "        x01 = xc[i]\n",
    "\n",
    "        u0 = np.array([u_knot[i]])\n",
    "        u1 = np.array([u_knot[i + 1]])\n",
    "        u01 = np.array([uc[i]])\n",
    "\n",
    "        f0 = fxu(x0, u0)\n",
    "        f1 = fxu(x1, u1)\n",
    "        f01 = fxu(x01, u01)\n",
    "\n",
    "        # xspl = x0 + hk / 6.0 * (f0 + 4 * f01 + f1)\n",
    "\n",
    "        # epsilon += (xspl - x01).dot(S2).dot(xspl- x01)\n",
    "        # print('eps :',epsilon)\n",
    "\n",
    "        # Updating our J(u)\n",
    "        Ju += hk / 6.0 * (lxut(x0, u0) + 4 * lxut(x01, u01) + lxut(x1, u1)) \n",
    "        print('Ju:', Ju)\n",
    "        \n",
    "\n",
    "    return Ju"
   ]
  },
  {
   "cell_type": "code",
   "execution_count": 4,
   "metadata": {},
   "outputs": [],
   "source": [
    "def interpolation_constrains(z):\n",
    "    '''return collocation constrains\n",
    "    '''\n",
    "    # k :number of knotes ,  and n :system dimension\n",
    "    k = cfg.pendata.trajectory.k\n",
    "    n = cfg.pendata.trajectory.n\n",
    "    max_time = cfg.pendata.trajectory.max_time\n",
    "    hk = max_time / (k - 1)\n",
    "    fxu = cfg.pendata.trajectory.fxu\n",
    "\n",
    "    x = z[0:(2 * k - 1) * n].reshape(2 * k - 1, n)\n",
    "    x_knot = x[::2]\n",
    "    xc = x[1::2]\n",
    "\n",
    "    # u_knote: uk on each knote , uc: u(k+1/2)\n",
    "    u_knot = z[(2 * k - 1) * n::2]\n",
    "    uc = z[(2 * k - 1) * n + 1::2]\n",
    "\n",
    "    coll_const = []\n",
    "    inter_const = []\n",
    "    for i in range(k - 1):\n",
    "\n",
    "        x0 = x_knot[i]\n",
    "        x1 = x_knot[i + 1]\n",
    "        x01 = xc[i]\n",
    "\n",
    "        u0 = [u_knot[i]]\n",
    "        u1 = [u_knot[i + 1]]\n",
    "        u01 = [uc[i]]\n",
    "\n",
    "        f0 = fxu(x0, u0)\n",
    "        f1 = fxu(x1, u1)\n",
    "        # f01 = fxu(x01, u01)\n",
    "\n",
    "        # coll_const.append(x0 - x1 - hk / 6.0 * (f0 + 4 * f01 + f1))\n",
    "        inter_const.append(0.5 * (x0 + x1) + hk / 8.0 * (f0 - f1) - x01)\n",
    "\n",
    "    return np.array(inter_const)\n"
   ]
  },
  {
   "cell_type": "code",
   "execution_count": 5,
   "metadata": {},
   "outputs": [],
   "source": [
    "import cfg\n",
    "from cfg import Pen_Container_initializer\n",
    "from sys_model import system_model_generator\n",
    "from myfuncs import sympy_states_to_func\n",
    "import numpy as np\n"
   ]
  },
  {
   "cell_type": "code",
   "execution_count": 6,
   "metadata": {},
   "outputs": [
    {
     "name": "stdout",
     "output_type": "stream",
     "text": [
      "somebody called me !\n",
      "system model succesfully finished !\n"
     ]
    }
   ],
   "source": [
    "Pen_Container_initializer(1)\n",
    "ct=cfg.pendata\n",
    "system_model_generator(ct)"
   ]
  },
  {
   "cell_type": "code",
   "execution_count": 15,
   "metadata": {},
   "outputs": [],
   "source": [
    "k=ct.trajectory.k= 20\n",
    "n=ct.trajectory.n= 4\n",
    "max_time= ct.trajectory.max_time= 2\n",
    "fx=ct.model.fx\n",
    "gx=ct.model.gx\n",
    "fxu= ct.trajectory.fxu= sympy_states_to_func(fx, gx)\n",
    "n=4\n",
    "xa = [  0.0,\n",
    "        np.pi,\n",
    "        0.0,\n",
    "        0.0]\n",
    "\n",
    "xb = [  0.0,\n",
    "        0.0,\n",
    "        0.0,\n",
    "        0.0]\n",
    "ua=[0]\n",
    "ub=[0]\n",
    "z0 = np.array(xa + [np.random.ran(1)[0] for i in range((2 * k - 1) * n - 2 * n)] + xb +\n",
    "                  ua + [1 for i in range(2 * k - 1 - 2)] + ub)"
   ]
  },
  {
   "cell_type": "code",
   "execution_count": 16,
   "metadata": {},
   "outputs": [
    {
     "data": {
      "text/plain": [
       "array([[-0.05132,  1.51948, -0.06316, -0.04911],\n",
       "       [ 0.     ,  0.     ,  0.     ,  0.     ],\n",
       "       [ 0.     ,  0.     ,  0.     ,  0.     ],\n",
       "       [ 0.     ,  0.     ,  0.     ,  0.     ],\n",
       "       [ 0.     ,  0.     ,  0.     ,  0.     ],\n",
       "       [ 0.     ,  0.     ,  0.     ,  0.     ],\n",
       "       [ 0.     ,  0.     ,  0.     ,  0.     ],\n",
       "       [ 0.     ,  0.     ,  0.     ,  0.     ],\n",
       "       [ 0.     ,  0.     ,  0.     ,  0.     ],\n",
       "       [ 0.     ,  0.     ,  0.     ,  0.     ],\n",
       "       [ 0.     ,  0.     ,  0.     ,  0.     ],\n",
       "       [ 0.     ,  0.     ,  0.     ,  0.     ],\n",
       "       [ 0.     ,  0.     ,  0.     ,  0.     ],\n",
       "       [ 0.     ,  0.     ,  0.     ,  0.     ],\n",
       "       [ 0.     ,  0.     ,  0.     ,  0.     ],\n",
       "       [ 0.     ,  0.     ,  0.     ,  0.     ],\n",
       "       [ 0.     ,  0.     ,  0.     ,  0.     ],\n",
       "       [ 0.     ,  0.     ,  0.     ,  0.     ],\n",
       "       [-0.04868, -0.04868, -0.03684, -0.05089]])"
      ]
     },
     "execution_count": 16,
     "metadata": {},
     "output_type": "execute_result"
    }
   ],
   "source": [
    "np.set_printoptions(precision=5)\n",
    "interpolation_constrains(z0)"
   ]
  },
  {
   "cell_type": "code",
   "execution_count": 21,
   "metadata": {},
   "outputs": [],
   "source": [
    "from trajectory_optimization import Collocation\n",
    "cl= Collocation(0, 2, xa, xb, ua, ub, fxu, k=k)"
   ]
  },
  {
   "cell_type": "code",
   "execution_count": 22,
   "metadata": {},
   "outputs": [],
   "source": [
    "z02=cl._z0_guess()"
   ]
  },
  {
   "cell_type": "code",
   "execution_count": 23,
   "metadata": {},
   "outputs": [
    {
     "data": {
      "text/plain": [
       "array([0.     , 3.14159, 0.     , 0.     , 0.1    , 0.1    , 0.1    ,\n",
       "       0.1    , 0.1    , 0.1    , 0.1    , 0.1    , 0.1    , 0.1    ,\n",
       "       0.1    , 0.1    , 0.1    , 0.1    , 0.1    , 0.1    , 0.1    ,\n",
       "       0.1    , 0.1    , 0.1    , 0.1    , 0.1    , 0.1    , 0.1    ,\n",
       "       0.1    , 0.1    , 0.1    , 0.1    , 0.1    , 0.1    , 0.1    ,\n",
       "       0.1    , 0.1    , 0.1    , 0.1    , 0.1    , 0.1    , 0.1    ,\n",
       "       0.1    , 0.1    , 0.1    , 0.1    , 0.1    , 0.1    , 0.1    ,\n",
       "       0.1    , 0.1    , 0.1    , 0.1    , 0.1    , 0.1    , 0.1    ,\n",
       "       0.1    , 0.1    , 0.1    , 0.1    , 0.1    , 0.1    , 0.1    ,\n",
       "       0.1    , 0.1    , 0.1    , 0.1    , 0.1    , 0.1    , 0.1    ,\n",
       "       0.1    , 0.1    , 0.1    , 0.1    , 0.1    , 0.1    , 0.1    ,\n",
       "       0.1    , 0.1    , 0.1    , 0.1    , 0.1    , 0.1    , 0.1    ,\n",
       "       0.1    , 0.1    , 0.1    , 0.1    , 0.1    , 0.1    , 0.1    ,\n",
       "       0.1    , 0.1    , 0.1    , 0.1    , 0.1    , 0.1    , 0.1    ,\n",
       "       0.1    , 0.1    , 0.1    , 0.1    , 0.1    , 0.1    , 0.1    ,\n",
       "       0.1    , 0.1    , 0.1    , 0.1    , 0.1    , 0.1    , 0.1    ,\n",
       "       0.1    , 0.1    , 0.1    , 0.1    , 0.1    , 0.1    , 0.1    ,\n",
       "       0.1    , 0.1    , 0.1    , 0.1    , 0.1    , 0.1    , 0.1    ,\n",
       "       0.1    , 0.1    , 0.1    , 0.1    , 0.1    , 0.1    , 0.1    ,\n",
       "       0.1    , 0.1    , 0.1    , 0.1    , 0.1    , 0.1    , 0.1    ,\n",
       "       0.1    , 0.1    , 0.1    , 0.1    , 0.1    , 0.1    , 0.1    ,\n",
       "       0.1    , 0.1    , 0.1    , 0.1    , 0.1    , 0.     , 0.     ,\n",
       "       0.     , 0.     , 0.     , 1.     , 1.     , 1.     , 1.     ,\n",
       "       1.     , 1.     , 1.     , 1.     , 1.     , 1.     , 1.     ,\n",
       "       1.     , 1.     , 1.     , 1.     , 1.     , 1.     , 1.     ,\n",
       "       1.     , 1.     , 1.     , 1.     , 1.     , 1.     , 1.     ,\n",
       "       1.     , 1.     , 1.     , 1.     , 1.     , 1.     , 1.     ,\n",
       "       1.     , 1.     , 1.     , 1.     , 1.     , 0.     ])"
      ]
     },
     "execution_count": 23,
     "metadata": {},
     "output_type": "execute_result"
    }
   ],
   "source": [
    "z0"
   ]
  },
  {
   "cell_type": "code",
   "execution_count": 24,
   "metadata": {},
   "outputs": [],
   "source": [
    "eq=-cl._interpolation_constraints(z0).reshape(k-1, n)"
   ]
  },
  {
   "cell_type": "code",
   "execution_count": 25,
   "metadata": {},
   "outputs": [
    {
     "data": {
      "text/plain": [
       "array([[-0.05132,  1.51948, -0.06316, -0.04911],\n",
       "       [-0.     , -0.     , -0.     , -0.     ],\n",
       "       [-0.     , -0.     , -0.     , -0.     ],\n",
       "       [-0.     , -0.     , -0.     , -0.     ],\n",
       "       [-0.     , -0.     , -0.     , -0.     ],\n",
       "       [-0.     , -0.     , -0.     , -0.     ],\n",
       "       [-0.     , -0.     , -0.     , -0.     ],\n",
       "       [-0.     , -0.     , -0.     , -0.     ],\n",
       "       [-0.     , -0.     , -0.     , -0.     ],\n",
       "       [-0.     , -0.     , -0.     , -0.     ],\n",
       "       [-0.     , -0.     , -0.     , -0.     ],\n",
       "       [-0.     , -0.     , -0.     , -0.     ],\n",
       "       [-0.     , -0.     , -0.     , -0.     ],\n",
       "       [-0.     , -0.     , -0.     , -0.     ],\n",
       "       [-0.     , -0.     , -0.     , -0.     ],\n",
       "       [-0.     , -0.     , -0.     , -0.     ],\n",
       "       [-0.     , -0.     , -0.     , -0.     ],\n",
       "       [-0.     , -0.     , -0.     , -0.     ],\n",
       "       [-0.04868, -0.04868, -0.03684, -0.05089]])"
      ]
     },
     "execution_count": 25,
     "metadata": {},
     "output_type": "execute_result"
    }
   ],
   "source": [
    "eq"
   ]
  },
  {
   "cell_type": "code",
   "execution_count": 26,
   "metadata": {},
   "outputs": [
    {
     "name": "stdout",
     "output_type": "stream",
     "text": [
      "Ju: 0.13218951229025752\n",
      "Ju: 0.1869263543955207\n",
      "Ju: 0.24166319650078386\n",
      "Ju: 0.296400038606047\n",
      "Ju: 0.35113688071131016\n",
      "Ju: 0.4058737228165733\n",
      "Ju: 0.46061056492183644\n",
      "Ju: 0.5153474070270996\n",
      "Ju: 0.5700842491323628\n",
      "Ju: 0.624821091237626\n",
      "Ju: 0.6795579333428892\n",
      "Ju: 0.7342947754481524\n",
      "Ju: 0.7890316175534156\n",
      "Ju: 0.8437684596586787\n",
      "Ju: 0.8985053017639419\n",
      "Ju: 0.9532421438692051\n",
      "Ju: 1.0079789859744683\n",
      "Ju: 1.0627158280797315\n",
      "Ju: 1.1083298631674507\n"
     ]
    },
    {
     "data": {
      "text/latex": [
       "$$2.2166597263349015$$"
      ],
      "text/plain": [
       "2.2166597263349015"
      ]
     },
     "execution_count": 26,
     "metadata": {},
     "output_type": "execute_result"
    }
   ],
   "source": [
    "2*objective_functional(z0)"
   ]
  },
  {
   "cell_type": "code",
   "execution_count": 27,
   "metadata": {},
   "outputs": [
    {
     "name": "stdout",
     "output_type": "stream",
     "text": [
      "2.2166597263349015\n"
     ]
    },
    {
     "data": {
      "text/latex": [
       "$$2.2166597263349015$$"
      ],
      "text/plain": [
       "2.2166597263349015"
      ]
     },
     "execution_count": 27,
     "metadata": {},
     "output_type": "execute_result"
    }
   ],
   "source": [
    "cl._cost_func2(z0)"
   ]
  },
  {
   "cell_type": "code",
   "execution_count": 72,
   "metadata": {},
   "outputs": [
    {
     "name": "stdout",
     "output_type": "stream",
     "text": [
      "x0: [0.      3.14159 0.      0.     ]\n",
      "x1: [0.1 0.1 0.1 0.1]\n",
      "x0: [0.1 0.1 0.1 0.1]\n",
      "x1: [0. 0. 0. 0.]\n"
     ]
    }
   ],
   "source": [
    "z=z0\n",
    "hk = max_time / (k - 1)\n",
    "\n",
    "x = z[0:(2 * k - 1) * n].reshape(2 * k - 1, n)\n",
    "x_knot = x[::2]\n",
    "xc = x[1::2]\n",
    "# u_knote: uk on each knote , uc: u(k+1/2)\n",
    "u_knot = z[(2 * k - 1) * n::2]\n",
    "uc = z[(2 * k - 1) * n + 1::2]\n",
    "xf = x[-1]\n",
    "S = Q = np.eye(4)\n",
    "R = 1.0 * np.identity(1)\n",
    "Ju = 0\n",
    "S2=S\n",
    "\n",
    "\n",
    "\n",
    "# defining l(x,u, t)\n",
    "lxut = lambda x, u: 0.5 * x.dot(Q).dot(x) + 0.5 * u.dot(R).dot(u)\n",
    "epsilon =0.0\n",
    "for i in range(k - 1):\n",
    "\n",
    "    x0 = x_knot[i]\n",
    "    x1 = x_knot[i + 1]\n",
    "    x01 = xc[i]\n",
    "    \n",
    "    u0 = np.array([u_knot[i]])\n",
    "    u1 = np.array([u_knot[i + 1]])\n",
    "    u01 = np.array([uc[i]])\n",
    "    print('x0:', x0)\n",
    "    print('x1:', x1)\n",
    "    \n",
    "    f0 = fxu(x0, u0)\n",
    "    f1 = fxu(x1, u1)\n",
    "    f01 = fxu(x01, u01)\n",
    "\n",
    "    # xspl = x0 + hk / 6.0 * (f0 + 4 * f01 + f1)\n",
    "    # epsilon += (xspl - x01).dot(S2).dot(xspl- x01)\n",
    "    # print('eps :',epsilon)\n",
    "    # Updating our J(u)\n",
    "    Ju += hk / 6.0 * (lxut(x0, u0) + 4 * lxut(x01, u01) + lxut(x1, u1)) \n",
    "    "
   ]
  },
  {
   "cell_type": "code",
   "execution_count": 73,
   "metadata": {},
   "outputs": [
    {
     "data": {
      "text/latex": [
       "$$3.3782674001815596$$"
      ],
      "text/plain": [
       "3.3782674001815596"
      ]
     },
     "execution_count": 73,
     "metadata": {},
     "output_type": "execute_result"
    }
   ],
   "source": [
    "Ju*2"
   ]
  },
  {
   "cell_type": "code",
   "execution_count": null,
   "metadata": {},
   "outputs": [],
   "source": []
  }
 ],
 "metadata": {
  "kernelspec": {
   "display_name": "Python 3",
   "language": "python",
   "name": "python3"
  },
  "language_info": {
   "codemirror_mode": {
    "name": "ipython",
    "version": 3
   },
   "file_extension": ".py",
   "mimetype": "text/x-python",
   "name": "python",
   "nbconvert_exporter": "python",
   "pygments_lexer": "ipython3",
   "version": "3.6.4"
  }
 },
 "nbformat": 4,
 "nbformat_minor": 2
}
