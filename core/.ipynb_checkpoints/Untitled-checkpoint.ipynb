{
 "cells": [
  {
   "cell_type": "code",
   "execution_count": 1,
   "metadata": {},
   "outputs": [],
   "source": [
    "import numpy as np\n",
    "from numpy.linalg import inv as np_inv\n",
    "from myfuncs import lqr"
   ]
  },
  {
   "cell_type": "code",
   "execution_count": 2,
   "metadata": {},
   "outputs": [],
   "source": [
    "B=np.array([ 0.00000000e+00,  0.00000000e+00,  0.00000000e+00,  0.00000000e+00,  1.00000000e+00, -3.14354613e+00,  1.57489250e-02,  1.13342515e-03]).reshape(8,1)"
   ]
  },
  {
   "cell_type": "code",
   "execution_count": 3,
   "metadata": {},
   "outputs": [],
   "source": [
    "P=np.array([[ 2.66480839e+00,  1.19146059e+01, -1.96332341e+02,  2.02259608e+02,  3.05060187e+00,  1.19436721e+00, -2.07309319e+01,  2.68535177e+01],\n",
    "           [ 1.19146059e+01,  2.67028561e+03, -1.83891679e+04,  1.60587719e+04,  3.09164431e+01,  1.02538573e+02, -2.02776979e+03,  2.15551970e+03],\n",
    "           [-1.96332341e+02, -1.83891679e+04,  1.78340897e+05, -1.65310513e+05, -5.02740799e+02, -6.43115574e+02,  1.95045432e+04, -2.21092099e+04],\n",
    "           [ 2.02259608e+02,  1.60587719e+04, -1.65310513e+05,  1.54643757e+05,  5.12413223e+02,  5.63518166e+02, -1.80496061e+04,  2.06708413e+04],\n",
    "           [ 3.05060187e+00,  3.09164431e+01, -5.02740799e+02,  5.12413223e+02,  6.31052607e+00,  2.61221521e+00, -5.33933167e+01,  6.80873403e+01],\n",
    "           [ 1.19436721e+00,  1.02538573e+02, -6.43115574e+02,  5.63518166e+02,  2.61221521e+00,  5.31628554e+00, -7.02977653e+01,  7.55795626e+01],\n",
    "           [-2.07309319e+01, -2.02776979e+03,  1.95045432e+04, -1.80496061e+04, -5.33933167e+01, -7.02977653e+01,  2.13408139e+03, -2.41428357e+03],\n",
    "           [ 2.68535177e+01,  2.15551970e+03, -2.21092099e+04,  2.06708413e+04,  6.80873403e+01,  7.55795626e+01, -2.41428357e+03,  2.76318234e+03]])"
   ]
  },
  {
   "cell_type": "code",
   "execution_count": 4,
   "metadata": {},
   "outputs": [],
   "source": [
    "R=np.identity(1)\n",
    "k = np_inv(R) * (B.T).dot(P)\n",
    "R2=100*np.identity(1)\n",
    "k2 = np_inv(R2) * (B.T).dot(P)"
   ]
  },
  {
   "cell_type": "code",
   "execution_count": 5,
   "metadata": {},
   "outputs": [
    {
     "data": {
      "text/plain": [
       "array([[-9.99999990e-01, -3.20910365e+02,  1.80103913e+03,\n",
       "        -1.51986517e+03, -2.66480838e+00, -1.51212241e+01,\n",
       "         1.98464029e+02, -2.04391012e+02]])"
      ]
     },
     "execution_count": 5,
     "metadata": {},
     "output_type": "execute_result"
    }
   ],
   "source": [
    "k"
   ]
  },
  {
   "cell_type": "code",
   "execution_count": 6,
   "metadata": {},
   "outputs": [
    {
     "data": {
      "text/plain": [
       "array([[-9.99999990e-03, -3.20910365e+00,  1.80103913e+01,\n",
       "        -1.51986517e+01, -2.66480838e-02, -1.51212241e-01,\n",
       "         1.98464029e+00, -2.04391012e+00]])"
      ]
     },
     "execution_count": 6,
     "metadata": {},
     "output_type": "execute_result"
    }
   ],
   "source": [
    "k2"
   ]
  },
  {
   "cell_type": "code",
   "execution_count": null,
   "metadata": {},
   "outputs": [],
   "source": []
  }
 ],
 "metadata": {
  "kernelspec": {
   "display_name": "Python 2",
   "language": "python",
   "name": "python2"
  },
  "language_info": {
   "codemirror_mode": {
    "name": "ipython",
    "version": 2
   },
   "file_extension": ".py",
   "mimetype": "text/x-python",
   "name": "python",
   "nbconvert_exporter": "python",
   "pygments_lexer": "ipython2",
   "version": "2.7.15"
  }
 },
 "nbformat": 4,
 "nbformat_minor": 2
}
