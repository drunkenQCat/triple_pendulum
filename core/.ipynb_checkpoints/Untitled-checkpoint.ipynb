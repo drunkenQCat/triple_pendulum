{
 "cells": [
  {
   "cell_type": "code",
   "execution_count": 31,
   "metadata": {},
   "outputs": [],
   "source": [
    "from __future__ import division, print_function\n",
    "from sympy.physics.vector import init_vprinting, vlatex\n",
    "init_vprinting(use_latex='mathjax', pretty_print=False)\n",
    "\n",
    "import sympy as sm\n",
    "import sympy.physics.mechanics as me\n",
    "import numpy as np\n",
    "import mpmath as mp\n",
    "import scipy as sc\n",
    "\n",
    "import ipydex\n",
    "#=============================================================\n",
    "# Standard Python modules\n",
    "#=============================================================\n",
    "from functions import *\n",
    "from sys_model import *\n",
    "#from traj_opt import *\n",
    "#=============================================================\n",
    "# Lqr control for top equilibrium point\n",
    "#=============================================================\n",
    "\n",
    "x0 = sm.Matrix([0., 0., 0., 0., 0.])\n",
    "u0=0.0\n",
    "parameter_values = [(g, 9.81), (a[0], 0.2), (d[0], 10.0), (m[0], 3.34),\n",
    "                    (m[1], 0.8512), (J[0], 0), (J[1], 0.01980), (f, 0)]\n",
    "\n",
    "# linearization of model @ equilibrium point\n",
    "A, B = linearize_state_equ(fx, gx, q, qdot, u, parameter_values, x0,u0)"
   ]
  },
  {
   "cell_type": "code",
   "execution_count": 25,
   "metadata": {},
   "outputs": [],
   "source": [
    "qq = sm.Matrix([q, qdot])\n",
    "values = list(map(lambda a, b: (a, b), qq, x0)) + \\\n",
    "[(u, u0)] + \\\n",
    "parameter_values\n",
    "values_dict = dict(values)"
   ]
  },
  {
   "cell_type": "code",
   "execution_count": 30,
   "metadata": {},
   "outputs": [
    {
     "data": {
      "text/plain": [
       "array([[  0.        ,   0.        ,   1.        ,   0.        ],\n",
       "       [  0.        ,   0.        ,   0.        ,   1.        ],\n",
       "       [  0.        ,   0.        ,   0.        ,   0.        ],\n",
       "       [  0.        ,  31.01423265,   0.        , 185.70791859]])"
      ]
     },
     "execution_count": 30,
     "metadata": {},
     "output_type": "execute_result"
    }
   ],
   "source": [
    "A"
   ]
  },
  {
   "cell_type": "code",
   "execution_count": 32,
   "metadata": {},
   "outputs": [
    {
     "data": {
      "text/plain": [
       "array([[  0.        ,   0.        ,   1.        ,   0.        ],\n",
       "       [  0.        ,   0.        ,   0.        ,   1.        ],\n",
       "       [  0.        ,   0.        ,   0.        ,   0.        ],\n",
       "       [  0.        ,  31.01423265,   0.        , 185.70791859]])"
      ]
     },
     "execution_count": 32,
     "metadata": {},
     "output_type": "execute_result"
    }
   ],
   "source": [
    "A"
   ]
  },
  {
   "cell_type": "code",
   "execution_count": 33,
   "metadata": {
    "collapsed": true
   },
   "outputs": [],
   "source": [
    "A, B = linearize_state_equ(fx, gx, q, qdot, u, parameter_values)"
   ]
  },
  {
   "cell_type": "code",
   "execution_count": 34,
   "metadata": {},
   "outputs": [
    {
     "data": {
      "text/latex": [
       "$$\\left[\\begin{matrix}0 & 0 & 1 & 0\\\\0 & 0 & 0 & 1\\\\0 & 0 & 0 & 0\\\\0 & 3.16149160600208 u \\operatorname{sin}\\left(q_{1}\\right) + 31.0142326548804 \\operatorname{cos}\\left(q_{1}\\right) & 0 & 185.707918585648\\end{matrix}\\right]$$"
      ],
      "text/plain": [
       "Matrix([\n",
       "[0,                                                     0, 1,                0],\n",
       "[0,                                                     0, 0,                1],\n",
       "[0,                                                     0, 0,                0],\n",
       "[0, 3.16149160600208*u*sin(q1) + 31.0142326548804*cos(q1), 0, 185.707918585648]])"
      ]
     },
     "execution_count": 34,
     "metadata": {},
     "output_type": "execute_result"
    }
   ],
   "source": [
    "A\n"
   ]
  },
  {
   "cell_type": "code",
   "execution_count": 35,
   "metadata": {},
   "outputs": [
    {
     "data": {
      "text/latex": [
       "$$\\left[\\begin{matrix}0.0\\\\0.0\\\\1\\\\- 3.16149160600208 \\operatorname{cos}\\left(q_{1}\\right)\\end{matrix}\\right]$$"
      ],
      "text/plain": [
       "Matrix([\n",
       "[                      0.0],\n",
       "[                      0.0],\n",
       "[                        1],\n",
       "[-3.16149160600208*cos(q1)]])"
      ]
     },
     "execution_count": 35,
     "metadata": {},
     "output_type": "execute_result"
    }
   ],
   "source": [
    "B"
   ]
  },
  {
   "cell_type": "code",
   "execution_count": 37,
   "metadata": {},
   "outputs": [
    {
     "data": {
      "text/latex": [
       "$$\\left ( a_{0}\\right )$$"
      ],
      "text/plain": [
       "(a0,)"
      ]
     },
     "execution_count": 37,
     "metadata": {},
     "output_type": "execute_result"
    }
   ],
   "source": [
    "a"
   ]
  },
  {
   "cell_type": "code",
   "execution_count": 38,
   "metadata": {},
   "outputs": [
    {
     "data": {
      "text/latex": [
       "$$\\left [ q_{0}, \\quad q_{1}\\right ]$$"
      ],
      "text/plain": [
       "[q0, q1]"
      ]
     },
     "execution_count": 38,
     "metadata": {},
     "output_type": "execute_result"
    }
   ],
   "source": [
    "q"
   ]
  },
  {
   "cell_type": "code",
   "execution_count": 44,
   "metadata": {},
   "outputs": [],
   "source": [
    " param_symb=list(a+d+m+J+(g,f))"
   ]
  },
  {
   "cell_type": "code",
   "execution_count": 45,
   "metadata": {},
   "outputs": [
    {
     "data": {
      "text/latex": [
       "$$\\left [ a_{0}, \\quad d_{1}, \\quad m_{0}, \\quad m_{1}, \\quad J_{0}, \\quad J_{1}, \\quad g, \\quad f\\right ]$$"
      ],
      "text/plain": [
       "[a0, d1, m0, m1, J0, J1, g, f]"
      ]
     },
     "execution_count": 45,
     "metadata": {},
     "output_type": "execute_result"
    }
   ],
   "source": [
    "param_symb"
   ]
  },
  {
   "cell_type": "code",
   "execution_count": null,
   "metadata": {
    "collapsed": true
   },
   "outputs": [],
   "source": []
  }
 ],
 "metadata": {
  "kernelspec": {
   "display_name": "Python [conda env:py2env]",
   "language": "python",
   "name": "conda-env-py2env-py"
  },
  "language_info": {
   "codemirror_mode": {
    "name": "ipython",
    "version": 2
   },
   "file_extension": ".py",
   "mimetype": "text/x-python",
   "name": "python",
   "nbconvert_exporter": "python",
   "pygments_lexer": "ipython2",
   "version": "2.7.15"
  }
 },
 "nbformat": 4,
 "nbformat_minor": 2
}
