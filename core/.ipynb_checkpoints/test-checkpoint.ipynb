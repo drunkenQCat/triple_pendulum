{
 "cells": [
  {
   "cell_type": "code",
   "execution_count": 1,
   "metadata": {},
   "outputs": [
    {
     "name": "stdout",
     "output_type": "stream",
     "text": [
      "somebody called me !\n",
      "starting simplification\n",
      "we are calculating qdd, its gonna take a while !\n",
      "inversing qdd_coeff_matrix\n",
      "inversion of qdd_coeff_matrix finished\n",
      "system model succesfully finished !\n",
      "\n",
      " \n",
      "\n",
      "======================== Trajectory_generator ========================\n",
      "Optimization terminated successfully.    (Exit mode 0)\n",
      "            Current function value: 38.48318060535615\n",
      "            Iterations: 50\n",
      "            Function evaluations: 9856\n",
      "            Gradient evaluations: 50\n",
      "================================\n",
      "\n",
      " \n",
      "\n"
     ]
    },
    {
     "data": {
      "image/png": "[encoded data removed]",
      "text/plain": [
       "<matplotlib.figure.Figure at 0x1c416f60978>"
      ]
     },
     "metadata": {},
     "output_type": "display_data"
    }
   ],
   "source": [
    "from main import *\n",
    "#np.set_printoptions(formatter={'float': '{: 0.2f}'.format})"
   ]
  },
  {
   "cell_type": "code",
   "execution_count": 7,
   "metadata": {},
   "outputs": [],
   "source": [
    "xfunc=cfg.pendata.trajectory.cs_ret[0]\n",
    "ufunc=cfg.pendata.trajectory.cs_ret[1]"
   ]
  },
  {
   "cell_type": "code",
   "execution_count": 20,
   "metadata": {
    "collapsed": true
   },
   "outputs": [],
   "source": [
    "trajectory=cfg.pendata.trajectory\n",
    "max_time=trajectory.max_time\n",
    "n= trajectory.n\n",
    "k= trajectory.k\n",
    "hk=float(max_time/(k-1))"
   ]
  },
  {
   "cell_type": "code",
   "execution_count": 32,
   "metadata": {},
   "outputs": [],
   "source": [
    "res=trajectory.opt_res.x\n",
    "xs=res[:(2*k-1)*n].reshape(2*k-1, n)\n",
    "us=res[(2*k-1)*n :]"
   ]
  },
  {
   "cell_type": "code",
   "execution_count": 44,
   "metadata": {},
   "outputs": [
    {
     "data": {
      "image/png": "[encoded data removed]",
      "text/plain": [
       "<matplotlib.figure.Figure at 0x1c419279550>"
      ]
     },
     "metadata": {},
     "output_type": "display_data"
    }
   ],
   "source": [
    "import numpy as np\n",
    "import matplotlib.pyplot as plt\n",
    "\n",
    "samples=[]\n",
    "for i in range (k-2):\n",
    "    samples[i]= np.linspace(0, hk, 40)\n",
    "\n",
    "xsh1=np.array([xfunc(t) for t in samples1])\n",
    "xsh2=np.array([xfunc(t) for t in samples2])\n",
    "\n",
    "\n",
    "fig, axes= plt.subplots()\n",
    "axes.plot(samples1, xsh1[:, 1])\n",
    "axes.plot(samples2, xsh2[:, 1])\n",
    "plt.show()"
   ]
  },
  {
   "cell_type": "code",
   "execution_count": null,
   "metadata": {
    "collapsed": true
   },
   "outputs": [],
   "source": []
  }
 ],
 "metadata": {
  "kernelspec": {
   "display_name": "Python [conda env:Anaconda3]",
   "language": "python",
   "name": "conda-env-Anaconda3-py"
  },
  "language_info": {
   "codemirror_mode": {
    "name": "ipython",
    "version": 3
   },
   "file_extension": ".py",
   "mimetype": "text/x-python",
   "name": "python",
   "nbconvert_exporter": "python",
   "pygments_lexer": "ipython3",
   "version": "3.6.3"
  }
 },
 "nbformat": 4,
 "nbformat_minor": 2
}
