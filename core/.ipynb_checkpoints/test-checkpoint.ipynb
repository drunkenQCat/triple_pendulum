{
 "cells": [
  {
   "cell_type": "code",
   "execution_count": 1,
   "metadata": {},
   "outputs": [
    {
     "name": "stdout",
     "output_type": "stream",
     "text": [
      "somebody called me !\n",
      "starting simplification\n",
      "we are calculating qdd, its gonna take a while !\n",
      "inversing qdd_coeff_matrix\n",
      "inversion of qdd_coeff_matrix finished\n",
      "system model succesfully finished !\n",
      "\n",
      " \n",
      "\n",
      "======================== Trajectory_generator ========================\n",
      "Optimization terminated successfully.    (Exit mode 0)\n",
      "            Current function value: 2.4396758177480655\n",
      "            Iterations: 4\n",
      "            Function evaluations: 1008\n",
      "            Gradient evaluations: 4\n",
      "================================\n",
      "\n",
      " \n",
      "\n"
     ]
    }
   ],
   "source": [
    "from main import *"
   ]
  },
  {
   "cell_type": "code",
   "execution_count": null,
   "metadata": {},
   "outputs": [],
   "source": [
    "import matplotlib as mpl\n",
    "import matplotlib.pyplot as plt\n",
    "import numpy as np\n",
    "ct=cfg.pendata\n",
    "\n",
    "x_closed_loop=ct.tracking.x_closed_loop\n",
    "tvec=ct.tracking.tvec\n",
    "xs= ct.trajectory.opt_res.x.reshape(50,5)[:,1]\n",
    "fig, axes = plt.subplots()\n",
    "axes.plot( xs* 180/ np.pi)\n",
    "#axes.plot(tvec, x_closed_loop[:, 1] * 180 / np.pi,)\n",
    "plt.show()"
   ]
  },
  {
   "cell_type": "code",
   "execution_count": 2,
   "metadata": {},
   "outputs": [
    {
     "data": {
      "image/png": "[encoded data removed]",
      "text/plain": [
       "<matplotlib.figure.Figure at 0x2cffde24a20>"
      ]
     },
     "metadata": {},
     "output_type": "display_data"
    }
   ],
   "source": [
    "import numpy as np\n",
    "import matplotlib as mpl\n",
    "import matplotlib.pyplot as plt\n",
    "func= lambda x: x if abs(x) >= 1e-1 else  0\n",
    "ct= cfg.pendata\n",
    "xs= ct.trajectory.opt_res.x.reshape(50,5)[:,1]\n",
    "xs_new=np.array([func(x*180/np.pi)  for i, x in enumerate(xs)])\n",
    "fig, ax= plt.subplots()\n",
    "ax.plot(xs_new[0:25], 'o')\n",
    "plt.show()"
   ]
  },
  {
   "cell_type": "code",
   "execution_count": null,
   "metadata": {},
   "outputs": [],
   "source": [
    "np.set_printoptions(formatter={'float': '{: 0.2f}'.format})\n",
    "xs_new[0:100]"
   ]
  },
  {
   "cell_type": "code",
   "execution_count": 30,
   "metadata": {},
   "outputs": [
    {
     "data": {
      "text/latex": [
       "$$\\left ( 50, \\quad 4\\right )$$"
      ],
      "text/plain": [
       "(50, 4)"
      ]
     },
     "execution_count": 30,
     "metadata": {},
     "output_type": "execute_result"
    }
   ],
   "source": [
    "xha = ct.trajectory.opt_res.x.reshape(50,5)[:, :-1]\n",
    "xha.shape"
   ]
  },
  {
   "cell_type": "code",
   "execution_count": 9,
   "metadata": {},
   "outputs": [],
   "source": [
    "xs=ct.trajectory.cs_ret[0]\n",
    "us=ct.trajectory.cs_ret[1]"
   ]
  },
  {
   "cell_type": "code",
   "execution_count": 102,
   "metadata": {
    "collapsed": true
   },
   "outputs": [],
   "source": [
    "def x_s(t):\n",
    "        ''' makes the x_traj function from splines\n",
    "            and returns x_traj for time t !\n",
    "        '''\n",
    "        opt_res= cfg.pendata.trajectory.opt_res\n",
    "        fxu= cfg.pendata.trajectory.fxu\n",
    "        k=50\n",
    "        n=4\n",
    "        z = opt_res.x.reshape((k, n + 1))\n",
    "        x = z[:, :-1]\n",
    "        #print('x :',x)\n",
    "        u = z[:, -1]\n",
    "        #print('u', u)\n",
    "        hk= float(max_time)/(k-1) \n",
    "        indx= int (t / hk)\n",
    "        if indx >= k-2 :\n",
    "            indx= k-2\n",
    "            \n",
    "        #print('maxtime',max_time)\n",
    "        #print('hk',hk)\n",
    "        #print('t', t)\n",
    "        x_0= x[indx, :]\n",
    "        x_1= x[indx+1, :]\n",
    "        u_0= [u[indx]]\n",
    "        u_1= [u[indx+1]]\n",
    "        f_0= fxu(x_0, u_0)\n",
    "        f_1= fxu(x_1, u_1)\n",
    "        xs = lambda t: x_0 + f_0 * t + (3 / hk**2 * (x_1 - x_0) - 1 / hk * (2 * f_0 + f_1)) * t**2 + (2 / hk**3 * (x_0 - x_1) + 1 / hk**2 * (f_0 + f_1)) * t**3\n",
    "        \n",
    "        tk= indx* hk\n",
    "        tau= t- tk\n",
    "        #print('indx :',indx)\n",
    "        #print('tk :',tk)\n",
    "        #print('tau :',tau)\n",
    "        \n",
    "        x_traj= xs(tau)\n",
    "            \n",
    "\n",
    "        return x_traj"
   ]
  },
  {
   "cell_type": "code",
   "execution_count": 103,
   "metadata": {},
   "outputs": [],
   "source": [
    "tvec=np.linspace(0,2,50)\n",
    "xs_test=np.array([x_s(t) for t in tvec])"
   ]
  },
  {
   "cell_type": "code",
   "execution_count": 104,
   "metadata": {
    "collapsed": true
   },
   "outputs": [],
   "source": [
    "xs= ct.trajectory.opt_res.x.reshape(50,5)[:, 0:4]"
   ]
  },
  {
   "cell_type": "code",
   "execution_count": 113,
   "metadata": {},
   "outputs": [
    {
     "data": {
      "text/plain": [
       "array([[0, 0, 0, 0],\n",
       "       [0, 0, 0, 0],\n",
       "       [0, 0, 0, 0],\n",
       "       [0, 0, 0, 0],\n",
       "       [0, 0, 0, 0],\n",
       "       [0, 0, 0, 0],\n",
       "       [0, 0, 0, 0],\n",
       "       [0, 0, 0, 0],\n",
       "       [0, 0, 0, 0],\n",
       "       [0, 0, 0, 0],\n",
       "       [0, 0, 0, 0],\n",
       "       [0, 0, 0, 0],\n",
       "       [0, 0, 0, 0],\n",
       "       [0, 0, 0, 0],\n",
       "       [0, 0, 0, 0],\n",
       "       [0, 0, 0, 0],\n",
       "       [0, 0, 0, 0],\n",
       "       [0, 0, 0, 0],\n",
       "       [0, 0, 0, 0],\n",
       "       [0, 0, 0, 0],\n",
       "       [0, 0, 0, 0],\n",
       "       [0, 0, 0, 0],\n",
       "       [0, 0, 0, 0],\n",
       "       [0, 0, 0, 0],\n",
       "       [0, 0, 0, 0],\n",
       "       [0, 0, 0, 0],\n",
       "       [0, 0, 0, 0],\n",
       "       [0, 0, 0, 0],\n",
       "       [0, 0, 0, 0],\n",
       "       [0, 0, 0, 0],\n",
       "       [0, 0, 0, 0],\n",
       "       [0, 0, 0, 0],\n",
       "       [0, 0, 0, 0],\n",
       "       [0, 0, 0, 0],\n",
       "       [0, 0, 0, 0],\n",
       "       [0, 0, 0, 0],\n",
       "       [0, 0, 0, 0],\n",
       "       [0, 0, 0, 0],\n",
       "       [0, 0, 0, 0],\n",
       "       [0, 0, 0, 0],\n",
       "       [0, 0, 0, 0],\n",
       "       [0, 0, 0, 0],\n",
       "       [0, 0, 0, 0],\n",
       "       [0, 0, 0, 0],\n",
       "       [0, 0, 0, 0],\n",
       "       [0, 0, 0, 0],\n",
       "       [0, 0, 0, 0],\n",
       "       [0, 0, 0, 0],\n",
       "       [0, 0, 0, 0],\n",
       "       [0, 0, 0, 0]])"
      ]
     },
     "execution_count": 113,
     "metadata": {},
     "output_type": "execute_result"
    }
   ],
   "source": [
    "array_compare(x,y, tol=1e-6):\n",
    "    '''difference between two np.arrays a and b\n",
    "       \n",
    "       - Default tol is 1e-6\n",
    "       ===========\n",
    "       - Returns :\n",
    "                a tupel consist of differnece array \n",
    "                and maximal difference\n",
    "    '''\n",
    "    func1= lambda x: x if abs(x) >= tol else  0\n",
    "    func2= lambda x, y: np.array([func1(xi-yi) for xi,yi in zip(x,y) ]) \n",
    "    delta= np.array([func2(xs1,xs2) for xs1, xs2 in zip(a, b) ])\n",
    "    np.amax(np.array([func1(deltai) for deltai in delta]))\n",
    "        \n",
    "    \n",
    "    return delta, "
   ]
  },
  {
   "cell_type": "code",
   "execution_count": null,
   "metadata": {
    "collapsed": true
   },
   "outputs": [],
   "source": []
  }
 ],
 "metadata": {
  "kernelspec": {
   "display_name": "Python [conda env:Anaconda3]",
   "language": "python",
   "name": "conda-env-Anaconda3-py"
  },
  "language_info": {
   "codemirror_mode": {
    "name": "ipython",
    "version": 3
   },
   "file_extension": ".py",
   "mimetype": "text/x-python",
   "name": "python",
   "nbconvert_exporter": "python",
   "pygments_lexer": "ipython3",
   "version": "3.6.3"
  }
 },
 "nbformat": 4,
 "nbformat_minor": 2
}
