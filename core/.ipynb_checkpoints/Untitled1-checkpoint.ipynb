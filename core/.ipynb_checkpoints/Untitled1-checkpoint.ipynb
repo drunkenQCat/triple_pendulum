{
 "cells": [
  {
   "cell_type": "code",
   "execution_count": 1,
   "metadata": {
    "collapsed": true
   },
   "outputs": [],
   "source": [
    "\n",
    "def generate_state_equ1(mass_matrix, forcing_vector, qdot, qdd, u):\n",
    "    '''\n",
    "    given mass_matrix and forcing_vector of a Kane's Method it\n",
    "    generates state equation :\n",
    "                         xdot=f(x)+g(x).u\n",
    "               \n",
    "                  'ATTENTION : it assumes qdd0 as an Input u'\n",
    "    \n",
    "    '''\n",
    "    xx_dot = sm.Matrix(qdot + qdd)\n",
    "    \n",
    "    #finding qddot as a function of u (u=qdd0)\n",
    "    expr = mass_matrix * xx_dot - forcing_vector\n",
    "    #print('expr :',expr)\n",
    "    #setting qdd[0] as input u !\n",
    "    expr = expr.subs(dict([(qdd[0], u)]))\n",
    "    \n",
    "    #finding qddts in respect to qdots and u\n",
    "    expr_list = [expr[i] for i in range(3, len(qdd) + 2)]\n",
    "    var_list = [qdd[i] for i in range(1, len(qdd))]\n",
    "    \n",
    "    print(expr_list)\n",
    "    print(var_list)\n",
    "    sol = solve(expr_list, var_list)\n",
    "\n",
    "    #determining fx and gx\n",
    "    qdd_expr = [sol[qdd[i]].expand() for i in range(1, len(qdd))]\n",
    "\n",
    "    #finding terms with and without input term 'u' to determine fx and gx\n",
    "    collected_qdd = [\n",
    "        sm.collect(qdd_expr[i], u, evaluate=False)\n",
    "        for i in range(len(qdd) - 1)\n",
    "    ]\n",
    "\n",
    "    fx = sm.zeros(len(xx_dot), 1)\n",
    "    gx = sm.zeros(len(xx_dot), 1)\n",
    "\n",
    "    for i in range(len(qdot)):\n",
    "        fx[i] = qdot[i]\n",
    "        gx[i] = 0.0\n",
    "\n",
    "    for i in range(len(qdot) + 1, len(xx_dot)):\n",
    "        indx = i - (len(qdot) + 1)\n",
    "        fx[i] = collected_qdd[indx][1]\n",
    "        gx[i] = collected_qdd[indx][u]\n",
    "    gx[2] = 1\n",
    "    return fx, gx\n",
    "\n"
   ]
  },
  {
   "cell_type": "code",
   "execution_count": 2,
   "metadata": {},
   "outputs": [
    {
     "name": "stdout",
     "output_type": "stream",
     "text": [
      "mass_matrix and forcing_vector are calculated! \n",
      "\n",
      "system model succesfully finished ! \n",
      " fx_expr and gx_expr are stored in config.py\n"
     ]
    }
   ],
   "source": [
    "# coding: utf-8\n",
    "'''\n",
    "-----------\n",
    "To Do :\n",
    "  - parameter shoul be read from a file isntead of dictionary!\n",
    "  \n",
    "'''\n",
    "#=============================================================\n",
    "# Standard Python modules\n",
    "#=============================================================\n",
    "\n",
    "#=============================================================\n",
    "# External Python modules\n",
    "#=============================================================\n",
    "#from __future__ import division, print_function\n",
    "from sympy.physics.vector import init_vprinting, vlatex\n",
    "init_vprinting(use_latex='mathjax', pretty_print=True)\n",
    "\n",
    "import sympy as sm\n",
    "import sympy.physics.mechanics as me\n",
    "import numpy as np\n",
    "import mpmath as mp\n",
    "import scipy as sc\n",
    "\n",
    "#=============================================================\n",
    "# Standard Python modules\n",
    "#=============================================================\n",
    "from functions import *\n",
    "\n",
    "#=============================================================\n",
    "# Systme Model\n",
    "#=============================================================\n",
    "\n",
    "# Defining symbolic Variables\n",
    "\n",
    "n = 1\n",
    "q = me.dynamicsymbols('q:{}'.format(n + 1))  # generalized coordinates\n",
    "qdot = me.dynamicsymbols('qdot:{}'.format(n + 1))  #generalized speeds\n",
    "qdd = me.dynamicsymbols('qddot:{}'.format(n + 1))\n",
    "f = me.dynamicsymbols('f')\n",
    "u = sm.symbols('u')\n",
    "m = sm.symbols('m:{}'.format(n + 1))\n",
    "J = sm.symbols('J:{}'.format(n + 1))\n",
    "l = sm.symbols('l1:{}'.format(n+1))  # lenght of each pendlum\n",
    "a = sm.symbols('a1:{}'.format(n+1))  #location of Mass-centers\n",
    "d = sm.symbols('d1:{}'.format(n + 1))  #viscous damping coef.\n",
    "g, t = sm.symbols('g t')\n",
    "\n",
    "# intertial reference frame\n",
    "In_frame = me.ReferenceFrame('In_frame')\n",
    "\n",
    "# Origninal Point O in Reference Frame :\n",
    "O = me.Point('O')\n",
    "O.set_vel(In_frame, 0)\n",
    "\n",
    "# The Center of Mass Point on cart :\n",
    "C0 = me.Point('C0')\n",
    "C0.set_pos(O, q[0] * In_frame.x)\n",
    "C0.set_vel(In_frame, qdot[0] * In_frame.x)\n",
    "\n",
    "cart_inertia_dyadic = me.inertia(In_frame, 0, 0, J[0])\n",
    "cart_central_inertia = (cart_inertia_dyadic, C0)\n",
    "\n",
    "cart = me.RigidBody('Cart', C0, In_frame, m[0], cart_central_inertia)\n",
    "\n",
    "kindiffs = [q[0].diff(t) - qdot[0]]  # entforcing qdot=Omega\n",
    "\n",
    "frames = [In_frame]\n",
    "mass_centers = [C0]\n",
    "joint_centers = [C0]\n",
    "central_inertias = [cart_central_inertia]\n",
    "forces = [(C0, f * In_frame.x - m[0] * g * In_frame.y)]\n",
    "torques = []\n",
    "\n",
    "# cart_potential = 1 / 2 * d[0] * qdot[1]**2\n",
    "# potentials = [cart_potential]\n",
    "# cart.potential_energy= cart_potential\n",
    "\n",
    "rigid_bodies = [cart]\n",
    "# Lagrangian0 = me.Lagrangian(In_frame, rigid_bodies[0])\n",
    "# Lagrangians=[Lagrangian0]\n",
    "\n",
    "for i in range(n):\n",
    "    #Creating new reference frame\n",
    "    Li = In_frame.orientnew('L' + str(i), 'Axis',\n",
    "                            [sm.pi / 2 - q[i + 1], In_frame.z])\n",
    "    Li.set_ang_vel(In_frame, -qdot[i + 1] * In_frame.z)\n",
    "    frames.append(Li)\n",
    "\n",
    "    # Creating new Points representing mass_centers\n",
    "    Pi = mass_centers[-1].locatenew('a' + str(i + 1), a[i] * Li.x)\n",
    "    Pi.v2pt_theory(joint_centers[-1], In_frame, Li)\n",
    "    mass_centers.append(Pi)\n",
    "\n",
    "    #Creating new Points representing Joints\n",
    "    Jointi = joint_centers[-1].locatenew('jont' + str(i + 1), l[i] * Li.x)\n",
    "    Jointi.v2pt_theory(joint_centers[-1], In_frame, Li)\n",
    "    joint_centers.append(Jointi)\n",
    "\n",
    "    #adding forces\n",
    "    forces.append((Pi, -m[i + 1] * g * In_frame.y))\n",
    "\n",
    "    #adding torques\n",
    "    if i == 0:\n",
    "        torqueVectori = (-d[0] * qdot[1]) * frames[1].z\n",
    "        torques.append((Li, torqueVectori))\n",
    "\n",
    "    else:\n",
    "        torqueVectori = -d[i] * (qdot[i + 1] - qdot[i]) * In_frame.z\n",
    "        torques.append((Li, torqueVectori))\n",
    "\n",
    "    #adding cential inertias\n",
    "    IDi = me.inertia(frames[i + 1], 0, 0, J[i + 1])\n",
    "    ICi = (IDi, mass_centers[i + 1])\n",
    "    central_inertias.append(ICi)\n",
    "\n",
    "    LBodyi = me.RigidBody('L' + str(i + 1) + '_Body', mass_centers[i + 1],\n",
    "                          frames[i + 1], m[i + 1], central_inertias[i + 1])\n",
    "    rigid_bodies.append(LBodyi)\n",
    "\n",
    "    kindiffs.append(q[i + 1].diff(t) - qdot[i + 1])\n",
    "\n",
    "#generalized force\n",
    "loads = torques + forces\n",
    "\n",
    "#Kane's Method --> Equation of motion\n",
    "Kane = me.KanesMethod(In_frame, q, qdot, kd_eqs=kindiffs)\n",
    "fr, frstar = Kane.kanes_equations(rigid_bodies, loads)\n",
    "\n",
    "mass_matrix = sm.trigsimp(Kane.mass_matrix_full)\n",
    "forcing_vector = sm.trigsimp(Kane.forcing_full)\n",
    "\n",
    "\n",
    "print(\n",
    "    'mass_matrix and forcing_vector are calculated! \\n'\n",
    ")\n",
    "#xdot_expr=(mass_matrix.inv()*forcing_vector)\n",
    "\n",
    "\n",
    "# defining parameter values according to number of pendulum n :\n",
    "if n == 1:\n",
    "    param_values = config.parameter_values_simple_pendulum\n",
    "\n",
    "elif n == 2:\n",
    "    param_values = config.parameter_values_double_pendulum\n",
    "\n",
    "elif n == 3:\n",
    "    param_values = config.parameter_values_triple_pendulum\n",
    "\n",
    "param_symb = list( l + a + m  + J + d + (g, f))\n",
    "param_list = zip(param_symb, param_values)\n",
    "param_dict = dict(param_list)\n",
    "\n",
    "\n",
    "# substituting parameters to mass and forcing_vector\n",
    "mass_matrix_simplified= mass_matrix.subs(param_dict).simplify()\n",
    "forcing_vector_simplified= forcing_vector.subs(param_dict).simplify()\n",
    "# finding fx and gx wiht qdd0 as input\n",
    "#fx, gx = generate_state_equ1(mass_matrix_simplified, forcing_vector_simplified, qdot, qdd, u)\n",
    "#config.fx_expr = (fx)\n",
    "#config.gx_expr = (gx)\n",
    "\n",
    "print(\n",
    "    'system model succesfully finished ! \\n fx_expr and gx_expr are stored in config.py'\n",
    ")"
   ]
  },
  {
   "cell_type": "code",
   "execution_count": 3,
   "metadata": {},
   "outputs": [
    {
     "data": {
      "text/latex": [
       "$$\\left[\\begin{matrix}1 & 0 & 0 & 0\\\\0 & 1 & 0 & 0\\\\0 & 0 & m_{0} + m_{1} & a_{1} m_{1} \\operatorname{cos}\\left(q_{1}\\right)\\\\0 & 0 & a_{1} m_{1} \\operatorname{cos}\\left(q_{1}\\right) & J_{1} + a_{1}^{2} m_{1}\\end{matrix}\\right]$$"
      ],
      "text/plain": [
       "Matrix([\n",
       "[1, 0,             0,             0],\n",
       "[0, 1,             0,             0],\n",
       "[0, 0,       m0 + m1, a1*m1*cos(q1)],\n",
       "[0, 0, a1*m1*cos(q1), J1 + a1**2*m1]])"
      ]
     },
     "execution_count": 3,
     "metadata": {},
     "output_type": "execute_result"
    }
   ],
   "source": [
    "mass_matrix"
   ]
  },
  {
   "cell_type": "code",
   "execution_count": 4,
   "metadata": {},
   "outputs": [
    {
     "data": {
      "text/latex": [
       "$$\\left[\\begin{matrix}\\dot{q}_{0}\\\\\\dot{q}_{1}\\\\a_{1} m_{1} \\dot{q}^{2}_{1} \\operatorname{sin}\\left(q_{1}\\right) + f\\\\a_{1} g m_{1} \\operatorname{sin}\\left(q_{1}\\right) + d_{1} \\dot{q}_{1}\\end{matrix}\\right]$$"
      ],
      "text/plain": [
       "Matrix([\n",
       "[                     qdot0],\n",
       "[                     qdot1],\n",
       "[a1*m1*qdot1**2*sin(q1) + f],\n",
       "[a1*g*m1*sin(q1) + d1*qdot1]])"
      ]
     },
     "execution_count": 4,
     "metadata": {},
     "output_type": "execute_result"
    }
   ],
   "source": [
    "forcing_vector"
   ]
  },
  {
   "cell_type": "code",
   "execution_count": 6,
   "metadata": {},
   "outputs": [
    {
     "data": {
      "text/latex": [
       "$$\\left[\\begin{matrix}1 & 0 & 0 & 0\\\\0 & 1 & 0 & 0\\\\0 & 0 & 4.1912 & 0.17024 \\operatorname{cos}\\left(q_{1}\\right)\\\\0 & 0 & 0.17024 \\operatorname{cos}\\left(q_{1}\\right) & 0.053848\\end{matrix}\\right]$$"
      ],
      "text/plain": [
       "Matrix([\n",
       "[1, 0,               0,               0],\n",
       "[0, 1,               0,               0],\n",
       "[0, 0,          4.1912, 0.17024*cos(q1)],\n",
       "[0, 0, 0.17024*cos(q1),        0.053848]])"
      ]
     },
     "execution_count": 6,
     "metadata": {},
     "output_type": "execute_result"
    }
   ],
   "source": [
    "mass_matrix_simplified"
   ]
  },
  {
   "cell_type": "code",
   "execution_count": 5,
   "metadata": {},
   "outputs": [
    {
     "data": {
      "text/latex": [
       "$$\\left[\\begin{matrix}\\dot{q}_{0}\\\\\\dot{q}_{1}\\\\0.17024 \\dot{q}^{2}_{1} \\operatorname{sin}\\left(q_{1}\\right)\\\\0.01 \\dot{q}_{1} + 1.6700544 \\operatorname{sin}\\left(q_{1}\\right)\\end{matrix}\\right]$$"
      ],
      "text/plain": [
       "Matrix([\n",
       "[                         qdot0],\n",
       "[                         qdot1],\n",
       "[      0.17024*qdot1**2*sin(q1)],\n",
       "[0.01*qdot1 + 1.6700544*sin(q1)]])"
      ]
     },
     "execution_count": 5,
     "metadata": {},
     "output_type": "execute_result"
    }
   ],
   "source": [
    "forcing_vector_simplified"
   ]
  },
  {
   "cell_type": "code",
   "execution_count": 10,
   "metadata": {},
   "outputs": [
    {
     "data": {
      "text/latex": [
       "$$\\left[\\begin{matrix}\\dot{q}_{0}\\\\\\dot{q}_{1}\\\\4.1912 \\ddot{q}_{0} + 0.17024 \\ddot{q}_{1} \\operatorname{cos}\\left(q_{1}\\right)\\\\0.17024 \\ddot{q}_{0} \\operatorname{cos}\\left(q_{1}\\right) + 0.053848 \\ddot{q}_{1}\\end{matrix}\\right]$$"
      ],
      "text/plain": [
       "Matrix([\n",
       "[                                   qdot0],\n",
       "[                                   qdot1],\n",
       "[  4.1912*qddot0 + 0.17024*qddot1*cos(q1)],\n",
       "[0.17024*qddot0*cos(q1) + 0.053848*qddot1]])"
      ]
     },
     "execution_count": 10,
     "metadata": {},
     "output_type": "execute_result"
    }
   ],
   "source": [
    "mass_matrix_simplified*sm.Matrix(qdot+ qdd)"
   ]
  },
  {
   "cell_type": "code",
   "execution_count": 11,
   "metadata": {},
   "outputs": [
    {
     "data": {
      "text/latex": [
       "$$\\left[\\begin{matrix}\\dot{q}_{0}\\\\\\dot{q}_{1}\\\\\\ddot{q}_{0}\\\\\\ddot{q}_{1}\\end{matrix}\\right]$$"
      ],
      "text/plain": [
       "Matrix([\n",
       "[ qdot0],\n",
       "[ qdot1],\n",
       "[qddot0],\n",
       "[qddot1]])"
      ]
     },
     "execution_count": 11,
     "metadata": {},
     "output_type": "execute_result"
    }
   ],
   "source": []
  },
  {
   "cell_type": "code",
   "execution_count": null,
   "metadata": {
    "collapsed": true
   },
   "outputs": [],
   "source": []
  }
 ],
 "metadata": {
  "kernelspec": {
   "display_name": "Python [conda env:py2env]",
   "language": "python",
   "name": "conda-env-py2env-py"
  },
  "language_info": {
   "codemirror_mode": {
    "name": "ipython",
    "version": 2
   },
   "file_extension": ".py",
   "mimetype": "text/x-python",
   "name": "python",
   "nbconvert_exporter": "python",
   "pygments_lexer": "ipython2",
   "version": "2.7.15"
  }
 },
 "nbformat": 4,
 "nbformat_minor": 2
}
