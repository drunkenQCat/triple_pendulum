{
 "cells": [
  {
   "cell_type": "code",
   "execution_count": 1,
   "metadata": {
    "collapsed": true
   },
   "outputs": [],
   "source": [
    "%matplotlib inline\n",
    "import time\n",
    "import os \n",
    "import numpy as np\n",
    "from numpy import logspace\n",
    "from control import TransferFunction, bode_plot "
   ]
  },
  {
   "cell_type": "code",
   "execution_count": 2,
   "metadata": {},
   "outputs": [
    {
     "name": "stdout",
     "output_type": "stream",
     "text": [
      "Object `control.bode_plot` not found.\n"
     ]
    }
   ],
   "source": [
    "control.bode_plot?"
   ]
  },
  {
   "cell_type": "code",
   "execution_count": 3,
   "metadata": {
    "collapsed": true
   },
   "outputs": [],
   "source": [
    "alpha= 0.6\n",
    "Ka= (1-alpha) / alpha\n",
    "Tgt= 5.0\n",
    "Tdt= 190.0\n",
    "Ta= 0.9\n",
    "Kgt= 15"
   ]
  },
  {
   "cell_type": "code",
   "execution_count": 4,
   "metadata": {
    "collapsed": true
   },
   "outputs": [],
   "source": [
    "G1= TransferFunction([Kgt],[Tgt, 1])\n",
    "G2= TransferFunction([1],[Tdt, 1])"
   ]
  },
  {
   "cell_type": "code",
   "execution_count": 43,
   "metadata": {},
   "outputs": [
    {
     "data": {
      "text/plain": [
       "\n",
       "  15\n",
       "-------\n",
       "5 s + 1"
      ]
     },
     "execution_count": 43,
     "metadata": {},
     "output_type": "execute_result"
    }
   ],
   "source": [
    "G1"
   ]
  },
  {
   "cell_type": "code",
   "execution_count": 44,
   "metadata": {},
   "outputs": [
    {
     "data": {
      "text/plain": [
       "\n",
       "    1\n",
       "---------\n",
       "190 s + 1"
      ]
     },
     "execution_count": 44,
     "metadata": {},
     "output_type": "execute_result"
    }
   ],
   "source": [
    "G2"
   ]
  },
  {
   "cell_type": "code",
   "execution_count": 49,
   "metadata": {
    "collapsed": true
   },
   "outputs": [],
   "source": [
    "H= G1* Ka* G2"
   ]
  },
  {
   "cell_type": "code",
   "execution_count": 50,
   "metadata": {},
   "outputs": [
    {
     "data": {
      "text/plain": [
       "\n",
       "  1.425e+04 s^2 + 2975 s + 25\n",
       "-------------------------------\n",
       "4750 s^3 + 1925 s^2 + 200 s + 1"
      ]
     },
     "execution_count": 50,
     "metadata": {},
     "output_type": "execute_result"
    }
   ],
   "source": [
    "H"
   ]
  },
  {
   "cell_type": "code",
   "execution_count": null,
   "metadata": {
    "collapsed": true
   },
   "outputs": [],
   "source": []
  },
  {
   "cell_type": "code",
   "execution_count": 39,
   "metadata": {},
   "outputs": [
    {
     "name": "stderr",
     "output_type": "stream",
     "text": [
      "C:\\Users\\kuros\\Anaconda3\\lib\\site-packages\\control\\freqplot.py:153: MatplotlibDeprecationWarning: pyplot.hold is deprecated.\n",
      "    Future behavior will be consistent with the long-time default:\n",
      "    plot commands add elements without first clearing the\n",
      "    Axes and/or Figure.\n",
      "  plt.hold(True);\n",
      "C:\\Users\\kuros\\Anaconda3\\lib\\site-packages\\matplotlib\\__init__.py:805: MatplotlibDeprecationWarning: axes.hold is deprecated. Please remove it from your matplotlibrc and/or style files.\n",
      "  mplDeprecation)\n",
      "C:\\Users\\kuros\\Anaconda3\\lib\\site-packages\\matplotlib\\rcsetup.py:155: MatplotlibDeprecationWarning: axes.hold is deprecated, will be removed in 3.0\n",
      "  mplDeprecation)\n",
      "C:\\Users\\kuros\\Anaconda3\\lib\\site-packages\\control\\freqplot.py:163: MatplotlibDeprecationWarning: pyplot.hold is deprecated.\n",
      "    Future behavior will be consistent with the long-time default:\n",
      "    plot commands add elements without first clearing the\n",
      "    Axes and/or Figure.\n",
      "  plt.hold(True);\n"
     ]
    },
    {
     "data": {
      "text/plain": [
       "(array([ 23.51098137,  23.50745525,  23.50278505,  23.49660144,\n",
       "         23.48841731,  23.47759124,  23.46328047,  23.44438093,\n",
       "         23.41945171,  23.38662184,  23.343478  ,  23.28693458,\n",
       "         23.21309154,  23.11709339,  22.99301333,  22.83380095,\n",
       "         22.63134644,  22.37672227,  22.06065439,  21.67423615,\n",
       "         21.20982617,  20.66198229,  20.02821766,  19.30937132,\n",
       "         18.50948144,  17.6352001 ,  16.69491989,  15.69783421,\n",
       "         14.65311839,  13.56933501,  12.45408218,  11.31384821,\n",
       "         10.15401299,   8.97893781,   7.79209763,   6.59622493,\n",
       "          5.39344681,   4.18540651,   2.97336613,   1.75829074,\n",
       "          0.54091587,  -0.67819933,  -1.89863059,  -3.12005648,\n",
       "         -4.3422337 ,  -5.56497828,  -6.78815117,  -8.01164735,\n",
       "         -9.2353875 , -10.45931174]),\n",
       " array([ -2.86240523,  -3.29486802,  -3.79233557,  -4.36440444,\n",
       "         -5.02199677,  -5.77749555,  -6.6448676 ,  -7.6397566 ,\n",
       "         -8.77951945, -10.08316602, -11.57114575, -13.26490461,\n",
       "        -15.18611478, -17.3554651 , -19.79090428, -22.50527294,\n",
       "        -25.50337021, -28.77869695, -32.31039043, -36.06114263,\n",
       "        -39.9770226 , -43.98992073, -48.02271186, -51.99635834,\n",
       "        -55.83744457, -59.48446282, -62.89165819, -66.03010257,\n",
       "        -68.88645346, -71.46026802, -73.76075911, -75.80365405,\n",
       "        -77.60852797, -79.19674419, -80.5899829 , -81.80926545,\n",
       "        -82.87436092, -83.80346877, -84.61309022, -85.31802219,\n",
       "        -85.93142608, -86.46493845, -86.92880187, -87.33200194,\n",
       "        -87.6824019 , -87.98687   , -88.25139694, -88.48120252,\n",
       "        -88.68083121, -88.85423716]),\n",
       " array([ 0.01      ,  0.01151395,  0.01325711,  0.01526418,  0.01757511,\n",
       "         0.0202359 ,  0.02329952,  0.02682696,  0.03088844,  0.0355648 ,\n",
       "         0.04094915,  0.04714866,  0.05428675,  0.06250552,  0.07196857,\n",
       "         0.08286428,  0.09540955,  0.10985411,  0.12648552,  0.14563485,\n",
       "         0.16768329,  0.19306977,  0.22229965,  0.25595479,  0.29470517,\n",
       "         0.33932218,  0.39069399,  0.44984327,  0.51794747,  0.59636233,\n",
       "         0.68664885,  0.79060432,  0.91029818,  1.04811313,  1.20679264,\n",
       "         1.38949549,  1.59985872,  1.84206997,  2.12095089,  2.44205309,\n",
       "         2.8117687 ,  3.23745754,  3.72759372,  4.29193426,  4.94171336,\n",
       "         5.68986603,  6.55128557,  7.54312006,  8.68511374, 10.        ]))"
      ]
     },
     "execution_count": 39,
     "metadata": {},
     "output_type": "execute_result"
    },
    {
     "data": {
      "image/png": "[encoded data removed]",
      "text/plain": [
       "<matplotlib.figure.Figure at 0x1f059f0c240>"
      ]
     },
     "metadata": {},
     "output_type": "display_data"
    }
   ],
   "source": [
    "bode_plot(G1, dB=True, Hz= True, deg= True, Plot= True)"
   ]
  },
  {
   "cell_type": "code",
   "execution_count": 40,
   "metadata": {},
   "outputs": [
    {
     "name": "stderr",
     "output_type": "stream",
     "text": [
      "C:\\Users\\kuros\\Anaconda3\\lib\\site-packages\\control\\freqplot.py:153: MatplotlibDeprecationWarning: pyplot.hold is deprecated.\n",
      "    Future behavior will be consistent with the long-time default:\n",
      "    plot commands add elements without first clearing the\n",
      "    Axes and/or Figure.\n",
      "  plt.hold(True);\n",
      "C:\\Users\\kuros\\Anaconda3\\lib\\site-packages\\matplotlib\\__init__.py:805: MatplotlibDeprecationWarning: axes.hold is deprecated. Please remove it from your matplotlibrc and/or style files.\n",
      "  mplDeprecation)\n",
      "C:\\Users\\kuros\\Anaconda3\\lib\\site-packages\\matplotlib\\rcsetup.py:155: MatplotlibDeprecationWarning: axes.hold is deprecated, will be removed in 3.0\n",
      "  mplDeprecation)\n",
      "C:\\Users\\kuros\\Anaconda3\\lib\\site-packages\\control\\freqplot.py:163: MatplotlibDeprecationWarning: pyplot.hold is deprecated.\n",
      "    Future behavior will be consistent with the long-time default:\n",
      "    plot commands add elements without first clearing the\n",
      "    Axes and/or Figure.\n",
      "  plt.hold(True);\n"
     ]
    },
    {
     "data": {
      "text/plain": [
       "(array([ 19.99843139,  19.99749072,  19.99598621,  19.99358027,\n",
       "         19.98973389,  19.98358728,  19.97377161,  19.95811384,\n",
       "         19.93318029,  19.89358504,  19.83097851,  19.73265422,\n",
       "         19.57983059,  19.34598019,  18.99618014,  18.48917966,\n",
       "         17.78389131,  16.84994511,  15.67792317,  14.28281012,\n",
       "         12.69808867,  10.96460367,   9.12057008,   7.19596138,\n",
       "          5.21077364,   3.1752308 ,   1.09032478,  -1.0521161 ,\n",
       "         -3.26990603,  -5.59089023,  -8.0518033 , -10.69363561,\n",
       "        -13.55247584, -16.64813325, -19.97655581, -23.51121535,\n",
       "        -27.21237808, -31.03810452, -34.95178133, -38.92503996,\n",
       "        -42.93753523, -46.97538828, -51.02943074, -55.09372868,\n",
       "        -59.16449098, -63.23931524, -67.31668685, -71.39565399,\n",
       "        -75.47561973, -79.55621014]),\n",
       " array([  -1.11713673,   -1.41291688,   -1.78693434,   -2.2598068 ,\n",
       "          -2.85750669,   -3.6126717 ,   -4.56615379,   -5.76876246,\n",
       "          -7.28304437,   -9.18471031,  -11.56288741,  -14.51763911,\n",
       "         -18.15215432,  -22.55606681,  -27.77698372,  -33.78236008,\n",
       "         -40.42548568,  -47.44172969,  -54.4961958 ,  -61.27077799,\n",
       "         -67.54464779,  -73.22844303,  -78.35079305,  -83.02232695,\n",
       "         -87.40055646,  -91.6651857 ,  -96.00285371, -100.59584475,\n",
       "        -105.60823302, -111.16357097, -117.3117026 , -123.99140754,\n",
       "        -131.00954772, -138.06360068, -144.81430446, -150.97576855,\n",
       "        -156.3742597 , -160.95462089, -164.75038575, -167.84486872,\n",
       "        -170.34010168, -172.33774558, -173.92966333, -175.19453746,\n",
       "        -176.19769077, -176.99234728, -177.62137922, -178.11907742,\n",
       "        -178.5127492 , -178.82408149]),\n",
       " array([1.00000000e-04, 1.26485522e-04, 1.59985872e-04, 2.02358965e-04,\n",
       "        2.55954792e-04, 3.23745754e-04, 4.09491506e-04, 5.17947468e-04,\n",
       "        6.55128557e-04, 8.28642773e-04, 1.04811313e-03, 1.32571137e-03,\n",
       "        1.67683294e-03, 2.12095089e-03, 2.68269580e-03, 3.39322177e-03,\n",
       "        4.29193426e-03, 5.42867544e-03, 6.86648845e-03, 8.68511374e-03,\n",
       "        1.09854114e-02, 1.38949549e-02, 1.75751062e-02, 2.22299648e-02,\n",
       "        2.81176870e-02, 3.55648031e-02, 4.49843267e-02, 5.68986603e-02,\n",
       "        7.19685673e-02, 9.10298178e-02, 1.15139540e-01, 1.45634848e-01,\n",
       "        1.84206997e-01, 2.32995181e-01, 2.94705170e-01, 3.72759372e-01,\n",
       "        4.71486636e-01, 5.96362332e-01, 7.54312006e-01, 9.54095476e-01,\n",
       "        1.20679264e+00, 1.52641797e+00, 1.93069773e+00, 2.44205309e+00,\n",
       "        3.08884360e+00, 3.90693994e+00, 4.94171336e+00, 6.25055193e+00,\n",
       "        7.90604321e+00, 1.00000000e+01]))"
      ]
     },
     "execution_count": 40,
     "metadata": {},
     "output_type": "execute_result"
    },
    {
     "data": {
      "image/png": "[encoded data removed]",
      "text/plain": [
       "<matplotlib.figure.Figure at 0x1f059d428d0>"
      ]
     },
     "metadata": {},
     "output_type": "display_data"
    }
   ],
   "source": [
    "bode_plot(G2*G1*(1-alpha)/alpha, dB=True, Hz= True, deg= True, Plot= True)"
   ]
  },
  {
   "cell_type": "code",
   "execution_count": 11,
   "metadata": {
    "collapsed": true
   },
   "outputs": [],
   "source": [
    "tf2=TransferFunction([25, 2850], [950, 195, 1])"
   ]
  },
  {
   "cell_type": "code",
   "execution_count": 12,
   "metadata": {},
   "outputs": [
    {
     "data": {
      "text/plain": [
       "\n",
       "    25 s + 2850\n",
       "-------------------\n",
       "950 s^2 + 195 s + 1"
      ]
     },
     "execution_count": 12,
     "metadata": {},
     "output_type": "execute_result"
    }
   ],
   "source": [
    "tf2"
   ]
  },
  {
   "cell_type": "code",
   "execution_count": 13,
   "metadata": {},
   "outputs": [
    {
     "name": "stderr",
     "output_type": "stream",
     "text": [
      "C:\\Users\\kuros\\Anaconda3\\lib\\site-packages\\control\\freqplot.py:153: MatplotlibDeprecationWarning: pyplot.hold is deprecated.\n",
      "    Future behavior will be consistent with the long-time default:\n",
      "    plot commands add elements without first clearing the\n",
      "    Axes and/or Figure.\n",
      "  plt.hold(True);\n",
      "C:\\Users\\kuros\\Anaconda3\\lib\\site-packages\\matplotlib\\__init__.py:805: MatplotlibDeprecationWarning: axes.hold is deprecated. Please remove it from your matplotlibrc and/or style files.\n",
      "  mplDeprecation)\n",
      "C:\\Users\\kuros\\Anaconda3\\lib\\site-packages\\matplotlib\\rcsetup.py:155: MatplotlibDeprecationWarning: axes.hold is deprecated, will be removed in 3.0\n",
      "  mplDeprecation)\n",
      "C:\\Users\\kuros\\Anaconda3\\lib\\site-packages\\control\\freqplot.py:163: MatplotlibDeprecationWarning: pyplot.hold is deprecated.\n",
      "    Future behavior will be consistent with the long-time default:\n",
      "    plot commands add elements without first clearing the\n",
      "    Axes and/or Figure.\n",
      "  plt.hold(True);\n"
     ]
    },
    {
     "data": {
      "text/plain": [
       "(array([  69.09688151,   69.096876  ,   69.09686857,   69.09685851,\n",
       "          69.09684494,   69.09682659,   69.09680181,   69.09676833,\n",
       "          69.0967231 ,   69.09666199,   69.09657943,   69.0964679 ,\n",
       "          69.09631723,   69.09611369,   69.09583871,   69.09546725,\n",
       "          69.09496546,   69.09428764,   69.09337207,   69.09213545,\n",
       "          69.09046534,   69.08821006,   69.08516504,   69.08105462,\n",
       "          69.07550763,   69.0680249 ,   69.05793618,   69.04434345,\n",
       "          69.02604697,   69.00145016,   68.96843941,   68.92423632,\n",
       "          68.86522286,   68.78674678,   68.68292585,   68.54648764,\n",
       "          68.36870451,   68.13950789,   67.8478766 ,   67.48257192,\n",
       "          67.03321419,   66.49156412,   65.85272966,   65.11595417,\n",
       "          64.28472522,   63.36616336,   62.36989242,   61.30672545,\n",
       "          60.18747698,   59.02208295,   57.81906735,   56.5852976 ,\n",
       "          55.32593243,   54.04446859,   52.74281481,   51.4213467 ,\n",
       "          50.0789187 ,   48.71282877,   47.31874956,   45.89066084,\n",
       "          44.42084218,   42.90000978,   41.31769609,   39.66295565,\n",
       "          37.92541389,   36.09655073,   34.17096534,   32.1472811 ,\n",
       "          30.02840429,   27.82105115,   25.53470641,   23.18033711,\n",
       "          20.76918817,   18.3118706 ,   15.8178075 ,   13.29499593,\n",
       "          10.74999523,    8.18804968,    5.61327318,    3.02884853,\n",
       "           0.43721468,   -2.15977022,   -4.76069317,   -7.36447642,\n",
       "          -9.97028988,  -12.57748134,  -15.18552035,  -17.79395176,\n",
       "         -20.40235537,  -23.0103085 ,  -25.61734836,  -28.22293106,\n",
       "         -30.82638411,  -33.42684868,  -36.0232077 ,  -38.61399555,\n",
       "         -41.19728496,  -43.77054776,  -46.33048831,  -48.87285399,\n",
       "         -51.39223616,  -53.88189107,  -56.33363127,  -58.73786326,\n",
       "         -61.08386489,  -63.36038886,  -65.55662318,  -67.66342502,\n",
       "         -69.67459787,  -71.58787723,  -73.40531482,  -75.13292973,\n",
       "         -76.77974623,  -78.35652267,  -79.87450872,  -81.344468  ,\n",
       "         -82.77605661,  -84.17753107,  -85.55570064,  -86.91603024,\n",
       "         -88.2628168 ,  -89.5993874 ,  -90.9282886 ,  -92.25145288,\n",
       "         -93.57033735,  -94.88603545,  -96.19936481,  -97.51093522,\n",
       "         -98.82120057, -100.13049823, -101.43907866, -102.74712769,\n",
       "        -104.05478311, -105.36214702, -106.66929507, -107.97628329,\n",
       "        -109.28315319, -110.5899355 , -111.89665295, -113.2033224 ,\n",
       "        -114.50995631, -115.81656392, -117.12315206, -118.42972579,\n",
       "        -119.73628885, -121.04284401, -122.34939333, -123.65593832,\n",
       "        -124.96248011, -126.26901952, -127.57555719, -128.88209355,\n",
       "        -130.18862895, -131.49516364, -132.80169781, -134.10823158,\n",
       "        -135.41476507, -136.72129834, -138.02783145, -139.33436445,\n",
       "        -140.64089736, -141.94743021, -143.253963  , -144.56049577,\n",
       "        -145.86702851, -147.17356122, -148.48009393, -149.78662662,\n",
       "        -151.09315931, -152.39969199, -153.70622466, -155.01275733,\n",
       "        -156.31929   , -157.62582267, -158.93235534, -160.23888801,\n",
       "        -161.54542067, -162.85195334, -164.158486  , -165.46501866,\n",
       "        -166.77155133, -168.07808399, -169.38461666, -170.69114932,\n",
       "        -171.99768198, -173.30421465, -174.61074731, -175.91727997,\n",
       "        -177.22381264, -178.5303453 , -179.83687796, -181.14341063,\n",
       "        -182.44994329, -183.75647595, -185.06300862, -186.36954128,\n",
       "        -187.67607394, -188.98260661, -190.28913927, -191.59567193]),\n",
       " array([-1.11721613e-01, -1.29856488e-01, -1.50935029e-01, -1.75435044e-01,\n",
       "        -2.03911887e-01, -2.37011043e-01, -2.75482750e-01, -3.20198989e-01,\n",
       "        -3.72173221e-01, -4.32583321e-01, -5.02798212e-01, -5.84408787e-01,\n",
       "        -6.79263815e-01, -7.89511584e-01, -9.17648194e-01, -1.06657350e+00,\n",
       "        -1.23965585e+00, -1.44080685e+00, -1.67456758e+00, -1.94620762e+00,\n",
       "        -2.26183846e+00, -2.62854248e+00, -3.05451856e+00, -3.54924461e+00,\n",
       "        -4.12365595e+00, -4.79033633e+00, -5.56371482e+00, -6.46025591e+00,\n",
       "        -7.49862160e+00, -8.69977076e+00, -1.00869426e+01, -1.16854455e+01,\n",
       "        -1.35221392e+01, -1.56244666e+01, -1.80188597e+01, -2.07283526e+01,\n",
       "        -2.37693016e+01, -2.71473037e+01, -3.08527440e+01, -3.48568672e+01,\n",
       "        -3.91096929e+01, -4.35411686e+01, -4.80663637e+01, -5.25942528e+01,\n",
       "        -5.70382146e+01, -6.13256315e+01, -6.54043753e+01, -6.92452641e+01,\n",
       "        -7.28409558e+01, -7.62025666e+01, -7.93554038e+01, -8.23348437e+01,\n",
       "        -8.51829029e+01, -8.79456476e+01, -9.06713386e+01, -9.34090784e+01,\n",
       "        -9.62076799e+01, -9.91144600e+01, -1.02173665e+02, -1.05424268e+02,\n",
       "        -1.08896951e+02, -1.12610287e+02, -1.16566442e+02, -1.20747194e+02,\n",
       "        -1.25111516e+02, -1.29596139e+02, -1.34120055e+02, -1.38592784e+02,\n",
       "        -1.42924746e+02, -1.47037191e+02, -1.50869312e+02, -1.54381348e+02,\n",
       "        -1.57553937e+02, -1.60384899e+02, -1.62884884e+02, -1.65073002e+02,\n",
       "        -1.66973099e+02, -1.68610898e+02, -1.70012001e+02, -1.71200593e+02,\n",
       "        -1.72198680e+02, -1.73025689e+02, -1.73698308e+02, -1.74230465e+02,\n",
       "        -1.74633387e+02, -1.74915686e+02, -1.75083454e+02, -1.75140331e+02,\n",
       "        -1.75087560e+02, -1.74924007e+02, -1.74646143e+02, -1.74248002e+02,\n",
       "        -1.73721116e+02, -1.73054432e+02, -1.72234239e+02, -1.71244132e+02,\n",
       "        -1.70065061e+02, -1.68675534e+02, -1.67052078e+02, -1.65170085e+02,\n",
       "        -1.63005217e+02, -1.60535547e+02, -1.57744563e+02, -1.54625049e+02,\n",
       "        -1.51183542e+02, -1.47444654e+02, -1.43454086e+02, -1.39278887e+02,\n",
       "        -1.35003869e+02, -1.30724096e+02, -1.26534841e+02, -1.22521476e+02,\n",
       "        -1.18751789e+02, -1.15272180e+02, -1.12107749e+02, -1.09265190e+02,\n",
       "        -1.06737063e+02, -1.04506253e+02, -1.02549864e+02, -1.00842240e+02,\n",
       "        -9.93571219e+01, -9.80690401e+01, -9.69541482e+01, -9.59906460e+01,\n",
       "        -9.51589346e+01, -9.44416031e+01, -9.38233164e+01, -9.32906518e+01,\n",
       "        -9.28319135e+01, -9.24369449e+01, -9.20969471e+01, -9.18043114e+01,\n",
       "        -9.15524669e+01, -9.13357448e+01, -9.11492576e+01, -9.09887944e+01,\n",
       "        -9.08507278e+01, -9.07319347e+01, -9.06297263e+01, -9.05417885e+01,\n",
       "        -9.04661294e+01, -9.04010351e+01, -9.03450306e+01, -9.02968468e+01,\n",
       "        -9.02553917e+01, -9.02197257e+01, -9.01890405e+01, -9.01626404e+01,\n",
       "        -9.01399272e+01, -9.01203860e+01, -9.01035737e+01, -9.00891093e+01,\n",
       "        -9.00766649e+01, -9.00659583e+01, -9.00567470e+01, -9.00488221e+01,\n",
       "        -9.00420039e+01, -9.00361379e+01, -9.00310911e+01, -9.00267492e+01,\n",
       "        -9.00230135e+01, -9.00197996e+01, -9.00170345e+01, -9.00146556e+01,\n",
       "        -9.00126089e+01, -9.00108480e+01, -9.00093331e+01, -9.00080297e+01,\n",
       "        -9.00069083e+01, -9.00059435e+01, -9.00051135e+01, -9.00043994e+01,\n",
       "        -9.00037850e+01, -9.00032564e+01, -9.00028016e+01, -9.00024104e+01,\n",
       "        -9.00020738e+01, -9.00017841e+01, -9.00015350e+01, -9.00013206e+01,\n",
       "        -9.00011362e+01, -9.00009775e+01, -9.00008410e+01, -9.00007236e+01,\n",
       "        -9.00006225e+01, -9.00005356e+01, -9.00004608e+01, -9.00003964e+01,\n",
       "        -9.00003411e+01, -9.00002934e+01, -9.00002525e+01, -9.00002172e+01,\n",
       "        -9.00001869e+01, -9.00001608e+01, -9.00001383e+01, -9.00001190e+01,\n",
       "        -9.00001024e+01, -9.00000881e+01, -9.00000758e+01, -9.00000652e+01]),\n",
       " array([1.00000000e-05, 1.16232247e-05, 1.35099352e-05, 1.57029012e-05,\n",
       "        1.82518349e-05, 2.12145178e-05, 2.46581108e-05, 2.86606762e-05,\n",
       "        3.33129479e-05, 3.87203878e-05, 4.50055768e-05, 5.23109931e-05,\n",
       "        6.08022426e-05, 7.06718127e-05, 8.21434358e-05, 9.54771611e-05,\n",
       "        1.10975250e-04, 1.28989026e-04, 1.49926843e-04, 1.74263339e-04,\n",
       "        2.02550194e-04, 2.35428641e-04, 2.73644000e-04, 3.18062569e-04,\n",
       "        3.69691271e-04, 4.29700470e-04, 4.99450512e-04, 5.80522552e-04,\n",
       "        6.74754405e-04, 7.84282206e-04, 9.11588830e-04, 1.05956018e-03,\n",
       "        1.23155060e-03, 1.43145894e-03, 1.66381689e-03, 1.93389175e-03,\n",
       "        2.24780583e-03, 2.61267523e-03, 3.03677112e-03, 3.52970730e-03,\n",
       "        4.10265811e-03, 4.76861170e-03, 5.54266452e-03, 6.44236351e-03,\n",
       "        7.48810386e-03, 8.70359136e-03, 1.01163798e-02, 1.17584955e-02,\n",
       "        1.36671636e-02, 1.58856513e-02, 1.84642494e-02, 2.14614120e-02,\n",
       "        2.49450814e-02, 2.89942285e-02, 3.37006433e-02, 3.91710149e-02,\n",
       "        4.55293507e-02, 5.29197874e-02, 6.15098579e-02, 7.14942899e-02,\n",
       "        8.30994195e-02, 9.65883224e-02, 1.12266777e-01, 1.30490198e-01,\n",
       "        1.51671689e-01, 1.76291412e-01, 2.04907469e-01, 2.38168555e-01,\n",
       "        2.76828663e-01, 3.21764175e-01, 3.73993730e-01, 4.34701316e-01,\n",
       "        5.05263107e-01, 5.87278661e-01, 6.82607183e-01, 7.93409667e-01,\n",
       "        9.22197882e-01, 1.07189132e+00, 1.24588336e+00, 1.44811823e+00,\n",
       "        1.68318035e+00, 1.95639834e+00, 2.27396575e+00, 2.64308149e+00,\n",
       "        3.07211300e+00, 3.57078596e+00, 4.15040476e+00, 4.82410870e+00,\n",
       "        5.60716994e+00, 6.51733960e+00, 7.57525026e+00, 8.80488358e+00,\n",
       "        1.02341140e+01, 1.18953407e+01, 1.38262217e+01, 1.60705282e+01,\n",
       "        1.86791360e+01, 2.17111795e+01, 2.52353917e+01, 2.93316628e+01,\n",
       "        3.40928507e+01, 3.96268864e+01, 4.60592204e+01, 5.35356668e+01,\n",
       "        6.22257084e+01, 7.23263390e+01, 8.40665289e+01, 9.77124154e+01,\n",
       "        1.13573336e+02, 1.32008840e+02, 1.53436841e+02, 1.78343088e+02,\n",
       "        2.07292178e+02, 2.40940356e+02, 2.80050389e+02, 3.25508860e+02,\n",
       "        3.78346262e+02, 4.39760361e+02, 5.11143348e+02, 5.94113398e+02,\n",
       "        6.90551352e+02, 8.02643352e+02, 9.32930403e+02, 1.08436597e+03,\n",
       "        1.26038293e+03, 1.46497140e+03, 1.70276917e+03, 1.97916687e+03,\n",
       "        2.30043012e+03, 2.67384162e+03, 3.10786619e+03, 3.61234270e+03,\n",
       "        4.19870708e+03, 4.88025158e+03, 5.67242607e+03, 6.59318827e+03,\n",
       "        7.66341087e+03, 8.90735464e+03, 1.03532184e+04, 1.20337784e+04,\n",
       "        1.39871310e+04, 1.62575567e+04, 1.88965234e+04, 2.19638537e+04,\n",
       "        2.55290807e+04, 2.96730241e+04, 3.44896226e+04, 4.00880633e+04,\n",
       "        4.65952567e+04, 5.41587138e+04, 6.29498899e+04, 7.31680714e+04,\n",
       "        8.50448934e+04, 9.88495905e+04, 1.14895100e+05, 1.33545156e+05,\n",
       "        1.55222536e+05, 1.80418641e+05, 2.09704640e+05, 2.43744415e+05,\n",
       "        2.83309610e+05, 3.29297126e+05, 3.82749448e+05, 4.44878283e+05,\n",
       "        5.17092024e+05, 6.01027678e+05, 6.98587975e+05, 8.11984499e+05,\n",
       "        9.43787828e+05, 1.09698580e+06, 1.27505124e+06, 1.48202071e+06,\n",
       "        1.72258597e+06, 2.00220037e+06, 2.32720248e+06, 2.70495973e+06,\n",
       "        3.14403547e+06, 3.65438307e+06, 4.24757155e+06, 4.93704785e+06,\n",
       "        5.73844165e+06, 6.66991966e+06, 7.75259749e+06, 9.01101825e+06,\n",
       "        1.04737090e+07, 1.21738273e+07, 1.41499130e+07, 1.64467618e+07,\n",
       "        1.91164408e+07, 2.22194686e+07, 2.58261876e+07, 3.00183581e+07,\n",
       "        3.48910121e+07, 4.05546074e+07, 4.71375313e+07, 5.47890118e+07,\n",
       "        6.36824994e+07, 7.40196000e+07, 8.60346442e+07, 1.00000000e+08]))"
      ]
     },
     "execution_count": 13,
     "metadata": {},
     "output_type": "execute_result"
    },
    {
     "data": {
      "image/png": "[encoded data removed]",
      "text/plain": [
       "<matplotlib.figure.Figure at 0x25b64288eb8>"
      ]
     },
     "metadata": {},
     "output_type": "display_data"
    }
   ],
   "source": [
    "bode_plot(tf2,np.logspace(-5, 8,200 ), dB=True, deg= True, Plot= True)"
   ]
  },
  {
   "cell_type": "code",
   "execution_count": 5,
   "metadata": {
    "collapsed": true
   },
   "outputs": [],
   "source": [
    "G3= TransferFunction([25, 2850], [0, 1])"
   ]
  },
  {
   "cell_type": "code",
   "execution_count": 10,
   "metadata": {},
   "outputs": [
    {
     "name": "stderr",
     "output_type": "stream",
     "text": [
      "C:\\Users\\kuros\\Anaconda3\\lib\\site-packages\\control\\freqplot.py:153: MatplotlibDeprecationWarning: pyplot.hold is deprecated.\n",
      "    Future behavior will be consistent with the long-time default:\n",
      "    plot commands add elements without first clearing the\n",
      "    Axes and/or Figure.\n",
      "  plt.hold(True);\n",
      "C:\\Users\\kuros\\Anaconda3\\lib\\site-packages\\matplotlib\\__init__.py:805: MatplotlibDeprecationWarning: axes.hold is deprecated. Please remove it from your matplotlibrc and/or style files.\n",
      "  mplDeprecation)\n",
      "C:\\Users\\kuros\\Anaconda3\\lib\\site-packages\\matplotlib\\rcsetup.py:155: MatplotlibDeprecationWarning: axes.hold is deprecated, will be removed in 3.0\n",
      "  mplDeprecation)\n",
      "C:\\Users\\kuros\\Anaconda3\\lib\\site-packages\\control\\freqplot.py:163: MatplotlibDeprecationWarning: pyplot.hold is deprecated.\n",
      "    Future behavior will be consistent with the long-time default:\n",
      "    plot commands add elements without first clearing the\n",
      "    Axes and/or Figure.\n",
      "  plt.hold(True);\n"
     ]
    },
    {
     "data": {
      "text/plain": [
       "(array([ 69.0968972 ,  69.0968972 ,  69.0968972 ,  69.0968972 ,\n",
       "         69.0968972 ,  69.0968972 ,  69.0968972 ,  69.0968972 ,\n",
       "         69.0968972 ,  69.0968972 ,  69.0968972 ,  69.0968972 ,\n",
       "         69.0968972 ,  69.0968972 ,  69.0968972 ,  69.0968972 ,\n",
       "         69.0968972 ,  69.0968972 ,  69.0968972 ,  69.0968972 ,\n",
       "         69.0968972 ,  69.0968972 ,  69.0968972 ,  69.0968972 ,\n",
       "         69.0968972 ,  69.0968972 ,  69.0968972 ,  69.0968972 ,\n",
       "         69.0968972 ,  69.0968972 ,  69.0968972 ,  69.0968972 ,\n",
       "         69.0968972 ,  69.0968972 ,  69.0968972 ,  69.0968972 ,\n",
       "         69.0968972 ,  69.0968972 ,  69.0968972 ,  69.0968972 ,\n",
       "         69.09689721,  69.09689721,  69.09689721,  69.09689721,\n",
       "         69.09689722,  69.09689723,  69.09689723,  69.09689725,\n",
       "         69.09689726,  69.09689728,  69.09689731,  69.09689735,\n",
       "         69.09689741,  69.09689748,  69.09689758,  69.09689771,\n",
       "         69.09689789,  69.09689814,  69.09689846,  69.09689891,\n",
       "         69.09689951,  69.09690032,  69.09690141,  69.09690289,\n",
       "         69.09690489,  69.09690759,  69.09691123,  69.09691616,\n",
       "         69.09692281,  69.0969318 ,  69.09694394,  69.09696035,\n",
       "         69.09698251,  69.09701245,  69.09705291,  69.09710756,\n",
       "         69.09718139,  69.09728113,  69.09741588,  69.09759793,\n",
       "         69.09784385,  69.09817607,  69.09862485,  69.09923108,\n",
       "         69.10004996,  69.10115602,  69.10264985,  69.10466719,\n",
       "         69.10739111,  69.1110684 ,  69.11603145,  69.12272751,\n",
       "         69.13175748,  69.14392718,  69.16031438,  69.18235564,\n",
       "         69.2119567 ,  69.25162981,  69.30465877,  69.37528751,\n",
       "         69.46891817,  69.59228973,  69.7535861 ,  69.96239814,\n",
       "         70.22944608,  70.56597577,  70.98279814,  71.48905524,\n",
       "         72.09094299,  72.79072545,  73.5863506 ,  74.4717991 ,\n",
       "         75.43804651,  76.47433434,  77.56941284,  78.71251831,\n",
       "         79.8939946 ,  81.10558515,  82.34048067,  83.59321623,\n",
       "         84.85949486,  86.1359895 ,  87.42015356,  88.71005455,\n",
       "         90.00423537,  91.30160257,  92.60133851,  93.90283341,\n",
       "         95.20563337,  96.50940104,  97.81388593,  99.11890221,\n",
       "        100.42431212, 101.73001354, 103.03593081, 104.34200791,\n",
       "        105.64820334, 106.95448636, 108.26083423, 109.56723011,\n",
       "        110.87366152, 112.18011924, 113.48659642, 114.79308802,\n",
       "        116.09959029, 117.40610046, 118.71261647, 120.0191368 ,\n",
       "        121.32566034, 122.63218625, 123.93871391, 125.24524288,\n",
       "        126.5517728 , 127.85830344, 129.1648346 , 130.47136615,\n",
       "        131.77789799, 133.08443005, 134.39096226, 135.69749459,\n",
       "        137.00402701, 138.31055949, 139.61709202, 140.92362458,\n",
       "        142.23015717, 143.53668978, 144.8432224 , 146.14975503,\n",
       "        147.45628767, 148.76282032, 150.06935297, 151.37588563,\n",
       "        152.68241828, 153.98895094, 155.2954836 , 156.60201626,\n",
       "        157.90854892, 159.21508158, 160.52161425, 161.82814691,\n",
       "        163.13467957, 164.44121224, 165.7477449 , 167.05427756,\n",
       "        168.36081022, 169.66734289, 170.97387555, 172.28040821,\n",
       "        173.58694088, 174.89347354, 176.2000062 , 177.50653887,\n",
       "        178.81307153, 180.11960419, 181.42613686, 182.73266952,\n",
       "        184.03920218, 185.34573485, 186.65226751, 187.95880017]),\n",
       " array([5.02594557e-06, 5.84176946e-06, 6.79001990e-06, 7.89219270e-06,\n",
       "        9.17327290e-06, 1.06623012e-05, 1.23930323e-05, 1.44046998e-05,\n",
       "        1.67429063e-05, 1.94606562e-05, 2.26195579e-05, 2.62912204e-05,\n",
       "        3.05588762e-05, 3.55192684e-05, 4.12848438e-05, 4.79863015e-05,\n",
       "        5.57755564e-05, 6.48291825e-05, 7.53524154e-05, 8.75838055e-05,\n",
       "        1.01800625e-04, 1.18325154e-04, 1.37531985e-04, 1.59856516e-04,\n",
       "        1.85804820e-04, 2.15965118e-04, 2.51021109e-04, 2.91767475e-04,\n",
       "        3.39127892e-04, 3.94175968e-04, 4.58159584e-04, 5.32529179e-04,\n",
       "        6.18970630e-04, 7.19443471e-04, 8.36225311e-04, 9.71963468e-04,\n",
       "        1.12973498e-03, 1.31311635e-03, 1.52626463e-03, 1.77401168e-03,\n",
       "        2.06197363e-03, 2.39667828e-03, 2.78571302e-03, 3.23789683e-03,\n",
       "        3.76348024e-03, 4.37437764e-03, 5.08443741e-03, 5.90975584e-03,\n",
       "        6.86904199e-03, 7.98404183e-03, 9.28003118e-03, 1.07863887e-02,\n",
       "        1.25372619e-02, 1.45723411e-02, 1.69377594e-02, 1.96871381e-02,\n",
       "        2.28828027e-02, 2.65971952e-02, 3.09145168e-02, 3.59326362e-02,\n",
       "        4.17653085e-02, 4.85447535e-02, 5.64246530e-02, 6.55836345e-02,\n",
       "        7.62293203e-02, 8.86030334e-02, 1.02985268e-01, 1.19702045e-01,\n",
       "        1.39132306e-01, 1.61716494e-01, 1.87966539e-01, 2.18477456e-01,\n",
       "        2.53940824e-01, 2.95160448e-01, 3.43070555e-01, 3.98756942e-01,\n",
       "        4.63481526e-01, 5.38710868e-01, 6.26149270e-01, 7.27777196e-01,\n",
       "        8.45895820e-01, 9.83178647e-01, 1.14273127e+00, 1.32816042e+00,\n",
       "        1.54365367e+00, 1.79407102e+00, 2.08504994e+00, 2.42312510e+00,\n",
       "        2.81586381e+00, 3.27201779e+00, 3.80169061e+00, 4.41651843e+00,\n",
       "        5.12985868e+00, 5.95697624e+00, 6.91520940e+00, 8.02408612e+00,\n",
       "        9.30534495e+00, 1.07827913e+01, 1.24818907e+01, 1.44289648e+01,\n",
       "        1.66498254e+01, 1.91676695e+01, 2.20000997e+01, 2.51552716e+01,\n",
       "        2.86274578e+01, 3.23927400e+01, 3.64060168e+01, 4.06007527e+01,\n",
       "        4.48925796e+01, 4.91868142e+01, 5.33885107e+01, 5.74125795e+01,\n",
       "        6.11914765e+01, 6.46790087e+01, 6.78502558e+01, 7.06986801e+01,\n",
       "        7.32318528e+01, 7.54670033e+01, 7.74271277e+01, 7.91379644e+01,\n",
       "        8.06258472e+01, 8.19163075e+01, 8.30332456e+01, 8.39985083e+01,\n",
       "        8.48317343e+01, 8.55503689e+01, 8.61697768e+01, 8.67034060e+01,\n",
       "        8.71629741e+01, 8.75586566e+01, 8.78992687e+01, 8.81924329e+01,\n",
       "        8.84447321e+01, 8.86618454e+01, 8.88486691e+01, 8.90094219e+01,\n",
       "        8.91477376e+01, 8.92667450e+01, 8.93691377e+01, 8.94572342e+01,\n",
       "        8.95330297e+01, 8.95982415e+01, 8.96543470e+01, 8.97026178e+01,\n",
       "        8.97441476e+01, 8.97798780e+01, 8.98106185e+01, 8.98370662e+01,\n",
       "        8.98598204e+01, 8.98793969e+01, 8.98962395e+01, 8.99107300e+01,\n",
       "        8.99231969e+01, 8.99339227e+01, 8.99431506e+01, 8.99510898e+01,\n",
       "        8.99579203e+01, 8.99637969e+01, 8.99688528e+01, 8.99732026e+01,\n",
       "        8.99769449e+01, 8.99801647e+01, 8.99829347e+01, 8.99853180e+01,\n",
       "        8.99873684e+01, 8.99891324e+01, 8.99906501e+01, 8.99919559e+01,\n",
       "        8.99930793e+01, 8.99940458e+01, 8.99948773e+01, 8.99955927e+01,\n",
       "        8.99962082e+01, 8.99967377e+01, 8.99971933e+01, 8.99975853e+01,\n",
       "        8.99979225e+01, 8.99982126e+01, 8.99984622e+01, 8.99986770e+01,\n",
       "        8.99988618e+01, 8.99990207e+01, 8.99991575e+01, 8.99992751e+01,\n",
       "        8.99993764e+01, 8.99994635e+01, 8.99995384e+01, 8.99996029e+01,\n",
       "        8.99996583e+01, 8.99997060e+01, 8.99997471e+01, 8.99997824e+01,\n",
       "        8.99998128e+01, 8.99998389e+01, 8.99998614e+01, 8.99998808e+01,\n",
       "        8.99998974e+01, 8.99999118e+01, 8.99999241e+01, 8.99999347e+01]),\n",
       " array([1.00000000e-05, 1.16232247e-05, 1.35099352e-05, 1.57029012e-05,\n",
       "        1.82518349e-05, 2.12145178e-05, 2.46581108e-05, 2.86606762e-05,\n",
       "        3.33129479e-05, 3.87203878e-05, 4.50055768e-05, 5.23109931e-05,\n",
       "        6.08022426e-05, 7.06718127e-05, 8.21434358e-05, 9.54771611e-05,\n",
       "        1.10975250e-04, 1.28989026e-04, 1.49926843e-04, 1.74263339e-04,\n",
       "        2.02550194e-04, 2.35428641e-04, 2.73644000e-04, 3.18062569e-04,\n",
       "        3.69691271e-04, 4.29700470e-04, 4.99450512e-04, 5.80522552e-04,\n",
       "        6.74754405e-04, 7.84282206e-04, 9.11588830e-04, 1.05956018e-03,\n",
       "        1.23155060e-03, 1.43145894e-03, 1.66381689e-03, 1.93389175e-03,\n",
       "        2.24780583e-03, 2.61267523e-03, 3.03677112e-03, 3.52970730e-03,\n",
       "        4.10265811e-03, 4.76861170e-03, 5.54266452e-03, 6.44236351e-03,\n",
       "        7.48810386e-03, 8.70359136e-03, 1.01163798e-02, 1.17584955e-02,\n",
       "        1.36671636e-02, 1.58856513e-02, 1.84642494e-02, 2.14614120e-02,\n",
       "        2.49450814e-02, 2.89942285e-02, 3.37006433e-02, 3.91710149e-02,\n",
       "        4.55293507e-02, 5.29197874e-02, 6.15098579e-02, 7.14942899e-02,\n",
       "        8.30994195e-02, 9.65883224e-02, 1.12266777e-01, 1.30490198e-01,\n",
       "        1.51671689e-01, 1.76291412e-01, 2.04907469e-01, 2.38168555e-01,\n",
       "        2.76828663e-01, 3.21764175e-01, 3.73993730e-01, 4.34701316e-01,\n",
       "        5.05263107e-01, 5.87278661e-01, 6.82607183e-01, 7.93409667e-01,\n",
       "        9.22197882e-01, 1.07189132e+00, 1.24588336e+00, 1.44811823e+00,\n",
       "        1.68318035e+00, 1.95639834e+00, 2.27396575e+00, 2.64308149e+00,\n",
       "        3.07211300e+00, 3.57078596e+00, 4.15040476e+00, 4.82410870e+00,\n",
       "        5.60716994e+00, 6.51733960e+00, 7.57525026e+00, 8.80488358e+00,\n",
       "        1.02341140e+01, 1.18953407e+01, 1.38262217e+01, 1.60705282e+01,\n",
       "        1.86791360e+01, 2.17111795e+01, 2.52353917e+01, 2.93316628e+01,\n",
       "        3.40928507e+01, 3.96268864e+01, 4.60592204e+01, 5.35356668e+01,\n",
       "        6.22257084e+01, 7.23263390e+01, 8.40665289e+01, 9.77124154e+01,\n",
       "        1.13573336e+02, 1.32008840e+02, 1.53436841e+02, 1.78343088e+02,\n",
       "        2.07292178e+02, 2.40940356e+02, 2.80050389e+02, 3.25508860e+02,\n",
       "        3.78346262e+02, 4.39760361e+02, 5.11143348e+02, 5.94113398e+02,\n",
       "        6.90551352e+02, 8.02643352e+02, 9.32930403e+02, 1.08436597e+03,\n",
       "        1.26038293e+03, 1.46497140e+03, 1.70276917e+03, 1.97916687e+03,\n",
       "        2.30043012e+03, 2.67384162e+03, 3.10786619e+03, 3.61234270e+03,\n",
       "        4.19870708e+03, 4.88025158e+03, 5.67242607e+03, 6.59318827e+03,\n",
       "        7.66341087e+03, 8.90735464e+03, 1.03532184e+04, 1.20337784e+04,\n",
       "        1.39871310e+04, 1.62575567e+04, 1.88965234e+04, 2.19638537e+04,\n",
       "        2.55290807e+04, 2.96730241e+04, 3.44896226e+04, 4.00880633e+04,\n",
       "        4.65952567e+04, 5.41587138e+04, 6.29498899e+04, 7.31680714e+04,\n",
       "        8.50448934e+04, 9.88495905e+04, 1.14895100e+05, 1.33545156e+05,\n",
       "        1.55222536e+05, 1.80418641e+05, 2.09704640e+05, 2.43744415e+05,\n",
       "        2.83309610e+05, 3.29297126e+05, 3.82749448e+05, 4.44878283e+05,\n",
       "        5.17092024e+05, 6.01027678e+05, 6.98587975e+05, 8.11984499e+05,\n",
       "        9.43787828e+05, 1.09698580e+06, 1.27505124e+06, 1.48202071e+06,\n",
       "        1.72258597e+06, 2.00220037e+06, 2.32720248e+06, 2.70495973e+06,\n",
       "        3.14403547e+06, 3.65438307e+06, 4.24757155e+06, 4.93704785e+06,\n",
       "        5.73844165e+06, 6.66991966e+06, 7.75259749e+06, 9.01101825e+06,\n",
       "        1.04737090e+07, 1.21738273e+07, 1.41499130e+07, 1.64467618e+07,\n",
       "        1.91164408e+07, 2.22194686e+07, 2.58261876e+07, 3.00183581e+07,\n",
       "        3.48910121e+07, 4.05546074e+07, 4.71375313e+07, 5.47890118e+07,\n",
       "        6.36824994e+07, 7.40196000e+07, 8.60346442e+07, 1.00000000e+08]))"
      ]
     },
     "execution_count": 10,
     "metadata": {},
     "output_type": "execute_result"
    },
    {
     "data": {
      "image/png": "[encoded data removed]",
      "text/plain": [
       "<matplotlib.figure.Figure at 0x25b640c0240>"
      ]
     },
     "metadata": {},
     "output_type": "display_data"
    }
   ],
   "source": [
    "bode_plot(G3,np.logspace(-5, 8,200 ), dB=True, deg= True, Plot= True)"
   ]
  },
  {
   "cell_type": "code",
   "execution_count": null,
   "metadata": {
    "collapsed": true
   },
   "outputs": [],
   "source": []
  }
 ],
 "metadata": {
  "kernelspec": {
   "display_name": "Python [conda env:Anaconda3]",
   "language": "python",
   "name": "conda-env-Anaconda3-py"
  },
  "language_info": {
   "codemirror_mode": {
    "name": "ipython",
    "version": 3
   },
   "file_extension": ".py",
   "mimetype": "text/x-python",
   "name": "python",
   "nbconvert_exporter": "python",
   "pygments_lexer": "ipython3",
   "version": "3.6.3"
  }
 },
 "nbformat": 4,
 "nbformat_minor": 2
}
