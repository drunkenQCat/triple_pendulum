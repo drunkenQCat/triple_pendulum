{
 "cells": [
  {
   "cell_type": "code",
   "execution_count": 46,
   "metadata": {
    "collapsed": true
   },
   "outputs": [],
   "source": [
    "from __future__ import print_function, division\n",
    "from sympy.physics.vector import init_vprinting, vlatex\n",
    "init_vprinting(use_latex='mathjax', pretty_print=False)\n",
    "\n",
    "import numpy as np\n",
    "import sympy as sm\n",
    "from sympy import I, re, im"
   ]
  },
  {
   "cell_type": "code",
   "execution_count": 67,
   "metadata": {
    "collapsed": true
   },
   "outputs": [],
   "source": [
    "alpha= 0.6\n",
    "Ka= (1-alpha) / alpha\n",
    "Tgt= 5.0\n",
    "Tdt= 190.0\n",
    "Ta= 0.9\n",
    "Kgt= 15\n"
   ]
  },
  {
   "cell_type": "code",
   "execution_count": 48,
   "metadata": {
    "collapsed": true
   },
   "outputs": [],
   "source": [
    "s=sm.symbols('s')\n",
    "omega= sm.symbols('omega',real=True )"
   ]
  },
  {
   "cell_type": "code",
   "execution_count": 49,
   "metadata": {
    "collapsed": true
   },
   "outputs": [],
   "source": [
    "G1= Kgt/ (1+Tgt*s)\n",
    "G2= 1/ (1+Tdt*s)`"
   ]
  },
  {
   "cell_type": "code",
   "execution_count": 72,
   "metadata": {},
   "outputs": [
    {
     "data": {
      "text/latex": [
       "$$\\frac{1.0 \\left(950.0 s^{2} + 195.0 s + 1.0\\right)}{950.0 s^{2} - 2655.0 s - 24.0}$$"
      ],
      "text/plain": [
       "1.0*(950.0*s**2 + 195.0*s + 1.0)/(950.0*s**2 - 2655.0*s - 24.0)"
      ]
     },
     "execution_count": 72,
     "metadata": {},
     "output_type": "execute_result"
    }
   ],
   "source": [
    "(1/(1-G1*(1+Ka*G2))).simplify()"
   ]
  },
  {
   "cell_type": "code",
   "execution_count": 74,
   "metadata": {},
   "outputs": [],
   "source": [
    "tf= (G1*(1+Ka*G2)).simplify()"
   ]
  },
  {
   "cell_type": "code",
   "execution_count": 75,
   "metadata": {},
   "outputs": [
    {
     "data": {
      "text/latex": [
       "$$\\frac{2850.0 s + 25.0}{\\left(5.0 s + 1\\right) \\left(190.0 s + 1\\right)}$$"
      ],
      "text/plain": [
       "(2850.0*s + 25.0)/((5.0*s + 1)*(190.0*s + 1))"
      ]
     },
     "execution_count": 75,
     "metadata": {},
     "output_type": "execute_result"
    }
   ],
   "source": [
    "tf"
   ]
  },
  {
   "cell_type": "code",
   "execution_count": 76,
   "metadata": {},
   "outputs": [],
   "source": [
    "tf_omega= tf.subs([(s, I*omega)])"
   ]
  },
  {
   "cell_type": "code",
   "execution_count": 77,
   "metadata": {},
   "outputs": [
    {
     "data": {
      "text/latex": [
       "$$\\frac{1.0 \\left(532000.0 \\omega^{2} + 25.0\\right)}{902500.0 \\omega^{4} + 36125.0 \\omega^{2} + 1.0}$$"
      ],
      "text/plain": [
       "1.0*(532000.0*omega**2 + 25.0)/(902500.0*omega**4 + 36125.0*omega**2 + 1.0)"
      ]
     },
     "execution_count": 77,
     "metadata": {},
     "output_type": "execute_result"
    }
   ],
   "source": [
    "re(tf_omega).simplify()"
   ]
  },
  {
   "cell_type": "code",
   "execution_count": 78,
   "metadata": {},
   "outputs": [
    {
     "data": {
      "text/latex": [
       "$$- \\frac{1.0 \\omega \\left(2707500.0 \\omega^{2} + 2025.0\\right)}{902500.0 \\omega^{4} + 36125.0 \\omega^{2} + 1.0}$$"
      ],
      "text/plain": [
       "-1.0*omega*(2707500.0*omega**2 + 2025.0)/(902500.0*omega**4 + 36125.0*omega**2 + 1.0)"
      ]
     },
     "execution_count": 78,
     "metadata": {},
     "output_type": "execute_result"
    }
   ],
   "source": [
    "im(tf_omega).simplify()"
   ]
  },
  {
   "cell_type": "code",
   "execution_count": 79,
   "metadata": {},
   "outputs": [
    {
     "data": {
      "text/latex": [
       "$$\\frac{2850.0 s + 25.0}{\\left(5.0 s + 1\\right) \\left(190.0 s + 1\\right)}$$"
      ],
      "text/plain": [
       "(2850.0*s + 25.0)/((5.0*s + 1)*(190.0*s + 1))"
      ]
     },
     "execution_count": 79,
     "metadata": {},
     "output_type": "execute_result"
    }
   ],
   "source": [
    "tf"
   ]
  },
  {
   "cell_type": "code",
   "execution_count": 80,
   "metadata": {},
   "outputs": [
    {
     "data": {
      "text/latex": [
       "$$2850$$"
      ],
      "text/plain": [
       "2850"
      ]
     },
     "execution_count": 80,
     "metadata": {},
     "output_type": "execute_result"
    }
   ],
   "source": [
    "15*190"
   ]
  },
  {
   "cell_type": "code",
   "execution_count": 83,
   "metadata": {},
   "outputs": [
    {
     "data": {
      "text/latex": [
       "$$950 s^{2} + 195 s + 1$$"
      ],
      "text/plain": [
       "950*s**2 + 195*s + 1"
      ]
     },
     "execution_count": 83,
     "metadata": {},
     "output_type": "execute_result"
    }
   ],
   "source": [
    "((5*s+1)*(190*s+1)).expand()"
   ]
  },
  {
   "cell_type": "code",
   "execution_count": null,
   "metadata": {
    "collapsed": true
   },
   "outputs": [],
   "source": []
  }
 ],
 "metadata": {
  "kernelspec": {
   "display_name": "Python [conda env:Anaconda3]",
   "language": "python",
   "name": "conda-env-Anaconda3-py"
  },
  "language_info": {
   "codemirror_mode": {
    "name": "ipython",
    "version": 3
   },
   "file_extension": ".py",
   "mimetype": "text/x-python",
   "name": "python",
   "nbconvert_exporter": "python",
   "pygments_lexer": "ipython3",
   "version": "3.6.3"
  }
 },
 "nbformat": 4,
 "nbformat_minor": 2
}
