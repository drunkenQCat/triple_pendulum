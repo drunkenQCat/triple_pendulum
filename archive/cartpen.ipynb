{
 "cells": [
  {
   "cell_type": "code",
   "execution_count": 2,
   "metadata": {
    "collapsed": true
   },
   "outputs": [],
   "source": [
    "from __future__ import division, print_function\n",
    "import sympy as sm\n",
    "from sympy import trigsimp\n",
    "from sympy import latex\n",
    "import sympy.physics.mechanics as me\n",
    "import mpmath as mp\n",
    "\n",
    "\n",
    "from sympy.physics.vector import init_vprinting, vlatex\n",
    "init_vprinting(use_latex='mathjax', pretty_print=False)\n",
    "\n",
    "q = me.dynamicsymbols('q:2')\n",
    "qdot = me.dynamicsymbols('q:2', 1)\n",
    "f = me.dynamicsymbols('f')\n",
    "m = sm.symbols('m:2')\n",
    "J = sm.symbols('J:2')\n",
    "l = sm.symbols('l')\n",
    "a = sm.symbols('a')\n",
    "d = sm.symbols('d')\n",
    "g, t = sm.symbols('g t')\n",
    "\n",
    "In_frame = me.ReferenceFrame('In_frame')\n",
    "O = me.Point('O')\n",
    "O.set_vel(In_frame, 0)\n",
    "\n",
    "C0 = me.Point('C0')\n",
    "C0.set_pos(O, q[0] * In_frame.x)\n",
    "C0.set_vel(In_frame, qdot[0] * In_frame.x)\n",
    "\n",
    "cart_frame = In_frame.orientnew('L0', 'Axis', [q[0], In_frame.x])\n",
    "cart_frame.set_ang_vel(In_frame, 0)\n",
    "\n",
    "cart_inertia_dyadic = me.inertia(cart_frame, 0, 0, J[0])\n",
    "cart_central_inertia = (cart_inertia_dyadic, C0)\n",
    "\n",
    "cart = me.RigidBody('Cart', C0, cart_frame, m[0], cart_central_inertia)\n",
    "\n",
    "pen_frame = In_frame.orientnew('L1', 'Axis', [q[1], In_frame.z])\n",
    "pen_frame.set_ang_vel(In_frame, qdot[1] * In_frame.z)\n",
    "\n",
    "a = C0.locatenew('a', a * pen_frame.x)\n",
    "a.v2pt_theory(C0, In_frame, pen_frame)\n",
    "\n",
    "pen_inertia_dyadic = me.inertia(pen_frame, 0, 0, J[1])\n",
    "pen_central_inertia = (pen_inertia_dyadic, a)\n",
    "pen = me.RigidBody('Pen', a, pen_frame, m[1], pen_central_inertia)\n",
    "\n",
    "force1 = (C0, f * In_frame.x)\n",
    "force2 = 0\n",
    "#force3=(C0, -d*qdot[1]*In_frame.z)\n",
    "force = [force1, force2]\n",
    "\n",
    "v0=C0.vel(In_frame)\n",
    "v1=a.vel(In_frame)\n",
    "T = 1 / 2 * m[0] *v0.dot(v0) + 1 / 2 * m[1] *v1.dot(v1) + 1 / 2 * J[1] * qdot[1]**2\n",
    "\n",
    "h = a.pos_from(O).dot(In_frame.y)\n",
    "V = 1 / 2 * m[0] * g * h\n",
    "\n",
    "L = T - V\n",
    "\n",
    "#q[0] = sm.Function('q[0]')\n",
    "#q[1] = sm.Function('q[1]')\n",
    "\n",
    "dL_dqdot0 = sm.diff(L, qdot[0])\n",
    "dL_dqdot1 = sm.diff(L, qdot[1])\n",
    "dt_dL_qdot0 = sm.diff(dL_dqdot0, t)\n",
    "dt_dL_dqdot1 = sm.diff(dL_dqdot1, t)\n",
    "\n",
    "dL_dq0 = sm.diff(L, q[0])\n",
    "dL_dq1 = sm.diff(L, q[1])\n",
    "\n",
    "#lag_eq = sm.Matrix([[dt_dL_qdot0 - dL_dq0 - f], [dt_dL_dqdot1 - dL_dq1]])\n",
    "\n",
    "E1= dt_dL_qdot0 - dL_dq0 - f\n",
    "E2= dt_dL_dqdot1 - dL_dq1\n",
    "\n",
    "qddot = me.dynamicsymbols('q:2', 2)\n",
    "\n",
    "sols=sm.solve([E1, E2], qddot[0], qddot[1])\n"
   ]
  },
  {
   "cell_type": "code",
   "execution_count": 38,
   "metadata": {},
   "outputs": [
    {
     "data": {
      "text/latex": [
       "$$\\frac{1}{J_{1} m_{0} + J_{1} m_{1} + a^{2} m_{0} m_{1} + a^{2} m_{1}^{2} \\operatorname{cos}^{2}\\left(q_{1}\\right)} \\left(1.0 J_{1} a m_{1} \\operatorname{cos}\\left(q_{1}\\right) \\dot{q}_{1}^{2} + 1.0 J_{1} f + 1.0 a^{3} m_{1}^{2} \\operatorname{cos}\\left(q_{1}\\right) \\dot{q}_{1}^{2} - 0.25 a^{2} g m_{0} m_{1} \\operatorname{sin}\\left(2.0 q_{1}\\right) + 1.0 a^{2} m_{1} f\\right)$$"
      ],
      "text/plain": [
       "(1.0*J1*a*m1*cos(q1)*q1'**2 + 1.0*J1*f + 1.0*a**3*m1**2*cos(q1)*q1'**2 - 0.25*a**2*g*m0*m1*sin(2.0*q1) + 1.0*a**2*m1*f)/(J1*m0 + J1*m1 + a**2*m0*m1 + a**2*m1**2*cos(q1)**2)"
      ]
     },
     "execution_count": 38,
     "metadata": {},
     "output_type": "execute_result"
    }
   ],
   "source": [
    "sm.simplify(sols[qddot[0]].factor())"
   ]
  },
  {
   "cell_type": "code",
   "execution_count": 39,
   "metadata": {},
   "outputs": [
    {
     "data": {
      "text/latex": [
       "$$\\frac{0.5 a \\left(1.0 a m_{1}^{2} \\operatorname{sin}\\left(2 q_{1}\\right) \\dot{q}_{1}^{2} - 1.0 g m_{0}^{2} \\operatorname{cos}\\left(q_{1}\\right) - 1.0 g m_{0} m_{1} \\operatorname{cos}\\left(q_{1}\\right) + 2.0 m_{1} f \\operatorname{sin}\\left(q_{1}\\right)\\right)}{J_{1} m_{0} + J_{1} m_{1} + a^{2} m_{0} m_{1} + a^{2} m_{1}^{2} \\operatorname{cos}^{2}\\left(q_{1}\\right)}$$"
      ],
      "text/plain": [
       "0.5*a*(1.0*a*m1**2*sin(2*q1)*q1'**2 - 1.0*g*m0**2*cos(q1) - 1.0*g*m0*m1*cos(q1) + 2.0*m1*f*sin(q1))/(J1*m0 + J1*m1 + a**2*m0*m1 + a**2*m1**2*cos(q1)**2)"
      ]
     },
     "execution_count": 39,
     "metadata": {},
     "output_type": "execute_result"
    }
   ],
   "source": [
    "sm.simplify(sols[qddot[1]].factor())"
   ]
  },
  {
   "cell_type": "code",
   "execution_count": 40,
   "metadata": {
    "collapsed": true
   },
   "outputs": [],
   "source": [
    "from sympy import lambdify \n",
    "exp1=sm.simplify(sols[qddot[0]].factor())\n",
    "exp2=sm.simplify(sols[qddot[1]].factor())\n",
    "#f1=lambdify( (q[0], q[1], qdot[0], qdot[1], m[0], m[1], J[0], J[1], f, a, l , g, t), exp1, \"numpy\")\n"
   ]
  },
  {
   "cell_type": "code",
   "execution_count": 41,
   "metadata": {},
   "outputs": [
    {
     "ename": "TypeError",
     "evalue": "variable is not a symbol: q0(t)",
     "output_type": "error",
     "traceback": [
      "\u001b[0;31m---------------------------------------------------------------------------\u001b[0m",
      "\u001b[0;31mTypeError\u001b[0m                                 Traceback (most recent call last)",
      "\u001b[0;32m<ipython-input-41-70666bc5484d>\u001b[0m in \u001b[0;36m<module>\u001b[0;34m()\u001b[0m\n\u001b[1;32m      1\u001b[0m \u001b[0;32mfrom\u001b[0m \u001b[0msympy\u001b[0m\u001b[0;34m.\u001b[0m\u001b[0mutilities\u001b[0m\u001b[0;34m.\u001b[0m\u001b[0mautowrap\u001b[0m \u001b[0;32mimport\u001b[0m \u001b[0mufuncify\u001b[0m\u001b[0;34m\u001b[0m\u001b[0m\n\u001b[0;32m----> 2\u001b[0;31m \u001b[0mf_fortran\u001b[0m\u001b[0;34m=\u001b[0m\u001b[0mufuncify\u001b[0m\u001b[0;34m(\u001b[0m\u001b[0;34m(\u001b[0m\u001b[0mq\u001b[0m\u001b[0;34m[\u001b[0m\u001b[0;36m0\u001b[0m\u001b[0;34m]\u001b[0m\u001b[0;34m,\u001b[0m \u001b[0mq\u001b[0m\u001b[0;34m[\u001b[0m\u001b[0;36m1\u001b[0m\u001b[0;34m]\u001b[0m\u001b[0;34m,\u001b[0m \u001b[0mqdot\u001b[0m\u001b[0;34m[\u001b[0m\u001b[0;36m0\u001b[0m\u001b[0;34m]\u001b[0m\u001b[0;34m,\u001b[0m \u001b[0mqdot\u001b[0m\u001b[0;34m[\u001b[0m\u001b[0;36m1\u001b[0m\u001b[0;34m]\u001b[0m\u001b[0;34m,\u001b[0m \u001b[0mm\u001b[0m\u001b[0;34m[\u001b[0m\u001b[0;36m0\u001b[0m\u001b[0;34m]\u001b[0m\u001b[0;34m,\u001b[0m \u001b[0mm\u001b[0m\u001b[0;34m[\u001b[0m\u001b[0;36m1\u001b[0m\u001b[0;34m]\u001b[0m\u001b[0;34m,\u001b[0m \u001b[0mJ\u001b[0m\u001b[0;34m[\u001b[0m\u001b[0;36m0\u001b[0m\u001b[0;34m]\u001b[0m\u001b[0;34m,\u001b[0m \u001b[0mJ\u001b[0m\u001b[0;34m[\u001b[0m\u001b[0;36m1\u001b[0m\u001b[0;34m]\u001b[0m\u001b[0;34m,\u001b[0m \u001b[0mf\u001b[0m\u001b[0;34m,\u001b[0m \u001b[0ma\u001b[0m\u001b[0;34m,\u001b[0m \u001b[0ml\u001b[0m \u001b[0;34m,\u001b[0m \u001b[0mg\u001b[0m\u001b[0;34m,\u001b[0m \u001b[0mt\u001b[0m\u001b[0;34m)\u001b[0m\u001b[0;34m,\u001b[0m \u001b[0mexp1\u001b[0m\u001b[0;34m,\u001b[0m \u001b[0mbackend\u001b[0m\u001b[0;34m=\u001b[0m\u001b[0;34m'f2py'\u001b[0m\u001b[0;34m)\u001b[0m\u001b[0;34m\u001b[0m\u001b[0m\n\u001b[0m",
      "\u001b[0;32m~/anaconda3/lib/python3.6/site-packages/sympy/utilities/autowrap.py\u001b[0m in \u001b[0;36mufuncify\u001b[0;34m(args, expr, language, backend, tempdir, flags, verbose, helpers, **kwargs)\u001b[0m\n\u001b[1;32m   1087\u001b[0m         \u001b[0mm\u001b[0m \u001b[0;34m=\u001b[0m \u001b[0mDummy\u001b[0m\u001b[0;34m(\u001b[0m\u001b[0minteger\u001b[0m\u001b[0;34m=\u001b[0m\u001b[0;32mTrue\u001b[0m\u001b[0;34m)\u001b[0m\u001b[0;34m\u001b[0m\u001b[0m\n\u001b[1;32m   1088\u001b[0m         \u001b[0mi\u001b[0m \u001b[0;34m=\u001b[0m \u001b[0mIdx\u001b[0m\u001b[0;34m(\u001b[0m\u001b[0mDummy\u001b[0m\u001b[0;34m(\u001b[0m\u001b[0minteger\u001b[0m\u001b[0;34m=\u001b[0m\u001b[0;32mTrue\u001b[0m\u001b[0;34m)\u001b[0m\u001b[0;34m,\u001b[0m \u001b[0mm\u001b[0m\u001b[0;34m)\u001b[0m\u001b[0;34m\u001b[0m\u001b[0m\n\u001b[0;32m-> 1089\u001b[0;31m         \u001b[0mf\u001b[0m \u001b[0;34m=\u001b[0m \u001b[0mimplemented_function\u001b[0m\u001b[0;34m(\u001b[0m\u001b[0mDummy\u001b[0m\u001b[0;34m(\u001b[0m\u001b[0;34m)\u001b[0m\u001b[0;34m.\u001b[0m\u001b[0mname\u001b[0m\u001b[0;34m,\u001b[0m \u001b[0mLambda\u001b[0m\u001b[0;34m(\u001b[0m\u001b[0margs\u001b[0m\u001b[0;34m,\u001b[0m \u001b[0mexpr\u001b[0m\u001b[0;34m)\u001b[0m\u001b[0;34m)\u001b[0m\u001b[0;34m\u001b[0m\u001b[0m\n\u001b[0m\u001b[1;32m   1090\u001b[0m         \u001b[0;31m# For each of the args create an indexed version.\u001b[0m\u001b[0;34m\u001b[0m\u001b[0;34m\u001b[0m\u001b[0m\n\u001b[1;32m   1091\u001b[0m         \u001b[0mindexed_args\u001b[0m \u001b[0;34m=\u001b[0m \u001b[0;34m[\u001b[0m\u001b[0mIndexedBase\u001b[0m\u001b[0;34m(\u001b[0m\u001b[0mDummy\u001b[0m\u001b[0;34m(\u001b[0m\u001b[0mstr\u001b[0m\u001b[0;34m(\u001b[0m\u001b[0ma\u001b[0m\u001b[0;34m)\u001b[0m\u001b[0;34m)\u001b[0m\u001b[0;34m)\u001b[0m \u001b[0;32mfor\u001b[0m \u001b[0ma\u001b[0m \u001b[0;32min\u001b[0m \u001b[0margs\u001b[0m\u001b[0;34m]\u001b[0m\u001b[0;34m\u001b[0m\u001b[0m\n",
      "\u001b[0;32m~/anaconda3/lib/python3.6/site-packages/sympy/core/function.py\u001b[0m in \u001b[0;36m__new__\u001b[0;34m(cls, variables, expr)\u001b[0m\n\u001b[1;32m   1513\u001b[0m         \u001b[0;32mfor\u001b[0m \u001b[0mi\u001b[0m \u001b[0;32min\u001b[0m \u001b[0mv\u001b[0m\u001b[0;34m:\u001b[0m\u001b[0;34m\u001b[0m\u001b[0m\n\u001b[1;32m   1514\u001b[0m             \u001b[0;32mif\u001b[0m \u001b[0;32mnot\u001b[0m \u001b[0mgetattr\u001b[0m\u001b[0;34m(\u001b[0m\u001b[0mi\u001b[0m\u001b[0;34m,\u001b[0m \u001b[0;34m'is_Symbol'\u001b[0m\u001b[0;34m,\u001b[0m \u001b[0;32mFalse\u001b[0m\u001b[0;34m)\u001b[0m\u001b[0;34m:\u001b[0m\u001b[0;34m\u001b[0m\u001b[0m\n\u001b[0;32m-> 1515\u001b[0;31m                 \u001b[0;32mraise\u001b[0m \u001b[0mTypeError\u001b[0m\u001b[0;34m(\u001b[0m\u001b[0;34m'variable is not a symbol: %s'\u001b[0m \u001b[0;34m%\u001b[0m \u001b[0mi\u001b[0m\u001b[0;34m)\u001b[0m\u001b[0;34m\u001b[0m\u001b[0m\n\u001b[0m\u001b[1;32m   1516\u001b[0m         \u001b[0;32mif\u001b[0m \u001b[0mlen\u001b[0m\u001b[0;34m(\u001b[0m\u001b[0mv\u001b[0m\u001b[0;34m)\u001b[0m \u001b[0;34m==\u001b[0m \u001b[0;36m1\u001b[0m \u001b[0;32mand\u001b[0m \u001b[0mv\u001b[0m\u001b[0;34m[\u001b[0m\u001b[0;36m0\u001b[0m\u001b[0;34m]\u001b[0m \u001b[0;34m==\u001b[0m \u001b[0mexpr\u001b[0m\u001b[0;34m:\u001b[0m\u001b[0;34m\u001b[0m\u001b[0m\n\u001b[1;32m   1517\u001b[0m             \u001b[0;32mreturn\u001b[0m \u001b[0mS\u001b[0m\u001b[0;34m.\u001b[0m\u001b[0mIdentityFunction\u001b[0m\u001b[0;34m\u001b[0m\u001b[0m\n",
      "\u001b[0;31mTypeError\u001b[0m: variable is not a symbol: q0(t)"
     ]
    }
   ],
   "source": [
    "from sympy.utilities.autowrap import ufuncify\n",
    "f_fortran=ufuncify((q[0], q[1], qdot[0], qdot[1], m[0], m[1], J[0], J[1], f, a, l , g, t), exp1, backend='f2py')"
   ]
  },
  {
   "cell_type": "code",
   "execution_count": 4,
   "metadata": {},
   "outputs": [
    {
     "name": "stdout",
     "output_type": "stream",
     "text": [
      "1.0*m0*Derivative(q0(t), t, t) + 0.5*m1*(-2*a*sin(q1(t))*Derivative(q1(t), t, t) - 2*a*cos(q1(t))*Derivative(q1(t), t)**2 + 2*Derivative(q0(t), t, t)) - f(t)\n"
     ]
    }
   ],
   "source": [
    "print(E1)\n"
   ]
  },
  {
   "cell_type": "code",
   "execution_count": null,
   "metadata": {
    "collapsed": true
   },
   "outputs": [],
   "source": []
  }
 ],
 "metadata": {
  "kernelspec": {
   "display_name": "Python 3",
   "language": "python",
   "name": "python3"
  },
  "language_info": {
   "codemirror_mode": {
    "name": "ipython",
    "version": 3
   },
   "file_extension": ".py",
   "mimetype": "text/x-python",
   "name": "python",
   "nbconvert_exporter": "python",
   "pygments_lexer": "ipython3",
   "version": "3.6.3"
  }
 },
 "nbformat": 4,
 "nbformat_minor": 2
}
