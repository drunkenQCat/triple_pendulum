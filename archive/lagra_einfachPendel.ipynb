{
 "cells": [
  {
   "cell_type": "code",
   "execution_count": 83,
   "metadata": {},
   "outputs": [],
   "source": [
    "from __future__ import division, print_function\n",
    "import sympy as sm\n",
    "from sympy import trigsimp\n",
    "from sympy import latex\n",
    "import sympy.physics.mechanics as me\n",
    "import mpmath as mp\n",
    "import symbtools as st\n",
    "import numpy as np\n",
    "import symbtools.modeltools as mt\n",
    "import symbtools.noncommutativetools as nct\n",
    "from scipy.integrate import odeint\n",
    "\n",
    "import pycartan as pc\n",
    "from sympy.solvers import solve\n",
    "\n",
    "from sympy.physics.vector import init_vprinting, vlatex\n",
    "init_vprinting(use_latex='mathjax', pretty_print=False)\n",
    "\n",
    "#definingymbolic variables\n",
    "q = st.symb_vector('q:2')\n",
    "qdot = st.time_deriv(q, q)\n",
    "qdd = st.time_deriv(qdot, qdot)\n",
    "st.make_global(q, qdot)\n",
    "\n",
    "f = sm.symbols('f')\n",
    "m = sm.symbols('m:2')\n",
    "J = sm.symbols('J:2')\n",
    "l = sm.symbols('l')\n",
    "a = sm.symbols('a')\n",
    "d = sm.symbols('d')\n",
    "g, t = sm.symbols('g t')\n",
    "\n",
    "# defining reference frames and points\n",
    "In_frame = me.ReferenceFrame('In_frame')  #reference frame with velocity 0\n",
    "O = me.Point('O')\n",
    "O.set_vel(In_frame, 0)\n",
    "\n",
    "# Mass center of the cart\n",
    "C0 = me.Point('C0')\n",
    "C0.set_pos(O, q[0] * In_frame.x)\n",
    "C0.set_vel(In_frame, qdot[0] * In_frame.x)\n",
    "\n",
    "#cart frame\n",
    "cart_frame = In_frame.orientnew('L0', 'Axis', [q[0], In_frame.x])\n",
    "cart_frame.set_ang_vel(In_frame, 0)\n",
    "\n",
    "#endulum frame\n",
    "pen_frame = In_frame.orientnew('L1', 'Axis', [q[1], In_frame.z])\n",
    "pen_frame.set_ang_vel(In_frame, qdot[1] * In_frame.z)\n",
    "#mass center of pendulum\n",
    "s = C0.locatenew('a', a * pen_frame.x)\n",
    "s.v2pt_theory(C0, In_frame, pen_frame)\n",
    "\n",
    "\n",
    "# finding velocities in inertial reference frame --> use them to find kinetic energy\n",
    "v0 = C0.vel(In_frame)\n",
    "v1 = s.vel(In_frame)\n",
    "T = 1 / 2 * m[0] * v0.dot(v0) + 1 / 2 * m[1] * v1.dot(\n",
    "    v1) + 1 / 2 * J[1] * qdot[1]**2\n",
    "\n",
    "# potential energy\n",
    "h = s.pos_from(O).dot(In_frame.y)\n",
    "#V = 1 / 2 * m[0] * g * h - 1/2 * d * qdot[1]**2\n",
    "V = 1 / 2 * m[0] * g * h\n",
    "tau = -d * qdot[1]\n",
    "\n",
    "params = [m[0], m[1], J[0], J[1], a, d, g]\n",
    "st.make_global(params)\n",
    "\n",
    "mod = mt.generate_symbolic_model(T, V, q, [f, tau])\n",
    "mod.eqns.simplify()\n"
   ]
  },
  {
   "cell_type": "code",
   "execution_count": 84,
   "metadata": {},
   "outputs": [],
   "source": [
    "mod.calc_state_eq(simplify=True)"
   ]
  },
  {
   "cell_type": "code",
   "execution_count": 85,
   "metadata": {},
   "outputs": [],
   "source": [
    "xx=mod.xx\n",
    "fx=mod.f\n",
    "G=mod.g\n",
    "#gx, =st.col_split(G)"
   ]
  },
  {
   "cell_type": "code",
   "execution_count": 86,
   "metadata": {},
   "outputs": [
    {
     "data": {
      "text/latex": [
       "$$\\left[\\begin{matrix}\\dot{q}_{0}\\\\\\dot{q}_{1}\\\\\\frac{1.0 a m_{1} \\left(- \\dot{q}_{1}^{2} \\left(J_{1} + a^{2} m_{1}\\right) \\operatorname{cos}\\left(q_{1}\\right) + \\left(0.5 a g m_{0} \\operatorname{cos}\\left(q_{1}\\right) + 1.0 d \\dot{q}_{1}\\right) \\operatorname{sin}\\left(q_{1}\\right)\\right)}{a^{2} m_{1}^{2} \\operatorname{sin}^{2}\\left(q_{1}\\right) - \\left(J_{1} + a^{2} m_{1}\\right) \\left(m_{0} + m_{1}\\right)}\\\\\\frac{1.0 \\left(- \\frac{a^{2} m_{1}^{2}}{2} \\dot{q}_{1}^{2} \\operatorname{sin}\\left(2 q_{1}\\right) + \\left(m_{0} + m_{1}\\right) \\left(0.5 a g m_{0} \\operatorname{cos}\\left(q_{1}\\right) + 1.0 d \\dot{q}_{1}\\right)\\right)}{a^{2} m_{1}^{2} \\operatorname{sin}^{2}\\left(q_{1}\\right) - \\left(J_{1} + a^{2} m_{1}\\right) \\left(m_{0} + m_{1}\\right)}\\end{matrix}\\right]$$"
      ],
      "text/plain": [
       "Matrix([\n",
       "[                                                                                                                                      qdot0],\n",
       "[                                                                                                                                      qdot1],\n",
       "[1.0*a*m1*(-qdot1**2*(J1 + a**2*m1)*cos(q1) + (0.5*a*g*m0*cos(q1) + 1.0*d*qdot1)*sin(q1))/(a**2*m1**2*sin(q1)**2 - (J1 + a**2*m1)*(m0 + m1))],\n",
       "[   1.0*(-a**2*m1**2*qdot1**2*sin(2*q1)/2 + (m0 + m1)*(0.5*a*g*m0*cos(q1) + 1.0*d*qdot1))/(a**2*m1**2*sin(q1)**2 - (J1 + a**2*m1)*(m0 + m1))]])"
      ]
     },
     "execution_count": 86,
     "metadata": {},
     "output_type": "execute_result"
    }
   ],
   "source": [
    "fx"
   ]
  },
  {
   "cell_type": "code",
   "execution_count": 87,
   "metadata": {},
   "outputs": [
    {
     "data": {
      "text/latex": [
       "$$\\left[\\begin{matrix}q_{0}\\\\q_{1}\\\\\\dot{q}_{0}\\\\\\dot{q}_{1}\\end{matrix}\\right]$$"
      ],
      "text/plain": [
       "Matrix([\n",
       "[   q0],\n",
       "[   q1],\n",
       "[qdot0],\n",
       "[qdot1]])"
      ]
     },
     "execution_count": 87,
     "metadata": {},
     "output_type": "execute_result"
    }
   ],
   "source": [
    "xx"
   ]
  },
  {
   "cell_type": "code",
   "execution_count": 88,
   "metadata": {},
   "outputs": [
    {
     "data": {
      "text/latex": [
       "$$\\left[\\begin{matrix}0\\\\0\\\\- \\frac{1.0 J_{1} + 1.0 a^{2} m_{1}}{a^{2} m_{1}^{2} \\operatorname{sin}^{2}\\left(q_{1}\\right) - \\left(J_{1} + a^{2} m_{1}\\right) \\left(m_{0} + m_{1}\\right)}\\\\- \\frac{1.0 a m_{1} \\operatorname{sin}\\left(q_{1}\\right)}{a^{2} m_{1}^{2} \\operatorname{sin}^{2}\\left(q_{1}\\right) - \\left(J_{1} + a^{2} m_{1}\\right) \\left(m_{0} + m_{1}\\right)}\\end{matrix}\\right]$$"
      ],
      "text/plain": [
       "Matrix([\n",
       "[                                                                         0],\n",
       "[                                                                         0],\n",
       "[-(1.0*J1 + 1.0*a**2*m1)/(a**2*m1**2*sin(q1)**2 - (J1 + a**2*m1)*(m0 + m1))],\n",
       "[      -1.0*a*m1*sin(q1)/(a**2*m1**2*sin(q1)**2 - (J1 + a**2*m1)*(m0 + m1))]])"
      ]
     },
     "execution_count": 88,
     "metadata": {},
     "output_type": "execute_result"
    }
   ],
   "source": [
    "G"
   ]
  },
  {
   "cell_type": "code",
   "execution_count": 89,
   "metadata": {},
   "outputs": [],
   "source": [
    "equilib_point=sm.Matrix([0, sm.pi/3, 0, 0])\n",
    "#fx.subz(xx, equilib_point)"
   ]
  },
  {
   "cell_type": "code",
   "execution_count": 90,
   "metadata": {},
   "outputs": [],
   "source": [
    "parameter_values = [(g, 9.81), (a, 0.2), (d, 0.00715), (m[0], 3.34), (m[1], 0.8512), (J[0], 0), (J[1], 0.01980)]\n",
    "#replm = list(map(lambda a,b :(a,b),xx, equilib_point)) + parameter_values\n",
    "replm = parameter_values"
   ]
  },
  {
   "cell_type": "code",
   "execution_count": 100,
   "metadata": {},
   "outputs": [],
   "source": [
    "#tt=np.arange(0,10, 1e-3)\n",
    "frames_per_sec= 60\n",
    "final_time= 50\n",
    "tt=np.linspace(0.0, final_time, final_time*frames_per_sec)\n",
    "xx0= st.to_np(equilib_point).ravel()"
   ]
  },
  {
   "cell_type": "code",
   "execution_count": 101,
   "metadata": {},
   "outputs": [],
   "source": [
    "simulation=st.SimulationModel(mod.f, mod.g , mod.xx, model_parameters=parameter_values)"
   ]
  },
  {
   "cell_type": "code",
   "execution_count": 102,
   "metadata": {},
   "outputs": [],
   "source": [
    "#help(st.SimulationModel)"
   ]
  },
  {
   "cell_type": "code",
   "execution_count": 103,
   "metadata": {},
   "outputs": [],
   "source": [
    "rhs1= simulation.create_simfunction()"
   ]
  },
  {
   "cell_type": "code",
   "execution_count": 104,
   "metadata": {},
   "outputs": [],
   "source": [
    "#help(st.SimulationModel)"
   ]
  },
  {
   "cell_type": "code",
   "execution_count": 105,
   "metadata": {},
   "outputs": [],
   "source": [
    "sol= odeint(rhs1, xx0, tt)"
   ]
  },
  {
   "cell_type": "code",
   "execution_count": 106,
   "metadata": {},
   "outputs": [
    {
     "data": {
      "text/plain": [
       "array([[ 0.00000000e+00,  1.04719755e+00,  0.00000000e+00,  0.00000000e+00],\n",
       "       [-1.64424705e-04,  1.04251695e+00, -1.97122829e-02, -5.61905256e-01],\n",
       "       [-6.56712956e-04,  1.02842569e+00, -3.93180391e-02, -1.13018021e+00],\n",
       "       ...,\n",
       "       [ 2.22564891e-02, -1.61874721e+00, -6.37867095e-03,  1.57219634e-01],\n",
       "       [ 2.21317931e-02, -1.61567396e+00, -8.55490778e-03,  2.10828739e-01],\n",
       "       [ 2.19721741e-02, -1.61174062e+00, -1.05613570e-02,  2.60232060e-01]])"
      ]
     },
     "execution_count": 106,
     "metadata": {},
     "output_type": "execute_result"
    }
   ],
   "source": [
    "sol"
   ]
  },
  {
   "cell_type": "code",
   "execution_count": null,
   "metadata": {},
   "outputs": [],
   "source": []
  },
  {
   "cell_type": "code",
   "execution_count": null,
   "metadata": {},
   "outputs": [],
   "source": []
  }
 ],
 "metadata": {
  "kernelspec": {
   "display_name": "Python 3",
   "language": "python",
   "name": "python3"
  },
  "language_info": {
   "codemirror_mode": {
    "name": "ipython",
    "version": 3
   },
   "file_extension": ".py",
   "mimetype": "text/x-python",
   "name": "python",
   "nbconvert_exporter": "python",
   "pygments_lexer": "ipython3",
   "version": "3.6.4"
  }
 },
 "nbformat": 4,
 "nbformat_minor": 2
}
